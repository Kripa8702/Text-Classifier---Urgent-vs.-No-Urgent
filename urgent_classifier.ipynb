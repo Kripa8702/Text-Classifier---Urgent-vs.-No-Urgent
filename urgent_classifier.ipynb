{
 "cells": [
  {
   "cell_type": "markdown",
   "metadata": {},
   "source": [
    "## **Classifier POC - Urgent vs. Non-Urgent Messages**\n",
    "### Data preparation"
   ]
  },
  {
   "cell_type": "code",
   "execution_count": 516,
   "metadata": {},
   "outputs": [
    {
     "data": {
      "text/html": [
       "<div>\n",
       "<style scoped>\n",
       "    .dataframe tbody tr th:only-of-type {\n",
       "        vertical-align: middle;\n",
       "    }\n",
       "\n",
       "    .dataframe tbody tr th {\n",
       "        vertical-align: top;\n",
       "    }\n",
       "\n",
       "    .dataframe thead th {\n",
       "        text-align: right;\n",
       "    }\n",
       "</style>\n",
       "<table border=\"1\" class=\"dataframe\">\n",
       "  <thead>\n",
       "    <tr style=\"text-align: right;\">\n",
       "      <th></th>\n",
       "      <th>file</th>\n",
       "      <th>message</th>\n",
       "    </tr>\n",
       "  </thead>\n",
       "  <tbody>\n",
       "    <tr>\n",
       "      <th>0</th>\n",
       "      <td>arnold-j/sent_items/315.</td>\n",
       "      <td>Message-ID: &lt;31189540.1075852718882.JavaMail.e...</td>\n",
       "    </tr>\n",
       "    <tr>\n",
       "      <th>1</th>\n",
       "      <td>lenhart-m/sent/1210.</td>\n",
       "      <td>Message-ID: &lt;932989.1075858142302.JavaMail.eva...</td>\n",
       "    </tr>\n",
       "    <tr>\n",
       "      <th>2</th>\n",
       "      <td>symes-k/sent/1136.</td>\n",
       "      <td>Message-ID: &lt;20692876.1075841905289.JavaMail.e...</td>\n",
       "    </tr>\n",
       "  </tbody>\n",
       "</table>\n",
       "</div>"
      ],
      "text/plain": [
       "                       file                                            message\n",
       "0  arnold-j/sent_items/315.  Message-ID: <31189540.1075852718882.JavaMail.e...\n",
       "1      lenhart-m/sent/1210.  Message-ID: <932989.1075858142302.JavaMail.eva...\n",
       "2        symes-k/sent/1136.  Message-ID: <20692876.1075841905289.JavaMail.e..."
      ]
     },
     "execution_count": 516,
     "metadata": {},
     "output_type": "execute_result"
    }
   ],
   "source": [
    "import pandas as pd\n",
    "import numpy as np\n",
    "\n",
    "df = pd.read_csv('emails_new.csv')\n",
    "df.head(3)"
   ]
  },
  {
   "cell_type": "code",
   "execution_count": 517,
   "metadata": {},
   "outputs": [
    {
     "data": {
      "text/plain": [
       "0                                                        \n",
       "1                             Re: suicide pool - nfl 2000\n",
       "2                                 Re: 4/10 checkout con't\n",
       "3                                           Energy Issues\n",
       "4                                             2001 budget\n",
       "                              ...                        \n",
       "1495                                   TW Weekly 11-17-00\n",
       "1496                                       New York, etc.\n",
       "1497     Letter re Unpaid Invoice for Post petition De...\n",
       "1498                                                     \n",
       "1499                    Tasters next thursday! (11-16-00)\n",
       "Name: subject, Length: 1500, dtype: object"
      ]
     },
     "execution_count": 517,
     "metadata": {},
     "output_type": "execute_result"
    }
   ],
   "source": [
    "#extract subject from message\n",
    "df['subject'] = df['message'].str.extract(r'Subject: (.*)\\n')\n",
    "#remove any RE: or FW: from the subject\n",
    "df.subject.apply(lambda x: x.replace('RE:','').replace('FW:',''))"
   ]
  },
  {
   "cell_type": "code",
   "execution_count": 518,
   "metadata": {},
   "outputs": [
    {
     "data": {
      "text/html": [
       "<div>\n",
       "<style scoped>\n",
       "    .dataframe tbody tr th:only-of-type {\n",
       "        vertical-align: middle;\n",
       "    }\n",
       "\n",
       "    .dataframe tbody tr th {\n",
       "        vertical-align: top;\n",
       "    }\n",
       "\n",
       "    .dataframe thead th {\n",
       "        text-align: right;\n",
       "    }\n",
       "</style>\n",
       "<table border=\"1\" class=\"dataframe\">\n",
       "  <thead>\n",
       "    <tr style=\"text-align: right;\">\n",
       "      <th></th>\n",
       "      <th>file</th>\n",
       "      <th>message</th>\n",
       "      <th>subject</th>\n",
       "    </tr>\n",
       "  </thead>\n",
       "  <tbody>\n",
       "    <tr>\n",
       "      <th>856</th>\n",
       "      <td>mann-k/_sent_mail/4045.</td>\n",
       "      <td>Message-ID: &lt;3014784.1075846127593.JavaMail.ev...</td>\n",
       "      <td>Re: Agency Agreement</td>\n",
       "    </tr>\n",
       "    <tr>\n",
       "      <th>1298</th>\n",
       "      <td>stclair-c/all_documents/1001.</td>\n",
       "      <td>Message-ID: &lt;31458590.1075842105073.JavaMail.e...</td>\n",
       "      <td>Re: Important United Way Reminder</td>\n",
       "    </tr>\n",
       "    <tr>\n",
       "      <th>842</th>\n",
       "      <td>jones-t/all_documents/5063.</td>\n",
       "      <td>Message-ID: &lt;32757033.1075847038247.JavaMail.e...</td>\n",
       "      <td>Destec Properties Limited Partnership</td>\n",
       "    </tr>\n",
       "    <tr>\n",
       "      <th>1054</th>\n",
       "      <td>skilling-j/all_documents/169.</td>\n",
       "      <td>Message-ID: &lt;4290768.1075840070871.JavaMail.ev...</td>\n",
       "      <td>Keith Dodson Hiring Form</td>\n",
       "    </tr>\n",
       "    <tr>\n",
       "      <th>892</th>\n",
       "      <td>germany-c/bankrupt/cleburne_lone_star/38.</td>\n",
       "      <td>Message-ID: &lt;10437684.1075840493489.JavaMail.e...</td>\n",
       "      <td>FW: Lone Star for the 10th</td>\n",
       "    </tr>\n",
       "    <tr>\n",
       "      <th>234</th>\n",
       "      <td>rodrique-r/discussion_threads/228.</td>\n",
       "      <td>Message-ID: &lt;4032859.1075858346313.JavaMail.ev...</td>\n",
       "      <td>VAR</td>\n",
       "    </tr>\n",
       "    <tr>\n",
       "      <th>1214</th>\n",
       "      <td>hernandez-j/notes_inbox/302.</td>\n",
       "      <td>Message-ID: &lt;18575276.1075855558637.JavaMail.e...</td>\n",
       "      <td>FW: A Perfect World</td>\n",
       "    </tr>\n",
       "    <tr>\n",
       "      <th>1150</th>\n",
       "      <td>beck-s/eol/3.</td>\n",
       "      <td>Message-ID: &lt;17379575.1075849852146.JavaMail.e...</td>\n",
       "      <td>RE: EOL Average Deal Count as of 3-14-01</td>\n",
       "    </tr>\n",
       "    <tr>\n",
       "      <th>1409</th>\n",
       "      <td>weldon-c/all_documents/88.</td>\n",
       "      <td>Message-ID: &lt;23436220.1075851679788.JavaMail.e...</td>\n",
       "      <td>Re:</td>\n",
       "    </tr>\n",
       "    <tr>\n",
       "      <th>270</th>\n",
       "      <td>williams-w3/schedule_crawler/87.</td>\n",
       "      <td>Message-ID: &lt;27427682.1075839950595.JavaMail.e...</td>\n",
       "      <td>Start Date: 2/3/02; HourAhead hour: 12;</td>\n",
       "    </tr>\n",
       "  </tbody>\n",
       "</table>\n",
       "</div>"
      ],
      "text/plain": [
       "                                           file  \\\n",
       "856                     mann-k/_sent_mail/4045.   \n",
       "1298              stclair-c/all_documents/1001.   \n",
       "842                 jones-t/all_documents/5063.   \n",
       "1054              skilling-j/all_documents/169.   \n",
       "892   germany-c/bankrupt/cleburne_lone_star/38.   \n",
       "234          rodrique-r/discussion_threads/228.   \n",
       "1214               hernandez-j/notes_inbox/302.   \n",
       "1150                              beck-s/eol/3.   \n",
       "1409                 weldon-c/all_documents/88.   \n",
       "270            williams-w3/schedule_crawler/87.   \n",
       "\n",
       "                                                message  \\\n",
       "856   Message-ID: <3014784.1075846127593.JavaMail.ev...   \n",
       "1298  Message-ID: <31458590.1075842105073.JavaMail.e...   \n",
       "842   Message-ID: <32757033.1075847038247.JavaMail.e...   \n",
       "1054  Message-ID: <4290768.1075840070871.JavaMail.ev...   \n",
       "892   Message-ID: <10437684.1075840493489.JavaMail.e...   \n",
       "234   Message-ID: <4032859.1075858346313.JavaMail.ev...   \n",
       "1214  Message-ID: <18575276.1075855558637.JavaMail.e...   \n",
       "1150  Message-ID: <17379575.1075849852146.JavaMail.e...   \n",
       "1409  Message-ID: <23436220.1075851679788.JavaMail.e...   \n",
       "270   Message-ID: <27427682.1075839950595.JavaMail.e...   \n",
       "\n",
       "                                       subject  \n",
       "856                       Re: Agency Agreement  \n",
       "1298         Re: Important United Way Reminder  \n",
       "842      Destec Properties Limited Partnership  \n",
       "1054                  Keith Dodson Hiring Form  \n",
       "892                 FW: Lone Star for the 10th  \n",
       "234                                        VAR  \n",
       "1214                       FW: A Perfect World  \n",
       "1150  RE: EOL Average Deal Count as of 3-14-01  \n",
       "1409                                       Re:  \n",
       "270    Start Date: 2/3/02; HourAhead hour: 12;  "
      ]
     },
     "execution_count": 518,
     "metadata": {},
     "output_type": "execute_result"
    }
   ],
   "source": [
    "df.sample(10)"
   ]
  },
  {
   "cell_type": "markdown",
   "metadata": {},
   "source": [
    "### Feature Engineering"
   ]
  },
  {
   "cell_type": "code",
   "execution_count": 519,
   "metadata": {},
   "outputs": [],
   "source": [
    "def parse_raw_message(raw_message):\n",
    "    lines = raw_message.split('\\n')\n",
    "    email = {}\n",
    "    message = ''\n",
    "    keys_to_extract = ['from', 'to', 'subject']\n",
    "    for line in lines:\n",
    "        if ':' not in line:\n",
    "            message += line.replace('-----Original Message-----', '. ').strip()\n",
    "            email['body'] = message\n",
    "        else:\n",
    "            pairs = line.split(':')\n",
    "            key = pairs[0].lower()\n",
    "            val = pairs[-1].strip()\n",
    "            if key in keys_to_extract:\n",
    "                email[key] = val\n",
    "    return email\n",
    "def parse_into_emails(messages):\n",
    "    emails = [parse_raw_message(message) for message in messages]\n",
    "    return {\n",
    "        'body': map_to_list(emails, 'body'),\n",
    "        'to': map_to_list(emails, 'to'),\n",
    "        'from': map_to_list(emails, 'from'),\n",
    "        'subject': map_to_list(emails, 'subject')\n",
    "    }\n",
    "    \n",
    "def map_to_list(emails, key):\n",
    "    results = []\n",
    "    for email in emails:\n",
    "        if key not in email:\n",
    "            results.append('')\n",
    "        else:\n",
    "            results.append(email[key])\n",
    "    return results"
   ]
  },
  {
   "cell_type": "code",
   "execution_count": 520,
   "metadata": {},
   "outputs": [
    {
     "data": {
      "text/plain": [
       "(1500, 4)"
      ]
     },
     "execution_count": 520,
     "metadata": {},
     "output_type": "execute_result"
    }
   ],
   "source": [
    "email_df = pd.DataFrame(parse_into_emails(df.message))\n",
    "email_df.sample(10)\n",
    "email_df.shape"
   ]
  },
  {
   "cell_type": "code",
   "execution_count": 521,
   "metadata": {},
   "outputs": [
    {
     "data": {
      "text/plain": [
       "(1499, 4)"
      ]
     },
     "execution_count": 521,
     "metadata": {},
     "output_type": "execute_result"
    }
   ],
   "source": [
    "# drop any records with both subject and body missing\n",
    "missing = (email_df.body == '') & (email_df.subject == '')\n",
    "email_df = email_df[~missing]\n",
    "email_df.shape"
   ]
  },
  {
   "cell_type": "markdown",
   "metadata": {},
   "source": [
    "## Data Analysis based on keywords"
   ]
  },
  {
   "cell_type": "code",
   "execution_count": 522,
   "metadata": {},
   "outputs": [
    {
     "name": "stderr",
     "output_type": "stream",
     "text": [
      "C:\\Users\\kripa\\AppData\\Local\\Temp\\ipykernel_14368\\352176413.py:32: UserWarning: This pattern is interpreted as a regular expression, and has match groups. To actually get the groups, use str.extract.\n",
      "  urgent_emails_df = email_df[email_df[\"subject\"].str.contains(re) | email_df[\"body\"].str.contains(re)]\n"
     ]
    },
    {
     "data": {
      "text/plain": [
       "(257, 4)"
      ]
     },
     "execution_count": 522,
     "metadata": {},
     "output_type": "execute_result"
    }
   ],
   "source": [
    "import re\n",
    "\n",
    "# Keywords to search for\n",
    "keywords = [\n",
    "    \"System Down\", \n",
    "    \"Emergency\",\n",
    "    \"Alert\"\n",
    "    \"Critical\",\n",
    "    \"Urgent\",\n",
    "    \"ASAP\",\n",
    "    \"Important\",\n",
    "    \"Action Required\",\n",
    "    \"Deadline\",\n",
    "    \"Immediate\",\n",
    "    \"Immediately\"\n",
    "    \"Quick\",\n",
    "    \"Error\",\n",
    "    \"EOD\",\n",
    "    \"End of Day\",\n",
    "    \"High Priority\",\n",
    "    \"High Severity\",\n",
    "    \"Overdue\",\n",
    "    \"Due\",\n",
    "    \"Quick\"\n",
    "    ]\n",
    "\n",
    "# Create a regex pattern for the keywords\n",
    "pattern = \"(\" + \"|\".join(keywords) + \")\"\n",
    "re = re.compile(pattern, flags=re.IGNORECASE)\n",
    "\n",
    "# Search for the keywords in the subject and body\n",
    "urgent_emails_df = email_df[email_df[\"subject\"].str.contains(re) | email_df[\"body\"].str.contains(re)]\n",
    "urgent_emails_df.shape\n"
   ]
  },
  {
   "cell_type": "code",
   "execution_count": null,
   "metadata": {},
   "outputs": [],
   "source": [
    "# Add column urgent/ non-urgent to the dataframe based on urgent_emails_df\n",
    "email_df['urgent'] = email_df.index.isin(urgent_emails_df.index)"
   ]
  },
  {
   "cell_type": "code",
   "execution_count": 524,
   "metadata": {},
   "outputs": [
    {
     "data": {
      "text/html": [
       "<div>\n",
       "<style scoped>\n",
       "    .dataframe tbody tr th:only-of-type {\n",
       "        vertical-align: middle;\n",
       "    }\n",
       "\n",
       "    .dataframe tbody tr th {\n",
       "        vertical-align: top;\n",
       "    }\n",
       "\n",
       "    .dataframe thead th {\n",
       "        text-align: right;\n",
       "    }\n",
       "</style>\n",
       "<table border=\"1\" class=\"dataframe\">\n",
       "  <thead>\n",
       "    <tr style=\"text-align: right;\">\n",
       "      <th></th>\n",
       "      <th>body</th>\n",
       "      <th>to</th>\n",
       "      <th>from</th>\n",
       "      <th>subject</th>\n",
       "      <th>urgent</th>\n",
       "    </tr>\n",
       "  </thead>\n",
       "  <tbody>\n",
       "    <tr>\n",
       "      <th>1078</th>\n",
       "      <td>Scud incoming....---------------------- Forwar...</td>\n",
       "      <td>William S Bradford/HOU/ECT@ECT, Tanya Rohauer/...</td>\n",
       "      <td>30 AM</td>\n",
       "      <td>Imperial Holly Corporation</td>\n",
       "      <td>False</td>\n",
       "    </tr>\n",
       "    <tr>\n",
       "      <th>1010</th>\n",
       "      <td>Daren - meter 5192 flowed 8 dth on 12/19, 33 d...</td>\n",
       "      <td>daren.farmer@enron.com</td>\n",
       "      <td>aimee.lannou@enron.com</td>\n",
       "      <td>Dec 00</td>\n",
       "      <td>False</td>\n",
       "    </tr>\n",
       "    <tr>\n",
       "      <th>141</th>\n",
       "      <td>Joe,We are extremely pleased with the support ...</td>\n",
       "      <td>Vince J Kaminski/HOU/ECT@ECT</td>\n",
       "      <td>31 AM</td>\n",
       "      <td>Recent Hardware Repair</td>\n",
       "      <td>True</td>\n",
       "    </tr>\n",
       "    <tr>\n",
       "      <th>1215</th>\n",
       "      <td>Bob -Attached is the final version of the BETA...</td>\n",
       "      <td>bob.shults@enron.com</td>\n",
       "      <td>mark.greenberg@enron.com</td>\n",
       "      <td>BETA</td>\n",
       "      <td>False</td>\n",
       "    </tr>\n",
       "    <tr>\n",
       "      <th>1164</th>\n",
       "      <td>&lt;&lt;CSFB_EnergyTech_dec7.pdf&gt;&gt;* Siemens Westingh...</td>\n",
       "      <td></td>\n",
       "      <td>owner-eqr_etcorporate@fir.fbc.com</td>\n",
       "      <td>Energy Technology Bulletin - Issue 40</td>\n",
       "      <td>False</td>\n",
       "    </tr>\n",
       "    <tr>\n",
       "      <th>527</th>\n",
       "      <td>Tim,Thanks for the update..Here's the forecast...</td>\n",
       "      <td>Allen, Phillip K.</td>\n",
       "      <td>Heizenrader, Timothy</td>\n",
       "      <td>pnw-march1-forecast-gas-update-summary.xls</td>\n",
       "      <td>False</td>\n",
       "    </tr>\n",
       "    <tr>\n",
       "      <th>452</th>\n",
       "      <td>Is this okay for you - what hotel did you deci...</td>\n",
       "      <td>Wadle, Susan</td>\n",
       "      <td>Marianne Long &lt;marianne.long@travelpark.com&gt;@E...</td>\n",
       "      <td>plz review and approve travel for kevin hyatt</td>\n",
       "      <td>False</td>\n",
       "    </tr>\n",
       "    <tr>\n",
       "      <th>233</th>\n",
       "      <td>richard.sanders@enron.com, james.studdert@enro...</td>\n",
       "      <td>britt.davis@enron.com</td>\n",
       "      <td>paul.henking@enron.com</td>\n",
       "      <td>In re M/V PACIFIC VIRGO</td>\n",
       "      <td>True</td>\n",
       "    </tr>\n",
       "    <tr>\n",
       "      <th>658</th>\n",
       "      <td>Deal 312610 purchase at CentanaDeal 312613 Sal...</td>\n",
       "      <td>Daren J Farmer/HOU/ECT@ECT</td>\n",
       "      <td>daren.farmer@enron.com</td>\n",
       "      <td>PanEnergy Marketing March 2000 Production</td>\n",
       "      <td>False</td>\n",
       "    </tr>\n",
       "    <tr>\n",
       "      <th>1057</th>\n",
       "      <td>Lousie,My group gathers the gas and power phys...</td>\n",
       "      <td>=09Hodges, Georganne; Helton, Susan</td>\n",
       "      <td>=09Guerra, Ricardo =20</td>\n",
       "      <td>=09North America Physical Volumes</td>\n",
       "      <td>False</td>\n",
       "    </tr>\n",
       "  </tbody>\n",
       "</table>\n",
       "</div>"
      ],
      "text/plain": [
       "                                                   body  \\\n",
       "1078  Scud incoming....---------------------- Forwar...   \n",
       "1010  Daren - meter 5192 flowed 8 dth on 12/19, 33 d...   \n",
       "141   Joe,We are extremely pleased with the support ...   \n",
       "1215  Bob -Attached is the final version of the BETA...   \n",
       "1164  <<CSFB_EnergyTech_dec7.pdf>>* Siemens Westingh...   \n",
       "527   Tim,Thanks for the update..Here's the forecast...   \n",
       "452   Is this okay for you - what hotel did you deci...   \n",
       "233   richard.sanders@enron.com, james.studdert@enro...   \n",
       "658   Deal 312610 purchase at CentanaDeal 312613 Sal...   \n",
       "1057  Lousie,My group gathers the gas and power phys...   \n",
       "\n",
       "                                                     to  \\\n",
       "1078  William S Bradford/HOU/ECT@ECT, Tanya Rohauer/...   \n",
       "1010                             daren.farmer@enron.com   \n",
       "141                        Vince J Kaminski/HOU/ECT@ECT   \n",
       "1215                               bob.shults@enron.com   \n",
       "1164                                                      \n",
       "527                                   Allen, Phillip K.   \n",
       "452                                        Wadle, Susan   \n",
       "233                               britt.davis@enron.com   \n",
       "658                          Daren J Farmer/HOU/ECT@ECT   \n",
       "1057                =09Hodges, Georganne; Helton, Susan   \n",
       "\n",
       "                                                   from  \\\n",
       "1078                                              30 AM   \n",
       "1010                             aimee.lannou@enron.com   \n",
       "141                                               31 AM   \n",
       "1215                           mark.greenberg@enron.com   \n",
       "1164                  owner-eqr_etcorporate@fir.fbc.com   \n",
       "527                                Heizenrader, Timothy   \n",
       "452   Marianne Long <marianne.long@travelpark.com>@E...   \n",
       "233                              paul.henking@enron.com   \n",
       "658                              daren.farmer@enron.com   \n",
       "1057                             =09Guerra, Ricardo =20   \n",
       "\n",
       "                                            subject  urgent  \n",
       "1078                     Imperial Holly Corporation   False  \n",
       "1010                                         Dec 00   False  \n",
       "141                          Recent Hardware Repair    True  \n",
       "1215                                           BETA   False  \n",
       "1164          Energy Technology Bulletin - Issue 40   False  \n",
       "527      pnw-march1-forecast-gas-update-summary.xls   False  \n",
       "452   plz review and approve travel for kevin hyatt   False  \n",
       "233                         In re M/V PACIFIC VIRGO    True  \n",
       "658       PanEnergy Marketing March 2000 Production   False  \n",
       "1057              =09North America Physical Volumes   False  "
      ]
     },
     "execution_count": 524,
     "metadata": {},
     "output_type": "execute_result"
    }
   ],
   "source": [
    "email_df.sample(10)"
   ]
  },
  {
   "cell_type": "markdown",
   "metadata": {},
   "source": [
    "### Data Visualization"
   ]
  },
  {
   "cell_type": "code",
   "execution_count": null,
   "metadata": {},
   "outputs": [],
   "source": [
    "\n"
   ]
  }
 ],
 "metadata": {
  "kernelspec": {
   "display_name": "Python 3",
   "language": "python",
   "name": "python3"
  },
  "language_info": {
   "codemirror_mode": {
    "name": "ipython",
    "version": 3
   },
   "file_extension": ".py",
   "mimetype": "text/x-python",
   "name": "python",
   "nbconvert_exporter": "python",
   "pygments_lexer": "ipython3",
   "version": "3.11.6"
  }
 },
 "nbformat": 4,
 "nbformat_minor": 2
}
