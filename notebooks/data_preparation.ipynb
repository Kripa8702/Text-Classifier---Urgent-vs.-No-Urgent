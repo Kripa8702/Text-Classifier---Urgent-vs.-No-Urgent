{
 "cells": [
  {
   "cell_type": "markdown",
   "metadata": {},
   "source": [
    "# Data Analysis"
   ]
  },
  {
   "cell_type": "code",
   "execution_count": 178,
   "metadata": {},
   "outputs": [],
   "source": [
    "import pandas as pd\n",
    "import numpy as np"
   ]
  },
  {
   "cell_type": "code",
   "execution_count": 179,
   "metadata": {},
   "outputs": [
    {
     "data": {
      "text/html": [
       "<div>\n",
       "<style scoped>\n",
       "    .dataframe tbody tr th:only-of-type {\n",
       "        vertical-align: middle;\n",
       "    }\n",
       "\n",
       "    .dataframe tbody tr th {\n",
       "        vertical-align: top;\n",
       "    }\n",
       "\n",
       "    .dataframe thead th {\n",
       "        text-align: right;\n",
       "    }\n",
       "</style>\n",
       "<table border=\"1\" class=\"dataframe\">\n",
       "  <thead>\n",
       "    <tr style=\"text-align: right;\">\n",
       "      <th></th>\n",
       "      <th>label</th>\n",
       "      <th>processed_text</th>\n",
       "      <th>priority</th>\n",
       "      <th>urgency</th>\n",
       "      <th>type</th>\n",
       "      <th>queue</th>\n",
       "    </tr>\n",
       "  </thead>\n",
       "  <tbody>\n",
       "    <tr>\n",
       "      <th>7608</th>\n",
       "      <td>NaN</td>\n",
       "      <td>Immediate fix needed: Zoom 5.11.0 crashes. Dea...</td>\n",
       "      <td>high</td>\n",
       "      <td>urgent</td>\n",
       "      <td>Incident</td>\n",
       "      <td>Technical Support</td>\n",
       "    </tr>\n",
       "    <tr>\n",
       "      <th>6498</th>\n",
       "      <td>0.0</td>\n",
       "      <td>Redundant data storage in multiple locations w...</td>\n",
       "      <td>low</td>\n",
       "      <td>not_urgent</td>\n",
       "      <td>NaN</td>\n",
       "      <td>NaN</td>\n",
       "    </tr>\n",
       "    <tr>\n",
       "      <th>8181</th>\n",
       "      <td>NaN</td>\n",
       "      <td>Critical: AWS outage concerns. Dear IT Service...</td>\n",
       "      <td>high</td>\n",
       "      <td>urgent</td>\n",
       "      <td>Incident</td>\n",
       "      <td>Technical Support</td>\n",
       "    </tr>\n",
       "  </tbody>\n",
       "</table>\n",
       "</div>"
      ],
      "text/plain": [
       "      label                                     processed_text priority  \\\n",
       "7608    NaN  Immediate fix needed: Zoom 5.11.0 crashes. Dea...     high   \n",
       "6498    0.0  Redundant data storage in multiple locations w...      low   \n",
       "8181    NaN  Critical: AWS outage concerns. Dear IT Service...     high   \n",
       "\n",
       "         urgency      type              queue  \n",
       "7608      urgent  Incident  Technical Support  \n",
       "6498  not_urgent       NaN                NaN  \n",
       "8181      urgent  Incident  Technical Support  "
      ]
     },
     "execution_count": 179,
     "metadata": {},
     "output_type": "execute_result"
    }
   ],
   "source": [
    "df = pd.read_csv('../csv/hf_combined.csv')\n",
    "df.sample(3)"
   ]
  },
  {
   "cell_type": "code",
   "execution_count": 180,
   "metadata": {},
   "outputs": [
    {
     "data": {
      "text/plain": [
       "urgency\n",
       "not_urgent    5676\n",
       "urgent        2973\n",
       "Name: count, dtype: int64"
      ]
     },
     "execution_count": 180,
     "metadata": {},
     "output_type": "execute_result"
    }
   ],
   "source": [
    "# number of urgent and non-urgent tickets\n",
    "df['urgency'].value_counts()"
   ]
  },
  {
   "cell_type": "code",
   "execution_count": 181,
   "metadata": {},
   "outputs": [
    {
     "data": {
      "text/html": [
       "<div>\n",
       "<style scoped>\n",
       "    .dataframe tbody tr th:only-of-type {\n",
       "        vertical-align: middle;\n",
       "    }\n",
       "\n",
       "    .dataframe tbody tr th {\n",
       "        vertical-align: top;\n",
       "    }\n",
       "\n",
       "    .dataframe thead th {\n",
       "        text-align: right;\n",
       "    }\n",
       "</style>\n",
       "<table border=\"1\" class=\"dataframe\">\n",
       "  <thead>\n",
       "    <tr style=\"text-align: right;\">\n",
       "      <th></th>\n",
       "      <th>label</th>\n",
       "      <th>processed_text</th>\n",
       "      <th>priority</th>\n",
       "      <th>urgency</th>\n",
       "      <th>type</th>\n",
       "      <th>queue</th>\n",
       "    </tr>\n",
       "  </thead>\n",
       "  <tbody>\n",
       "    <tr>\n",
       "      <th>7103</th>\n",
       "      <td>NaN</td>\n",
       "      <td>AWS Service Update Request. Please provide upd...</td>\n",
       "      <td>low</td>\n",
       "      <td>not_urgent</td>\n",
       "      <td>Request</td>\n",
       "      <td>Technical Support</td>\n",
       "    </tr>\n",
       "    <tr>\n",
       "      <th>7162</th>\n",
       "      <td>NaN</td>\n",
       "      <td>Intermittent connectivity on ISR4331. Conflict...</td>\n",
       "      <td>low</td>\n",
       "      <td>not_urgent</td>\n",
       "      <td>Problem</td>\n",
       "      <td>IT Support</td>\n",
       "    </tr>\n",
       "    <tr>\n",
       "      <th>7364</th>\n",
       "      <td>NaN</td>\n",
       "      <td>Printer Setup Assistance. Cannot connect to wifi.</td>\n",
       "      <td>medium</td>\n",
       "      <td>not_urgent</td>\n",
       "      <td>Request</td>\n",
       "      <td>Customer Service</td>\n",
       "    </tr>\n",
       "    <tr>\n",
       "      <th>7543</th>\n",
       "      <td>NaN</td>\n",
       "      <td>Intermittent connectivity on ISR4331. Conflict...</td>\n",
       "      <td>low</td>\n",
       "      <td>not_urgent</td>\n",
       "      <td>Problem</td>\n",
       "      <td>IT Support</td>\n",
       "    </tr>\n",
       "    <tr>\n",
       "      <th>7781</th>\n",
       "      <td>NaN</td>\n",
       "      <td>Problems with Cisco ISR4331 router. Hi, I am e...</td>\n",
       "      <td>high</td>\n",
       "      <td>urgent</td>\n",
       "      <td>Problem</td>\n",
       "      <td>Technical Support</td>\n",
       "    </tr>\n",
       "    <tr>\n",
       "      <th>7805</th>\n",
       "      <td>NaN</td>\n",
       "      <td>Printer Setup Assistance. Cannot connect to wifi.</td>\n",
       "      <td>medium</td>\n",
       "      <td>not_urgent</td>\n",
       "      <td>Request</td>\n",
       "      <td>Customer Service</td>\n",
       "    </tr>\n",
       "    <tr>\n",
       "      <th>8010</th>\n",
       "      <td>NaN</td>\n",
       "      <td>Problems with Cisco ISR4331 router. Hi, I am e...</td>\n",
       "      <td>high</td>\n",
       "      <td>urgent</td>\n",
       "      <td>Problem</td>\n",
       "      <td>Technical Support</td>\n",
       "    </tr>\n",
       "    <tr>\n",
       "      <th>8083</th>\n",
       "      <td>NaN</td>\n",
       "      <td>AWS Service Update Request. Please provide upd...</td>\n",
       "      <td>low</td>\n",
       "      <td>not_urgent</td>\n",
       "      <td>Request</td>\n",
       "      <td>Technical Support</td>\n",
       "    </tr>\n",
       "    <tr>\n",
       "      <th>8169</th>\n",
       "      <td>NaN</td>\n",
       "      <td>AWS Service Update Request. Please provide upd...</td>\n",
       "      <td>low</td>\n",
       "      <td>not_urgent</td>\n",
       "      <td>Request</td>\n",
       "      <td>Technical Support</td>\n",
       "    </tr>\n",
       "    <tr>\n",
       "      <th>8253</th>\n",
       "      <td>NaN</td>\n",
       "      <td>AWS Service Update Request. Please provide upd...</td>\n",
       "      <td>low</td>\n",
       "      <td>not_urgent</td>\n",
       "      <td>Request</td>\n",
       "      <td>Technical Support</td>\n",
       "    </tr>\n",
       "    <tr>\n",
       "      <th>8448</th>\n",
       "      <td>NaN</td>\n",
       "      <td>AWS Service Update Request. Please provide upd...</td>\n",
       "      <td>low</td>\n",
       "      <td>not_urgent</td>\n",
       "      <td>Request</td>\n",
       "      <td>Technical Support</td>\n",
       "    </tr>\n",
       "    <tr>\n",
       "      <th>8586</th>\n",
       "      <td>NaN</td>\n",
       "      <td>AWS Service Update Request. Please provide upd...</td>\n",
       "      <td>low</td>\n",
       "      <td>not_urgent</td>\n",
       "      <td>Request</td>\n",
       "      <td>Technical Support</td>\n",
       "    </tr>\n",
       "  </tbody>\n",
       "</table>\n",
       "</div>"
      ],
      "text/plain": [
       "      label                                     processed_text priority  \\\n",
       "7103    NaN  AWS Service Update Request. Please provide upd...      low   \n",
       "7162    NaN  Intermittent connectivity on ISR4331. Conflict...      low   \n",
       "7364    NaN  Printer Setup Assistance. Cannot connect to wifi.   medium   \n",
       "7543    NaN  Intermittent connectivity on ISR4331. Conflict...      low   \n",
       "7781    NaN  Problems with Cisco ISR4331 router. Hi, I am e...     high   \n",
       "7805    NaN  Printer Setup Assistance. Cannot connect to wifi.   medium   \n",
       "8010    NaN  Problems with Cisco ISR4331 router. Hi, I am e...     high   \n",
       "8083    NaN  AWS Service Update Request. Please provide upd...      low   \n",
       "8169    NaN  AWS Service Update Request. Please provide upd...      low   \n",
       "8253    NaN  AWS Service Update Request. Please provide upd...      low   \n",
       "8448    NaN  AWS Service Update Request. Please provide upd...      low   \n",
       "8586    NaN  AWS Service Update Request. Please provide upd...      low   \n",
       "\n",
       "         urgency     type              queue  \n",
       "7103  not_urgent  Request  Technical Support  \n",
       "7162  not_urgent  Problem         IT Support  \n",
       "7364  not_urgent  Request   Customer Service  \n",
       "7543  not_urgent  Problem         IT Support  \n",
       "7781      urgent  Problem  Technical Support  \n",
       "7805  not_urgent  Request   Customer Service  \n",
       "8010      urgent  Problem  Technical Support  \n",
       "8083  not_urgent  Request  Technical Support  \n",
       "8169  not_urgent  Request  Technical Support  \n",
       "8253  not_urgent  Request  Technical Support  \n",
       "8448  not_urgent  Request  Technical Support  \n",
       "8586  not_urgent  Request  Technical Support  "
      ]
     },
     "execution_count": 181,
     "metadata": {},
     "output_type": "execute_result"
    }
   ],
   "source": [
    "# Clip the values of not urgent tickets to 3000\n",
    "df['processed_text'].duplicated().sum()\n",
    "# view the duplicated rows\n",
    "df.loc[df['processed_text'].duplicated(keep=False), :]"
   ]
  },
  {
   "cell_type": "code",
   "execution_count": 182,
   "metadata": {},
   "outputs": [
    {
     "data": {
      "text/plain": [
       "np.int64(0)"
      ]
     },
     "execution_count": 182,
     "metadata": {},
     "output_type": "execute_result"
    }
   ],
   "source": [
    "# drop the duplicated rows\n",
    "df.drop_duplicates(subset='processed_text', keep='first', inplace=True)\n",
    "df['processed_text'].duplicated().sum()"
   ]
  },
  {
   "cell_type": "code",
   "execution_count": 183,
   "metadata": {},
   "outputs": [
    {
     "data": {
      "text/plain": [
       "urgency\n",
       "not_urgent    5669\n",
       "urgent        2972\n",
       "Name: count, dtype: int64"
      ]
     },
     "execution_count": 183,
     "metadata": {},
     "output_type": "execute_result"
    }
   ],
   "source": [
    "df['urgency'].value_counts()"
   ]
  },
  {
   "cell_type": "markdown",
   "metadata": {},
   "source": [
    "### **Conclusion** - Model is biased towards non-urgent class\n",
    "Two approaches - \n",
    "- Clip off non-urgent records to match number of urgent records \n",
    "- Synthesize mor urgent records to mathc number of non-urgent records "
   ]
  },
  {
   "cell_type": "markdown",
   "metadata": {},
   "source": [
    "### Approach I"
   ]
  },
  {
   "cell_type": "code",
   "execution_count": 184,
   "metadata": {},
   "outputs": [
    {
     "name": "stdout",
     "output_type": "stream",
     "text": [
      "Class distribution after undersampling:\n",
      "urgency\n",
      "not_urgent    2972\n",
      "urgent        2972\n",
      "Name: count, dtype: int64\n"
     ]
    },
    {
     "name": "stderr",
     "output_type": "stream",
     "text": [
      "/Users/kripa/Library/Python/3.9/lib/python/site-packages/sklearn/base.py:484: FutureWarning: `BaseEstimator._check_n_features` is deprecated in 1.6 and will be removed in 1.7. Use `sklearn.utils.validation._check_n_features` instead.\n",
      "  warnings.warn(\n",
      "/Users/kripa/Library/Python/3.9/lib/python/site-packages/sklearn/base.py:493: FutureWarning: `BaseEstimator._check_feature_names` is deprecated in 1.6 and will be removed in 1.7. Use `sklearn.utils.validation._check_feature_names` instead.\n",
      "  warnings.warn(\n"
     ]
    }
   ],
   "source": [
    "from imblearn.under_sampling import RandomUnderSampler\n",
    "X = df[['processed_text', 'priority']]\n",
    "y = df['urgency']\n",
    "\n",
    "X_resampled, y_resampled = RandomUnderSampler(random_state=42).fit_resample(X, y)\n",
    "\n",
    "print(\"Class distribution after undersampling:\")\n",
    "print(pd.Series(y_resampled).value_counts())\n"
   ]
  },
  {
   "cell_type": "code",
   "execution_count": 185,
   "metadata": {},
   "outputs": [
    {
     "name": "stdout",
     "output_type": "stream",
     "text": [
      "Class distribution after undersampling:\n",
      "urgency\n",
      "not_urgent    2972\n",
      "urgent        2972\n",
      "Name: count, dtype: int64\n"
     ]
    },
    {
     "name": "stderr",
     "output_type": "stream",
     "text": [
      "/Users/kripa/Library/Python/3.9/lib/python/site-packages/sklearn/base.py:484: FutureWarning: `BaseEstimator._check_n_features` is deprecated in 1.6 and will be removed in 1.7. Use `sklearn.utils.validation._check_n_features` instead.\n",
      "  warnings.warn(\n",
      "/Users/kripa/Library/Python/3.9/lib/python/site-packages/sklearn/base.py:493: FutureWarning: `BaseEstimator._check_feature_names` is deprecated in 1.6 and will be removed in 1.7. Use `sklearn.utils.validation._check_feature_names` instead.\n",
      "  warnings.warn(\n"
     ]
    }
   ],
   "source": [
    "from imblearn.under_sampling import RandomUnderSampler\n",
    "\n",
    "rus = RandomUnderSampler(random_state=42)\n",
    "X_resampled, y_resampled = rus.fit_resample(X, y)\n",
    "\n",
    "# Combine back into a DataFrame\n",
    "df_undersampled = pd.DataFrame({\n",
    "    \"processed_text\": X_resampled[\"processed_text\"],\n",
    "    \"priority\": X_resampled[\"priority\"],\n",
    "    \"urgency\": y_resampled\n",
    "})\n",
    "\n",
    "print(\"Class distribution after undersampling:\")\n",
    "print(df_undersampled[\"urgency\"].value_counts())\n"
   ]
  },
  {
   "cell_type": "code",
   "execution_count": 186,
   "metadata": {},
   "outputs": [],
   "source": [
    "df_undersampled.sample(3)\n",
    "df_undersampled.to_csv('../csv/undersampled_data.csv', index=False)"
   ]
  },
  {
   "cell_type": "markdown",
   "metadata": {},
   "source": [
    "### Approach II"
   ]
  },
  {
   "cell_type": "code",
   "execution_count": 187,
   "metadata": {},
   "outputs": [
    {
     "name": "stdout",
     "output_type": "stream",
     "text": [
      "Class distribution after oversampling:\n",
      "urgency\n",
      "urgent        5669\n",
      "not_urgent    5669\n",
      "Name: count, dtype: int64\n"
     ]
    },
    {
     "name": "stderr",
     "output_type": "stream",
     "text": [
      "/Users/kripa/Library/Python/3.9/lib/python/site-packages/sklearn/base.py:484: FutureWarning: `BaseEstimator._check_n_features` is deprecated in 1.6 and will be removed in 1.7. Use `sklearn.utils.validation._check_n_features` instead.\n",
      "  warnings.warn(\n",
      "/Users/kripa/Library/Python/3.9/lib/python/site-packages/sklearn/base.py:493: FutureWarning: `BaseEstimator._check_feature_names` is deprecated in 1.6 and will be removed in 1.7. Use `sklearn.utils.validation._check_feature_names` instead.\n",
      "  warnings.warn(\n"
     ]
    }
   ],
   "source": [
    "from imblearn.over_sampling import RandomOverSampler\n",
    "\n",
    "ros = RandomOverSampler(random_state=42)\n",
    "X_resampled, y_resampled = ros.fit_resample(X, y)\n",
    "\n",
    "# Combine back into a DataFrame\n",
    "df_oversampled = pd.DataFrame({\n",
    "    \"processed_text\": X_resampled[\"processed_text\"],\n",
    "    \"priority\": X_resampled[\"priority\"],\n",
    "    \"urgency\": y_resampled\n",
    "})\n",
    "\n",
    "print(\"Class distribution after oversampling:\")\n",
    "print(df_oversampled[\"urgency\"].value_counts())\n"
   ]
  },
  {
   "cell_type": "code",
   "execution_count": 188,
   "metadata": {},
   "outputs": [
    {
     "data": {
      "text/html": [
       "<div>\n",
       "<style scoped>\n",
       "    .dataframe tbody tr th:only-of-type {\n",
       "        vertical-align: middle;\n",
       "    }\n",
       "\n",
       "    .dataframe tbody tr th {\n",
       "        vertical-align: top;\n",
       "    }\n",
       "\n",
       "    .dataframe thead th {\n",
       "        text-align: right;\n",
       "    }\n",
       "</style>\n",
       "<table border=\"1\" class=\"dataframe\">\n",
       "  <thead>\n",
       "    <tr style=\"text-align: right;\">\n",
       "      <th></th>\n",
       "      <th>processed_text</th>\n",
       "      <th>priority</th>\n",
       "      <th>urgency</th>\n",
       "    </tr>\n",
       "  </thead>\n",
       "  <tbody>\n",
       "    <tr>\n",
       "      <th>1185</th>\n",
       "      <td>Critical update needed for excessive battery c...</td>\n",
       "      <td>high</td>\n",
       "      <td>urgent</td>\n",
       "    </tr>\n",
       "    <tr>\n",
       "      <th>2394</th>\n",
       "      <td>Critical resolution required for disabled edit...</td>\n",
       "      <td>high</td>\n",
       "      <td>urgent</td>\n",
       "    </tr>\n",
       "    <tr>\n",
       "      <th>5652</th>\n",
       "      <td>Severe Flaw in UI Design Prevents Check-out Co...</td>\n",
       "      <td>high</td>\n",
       "      <td>urgent</td>\n",
       "    </tr>\n",
       "    <tr>\n",
       "      <th>10755</th>\n",
       "      <td>High-priority update for wrong billing details...</td>\n",
       "      <td>high</td>\n",
       "      <td>urgent</td>\n",
       "    </tr>\n",
       "    <tr>\n",
       "      <th>9918</th>\n",
       "      <td>Urgent update required for inconsistencies in ...</td>\n",
       "      <td>high</td>\n",
       "      <td>urgent</td>\n",
       "    </tr>\n",
       "    <tr>\n",
       "      <th>3861</th>\n",
       "      <td>Container runtime environment variable misconf...</td>\n",
       "      <td>high</td>\n",
       "      <td>urgent</td>\n",
       "    </tr>\n",
       "    <tr>\n",
       "      <th>1992</th>\n",
       "      <td>Critical fix for broken tutorial links within ...</td>\n",
       "      <td>high</td>\n",
       "      <td>urgent</td>\n",
       "    </tr>\n",
       "    <tr>\n",
       "      <th>10703</th>\n",
       "      <td>Urgent: Disruption of the Jira ticket system. ...</td>\n",
       "      <td>high</td>\n",
       "      <td>urgent</td>\n",
       "    </tr>\n",
       "    <tr>\n",
       "      <th>3321</th>\n",
       "      <td>Dropdown filters close unexpectedly on data entry</td>\n",
       "      <td>high</td>\n",
       "      <td>urgent</td>\n",
       "    </tr>\n",
       "    <tr>\n",
       "      <th>5406</th>\n",
       "      <td>Failure to load user avatars in chat application</td>\n",
       "      <td>high</td>\n",
       "      <td>urgent</td>\n",
       "    </tr>\n",
       "  </tbody>\n",
       "</table>\n",
       "</div>"
      ],
      "text/plain": [
       "                                          processed_text priority urgency\n",
       "1185   Critical update needed for excessive battery c...     high  urgent\n",
       "2394   Critical resolution required for disabled edit...     high  urgent\n",
       "5652   Severe Flaw in UI Design Prevents Check-out Co...     high  urgent\n",
       "10755  High-priority update for wrong billing details...     high  urgent\n",
       "9918   Urgent update required for inconsistencies in ...     high  urgent\n",
       "3861   Container runtime environment variable misconf...     high  urgent\n",
       "1992   Critical fix for broken tutorial links within ...     high  urgent\n",
       "10703  Urgent: Disruption of the Jira ticket system. ...     high  urgent\n",
       "3321   Dropdown filters close unexpectedly on data entry     high  urgent\n",
       "5406    Failure to load user avatars in chat application     high  urgent"
      ]
     },
     "execution_count": 188,
     "metadata": {},
     "output_type": "execute_result"
    }
   ],
   "source": [
    "df_oversampled[df_oversampled['urgency'] == 'urgent'].sample(10)"
   ]
  },
  {
   "cell_type": "code",
   "execution_count": 189,
   "metadata": {},
   "outputs": [
    {
     "data": {
      "text/html": [
       "<div>\n",
       "<style scoped>\n",
       "    .dataframe tbody tr th:only-of-type {\n",
       "        vertical-align: middle;\n",
       "    }\n",
       "\n",
       "    .dataframe tbody tr th {\n",
       "        vertical-align: top;\n",
       "    }\n",
       "\n",
       "    .dataframe thead th {\n",
       "        text-align: right;\n",
       "    }\n",
       "</style>\n",
       "<table border=\"1\" class=\"dataframe\">\n",
       "  <thead>\n",
       "    <tr style=\"text-align: right;\">\n",
       "      <th></th>\n",
       "      <th>processed_text</th>\n",
       "      <th>priority</th>\n",
       "      <th>urgency</th>\n",
       "    </tr>\n",
       "  </thead>\n",
       "  <tbody>\n",
       "    <tr>\n",
       "      <th>3216</th>\n",
       "      <td>404 error on page 2 of paginated article list</td>\n",
       "      <td>high</td>\n",
       "      <td>urgent</td>\n",
       "    </tr>\n",
       "    <tr>\n",
       "      <th>10884</th>\n",
       "      <td>404 error on page 2 of paginated article list</td>\n",
       "      <td>high</td>\n",
       "      <td>urgent</td>\n",
       "    </tr>\n",
       "    <tr>\n",
       "      <th>342</th>\n",
       "      <td>A prompt and decisive response is required to ...</td>\n",
       "      <td>high</td>\n",
       "      <td>urgent</td>\n",
       "    </tr>\n",
       "    <tr>\n",
       "      <th>9179</th>\n",
       "      <td>A prompt and decisive response is required to ...</td>\n",
       "      <td>high</td>\n",
       "      <td>urgent</td>\n",
       "    </tr>\n",
       "    <tr>\n",
       "      <th>10212</th>\n",
       "      <td>A rapid response is crucial to address this ma...</td>\n",
       "      <td>high</td>\n",
       "      <td>urgent</td>\n",
       "    </tr>\n",
       "    <tr>\n",
       "      <th>...</th>\n",
       "      <td>...</td>\n",
       "      <td>...</td>\n",
       "      <td>...</td>\n",
       "    </tr>\n",
       "    <tr>\n",
       "      <th>11079</th>\n",
       "      <td>real-time messaging issues. Dear Tech Online S...</td>\n",
       "      <td>high</td>\n",
       "      <td>urgent</td>\n",
       "    </tr>\n",
       "    <tr>\n",
       "      <th>8625</th>\n",
       "      <td>real-time messaging issues. Dear Tech Online S...</td>\n",
       "      <td>high</td>\n",
       "      <td>urgent</td>\n",
       "    </tr>\n",
       "    <tr>\n",
       "      <th>10383</th>\n",
       "      <td>request for configuration changes. Dear IT Sup...</td>\n",
       "      <td>high</td>\n",
       "      <td>urgent</td>\n",
       "    </tr>\n",
       "    <tr>\n",
       "      <th>10680</th>\n",
       "      <td>request for configuration changes. Dear IT Sup...</td>\n",
       "      <td>high</td>\n",
       "      <td>urgent</td>\n",
       "    </tr>\n",
       "    <tr>\n",
       "      <th>8396</th>\n",
       "      <td>request for configuration changes. Dear IT Sup...</td>\n",
       "      <td>high</td>\n",
       "      <td>urgent</td>\n",
       "    </tr>\n",
       "  </tbody>\n",
       "</table>\n",
       "<p>4438 rows × 3 columns</p>\n",
       "</div>"
      ],
      "text/plain": [
       "                                          processed_text priority urgency\n",
       "3216       404 error on page 2 of paginated article list     high  urgent\n",
       "10884      404 error on page 2 of paginated article list     high  urgent\n",
       "342    A prompt and decisive response is required to ...     high  urgent\n",
       "9179   A prompt and decisive response is required to ...     high  urgent\n",
       "10212  A rapid response is crucial to address this ma...     high  urgent\n",
       "...                                                  ...      ...     ...\n",
       "11079  real-time messaging issues. Dear Tech Online S...     high  urgent\n",
       "8625   real-time messaging issues. Dear Tech Online S...     high  urgent\n",
       "10383  request for configuration changes. Dear IT Sup...     high  urgent\n",
       "10680  request for configuration changes. Dear IT Sup...     high  urgent\n",
       "8396   request for configuration changes. Dear IT Sup...     high  urgent\n",
       "\n",
       "[4438 rows x 3 columns]"
      ]
     },
     "execution_count": 189,
     "metadata": {},
     "output_type": "execute_result"
    }
   ],
   "source": [
    "# duplicate texts \n",
    "df_oversampled[df_oversampled['processed_text'].duplicated(keep=False)].sort_values('processed_text')"
   ]
  },
  {
   "cell_type": "code",
   "execution_count": 190,
   "metadata": {},
   "outputs": [],
   "source": [
    "import pandas as pd\n",
    "\n",
    "df_hf = pd.read_csv(\"hf://datasets/rtweera/customer_care_emails/dataset.csv\")"
   ]
  },
  {
   "cell_type": "code",
   "execution_count": 191,
   "metadata": {},
   "outputs": [
    {
     "data": {
      "text/html": [
       "<div>\n",
       "<style scoped>\n",
       "    .dataframe tbody tr th:only-of-type {\n",
       "        vertical-align: middle;\n",
       "    }\n",
       "\n",
       "    .dataframe tbody tr th {\n",
       "        vertical-align: top;\n",
       "    }\n",
       "\n",
       "    .dataframe thead th {\n",
       "        text-align: right;\n",
       "    }\n",
       "</style>\n",
       "<table border=\"1\" class=\"dataframe\">\n",
       "  <thead>\n",
       "    <tr style=\"text-align: right;\">\n",
       "      <th></th>\n",
       "      <th>subject</th>\n",
       "      <th>sender</th>\n",
       "      <th>receiver</th>\n",
       "      <th>timestamp</th>\n",
       "      <th>message_body</th>\n",
       "      <th>thread_id</th>\n",
       "      <th>email_types</th>\n",
       "      <th>email_status</th>\n",
       "      <th>email_criticality</th>\n",
       "      <th>product_types</th>\n",
       "      <th>agent_effectivity</th>\n",
       "      <th>agent_efficiency</th>\n",
       "      <th>customer_satisfaction</th>\n",
       "      <th>priority</th>\n",
       "      <th>urgency</th>\n",
       "      <th>processed_text</th>\n",
       "    </tr>\n",
       "  </thead>\n",
       "  <tbody>\n",
       "    <tr>\n",
       "      <th>0</th>\n",
       "      <td>Mercury Language Documentation Issue</td>\n",
       "      <td>john.doe@example.com</td>\n",
       "      <td>support@aetheros.com</td>\n",
       "      <td>2023-10-26 10:02:34+00:00</td>\n",
       "      <td>Hi Aetheros Support,\\n\\nI'm having trouble fin...</td>\n",
       "      <td>aa001-8e561ac9-8523-421f-9d05-e4c2a80a26d7</td>\n",
       "      <td>['inquiry']</td>\n",
       "      <td>ongoing</td>\n",
       "      <td>low</td>\n",
       "      <td>['Mercury Language']</td>\n",
       "      <td>high</td>\n",
       "      <td>very low</td>\n",
       "      <td>0.9043</td>\n",
       "      <td>low</td>\n",
       "      <td>not_urgent</td>\n",
       "      <td>Mercury Language Documentation Issue. Hi Aethe...</td>\n",
       "    </tr>\n",
       "    <tr>\n",
       "      <th>1</th>\n",
       "      <td>Re: Mercury Language Documentation Issue</td>\n",
       "      <td>support@aetheros.com</td>\n",
       "      <td>john.doe@example.com</td>\n",
       "      <td>2023-10-27 14:15:22+00:00</td>\n",
       "      <td>Dear John,\\n\\nThank you for reaching out to Ae...</td>\n",
       "      <td>aa001-8e561ac9-8523-421f-9d05-e4c2a80a26d7</td>\n",
       "      <td>['inquiry']</td>\n",
       "      <td>ongoing</td>\n",
       "      <td>low</td>\n",
       "      <td>['Mercury Language']</td>\n",
       "      <td>high</td>\n",
       "      <td>very low</td>\n",
       "      <td>0.9043</td>\n",
       "      <td>low</td>\n",
       "      <td>not_urgent</td>\n",
       "      <td>Re: Mercury Language Documentation Issue. Dear...</td>\n",
       "    </tr>\n",
       "    <tr>\n",
       "      <th>2</th>\n",
       "      <td>Re: Mercury Language Documentation Issue</td>\n",
       "      <td>john.doe@example.com</td>\n",
       "      <td>support@aetheros.com</td>\n",
       "      <td>2023-10-28 09:38:01+00:00</td>\n",
       "      <td>Hi,\\n\\nI'm using Mercury version 2.3.5.\\n\\nTha...</td>\n",
       "      <td>aa001-8e561ac9-8523-421f-9d05-e4c2a80a26d7</td>\n",
       "      <td>['inquiry']</td>\n",
       "      <td>ongoing</td>\n",
       "      <td>low</td>\n",
       "      <td>['Mercury Language']</td>\n",
       "      <td>high</td>\n",
       "      <td>very low</td>\n",
       "      <td>0.9043</td>\n",
       "      <td>low</td>\n",
       "      <td>not_urgent</td>\n",
       "      <td>Re: Mercury Language Documentation Issue. Hi, ...</td>\n",
       "    </tr>\n",
       "    <tr>\n",
       "      <th>3</th>\n",
       "      <td>Re: Mercury Language Documentation Issue</td>\n",
       "      <td>john.doe@example.com</td>\n",
       "      <td>support@aetheros.com</td>\n",
       "      <td>2023-10-30 15:12:54+00:00</td>\n",
       "      <td>Hi there,\\n\\nJust checking in on this. Have yo...</td>\n",
       "      <td>aa001-8e561ac9-8523-421f-9d05-e4c2a80a26d7</td>\n",
       "      <td>['inquiry']</td>\n",
       "      <td>ongoing</td>\n",
       "      <td>low</td>\n",
       "      <td>['Mercury Language']</td>\n",
       "      <td>high</td>\n",
       "      <td>very low</td>\n",
       "      <td>0.9043</td>\n",
       "      <td>low</td>\n",
       "      <td>not_urgent</td>\n",
       "      <td>Re: Mercury Language Documentation Issue. Hi t...</td>\n",
       "    </tr>\n",
       "    <tr>\n",
       "      <th>4</th>\n",
       "      <td>URGENT: User Permission Errors in Production API</td>\n",
       "      <td>kenneth77@davis-becker.com</td>\n",
       "      <td>support@aetheros.com</td>\n",
       "      <td>2023-10-26 09:12:34+00:00</td>\n",
       "      <td>We are experiencing critical issues with user ...</td>\n",
       "      <td>aa001-550e8400-e29b-41d4-a716-446655440000</td>\n",
       "      <td>['issue']</td>\n",
       "      <td>completed</td>\n",
       "      <td>high</td>\n",
       "      <td>['API Development', 'IAM service']</td>\n",
       "      <td>medium</td>\n",
       "      <td>very low</td>\n",
       "      <td>0.6918</td>\n",
       "      <td>high</td>\n",
       "      <td>urgent</td>\n",
       "      <td>URGENT: User Permission Errors in Production A...</td>\n",
       "    </tr>\n",
       "  </tbody>\n",
       "</table>\n",
       "</div>"
      ],
      "text/plain": [
       "                                            subject  \\\n",
       "0              Mercury Language Documentation Issue   \n",
       "1          Re: Mercury Language Documentation Issue   \n",
       "2          Re: Mercury Language Documentation Issue   \n",
       "3          Re: Mercury Language Documentation Issue   \n",
       "4  URGENT: User Permission Errors in Production API   \n",
       "\n",
       "                       sender              receiver  \\\n",
       "0        john.doe@example.com  support@aetheros.com   \n",
       "1        support@aetheros.com  john.doe@example.com   \n",
       "2        john.doe@example.com  support@aetheros.com   \n",
       "3        john.doe@example.com  support@aetheros.com   \n",
       "4  kenneth77@davis-becker.com  support@aetheros.com   \n",
       "\n",
       "                   timestamp  \\\n",
       "0  2023-10-26 10:02:34+00:00   \n",
       "1  2023-10-27 14:15:22+00:00   \n",
       "2  2023-10-28 09:38:01+00:00   \n",
       "3  2023-10-30 15:12:54+00:00   \n",
       "4  2023-10-26 09:12:34+00:00   \n",
       "\n",
       "                                        message_body  \\\n",
       "0  Hi Aetheros Support,\\n\\nI'm having trouble fin...   \n",
       "1  Dear John,\\n\\nThank you for reaching out to Ae...   \n",
       "2  Hi,\\n\\nI'm using Mercury version 2.3.5.\\n\\nTha...   \n",
       "3  Hi there,\\n\\nJust checking in on this. Have yo...   \n",
       "4  We are experiencing critical issues with user ...   \n",
       "\n",
       "                                    thread_id  email_types email_status  \\\n",
       "0  aa001-8e561ac9-8523-421f-9d05-e4c2a80a26d7  ['inquiry']      ongoing   \n",
       "1  aa001-8e561ac9-8523-421f-9d05-e4c2a80a26d7  ['inquiry']      ongoing   \n",
       "2  aa001-8e561ac9-8523-421f-9d05-e4c2a80a26d7  ['inquiry']      ongoing   \n",
       "3  aa001-8e561ac9-8523-421f-9d05-e4c2a80a26d7  ['inquiry']      ongoing   \n",
       "4  aa001-550e8400-e29b-41d4-a716-446655440000    ['issue']    completed   \n",
       "\n",
       "  email_criticality                       product_types agent_effectivity  \\\n",
       "0               low                ['Mercury Language']              high   \n",
       "1               low                ['Mercury Language']              high   \n",
       "2               low                ['Mercury Language']              high   \n",
       "3               low                ['Mercury Language']              high   \n",
       "4              high  ['API Development', 'IAM service']            medium   \n",
       "\n",
       "  agent_efficiency  customer_satisfaction priority     urgency  \\\n",
       "0         very low                 0.9043      low  not_urgent   \n",
       "1         very low                 0.9043      low  not_urgent   \n",
       "2         very low                 0.9043      low  not_urgent   \n",
       "3         very low                 0.9043      low  not_urgent   \n",
       "4         very low                 0.6918     high      urgent   \n",
       "\n",
       "                                      processed_text  \n",
       "0  Mercury Language Documentation Issue. Hi Aethe...  \n",
       "1  Re: Mercury Language Documentation Issue. Dear...  \n",
       "2  Re: Mercury Language Documentation Issue. Hi, ...  \n",
       "3  Re: Mercury Language Documentation Issue. Hi t...  \n",
       "4  URGENT: User Permission Errors in Production A...  "
      ]
     },
     "execution_count": 191,
     "metadata": {},
     "output_type": "execute_result"
    }
   ],
   "source": [
    "# Add high, medium and low label for 2,1,0 respectively\n",
    "df_hf['priority'] = df_hf['email_criticality']\n",
    "df_hf['urgency'] = df_hf['priority'].apply(lambda x: 'urgent' if x == 'high' else 'not_urgent')\n",
    "df_hf['processed_text'] = df_hf['subject'] + '. ' + df_hf['message_body'].replace('\\n', ' ', regex=True)\n",
    "\n",
    "df_hf.head()"
   ]
  },
  {
   "cell_type": "code",
   "execution_count": 192,
   "metadata": {},
   "outputs": [
    {
     "data": {
      "text/plain": [
       "urgency\n",
       "not_urgent    1325\n",
       "urgent         934\n",
       "Name: count, dtype: int64"
      ]
     },
     "execution_count": 192,
     "metadata": {},
     "output_type": "execute_result"
    }
   ],
   "source": [
    "df_hf = df_hf[['processed_text', 'priority', 'urgency']]\n",
    "df_hf.urgency.value_counts()\n"
   ]
  },
  {
   "cell_type": "code",
   "execution_count": 193,
   "metadata": {},
   "outputs": [],
   "source": [
    "# get last 2700 urgent tickets\n",
    "df_hf_urgent = df_hf[df_hf['urgency'] == 'urgent'].tail(2700)"
   ]
  },
  {
   "cell_type": "code",
   "execution_count": 194,
   "metadata": {},
   "outputs": [
    {
     "data": {
      "text/html": [
       "<div>\n",
       "<style scoped>\n",
       "    .dataframe tbody tr th:only-of-type {\n",
       "        vertical-align: middle;\n",
       "    }\n",
       "\n",
       "    .dataframe tbody tr th {\n",
       "        vertical-align: top;\n",
       "    }\n",
       "\n",
       "    .dataframe thead th {\n",
       "        text-align: right;\n",
       "    }\n",
       "</style>\n",
       "<table border=\"1\" class=\"dataframe\">\n",
       "  <thead>\n",
       "    <tr style=\"text-align: right;\">\n",
       "      <th></th>\n",
       "      <th>processed_text</th>\n",
       "      <th>priority</th>\n",
       "      <th>urgency</th>\n",
       "    </tr>\n",
       "  </thead>\n",
       "  <tbody>\n",
       "    <tr>\n",
       "      <th>4</th>\n",
       "      <td>URGENT: User Permission Errors in Production A...</td>\n",
       "      <td>high</td>\n",
       "      <td>urgent</td>\n",
       "    </tr>\n",
       "    <tr>\n",
       "      <th>5</th>\n",
       "      <td>Re: URGENT: User Permission Errors in Producti...</td>\n",
       "      <td>high</td>\n",
       "      <td>urgent</td>\n",
       "    </tr>\n",
       "    <tr>\n",
       "      <th>6</th>\n",
       "      <td>Re: URGENT: User Permission Errors in Producti...</td>\n",
       "      <td>high</td>\n",
       "      <td>urgent</td>\n",
       "    </tr>\n",
       "    <tr>\n",
       "      <th>7</th>\n",
       "      <td>Re: URGENT: User Permission Errors in Producti...</td>\n",
       "      <td>high</td>\n",
       "      <td>urgent</td>\n",
       "    </tr>\n",
       "    <tr>\n",
       "      <th>8</th>\n",
       "      <td>Re: URGENT: User Permission Errors in Producti...</td>\n",
       "      <td>high</td>\n",
       "      <td>urgent</td>\n",
       "    </tr>\n",
       "  </tbody>\n",
       "</table>\n",
       "</div>"
      ],
      "text/plain": [
       "                                      processed_text priority urgency\n",
       "4  URGENT: User Permission Errors in Production A...     high  urgent\n",
       "5  Re: URGENT: User Permission Errors in Producti...     high  urgent\n",
       "6  Re: URGENT: User Permission Errors in Producti...     high  urgent\n",
       "7  Re: URGENT: User Permission Errors in Producti...     high  urgent\n",
       "8  Re: URGENT: User Permission Errors in Producti...     high  urgent"
      ]
     },
     "execution_count": 194,
     "metadata": {},
     "output_type": "execute_result"
    }
   ],
   "source": [
    "df_hf_urgent.shape\n",
    "df_hf_urgent.head()"
   ]
  },
  {
   "cell_type": "code",
   "execution_count": 195,
   "metadata": {},
   "outputs": [
    {
     "data": {
      "text/plain": [
       "urgency\n",
       "not_urgent    5669\n",
       "urgent        3906\n",
       "Name: count, dtype: int64"
      ]
     },
     "execution_count": 195,
     "metadata": {},
     "output_type": "execute_result"
    }
   ],
   "source": [
    "# combine the two datasets\n",
    "df_combined = pd.concat([df, df_hf_urgent], axis=0)\n",
    "df_combined.urgency.value_counts()"
   ]
  },
  {
   "cell_type": "code",
   "execution_count": 196,
   "metadata": {},
   "outputs": [
    {
     "data": {
      "text/plain": [
       "np.int64(0)"
      ]
     },
     "execution_count": 196,
     "metadata": {},
     "output_type": "execute_result"
    }
   ],
   "source": [
    "df_combined.duplicated(subset=['processed_text']).sum()"
   ]
  },
  {
   "cell_type": "code",
   "execution_count": 197,
   "metadata": {},
   "outputs": [
    {
     "data": {
      "text/html": [
       "<div>\n",
       "<style scoped>\n",
       "    .dataframe tbody tr th:only-of-type {\n",
       "        vertical-align: middle;\n",
       "    }\n",
       "\n",
       "    .dataframe tbody tr th {\n",
       "        vertical-align: top;\n",
       "    }\n",
       "\n",
       "    .dataframe thead th {\n",
       "        text-align: right;\n",
       "    }\n",
       "</style>\n",
       "<table border=\"1\" class=\"dataframe\">\n",
       "  <thead>\n",
       "    <tr style=\"text-align: right;\">\n",
       "      <th></th>\n",
       "      <th>Subject</th>\n",
       "      <th>Body</th>\n",
       "      <th>Priority</th>\n",
       "    </tr>\n",
       "  </thead>\n",
       "  <tbody>\n",
       "    <tr>\n",
       "      <th>0</th>\n",
       "      <td>Important: At Risk</td>\n",
       "      <td>This is a at risk matter. Please handle urgent...</td>\n",
       "      <td>High</td>\n",
       "    </tr>\n",
       "    <tr>\n",
       "      <th>1</th>\n",
       "      <td>Alert: Top Priority</td>\n",
       "      <td>This is a escalated matter. Please resolve imm...</td>\n",
       "      <td>High</td>\n",
       "    </tr>\n",
       "    <tr>\n",
       "      <th>2</th>\n",
       "      <td>Important: Blocking Issue</td>\n",
       "      <td>This is a showstopper matter. Please act now. ...</td>\n",
       "      <td>High</td>\n",
       "    </tr>\n",
       "    <tr>\n",
       "      <th>3</th>\n",
       "      <td>Alert: Requires Action</td>\n",
       "      <td>This is a critical path matter. Please do not ...</td>\n",
       "      <td>High</td>\n",
       "    </tr>\n",
       "    <tr>\n",
       "      <th>4</th>\n",
       "      <td>Critical: Breakpoint</td>\n",
       "      <td>This is a high priority matter. Please act now...</td>\n",
       "      <td>High</td>\n",
       "    </tr>\n",
       "  </tbody>\n",
       "</table>\n",
       "</div>"
      ],
      "text/plain": [
       "                     Subject  \\\n",
       "0         Important: At Risk   \n",
       "1        Alert: Top Priority   \n",
       "2  Important: Blocking Issue   \n",
       "3     Alert: Requires Action   \n",
       "4       Critical: Breakpoint   \n",
       "\n",
       "                                                Body Priority  \n",
       "0  This is a at risk matter. Please handle urgent...     High  \n",
       "1  This is a escalated matter. Please resolve imm...     High  \n",
       "2  This is a showstopper matter. Please act now. ...     High  \n",
       "3  This is a critical path matter. Please do not ...     High  \n",
       "4  This is a high priority matter. Please act now...     High  "
      ]
     },
     "execution_count": 197,
     "metadata": {},
     "output_type": "execute_result"
    }
   ],
   "source": [
    "df_chatgpt = pd.read_csv(\"../csv/urgent_messages_chatgpt.csv\")\n",
    "df_chatgpt.head()"
   ]
  },
  {
   "cell_type": "code",
   "execution_count": 198,
   "metadata": {},
   "outputs": [
    {
     "data": {
      "text/plain": [
       "urgency\n",
       "urgent    1500\n",
       "Name: count, dtype: int64"
      ]
     },
     "execution_count": 198,
     "metadata": {},
     "output_type": "execute_result"
    }
   ],
   "source": [
    "df_chatgpt['urgency'] = df_chatgpt.Priority.apply(lambda x: 'urgent' if x == 'High' else 'not_urgent')\n",
    "df_chatgpt['processed_text'] = df_chatgpt['Subject'] + '. ' + df_chatgpt['Body'].replace('\\n', ' ', regex=True)\n",
    "df_chatgpt['Priority'] = df_chatgpt['Priority'].str.lower()\n",
    "\n",
    "df_chatgpt = df_chatgpt[['processed_text', 'Priority', 'urgency']]\n",
    "# rename Priority to priority\n",
    "df_chatgpt.rename(columns={'Priority': 'priority'}, inplace=True)\n",
    "df_chatgpt.urgency.value_counts()"
   ]
  },
  {
   "cell_type": "code",
   "execution_count": 199,
   "metadata": {},
   "outputs": [],
   "source": [
    "df_chatgpt.duplicated(subset=['processed_text']).sum()\n",
    "df_chatgpt.drop_duplicates(subset=['processed_text'], inplace=True)"
   ]
  },
  {
   "cell_type": "code",
   "execution_count": 200,
   "metadata": {},
   "outputs": [
    {
     "data": {
      "text/html": [
       "<div>\n",
       "<style scoped>\n",
       "    .dataframe tbody tr th:only-of-type {\n",
       "        vertical-align: middle;\n",
       "    }\n",
       "\n",
       "    .dataframe tbody tr th {\n",
       "        vertical-align: top;\n",
       "    }\n",
       "\n",
       "    .dataframe thead th {\n",
       "        text-align: right;\n",
       "    }\n",
       "</style>\n",
       "<table border=\"1\" class=\"dataframe\">\n",
       "  <thead>\n",
       "    <tr style=\"text-align: right;\">\n",
       "      <th></th>\n",
       "      <th>processed_text</th>\n",
       "      <th>priority</th>\n",
       "      <th>urgency</th>\n",
       "    </tr>\n",
       "  </thead>\n",
       "  <tbody>\n",
       "    <tr>\n",
       "      <th>673</th>\n",
       "      <td>Alert: Crisis. This is a act now matter. Pleas...</td>\n",
       "      <td>high</td>\n",
       "      <td>urgent</td>\n",
       "    </tr>\n",
       "    <tr>\n",
       "      <th>1037</th>\n",
       "      <td>Attention: Operational Freeze. This is a do no...</td>\n",
       "      <td>high</td>\n",
       "      <td>urgent</td>\n",
       "    </tr>\n",
       "    <tr>\n",
       "      <th>1458</th>\n",
       "      <td>Important: Emergency. This is a on fire matter...</td>\n",
       "      <td>high</td>\n",
       "      <td>urgent</td>\n",
       "    </tr>\n",
       "  </tbody>\n",
       "</table>\n",
       "</div>"
      ],
      "text/plain": [
       "                                         processed_text priority urgency\n",
       "673   Alert: Crisis. This is a act now matter. Pleas...     high  urgent\n",
       "1037  Attention: Operational Freeze. This is a do no...     high  urgent\n",
       "1458  Important: Emergency. This is a on fire matter...     high  urgent"
      ]
     },
     "execution_count": 200,
     "metadata": {},
     "output_type": "execute_result"
    }
   ],
   "source": [
    "df_chatgpt.sample(3)"
   ]
  },
  {
   "cell_type": "code",
   "execution_count": 201,
   "metadata": {},
   "outputs": [
    {
     "data": {
      "text/plain": [
       "urgency\n",
       "not_urgent    5669\n",
       "urgent        5399\n",
       "Name: count, dtype: int64"
      ]
     },
     "execution_count": 201,
     "metadata": {},
     "output_type": "execute_result"
    }
   ],
   "source": [
    "df_combined = pd.concat([df_combined, df_chatgpt], axis=0)\n",
    "df_combined.urgency.value_counts()"
   ]
  },
  {
   "cell_type": "code",
   "execution_count": 202,
   "metadata": {},
   "outputs": [
    {
     "data": {
      "text/plain": [
       "np.int64(0)"
      ]
     },
     "execution_count": 202,
     "metadata": {},
     "output_type": "execute_result"
    }
   ],
   "source": [
    "df_combined.duplicated(subset=['processed_text']).sum()\n"
   ]
  },
  {
   "cell_type": "code",
   "execution_count": 203,
   "metadata": {},
   "outputs": [
    {
     "data": {
      "text/html": [
       "<div>\n",
       "<style scoped>\n",
       "    .dataframe tbody tr th:only-of-type {\n",
       "        vertical-align: middle;\n",
       "    }\n",
       "\n",
       "    .dataframe tbody tr th {\n",
       "        vertical-align: top;\n",
       "    }\n",
       "\n",
       "    .dataframe thead th {\n",
       "        text-align: right;\n",
       "    }\n",
       "</style>\n",
       "<table border=\"1\" class=\"dataframe\">\n",
       "  <thead>\n",
       "    <tr style=\"text-align: right;\">\n",
       "      <th></th>\n",
       "      <th>label</th>\n",
       "      <th>processed_text</th>\n",
       "      <th>priority</th>\n",
       "      <th>urgency</th>\n",
       "      <th>type</th>\n",
       "      <th>queue</th>\n",
       "    </tr>\n",
       "  </thead>\n",
       "  <tbody>\n",
       "    <tr>\n",
       "      <th>5594</th>\n",
       "      <td>0.0</td>\n",
       "      <td>Data privacy settings revert to default after ...</td>\n",
       "      <td>low</td>\n",
       "      <td>not_urgent</td>\n",
       "      <td>NaN</td>\n",
       "      <td>NaN</td>\n",
       "    </tr>\n",
       "    <tr>\n",
       "      <th>6570</th>\n",
       "      <td>0.0</td>\n",
       "      <td>Build optimizations for non-essential componen...</td>\n",
       "      <td>low</td>\n",
       "      <td>not_urgent</td>\n",
       "      <td>NaN</td>\n",
       "      <td>NaN</td>\n",
       "    </tr>\n",
       "    <tr>\n",
       "      <th>7422</th>\n",
       "      <td>NaN</td>\n",
       "      <td>Urgent: AWS Downtime Issue. Dear IT Services C...</td>\n",
       "      <td>high</td>\n",
       "      <td>urgent</td>\n",
       "      <td>Incident</td>\n",
       "      <td>Technical Support</td>\n",
       "    </tr>\n",
       "  </tbody>\n",
       "</table>\n",
       "</div>"
      ],
      "text/plain": [
       "      label                                     processed_text priority  \\\n",
       "5594    0.0  Data privacy settings revert to default after ...      low   \n",
       "6570    0.0  Build optimizations for non-essential componen...      low   \n",
       "7422    NaN  Urgent: AWS Downtime Issue. Dear IT Services C...     high   \n",
       "\n",
       "         urgency      type              queue  \n",
       "5594  not_urgent       NaN                NaN  \n",
       "6570  not_urgent       NaN                NaN  \n",
       "7422      urgent  Incident  Technical Support  "
      ]
     },
     "execution_count": 203,
     "metadata": {},
     "output_type": "execute_result"
    }
   ],
   "source": [
    "df_combined.sample(3)"
   ]
  },
  {
   "cell_type": "markdown",
   "metadata": {},
   "source": [
    "### Add one more dataset generated by ChatGPT"
   ]
  },
  {
   "cell_type": "code",
   "execution_count": 204,
   "metadata": {},
   "outputs": [
    {
     "data": {
      "text/html": [
       "<div>\n",
       "<style scoped>\n",
       "    .dataframe tbody tr th:only-of-type {\n",
       "        vertical-align: middle;\n",
       "    }\n",
       "\n",
       "    .dataframe tbody tr th {\n",
       "        vertical-align: top;\n",
       "    }\n",
       "\n",
       "    .dataframe thead th {\n",
       "        text-align: right;\n",
       "    }\n",
       "</style>\n",
       "<table border=\"1\" class=\"dataframe\">\n",
       "  <thead>\n",
       "    <tr style=\"text-align: right;\">\n",
       "      <th></th>\n",
       "      <th>text</th>\n",
       "      <th>level</th>\n",
       "    </tr>\n",
       "  </thead>\n",
       "  <tbody>\n",
       "    <tr>\n",
       "      <th>0</th>\n",
       "      <td>Update your shift timing. Final Approval Neede...</td>\n",
       "      <td>1</td>\n",
       "    </tr>\n",
       "    <tr>\n",
       "      <th>1</th>\n",
       "      <td>Time-Critical. No Later Than. Please handle th...</td>\n",
       "      <td>1</td>\n",
       "    </tr>\n",
       "    <tr>\n",
       "      <th>2</th>\n",
       "      <td>Red Flag. ASAP (As Soon As Possible). Please h...</td>\n",
       "      <td>1</td>\n",
       "    </tr>\n",
       "    <tr>\n",
       "      <th>3</th>\n",
       "      <td>Do Not Delay. Today, Not Tomorrow. Please hand...</td>\n",
       "      <td>1</td>\n",
       "    </tr>\n",
       "    <tr>\n",
       "      <th>4</th>\n",
       "      <td>Address This Quickly. Immediate Action Require...</td>\n",
       "      <td>1</td>\n",
       "    </tr>\n",
       "  </tbody>\n",
       "</table>\n",
       "</div>"
      ],
      "text/plain": [
       "                                                text  level\n",
       "0  Update your shift timing. Final Approval Neede...      1\n",
       "1  Time-Critical. No Later Than. Please handle th...      1\n",
       "2  Red Flag. ASAP (As Soon As Possible). Please h...      1\n",
       "3  Do Not Delay. Today, Not Tomorrow. Please hand...      1\n",
       "4  Address This Quickly. Immediate Action Require...      1"
      ]
     },
     "execution_count": 204,
     "metadata": {},
     "output_type": "execute_result"
    }
   ],
   "source": [
    "df_chatgpt_2 = pd.read_csv(\"../csv/urgent_messages_chatgpt_2.csv\")\n",
    "df_chatgpt_2.head()"
   ]
  },
  {
   "cell_type": "code",
   "execution_count": 205,
   "metadata": {},
   "outputs": [
    {
     "data": {
      "text/html": [
       "<div>\n",
       "<style scoped>\n",
       "    .dataframe tbody tr th:only-of-type {\n",
       "        vertical-align: middle;\n",
       "    }\n",
       "\n",
       "    .dataframe tbody tr th {\n",
       "        vertical-align: top;\n",
       "    }\n",
       "\n",
       "    .dataframe thead th {\n",
       "        text-align: right;\n",
       "    }\n",
       "</style>\n",
       "<table border=\"1\" class=\"dataframe\">\n",
       "  <thead>\n",
       "    <tr style=\"text-align: right;\">\n",
       "      <th></th>\n",
       "      <th>processed_text</th>\n",
       "      <th>priority</th>\n",
       "      <th>urgency</th>\n",
       "    </tr>\n",
       "  </thead>\n",
       "  <tbody>\n",
       "    <tr>\n",
       "      <th>0</th>\n",
       "      <td>Update your shift timing. Final Approval Neede...</td>\n",
       "      <td>high</td>\n",
       "      <td>urgent</td>\n",
       "    </tr>\n",
       "    <tr>\n",
       "      <th>1</th>\n",
       "      <td>Time-Critical. No Later Than. Please handle th...</td>\n",
       "      <td>high</td>\n",
       "      <td>urgent</td>\n",
       "    </tr>\n",
       "    <tr>\n",
       "      <th>2</th>\n",
       "      <td>Red Flag. ASAP (As Soon As Possible). Please h...</td>\n",
       "      <td>high</td>\n",
       "      <td>urgent</td>\n",
       "    </tr>\n",
       "    <tr>\n",
       "      <th>3</th>\n",
       "      <td>Do Not Delay. Today, Not Tomorrow. Please hand...</td>\n",
       "      <td>high</td>\n",
       "      <td>urgent</td>\n",
       "    </tr>\n",
       "    <tr>\n",
       "      <th>4</th>\n",
       "      <td>Address This Quickly. Immediate Action Require...</td>\n",
       "      <td>high</td>\n",
       "      <td>urgent</td>\n",
       "    </tr>\n",
       "  </tbody>\n",
       "</table>\n",
       "</div>"
      ],
      "text/plain": [
       "                                      processed_text priority urgency\n",
       "0  Update your shift timing. Final Approval Neede...     high  urgent\n",
       "1  Time-Critical. No Later Than. Please handle th...     high  urgent\n",
       "2  Red Flag. ASAP (As Soon As Possible). Please h...     high  urgent\n",
       "3  Do Not Delay. Today, Not Tomorrow. Please hand...     high  urgent\n",
       "4  Address This Quickly. Immediate Action Require...     high  urgent"
      ]
     },
     "execution_count": 205,
     "metadata": {},
     "output_type": "execute_result"
    }
   ],
   "source": [
    "df_chatgpt_2.rename(columns={'text': 'processed_text'}, inplace=True)\n",
    "df_chatgpt_2['urgency'] = df_chatgpt_2.level.apply(lambda x: 'urgent' if x == 1 else 0)\n",
    "df_chatgpt_2['priority'] = df_chatgpt_2.level.apply(lambda x: 'high' if x == 1 else 'low')\n",
    "\n",
    "df_chatgpt_2 = df_chatgpt_2[['processed_text', 'priority', 'urgency']]\n",
    "df_chatgpt_2.head()"
   ]
  },
  {
   "cell_type": "code",
   "execution_count": 206,
   "metadata": {},
   "outputs": [
    {
     "data": {
      "text/plain": [
       "np.int64(164)"
      ]
     },
     "execution_count": 206,
     "metadata": {},
     "output_type": "execute_result"
    }
   ],
   "source": [
    "df_chatgpt_2.duplicated(subset=['processed_text']).sum()"
   ]
  },
  {
   "cell_type": "code",
   "execution_count": 207,
   "metadata": {},
   "outputs": [
    {
     "data": {
      "text/plain": [
       "np.int64(0)"
      ]
     },
     "execution_count": 207,
     "metadata": {},
     "output_type": "execute_result"
    }
   ],
   "source": [
    "df_chatgpt_2.drop_duplicates(subset=['processed_text'], inplace=True)\n",
    "df_chatgpt_2.duplicated(subset=['processed_text']).sum()"
   ]
  },
  {
   "cell_type": "code",
   "execution_count": 208,
   "metadata": {},
   "outputs": [
    {
     "data": {
      "text/plain": [
       "urgency\n",
       "urgent        6235\n",
       "not_urgent    5669\n",
       "Name: count, dtype: int64"
      ]
     },
     "execution_count": 208,
     "metadata": {},
     "output_type": "execute_result"
    }
   ],
   "source": [
    "df_combined = pd.concat([df_combined, df_chatgpt_2], axis=0)\n",
    "df_combined.urgency.value_counts()"
   ]
  },
  {
   "cell_type": "code",
   "execution_count": 209,
   "metadata": {},
   "outputs": [
    {
     "data": {
      "text/html": [
       "<div>\n",
       "<style scoped>\n",
       "    .dataframe tbody tr th:only-of-type {\n",
       "        vertical-align: middle;\n",
       "    }\n",
       "\n",
       "    .dataframe tbody tr th {\n",
       "        vertical-align: top;\n",
       "    }\n",
       "\n",
       "    .dataframe thead th {\n",
       "        text-align: right;\n",
       "    }\n",
       "</style>\n",
       "<table border=\"1\" class=\"dataframe\">\n",
       "  <thead>\n",
       "    <tr style=\"text-align: right;\">\n",
       "      <th></th>\n",
       "      <th>label</th>\n",
       "      <th>processed_text</th>\n",
       "      <th>priority</th>\n",
       "      <th>urgency</th>\n",
       "      <th>type</th>\n",
       "      <th>queue</th>\n",
       "    </tr>\n",
       "  </thead>\n",
       "  <tbody>\n",
       "    <tr>\n",
       "      <th>1143</th>\n",
       "      <td>NaN</td>\n",
       "      <td>Critical: On Fire. This is a time-sensitive ma...</td>\n",
       "      <td>high</td>\n",
       "      <td>urgent</td>\n",
       "      <td>NaN</td>\n",
       "      <td>NaN</td>\n",
       "    </tr>\n",
       "    <tr>\n",
       "      <th>343</th>\n",
       "      <td>NaN</td>\n",
       "      <td>Attention: Fix Now. This is a breakpoint matte...</td>\n",
       "      <td>high</td>\n",
       "      <td>urgent</td>\n",
       "      <td>NaN</td>\n",
       "      <td>NaN</td>\n",
       "    </tr>\n",
       "    <tr>\n",
       "      <th>2111</th>\n",
       "      <td>NaN</td>\n",
       "      <td>Re: Urgent: Access Denied to Critical APIs - I...</td>\n",
       "      <td>high</td>\n",
       "      <td>urgent</td>\n",
       "      <td>NaN</td>\n",
       "      <td>NaN</td>\n",
       "    </tr>\n",
       "  </tbody>\n",
       "</table>\n",
       "</div>"
      ],
      "text/plain": [
       "      label                                     processed_text priority  \\\n",
       "1143    NaN  Critical: On Fire. This is a time-sensitive ma...     high   \n",
       "343     NaN  Attention: Fix Now. This is a breakpoint matte...     high   \n",
       "2111    NaN  Re: Urgent: Access Denied to Critical APIs - I...     high   \n",
       "\n",
       "     urgency type queue  \n",
       "1143  urgent  NaN   NaN  \n",
       "343   urgent  NaN   NaN  \n",
       "2111  urgent  NaN   NaN  "
      ]
     },
     "execution_count": 209,
     "metadata": {},
     "output_type": "execute_result"
    }
   ],
   "source": [
    "df_combined.sample(3)"
   ]
  },
  {
   "cell_type": "code",
   "execution_count": 210,
   "metadata": {},
   "outputs": [
    {
     "data": {
      "text/html": [
       "<div>\n",
       "<style scoped>\n",
       "    .dataframe tbody tr th:only-of-type {\n",
       "        vertical-align: middle;\n",
       "    }\n",
       "\n",
       "    .dataframe tbody tr th {\n",
       "        vertical-align: top;\n",
       "    }\n",
       "\n",
       "    .dataframe thead th {\n",
       "        text-align: right;\n",
       "    }\n",
       "</style>\n",
       "<table border=\"1\" class=\"dataframe\">\n",
       "  <thead>\n",
       "    <tr style=\"text-align: right;\">\n",
       "      <th></th>\n",
       "      <th>label</th>\n",
       "      <th>text</th>\n",
       "      <th>priority</th>\n",
       "      <th>urgency</th>\n",
       "      <th>type</th>\n",
       "      <th>queue</th>\n",
       "    </tr>\n",
       "  </thead>\n",
       "  <tbody>\n",
       "    <tr>\n",
       "      <th>461</th>\n",
       "      <td>0</td>\n",
       "      <td>This can wait until a more opportune time.</td>\n",
       "      <td>low</td>\n",
       "      <td>not_urgent</td>\n",
       "      <td>NaN</td>\n",
       "      <td>NaN</td>\n",
       "    </tr>\n",
       "    <tr>\n",
       "      <th>5375</th>\n",
       "      <td>0</td>\n",
       "      <td>Calendar Widget Closes Unexpectedly When Selec...</td>\n",
       "      <td>medium</td>\n",
       "      <td>not_urgent</td>\n",
       "      <td>NaN</td>\n",
       "      <td>NaN</td>\n",
       "    </tr>\n",
       "    <tr>\n",
       "      <th>565</th>\n",
       "      <td>1</td>\n",
       "      <td>Critical: Extreme. This is a emergency matter....</td>\n",
       "      <td>high</td>\n",
       "      <td>urgent</td>\n",
       "      <td>NaN</td>\n",
       "      <td>NaN</td>\n",
       "    </tr>\n",
       "  </tbody>\n",
       "</table>\n",
       "</div>"
      ],
      "text/plain": [
       "      label                                               text priority  \\\n",
       "461       0         This can wait until a more opportune time.      low   \n",
       "5375      0  Calendar Widget Closes Unexpectedly When Selec...   medium   \n",
       "565       1  Critical: Extreme. This is a emergency matter....     high   \n",
       "\n",
       "         urgency type queue  \n",
       "461   not_urgent  NaN   NaN  \n",
       "5375  not_urgent  NaN   NaN  \n",
       "565       urgent  NaN   NaN  "
      ]
     },
     "execution_count": 210,
     "metadata": {},
     "output_type": "execute_result"
    }
   ],
   "source": [
    "# replace processed_text with the text, add label\n",
    "df_combined.rename(columns={'processed_text': 'text'}, inplace=True)\n",
    "df_combined['label'] = df_combined['urgency'].apply(lambda x: 1 if x == 'urgent' else 0)\n",
    "\n",
    "df_combined.sample(3)"
   ]
  },
  {
   "cell_type": "code",
   "execution_count": 211,
   "metadata": {},
   "outputs": [
    {
     "data": {
      "text/plain": [
       "label           0\n",
       "text            0\n",
       "priority        0\n",
       "urgency         0\n",
       "type        10348\n",
       "queue       10348\n",
       "dtype: int64"
      ]
     },
     "execution_count": 211,
     "metadata": {},
     "output_type": "execute_result"
    }
   ],
   "source": [
    "df_combined.isna().sum()"
   ]
  },
  {
   "cell_type": "code",
   "execution_count": 212,
   "metadata": {},
   "outputs": [],
   "source": [
    "df_combined.to_csv('../csv/final_data.csv', index=False)"
   ]
  }
 ],
 "metadata": {
  "kernelspec": {
   "display_name": "Python 3",
   "language": "python",
   "name": "python3"
  },
  "language_info": {
   "codemirror_mode": {
    "name": "ipython",
    "version": 3
   },
   "file_extension": ".py",
   "mimetype": "text/x-python",
   "name": "python",
   "nbconvert_exporter": "python",
   "pygments_lexer": "ipython3",
   "version": "3.11.6"
  }
 },
 "nbformat": 4,
 "nbformat_minor": 2
}
