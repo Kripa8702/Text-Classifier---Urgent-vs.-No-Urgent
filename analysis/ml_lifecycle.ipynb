{
 "cells": [
  {
   "cell_type": "markdown",
   "metadata": {},
   "source": [
    "# **ML Lifecycle**\n",
    "### This notebook combines the analysis, cleaning, preprocessing, visualization, pipeline generation and model training process into functions that can be used for different datasets"
   ]
  },
  {
   "cell_type": "markdown",
   "metadata": {},
   "source": [
    "#### Dataset features must include - \"text\", \"label\""
   ]
  },
  {
   "cell_type": "code",
   "execution_count": 477,
   "metadata": {},
   "outputs": [],
   "source": [
    "import pandas as pd\n",
    "import numpy as np\n",
    "import matplotlib.pyplot as plt\n",
    "import seaborn as sns\n",
    "from sklearn.feature_extraction.text import TfidfVectorizer\n",
    "from sklearn.model_selection import train_test_split\n",
    "\n",
    "from sklearn.pipeline import Pipeline\n",
    "from sklearn.compose import ColumnTransformer\n",
    "from sklearn.linear_model import LogisticRegression\n",
    "from sklearn.svm import SVC\n",
    "from sklearn.ensemble import StackingClassifier\n",
    "from sklearn.metrics import classification_report\n",
    "\n",
    "from sklearn.model_selection import cross_val_score, StratifiedKFold\n",
    "\n"
   ]
  },
  {
   "cell_type": "code",
   "execution_count": 53,
   "metadata": {},
   "outputs": [
    {
     "data": {
      "text/html": [
       "<div>\n",
       "<style scoped>\n",
       "    .dataframe tbody tr th:only-of-type {\n",
       "        vertical-align: middle;\n",
       "    }\n",
       "\n",
       "    .dataframe tbody tr th {\n",
       "        vertical-align: top;\n",
       "    }\n",
       "\n",
       "    .dataframe thead th {\n",
       "        text-align: right;\n",
       "    }\n",
       "</style>\n",
       "<table border=\"1\" class=\"dataframe\">\n",
       "  <thead>\n",
       "    <tr style=\"text-align: right;\">\n",
       "      <th></th>\n",
       "      <th>label</th>\n",
       "      <th>text</th>\n",
       "      <th>priority</th>\n",
       "      <th>urgency</th>\n",
       "      <th>type</th>\n",
       "      <th>queue</th>\n",
       "    </tr>\n",
       "  </thead>\n",
       "  <tbody>\n",
       "    <tr>\n",
       "      <th>1700</th>\n",
       "      <td>0</td>\n",
       "      <td>Form labels missing association with inputs fo...</td>\n",
       "      <td>low</td>\n",
       "      <td>not_urgent</td>\n",
       "      <td>NaN</td>\n",
       "      <td>NaN</td>\n",
       "    </tr>\n",
       "    <tr>\n",
       "      <th>3146</th>\n",
       "      <td>0</td>\n",
       "      <td>NPD idea approval process lacks necessary deta...</td>\n",
       "      <td>low</td>\n",
       "      <td>not_urgent</td>\n",
       "      <td>NaN</td>\n",
       "      <td>NaN</td>\n",
       "    </tr>\n",
       "    <tr>\n",
       "      <th>7775</th>\n",
       "      <td>0</td>\n",
       "      <td>Urgent: Cisco Router ISR4331 Network Connectio...</td>\n",
       "      <td>medium</td>\n",
       "      <td>not_urgent</td>\n",
       "      <td>Problem</td>\n",
       "      <td>Technical Support</td>\n",
       "    </tr>\n",
       "  </tbody>\n",
       "</table>\n",
       "</div>"
      ],
      "text/plain": [
       "      label                                               text priority  \\\n",
       "1700      0  Form labels missing association with inputs fo...      low   \n",
       "3146      0  NPD idea approval process lacks necessary deta...      low   \n",
       "7775      0  Urgent: Cisco Router ISR4331 Network Connectio...   medium   \n",
       "\n",
       "         urgency     type              queue  \n",
       "1700  not_urgent      NaN                NaN  \n",
       "3146  not_urgent      NaN                NaN  \n",
       "7775  not_urgent  Problem  Technical Support  "
      ]
     },
     "execution_count": 53,
     "metadata": {},
     "output_type": "execute_result"
    }
   ],
   "source": [
    "df = pd.read_csv('../csv/oversampled_data.csv')\n",
    "df.sample(3)"
   ]
  },
  {
   "cell_type": "markdown",
   "metadata": {},
   "source": [
    "## Analysis"
   ]
  },
  {
   "cell_type": "code",
   "execution_count": 54,
   "metadata": {},
   "outputs": [
    {
     "name": "stdout",
     "output_type": "stream",
     "text": [
      "Shape : (11904, 6)\n",
      "\n",
      "Columns : Index(['label', 'text', 'priority', 'urgency', 'type', 'queue'], dtype='object')\n",
      "\n",
      "Sample: \n",
      "       label                                               text priority  \\\n",
      "10022      1  Alert: Top Priority. This is a kpi at risk mat...     high   \n",
      "11628      1  Clock in immediately. High-Impact. Please hand...     high   \n",
      "11496      1  Address This Quickly. High Stakes. Please hand...     high   \n",
      "\n",
      "      urgency type queue  \n",
      "10022  urgent  NaN   NaN  \n",
      "11628  urgent  NaN   NaN  \n",
      "11496  urgent  NaN   NaN  \n",
      "\n",
      "Null values: \n",
      "label           0\n",
      "text            0\n",
      "priority        0\n",
      "urgency         0\n",
      "type        10348\n",
      "queue       10348\n",
      "dtype: int64\n",
      "\n"
     ]
    }
   ],
   "source": [
    "def analysis(df):\n",
    "    print(f'Shape : {df.shape}\\n')\n",
    "    print(f'Columns : {df.columns}\\n')\n",
    "    print(f\"Sample: \\n{df.sample(3)}\\n\")\n",
    "    print(f\"Null values: \\n{df.isnull().sum()}\\n\")\n",
    "\n",
    "analysis(df)"
   ]
  },
  {
   "cell_type": "markdown",
   "metadata": {},
   "source": [
    "## Cleaning"
   ]
  },
  {
   "cell_type": "code",
   "execution_count": 55,
   "metadata": {},
   "outputs": [
    {
     "data": {
      "text/html": [
       "<div>\n",
       "<style scoped>\n",
       "    .dataframe tbody tr th:only-of-type {\n",
       "        vertical-align: middle;\n",
       "    }\n",
       "\n",
       "    .dataframe tbody tr th {\n",
       "        vertical-align: top;\n",
       "    }\n",
       "\n",
       "    .dataframe thead th {\n",
       "        text-align: right;\n",
       "    }\n",
       "</style>\n",
       "<table border=\"1\" class=\"dataframe\">\n",
       "  <thead>\n",
       "    <tr style=\"text-align: right;\">\n",
       "      <th></th>\n",
       "      <th>text</th>\n",
       "      <th>priority</th>\n",
       "      <th>urgency</th>\n",
       "      <th>label</th>\n",
       "    </tr>\n",
       "  </thead>\n",
       "  <tbody>\n",
       "    <tr>\n",
       "      <th>315</th>\n",
       "      <td>There is an urgent need to correct the payment...</td>\n",
       "      <td>high</td>\n",
       "      <td>urgent</td>\n",
       "      <td>1</td>\n",
       "    </tr>\n",
       "    <tr>\n",
       "      <th>7721</th>\n",
       "      <td>Canon PIXMA MG3620 Exchange Request. Dear Tech...</td>\n",
       "      <td>low</td>\n",
       "      <td>not_urgent</td>\n",
       "      <td>0</td>\n",
       "    </tr>\n",
       "    <tr>\n",
       "      <th>10545</th>\n",
       "      <td>Attention: Bottleneck. This is a red alert mat...</td>\n",
       "      <td>high</td>\n",
       "      <td>urgent</td>\n",
       "      <td>1</td>\n",
       "    </tr>\n",
       "  </tbody>\n",
       "</table>\n",
       "</div>"
      ],
      "text/plain": [
       "                                                    text priority     urgency  \\\n",
       "315    There is an urgent need to correct the payment...     high      urgent   \n",
       "7721   Canon PIXMA MG3620 Exchange Request. Dear Tech...      low  not_urgent   \n",
       "10545  Attention: Bottleneck. This is a red alert mat...     high      urgent   \n",
       "\n",
       "       label  \n",
       "315        1  \n",
       "7721       0  \n",
       "10545      1  "
      ]
     },
     "execution_count": 55,
     "metadata": {},
     "output_type": "execute_result"
    }
   ],
   "source": [
    "def clean_data(df):\n",
    "    df = df[['text', 'priority', 'urgency', 'label']]\n",
    "    # df = df.rename(columns={'processed_text': 'text'})\n",
    "    # df['priority'] = df['priority'].apply(lambda x: x.lower())\n",
    "    # df['label'] = df['urgency'].apply(lambda x: 1 if x == 'urgent' else 0)\n",
    "    return df \n",
    "\n",
    "df = clean_data(df)\n",
    "df.sample(3)"
   ]
  },
  {
   "cell_type": "markdown",
   "metadata": {},
   "source": [
    "## Visualization - using TF-IDF Vectorizer"
   ]
  },
  {
   "cell_type": "code",
   "execution_count": 56,
   "metadata": {},
   "outputs": [],
   "source": [
    "def word_importance_chart(ax, df, title):\n",
    "    tdidf_vectorizer = TfidfVectorizer(lowercase=True, stop_words='english')\n",
    "    tdidf_matrix = tdidf_vectorizer.fit_transform(df['text'])\n",
    "    \n",
    "    \n",
    "    feature_names = tdidf_vectorizer.get_feature_names_out()\n",
    "    word_scores = zip(feature_names, tdidf_matrix.sum(axis=0).tolist()[0])\n",
    "\n",
    "    top_words = sorted(word_scores, key=lambda x: x[1], reverse=True)[:10]\n",
    "    \n",
    "    keywords, frequencies = zip(*top_words)\n",
    "    \n",
    "    ax.barh(keywords, frequencies)\n",
    "    ax.set_title(title)\n",
    "    ax.set_xlabel('Frequency')\n",
    "    ax.set_ylabel('Keyword')\n",
    "    ax.invert_yaxis()"
   ]
  },
  {
   "cell_type": "code",
   "execution_count": 50,
   "metadata": {},
   "outputs": [],
   "source": [
    "def distribution_chart(ax, df, column, title, category):\n",
    "    sns.countplot(data=df, x=column, ax=ax)\n",
    "    ax.set_title(title)"
   ]
  },
  {
   "cell_type": "code",
   "execution_count": 57,
   "metadata": {},
   "outputs": [
    {
     "data": {
      "image/png": "[encoded data removed]",
      "text/plain": [
       "<Figure size 1200x400 with 2 Axes>"
      ]
     },
     "metadata": {},
     "output_type": "display_data"
    },
    {
     "data": {
      "image/png": "[encoded data removed]",
      "text/plain": [
       "<Figure size 1800x400 with 3 Axes>"
      ]
     },
     "metadata": {},
     "output_type": "display_data"
    }
   ],
   "source": [
    "urgent_df = df[df['urgency'] == 'urgent']\n",
    "non_urgent_df = df[df['urgency'] == 'not_urgent']\n",
    "\n",
    "high_priority_df = df[df['priority'] == 'high']\n",
    "medium_priority_df = df[df['priority'] == 'medium']\n",
    "low_priority_df = df[df['priority'] == 'low']\n",
    "\n",
    "# Urgent/Non-Urgent Tickets\n",
    "fig, axs = plt.subplots(1, 2, figsize=(12, 4))\n",
    "word_importance_chart(axs[0], urgent_df, 'Urgent Tickets')\n",
    "word_importance_chart(axs[1], non_urgent_df, 'Non-Urgent Tickets')\n",
    "plt.tight_layout()\n",
    "\n",
    "# Priority Tickets\n",
    "fig, axs = plt.subplots(1, 3, figsize=(18, 4))\n",
    "word_importance_chart(axs[0], high_priority_df, 'High Priority Tickets')\n",
    "word_importance_chart(axs[1], medium_priority_df, 'Medium Priority Tickets')\n",
    "word_importance_chart(axs[2], low_priority_df, 'Low Priority Tickets')\n",
    "plt.tight_layout()\n"
   ]
  },
  {
   "cell_type": "code",
   "execution_count": 58,
   "metadata": {},
   "outputs": [
    {
     "data": {
      "text/plain": [
       "urgency\n",
       "urgent        6235\n",
       "not_urgent    5669\n",
       "Name: count, dtype: int64"
      ]
     },
     "execution_count": 58,
     "metadata": {},
     "output_type": "execute_result"
    },
    {
     "data": {
      "image/png": "[encoded data removed]",
      "text/plain": [
       "<Figure size 800x400 with 2 Axes>"
      ]
     },
     "metadata": {},
     "output_type": "display_data"
    }
   ],
   "source": [
    "fig, axs = plt.subplots(1, 2, figsize=(8, 4))\n",
    "distribution_chart(axs[0], df, 'priority', 'Priority Distribution', 'priority')\n",
    "distribution_chart(axs[1], df, 'urgency', 'Urgency Distribution', 'urgency')\n",
    "plt.tight_layout()\n",
    "\n",
    "# print number of urgent and non-urgent tickets\n",
    "df['urgency'].value_counts()"
   ]
  },
  {
   "cell_type": "markdown",
   "metadata": {},
   "source": [
    "### Train-Test Split function"
   ]
  },
  {
   "cell_type": "code",
   "execution_count": 59,
   "metadata": {},
   "outputs": [],
   "source": [
    "def get_train_test_data(X, y):\n",
    "    X_train, X_test, y_train, y_test = train_test_split(X, y, test_size=0.2, random_state=42)\n",
    "    print(f\"X_train shape: {X_train.shape}\")\n",
    "    print(f\"X_test shape: {X_test.shape}\")\n",
    "    return X_train, X_test, y_train, y_test"
   ]
  },
  {
   "cell_type": "markdown",
   "metadata": {},
   "source": [
    "### Model Training function"
   ]
  },
  {
   "cell_type": "code",
   "execution_count": 60,
   "metadata": {},
   "outputs": [],
   "source": [
    "# Training the models\n",
    "def train_model(model, tdidf_vectorizer, X_train, y_train, X_test, y_test):\n",
    "    text_transformer = Pipeline([\n",
    "    ('tfidf', tdidf_vectorizer)\n",
    "    ])\n",
    "\n",
    "    preprocessor = ColumnTransformer(\n",
    "        transformers=[\n",
    "            ('text_tfidf', text_transformer, 'text')\n",
    "        ],\n",
    "    )\n",
    "    pipeline =Pipeline([\n",
    "        ('preprocessor', preprocessor),\n",
    "        ('classifier', model)\n",
    "    ])\n",
    "    pipeline.fit(X_train, y_train)\n",
    "    y_pred = pipeline.predict(X_test)\n",
    "    print(f\"Classification Report: \\n{classification_report(y_test, y_pred)}\")\n",
    "    return pipeline"
   ]
  },
  {
   "cell_type": "markdown",
   "metadata": {},
   "source": [
    "# **Using Urgency**"
   ]
  },
  {
   "cell_type": "markdown",
   "metadata": {},
   "source": [
    "## Train-Test Split "
   ]
  },
  {
   "cell_type": "code",
   "execution_count": 61,
   "metadata": {},
   "outputs": [
    {
     "name": "stdout",
     "output_type": "stream",
     "text": [
      "X_train shape: (9523, 1)\n",
      "X_test shape: (2381, 1)\n"
     ]
    }
   ],
   "source": [
    "X = df[['text']]\n",
    "y = df['label']\n",
    "X_train_urgency, X_test_urgency, y_train_urgency, y_test_urgency = get_train_test_data(X, y)"
   ]
  },
  {
   "cell_type": "markdown",
   "metadata": {},
   "source": [
    "## Model Training - using Pipeline"
   ]
  },
  {
   "cell_type": "code",
   "execution_count": 62,
   "metadata": {},
   "outputs": [
    {
     "name": "stdout",
     "output_type": "stream",
     "text": [
      "Classification Report: \n",
      "              precision    recall  f1-score   support\n",
      "\n",
      "           0       0.85      0.95      0.90      1117\n",
      "           1       0.95      0.85      0.90      1264\n",
      "\n",
      "    accuracy                           0.90      2381\n",
      "   macro avg       0.90      0.90      0.90      2381\n",
      "weighted avg       0.90      0.90      0.90      2381\n",
      "\n"
     ]
    }
   ],
   "source": [
    "# Logisitic Regression\n",
    "pipeline_logreg = train_model(\n",
    "    LogisticRegression(random_state=42, max_iter=1000), \n",
    "    TfidfVectorizer(),\n",
    "    X_train_urgency, \n",
    "    y_train_urgency,\n",
    "    X_test_urgency,\n",
    "    y_test_urgency\n",
    ") "
   ]
  },
  {
   "cell_type": "code",
   "execution_count": 42,
   "metadata": {},
   "outputs": [
    {
     "name": "stdout",
     "output_type": "stream",
     "text": [
      "Classification Report: \n",
      "              precision    recall  f1-score   support\n",
      "\n",
      "           0       0.87      0.95      0.91      1117\n",
      "           1       0.95      0.87      0.91      1264\n",
      "\n",
      "    accuracy                           0.91      2381\n",
      "   macro avg       0.91      0.91      0.91      2381\n",
      "weighted avg       0.91      0.91      0.91      2381\n",
      "\n"
     ]
    }
   ],
   "source": [
    "# Support Vector Machine\n",
    "pipeline_svm = train_model(\n",
    "    SVC(random_state=42, kernel='linear', probability=True),\n",
    "    TfidfVectorizer(), \n",
    "    X_train_urgency,\n",
    "    y_train_urgency,\n",
    "    X_test_urgency,\n",
    "    y_test_urgency\n",
    ")"
   ]
  },
  {
   "cell_type": "markdown",
   "metadata": {},
   "source": [
    "# Cross Validation using K-Fold"
   ]
  },
  {
   "cell_type": "code",
   "execution_count": 654,
   "metadata": {},
   "outputs": [],
   "source": [
    "\n",
    "# Function to train and validate the model using K-Fold Cross-Validation\n",
    "def cross_validate_model(model, tfidf_vectorizer, X, y, cv=5, scoring='precision', pipeline = None):\n",
    "    if pipeline is None:\n",
    "        text_transformer = Pipeline([\n",
    "            ('tfidf', tfidf_vectorizer)\n",
    "        ])\n",
    "\n",
    "        preprocessor = ColumnTransformer(\n",
    "            transformers=[\n",
    "                ('text_tfidf', text_transformer, 'text')\n",
    "            ],\n",
    "        )\n",
    "\n",
    "        pipeline = Pipeline([\n",
    "            ('preprocessor', preprocessor),\n",
    "            ('classifier', model)\n",
    "        ])\n",
    "    else :\n",
    "        pipeline = pipeline\n",
    "\n",
    "    # Stratified K-Fold to maintain class distribution\n",
    "    skf = StratifiedKFold(n_splits=cv, shuffle=True, random_state=42)\n",
    "\n",
    "    # Use cross_val_score to evaluate accuracy\n",
    "    scores = cross_val_score(\n",
    "        pipeline, \n",
    "        X, \n",
    "        y, \n",
    "        cv=skf, \n",
    "        scoring=scoring\n",
    "    )\n",
    "\n",
    "    print(f\"Cross-Validation {scoring.capitalize} Scores: {scores}\")\n",
    "    print(f\"Mean: {np.mean(scores):.4f}\")\n",
    "    print(f\"Standard Deviation: {np.std(scores):.4f}\")\n",
    "\n",
    "    return scores\n"
   ]
  },
  {
   "cell_type": "code",
   "execution_count": 116,
   "metadata": {},
   "outputs": [
    {
     "name": "stdout",
     "output_type": "stream",
     "text": [
      "Cross-Validation <built-in method capitalize of str object at 0x00000222B8A62FB0> Scores: [0.93706294 0.9527972  0.93838028 0.94363792 0.93996569]\n",
      "Mean: 0.9424\n",
      "Standard Deviation: 0.0057\n"
     ]
    }
   ],
   "source": [
    "# Testing accuracy\n",
    "scored_svm = cross_validate_model(\n",
    "    SVC(random_state=42, kernel='linear'), \n",
    "    TfidfVectorizer(),\n",
    "    df[['text']], \n",
    "    df['urgency'].map({'urgent': 1, 'not_urgent': 0})\n",
    ")"
   ]
  },
  {
   "cell_type": "markdown",
   "metadata": {},
   "source": [
    "# Hyperparameter Tuning - using GridSearchCV"
   ]
  },
  {
   "cell_type": "code",
   "execution_count": 510,
   "metadata": {},
   "outputs": [],
   "source": [
    "from sklearn.model_selection import GridSearchCV\n",
    "\n",
    "def hyperparameter_tuning(model, X_train, y_train, param_grid):\n",
    "    text_transformer = Pipeline([\n",
    "        ('tfidf', TfidfVectorizer())\n",
    "    ])\n",
    "\n",
    "    preprocessor = ColumnTransformer(\n",
    "        transformers=[\n",
    "            ('text_tfidf', text_transformer, 'text')\n",
    "        ],\n",
    "    )\n",
    "\n",
    "    pipeline = Pipeline([\n",
    "        ('preprocessor', preprocessor),\n",
    "        ('classifier', model)\n",
    "    ])\n",
    "\n",
    "    grid_search = GridSearchCV(\n",
    "        estimator=pipeline,\n",
    "        param_grid=param_grid,\n",
    "        cv=5,\n",
    "        scoring='recall',\n",
    "        verbose=2\n",
    "    )\n",
    "    grid_search.fit(X_train, y_train)\n",
    "    print(f\"Best Parameters: {grid_search.best_params_}\")\n",
    "    print(f\"Best Score: {grid_search.best_score_}\")\n",
    "    return grid_search.best_estimator_\n"
   ]
  },
  {
   "cell_type": "code",
   "execution_count": 511,
   "metadata": {},
   "outputs": [],
   "source": [
    "param_grid = {\n",
    "    'classifier__C': [0.1, 1, 10],\n",
    "    'classifier__kernel': ['linear'],\n",
    "    'preprocessor__text_tfidf__tfidf__max_features': [None],\n",
    "    'preprocessor__text_tfidf__tfidf__ngram_range': [(1, 1), (1, 2), (1,3), (1,4)],\n",
    "}"
   ]
  },
  {
   "cell_type": "code",
   "execution_count": 512,
   "metadata": {},
   "outputs": [
    {
     "name": "stdout",
     "output_type": "stream",
     "text": [
      "Fitting 5 folds for each of 12 candidates, totalling 60 fits\n",
      "[CV] END classifier__C=0.1, classifier__kernel=linear, preprocessor__text_tfidf__tfidf__max_features=None, preprocessor__text_tfidf__tfidf__ngram_range=(1, 1); total time=   5.0s\n",
      "[CV] END classifier__C=0.1, classifier__kernel=linear, preprocessor__text_tfidf__tfidf__max_features=None, preprocessor__text_tfidf__tfidf__ngram_range=(1, 1); total time=   4.7s\n",
      "[CV] END classifier__C=0.1, classifier__kernel=linear, preprocessor__text_tfidf__tfidf__max_features=None, preprocessor__text_tfidf__tfidf__ngram_range=(1, 1); total time=   4.5s\n",
      "[CV] END classifier__C=0.1, classifier__kernel=linear, preprocessor__text_tfidf__tfidf__max_features=None, preprocessor__text_tfidf__tfidf__ngram_range=(1, 1); total time=   4.5s\n",
      "[CV] END classifier__C=0.1, classifier__kernel=linear, preprocessor__text_tfidf__tfidf__max_features=None, preprocessor__text_tfidf__tfidf__ngram_range=(1, 1); total time=   4.4s\n",
      "[CV] END classifier__C=0.1, classifier__kernel=linear, preprocessor__text_tfidf__tfidf__max_features=None, preprocessor__text_tfidf__tfidf__ngram_range=(1, 2); total time=  10.3s\n",
      "[CV] END classifier__C=0.1, classifier__kernel=linear, preprocessor__text_tfidf__tfidf__max_features=None, preprocessor__text_tfidf__tfidf__ngram_range=(1, 2); total time=  10.4s\n",
      "[CV] END classifier__C=0.1, classifier__kernel=linear, preprocessor__text_tfidf__tfidf__max_features=None, preprocessor__text_tfidf__tfidf__ngram_range=(1, 2); total time=  10.4s\n",
      "[CV] END classifier__C=0.1, classifier__kernel=linear, preprocessor__text_tfidf__tfidf__max_features=None, preprocessor__text_tfidf__tfidf__ngram_range=(1, 2); total time=  10.7s\n",
      "[CV] END classifier__C=0.1, classifier__kernel=linear, preprocessor__text_tfidf__tfidf__max_features=None, preprocessor__text_tfidf__tfidf__ngram_range=(1, 2); total time=  10.3s\n",
      "[CV] END classifier__C=0.1, classifier__kernel=linear, preprocessor__text_tfidf__tfidf__max_features=None, preprocessor__text_tfidf__tfidf__ngram_range=(1, 3); total time=  17.2s\n",
      "[CV] END classifier__C=0.1, classifier__kernel=linear, preprocessor__text_tfidf__tfidf__max_features=None, preprocessor__text_tfidf__tfidf__ngram_range=(1, 3); total time=  17.3s\n",
      "[CV] END classifier__C=0.1, classifier__kernel=linear, preprocessor__text_tfidf__tfidf__max_features=None, preprocessor__text_tfidf__tfidf__ngram_range=(1, 3); total time=  17.6s\n",
      "[CV] END classifier__C=0.1, classifier__kernel=linear, preprocessor__text_tfidf__tfidf__max_features=None, preprocessor__text_tfidf__tfidf__ngram_range=(1, 3); total time=  17.0s\n",
      "[CV] END classifier__C=0.1, classifier__kernel=linear, preprocessor__text_tfidf__tfidf__max_features=None, preprocessor__text_tfidf__tfidf__ngram_range=(1, 3); total time=  17.1s\n",
      "[CV] END classifier__C=0.1, classifier__kernel=linear, preprocessor__text_tfidf__tfidf__max_features=None, preprocessor__text_tfidf__tfidf__ngram_range=(1, 4); total time=  24.3s\n",
      "[CV] END classifier__C=0.1, classifier__kernel=linear, preprocessor__text_tfidf__tfidf__max_features=None, preprocessor__text_tfidf__tfidf__ngram_range=(1, 4); total time=  24.5s\n",
      "[CV] END classifier__C=0.1, classifier__kernel=linear, preprocessor__text_tfidf__tfidf__max_features=None, preprocessor__text_tfidf__tfidf__ngram_range=(1, 4); total time=  24.0s\n",
      "[CV] END classifier__C=0.1, classifier__kernel=linear, preprocessor__text_tfidf__tfidf__max_features=None, preprocessor__text_tfidf__tfidf__ngram_range=(1, 4); total time=  25.0s\n",
      "[CV] END classifier__C=0.1, classifier__kernel=linear, preprocessor__text_tfidf__tfidf__max_features=None, preprocessor__text_tfidf__tfidf__ngram_range=(1, 4); total time=  23.9s\n",
      "[CV] END classifier__C=1, classifier__kernel=linear, preprocessor__text_tfidf__tfidf__max_features=None, preprocessor__text_tfidf__tfidf__ngram_range=(1, 1); total time=   3.2s\n",
      "[CV] END classifier__C=1, classifier__kernel=linear, preprocessor__text_tfidf__tfidf__max_features=None, preprocessor__text_tfidf__tfidf__ngram_range=(1, 1); total time=   3.2s\n",
      "[CV] END classifier__C=1, classifier__kernel=linear, preprocessor__text_tfidf__tfidf__max_features=None, preprocessor__text_tfidf__tfidf__ngram_range=(1, 1); total time=   3.1s\n",
      "[CV] END classifier__C=1, classifier__kernel=linear, preprocessor__text_tfidf__tfidf__max_features=None, preprocessor__text_tfidf__tfidf__ngram_range=(1, 1); total time=   3.2s\n",
      "[CV] END classifier__C=1, classifier__kernel=linear, preprocessor__text_tfidf__tfidf__max_features=None, preprocessor__text_tfidf__tfidf__ngram_range=(1, 1); total time=   3.3s\n",
      "[CV] END classifier__C=1, classifier__kernel=linear, preprocessor__text_tfidf__tfidf__max_features=None, preprocessor__text_tfidf__tfidf__ngram_range=(1, 2); total time=   8.3s\n",
      "[CV] END classifier__C=1, classifier__kernel=linear, preprocessor__text_tfidf__tfidf__max_features=None, preprocessor__text_tfidf__tfidf__ngram_range=(1, 2); total time=   8.2s\n",
      "[CV] END classifier__C=1, classifier__kernel=linear, preprocessor__text_tfidf__tfidf__max_features=None, preprocessor__text_tfidf__tfidf__ngram_range=(1, 2); total time=   8.0s\n",
      "[CV] END classifier__C=1, classifier__kernel=linear, preprocessor__text_tfidf__tfidf__max_features=None, preprocessor__text_tfidf__tfidf__ngram_range=(1, 2); total time=   8.3s\n",
      "[CV] END classifier__C=1, classifier__kernel=linear, preprocessor__text_tfidf__tfidf__max_features=None, preprocessor__text_tfidf__tfidf__ngram_range=(1, 2); total time=   8.4s\n",
      "[CV] END classifier__C=1, classifier__kernel=linear, preprocessor__text_tfidf__tfidf__max_features=None, preprocessor__text_tfidf__tfidf__ngram_range=(1, 3); total time=  17.2s\n",
      "[CV] END classifier__C=1, classifier__kernel=linear, preprocessor__text_tfidf__tfidf__max_features=None, preprocessor__text_tfidf__tfidf__ngram_range=(1, 3); total time=  17.2s\n",
      "[CV] END classifier__C=1, classifier__kernel=linear, preprocessor__text_tfidf__tfidf__max_features=None, preprocessor__text_tfidf__tfidf__ngram_range=(1, 3); total time=  17.0s\n",
      "[CV] END classifier__C=1, classifier__kernel=linear, preprocessor__text_tfidf__tfidf__max_features=None, preprocessor__text_tfidf__tfidf__ngram_range=(1, 3); total time=  17.2s\n",
      "[CV] END classifier__C=1, classifier__kernel=linear, preprocessor__text_tfidf__tfidf__max_features=None, preprocessor__text_tfidf__tfidf__ngram_range=(1, 3); total time=  17.1s\n",
      "[CV] END classifier__C=1, classifier__kernel=linear, preprocessor__text_tfidf__tfidf__max_features=None, preprocessor__text_tfidf__tfidf__ngram_range=(1, 4); total time=  24.4s\n",
      "[CV] END classifier__C=1, classifier__kernel=linear, preprocessor__text_tfidf__tfidf__max_features=None, preprocessor__text_tfidf__tfidf__ngram_range=(1, 4); total time=  24.3s\n",
      "[CV] END classifier__C=1, classifier__kernel=linear, preprocessor__text_tfidf__tfidf__max_features=None, preprocessor__text_tfidf__tfidf__ngram_range=(1, 4); total time=  23.7s\n",
      "[CV] END classifier__C=1, classifier__kernel=linear, preprocessor__text_tfidf__tfidf__max_features=None, preprocessor__text_tfidf__tfidf__ngram_range=(1, 4); total time=  24.1s\n",
      "[CV] END classifier__C=1, classifier__kernel=linear, preprocessor__text_tfidf__tfidf__max_features=None, preprocessor__text_tfidf__tfidf__ngram_range=(1, 4); total time=  24.1s\n",
      "[CV] END classifier__C=10, classifier__kernel=linear, preprocessor__text_tfidf__tfidf__max_features=None, preprocessor__text_tfidf__tfidf__ngram_range=(1, 1); total time=   2.8s\n",
      "[CV] END classifier__C=10, classifier__kernel=linear, preprocessor__text_tfidf__tfidf__max_features=None, preprocessor__text_tfidf__tfidf__ngram_range=(1, 1); total time=   2.6s\n",
      "[CV] END classifier__C=10, classifier__kernel=linear, preprocessor__text_tfidf__tfidf__max_features=None, preprocessor__text_tfidf__tfidf__ngram_range=(1, 1); total time=   2.6s\n",
      "[CV] END classifier__C=10, classifier__kernel=linear, preprocessor__text_tfidf__tfidf__max_features=None, preprocessor__text_tfidf__tfidf__ngram_range=(1, 1); total time=   2.6s\n",
      "[CV] END classifier__C=10, classifier__kernel=linear, preprocessor__text_tfidf__tfidf__max_features=None, preprocessor__text_tfidf__tfidf__ngram_range=(1, 1); total time=   2.7s\n",
      "[CV] END classifier__C=10, classifier__kernel=linear, preprocessor__text_tfidf__tfidf__max_features=None, preprocessor__text_tfidf__tfidf__ngram_range=(1, 2); total time=  10.6s\n",
      "[CV] END classifier__C=10, classifier__kernel=linear, preprocessor__text_tfidf__tfidf__max_features=None, preprocessor__text_tfidf__tfidf__ngram_range=(1, 2); total time=  10.5s\n",
      "[CV] END classifier__C=10, classifier__kernel=linear, preprocessor__text_tfidf__tfidf__max_features=None, preprocessor__text_tfidf__tfidf__ngram_range=(1, 2); total time=  11.1s\n",
      "[CV] END classifier__C=10, classifier__kernel=linear, preprocessor__text_tfidf__tfidf__max_features=None, preprocessor__text_tfidf__tfidf__ngram_range=(1, 2); total time=  10.9s\n",
      "[CV] END classifier__C=10, classifier__kernel=linear, preprocessor__text_tfidf__tfidf__max_features=None, preprocessor__text_tfidf__tfidf__ngram_range=(1, 2); total time=  11.5s\n",
      "[CV] END classifier__C=10, classifier__kernel=linear, preprocessor__text_tfidf__tfidf__max_features=None, preprocessor__text_tfidf__tfidf__ngram_range=(1, 3); total time=  19.9s\n",
      "[CV] END classifier__C=10, classifier__kernel=linear, preprocessor__text_tfidf__tfidf__max_features=None, preprocessor__text_tfidf__tfidf__ngram_range=(1, 3); total time=  19.4s\n",
      "[CV] END classifier__C=10, classifier__kernel=linear, preprocessor__text_tfidf__tfidf__max_features=None, preprocessor__text_tfidf__tfidf__ngram_range=(1, 3); total time=  18.7s\n",
      "[CV] END classifier__C=10, classifier__kernel=linear, preprocessor__text_tfidf__tfidf__max_features=None, preprocessor__text_tfidf__tfidf__ngram_range=(1, 3); total time=  22.2s\n",
      "[CV] END classifier__C=10, classifier__kernel=linear, preprocessor__text_tfidf__tfidf__max_features=None, preprocessor__text_tfidf__tfidf__ngram_range=(1, 3); total time=  17.7s\n",
      "[CV] END classifier__C=10, classifier__kernel=linear, preprocessor__text_tfidf__tfidf__max_features=None, preprocessor__text_tfidf__tfidf__ngram_range=(1, 4); total time=  24.9s\n",
      "[CV] END classifier__C=10, classifier__kernel=linear, preprocessor__text_tfidf__tfidf__max_features=None, preprocessor__text_tfidf__tfidf__ngram_range=(1, 4); total time=  25.3s\n",
      "[CV] END classifier__C=10, classifier__kernel=linear, preprocessor__text_tfidf__tfidf__max_features=None, preprocessor__text_tfidf__tfidf__ngram_range=(1, 4); total time=  24.8s\n",
      "[CV] END classifier__C=10, classifier__kernel=linear, preprocessor__text_tfidf__tfidf__max_features=None, preprocessor__text_tfidf__tfidf__ngram_range=(1, 4); total time=  25.3s\n",
      "[CV] END classifier__C=10, classifier__kernel=linear, preprocessor__text_tfidf__tfidf__max_features=None, preprocessor__text_tfidf__tfidf__ngram_range=(1, 4); total time=  24.9s\n",
      "Best Parameters: {'classifier__C': 10, 'classifier__kernel': 'linear', 'preprocessor__text_tfidf__tfidf__max_features': None, 'preprocessor__text_tfidf__tfidf__ngram_range': (1, 4)}\n",
      "Best Score: 0.8982075366773505\n"
     ]
    }
   ],
   "source": [
    "best_model = hyperparameter_tuning(\n",
    "    SVC(random_state=42),\n",
    "    X_train_urgency,\n",
    "    y_train_urgency,\n",
    "    param_grid\n",
    ")"
   ]
  },
  {
   "cell_type": "markdown",
   "metadata": {},
   "source": [
    "### **Result** : Model best parameters are\n",
    "kernel : linear\n",
    "\n",
    "C value : 10\n",
    "\n",
    "TF-IDF Max features : None\n",
    "\n",
    "TF-IDF n-gram range: (1, 4)\n"
   ]
  },
  {
   "cell_type": "markdown",
   "metadata": {},
   "source": [
    "## SVM Tuning"
   ]
  },
  {
   "cell_type": "markdown",
   "metadata": {},
   "source": [
    "### Tuning using RBF kernel"
   ]
  },
  {
   "cell_type": "code",
   "execution_count": 498,
   "metadata": {},
   "outputs": [
    {
     "name": "stdout",
     "output_type": "stream",
     "text": [
      "Using RBF Kernel\n",
      "Classification Report: \n",
      "              precision    recall  f1-score   support\n",
      "\n",
      "           0       0.85      0.98      0.91      1117\n",
      "           1       0.98      0.85      0.91      1264\n",
      "\n",
      "    accuracy                           0.91      2381\n",
      "   macro avg       0.92      0.92      0.91      2381\n",
      "weighted avg       0.92      0.91      0.91      2381\n",
      "\n"
     ]
    }
   ],
   "source": [
    "print(\"Using RBF Kernel\")\n",
    "pipeline_best_svm_rbf =  train_model(\n",
    "    SVC(gamma='scale', kernel='rbf', random_state=42),\n",
    "    TfidfVectorizer(ngram_range=(1, 4)),\n",
    "    X_train_urgency,\n",
    "    y_train_urgency,\n",
    "    X_test_urgency,\n",
    "    y_test_urgency\n",
    ")"
   ]
  },
  {
   "cell_type": "markdown",
   "metadata": {},
   "source": [
    "### Tuning using Linear Kernel"
   ]
  },
  {
   "cell_type": "code",
   "execution_count": 642,
   "metadata": {},
   "outputs": [
    {
     "name": "stdout",
     "output_type": "stream",
     "text": [
      "Using Linear Kernel\n",
      "Classification Report: \n",
      "              precision    recall  f1-score   support\n",
      "\n",
      "           0       0.89      0.95      0.92      1117\n",
      "           1       0.96      0.89      0.92      1264\n",
      "\n",
      "    accuracy                           0.92      2381\n",
      "   macro avg       0.92      0.92      0.92      2381\n",
      "weighted avg       0.92      0.92      0.92      2381\n",
      "\n"
     ]
    }
   ],
   "source": [
    "print(\"Using Linear Kernel\")\n",
    "pipeline_best_svm_linear =  train_model(\n",
    "    SVC(kernel='linear', random_state=42, probability=True),\n",
    "    TfidfVectorizer(ngram_range=(1, 4)),\n",
    "    X_train_urgency,\n",
    "    y_train_urgency,\n",
    "    X_test_urgency,\n",
    "    y_test_urgency\n",
    ")"
   ]
  },
  {
   "cell_type": "markdown",
   "metadata": {},
   "source": [
    "## Logistic Regression Model Tuning"
   ]
  },
  {
   "cell_type": "code",
   "execution_count": 501,
   "metadata": {},
   "outputs": [
    {
     "name": "stdout",
     "output_type": "stream",
     "text": [
      "Using Logistic Regression\n",
      "Classification Report: \n",
      "              precision    recall  f1-score   support\n",
      "\n",
      "           0       0.86      0.96      0.90      1117\n",
      "           1       0.96      0.86      0.91      1264\n",
      "\n",
      "    accuracy                           0.91      2381\n",
      "   macro avg       0.91      0.91      0.91      2381\n",
      "weighted avg       0.91      0.91      0.91      2381\n",
      "\n"
     ]
    }
   ],
   "source": [
    "print(\"Using Logistic Regression\")\n",
    "pipeline_best_logreg =  train_model(\n",
    "    LogisticRegression(random_state=42, max_iter=1000), \n",
    "    TfidfVectorizer(ngram_range=(1, 4)),\n",
    "    X_train_urgency,\n",
    "    y_train_urgency,\n",
    "    X_test_urgency,\n",
    "    y_test_urgency\n",
    ")"
   ]
  },
  {
   "cell_type": "markdown",
   "metadata": {},
   "source": [
    "## Stacked Classifier"
   ]
  },
  {
   "cell_type": "code",
   "execution_count": 519,
   "metadata": {},
   "outputs": [],
   "source": [
    "def create_stacked_model(models, meta_model = LogisticRegression(random_state=42, max_iter=1000)):\n",
    "    stacked_model = StackingClassifier(\n",
    "        estimators=models,\n",
    "        final_estimator=meta_model,\n",
    "    )\n",
    "    \n",
    "    stacked_model.fit(X_train_urgency, y_train_urgency)\n",
    "    y_pred = stacked_model.predict(X_test_urgency)\n",
    "    print(f\"Classification Report: \\n{classification_report(y_test_urgency, y_pred)}\")\n",
    "    return stacked_model"
   ]
  },
  {
   "cell_type": "code",
   "execution_count": 662,
   "metadata": {},
   "outputs": [
    {
     "name": "stdout",
     "output_type": "stream",
     "text": [
      "Classification Report: \n",
      "              precision    recall  f1-score   support\n",
      "\n",
      "           0       0.88      0.94      0.91      1117\n",
      "           1       0.94      0.88      0.91      1264\n",
      "\n",
      "    accuracy                           0.91      2381\n",
      "   macro avg       0.91      0.91      0.91      2381\n",
      "weighted avg       0.91      0.91      0.91      2381\n",
      "\n"
     ]
    }
   ],
   "source": [
    "\n",
    "stacked_model_3 = create_stacked_model([\n",
    "    ('svm', pipeline_svm),\n",
    "    ('logreg_tuned', pipeline_best_logreg)\n",
    "])"
   ]
  },
  {
   "cell_type": "markdown",
   "metadata": {},
   "source": [
    "## Testing Manually"
   ]
  },
  {
   "cell_type": "code",
   "execution_count": 651,
   "metadata": {},
   "outputs": [],
   "source": [
    "def test_model(model, threshold = 0.5):\n",
    "    example_text = pd.DataFrame([\n",
    "        'This is an urgent issue',\n",
    "        'I need help with my account right now without delay',\n",
    "        'I have a question about my account',\n",
    "        'I cannot access my account. Please help me',\n",
    "        'I am unable to access my account. I have tried resetting my password but it is not working. I need help urgently',\n",
    "        \"Query regarding my account. Please help me\",\n",
    "        \"The server is down. Please fix it as soon as possible\",\n",
    "        \"System Issue. Need help before the end of the day\",\n",
    "        \"Jira tickets need to be updated. Please do it as soon as possible. no hurry\",\n",
    "        \"Not Critical. Please ensure system is up and running without any issues before the end of the day.\",\n",
    "        \"this is a reminder to fill out your kaizen immediately by EOD\",\n",
    "        \"What is the status of the server?\",\n",
    "        \"I am having a headache and cannot focus on my work. I need to take a leave\",\n",
    "        \"I need my salary for this month to be credited to my account\",\n",
    "        \"how can i fix my PC not starting up, I have lots of work pending\",\n",
    "        \"Can you fix this bug in the code? It is causing issues in the system\",\n",
    "         \"i am having payment issue with my card.\" \n",
    "\n",
    "        ],\n",
    "    columns=['text'])\n",
    "    \n",
    "    true_labels = [1, 1, 0, 1, 1, 0, 1, 1, 0, 0, 1, 0, 0, 0, 0, 1, 0]\n",
    "\n",
    "    y_scores = model.predict_proba(example_text[['text']])[:, 1]\n",
    "    threshold = threshold\n",
    "    y_pred = (y_scores >= threshold).astype(int)\n",
    "\n",
    "    print(f\"Threshold: {threshold}\")\n",
    "\n",
    "    print(f\"\\nPredicted Labels: {y_pred.tolist()}\")\n",
    "    print(f\"True Labels: {true_labels}\")\n",
    "    print(f\"Classification Report: \\n{classification_report(true_labels, y_pred, labels=[1, 0])}\")"
   ]
  },
  {
   "cell_type": "code",
   "execution_count": 660,
   "metadata": {},
   "outputs": [
    {
     "name": "stdout",
     "output_type": "stream",
     "text": [
      "Threshold: 0.5\n",
      "\n",
      "Predicted Labels: [1, 1, 0, 0, 0, 0, 1, 1, 0, 0, 1, 0, 0, 0, 0, 1, 0]\n",
      "True Labels: [1, 1, 0, 1, 1, 0, 1, 1, 0, 0, 1, 0, 0, 0, 0, 1, 0]\n",
      "Classification Report: \n",
      "              precision    recall  f1-score   support\n",
      "\n",
      "           1       1.00      0.75      0.86         8\n",
      "           0       0.82      1.00      0.90         9\n",
      "\n",
      "    accuracy                           0.88        17\n",
      "   macro avg       0.91      0.88      0.88        17\n",
      "weighted avg       0.90      0.88      0.88        17\n",
      "\n"
     ]
    }
   ],
   "source": [
    "test_model(stacked_model_3, threshold=0.5)"
   ]
  },
  {
   "cell_type": "markdown",
   "metadata": {},
   "source": [
    "# Storing the model - using Pickle"
   ]
  },
  {
   "cell_type": "code",
   "execution_count": 44,
   "metadata": {},
   "outputs": [
    {
     "name": "stdout",
     "output_type": "stream",
     "text": [
      "Models saved successfully\n"
     ]
    }
   ],
   "source": [
    "import pickle\n",
    " # storing pipeline for normal svm and then for the best svm\n",
    "with open(\"../models/svm_pipeline.pkl\", \"wb\") as file:\n",
    "    pickle.dump(pipeline_svm, file)\n",
    "\n",
    "with open(\"../models/best_svm_pipeline.pkl\", \"wb\") as file:\n",
    "    pickle.dump(pipeline_best_svm_linear, file)\n",
    "\n",
    "with open(\"../models/logreg_pipeline.pkl\", \"wb\") as file:\n",
    "    pickle.dump(pipeline_logreg, file)\n",
    "    \n",
    "with open(\"../models/best_logreg_pipeline.pkl\", \"wb\") as file:\n",
    "    pickle.dump(pipeline_best_logreg, file)\n",
    "    \n",
    "# with open(\"../models/stacked_model_1.pkl\", \"wb\") as file:\n",
    "#     pickle.dump(stacked_model_1, file)\n",
    "\n",
    "# with open(\"../models/stacked_model_2.pkl\", \"wb\") as file:\n",
    "#     pickle.dump(stacked_model_2, file)\n",
    "\n",
    "with open(\"../models/stacked_model_3.pkl\", \"wb\") as file:\n",
    "    pickle.dump(stacked_model_3, file)\n",
    "\n",
    "# with open(\"../models/stacked_model_4.pkl\", \"wb\") as file:\n",
    "#     pickle.dump(stacked_model_4, file)\n",
    "\n",
    "print(\"Models saved successfully\")"
   ]
  },
  {
   "cell_type": "markdown",
   "metadata": {},
   "source": [
    "# Performance Visualization"
   ]
  },
  {
   "cell_type": "code",
   "execution_count": 644,
   "metadata": {},
   "outputs": [],
   "source": [
    "from sklearn.metrics import roc_curve, roc_auc_score\n",
    "\n",
    "def show_roc_curve(model, X_test, y_test):\n",
    "    y_prob = model.predict_proba(X_test)[:, 1]  # Probability estimates\n",
    "    fpr, tpr, thresholds = roc_curve(y_test, y_prob)\n",
    "\n",
    "   # Plot ROC curve\n",
    "    plt.figure(figsize=(8, 6))\n",
    "    plt.plot(fpr, tpr, label=f\"AUC = {roc_auc_score(y_test, y_prob):.2f}\")\n",
    "    plt.plot([0, 1], [0, 1], 'k--', label='Random Guess')\n",
    "    plt.title('ROC Curve')\n",
    "    plt.xlabel('False Positive Rate')\n",
    "    plt.ylabel('True Positive Rate')\n",
    "    plt.legend(loc='lower right')\n",
    "    plt.show()"
   ]
  },
  {
   "cell_type": "code",
   "execution_count": 646,
   "metadata": {},
   "outputs": [
    {
     "data": {
      "image/png": "[encoded data removed]",
      "text/plain": [
       "<Figure size 800x600 with 1 Axes>"
      ]
     },
     "metadata": {},
     "output_type": "display_data"
    }
   ],
   "source": [
    "show_roc_curve(stacked_model_3, X_test_urgency, y_test_urgency)"
   ]
  },
  {
   "cell_type": "code",
   "execution_count": 655,
   "metadata": {},
   "outputs": [
    {
     "name": "stdout",
     "output_type": "stream",
     "text": [
      "Cross-Validation <built-in method capitalize of str object at 0x1027bd0b0> Scores: [0.92851064 0.92468619 0.92320819 0.93277311 0.92821369]\n",
      "Mean: 0.9275\n",
      "Standard Deviation: 0.0033\n"
     ]
    },
    {
     "data": {
      "text/plain": [
       "array([0.92851064, 0.92468619, 0.92320819, 0.93277311, 0.92821369])"
      ]
     },
     "execution_count": 655,
     "metadata": {},
     "output_type": "execute_result"
    }
   ],
   "source": [
    "# K-fold cross-validation using precision scoring\n",
    "X = df[['text']]\n",
    "y = df['label']\n",
    "cross_validate_model(stacked_model_3, TfidfVectorizer(ngram_range=(1, 4)), X, y, cv=5, pipeline=stacked_model_3)"
   ]
  }
 ],
 "metadata": {
  "kernelspec": {
   "display_name": "Python 3",
   "language": "python",
   "name": "python3"
  },
  "language_info": {
   "codemirror_mode": {
    "name": "ipython",
    "version": 3
   },
   "file_extension": ".py",
   "mimetype": "text/x-python",
   "name": "python",
   "nbconvert_exporter": "python",
   "pygments_lexer": "ipython3",
   "version": "3.11.6"
  }
 },
 "nbformat": 4,
 "nbformat_minor": 2
}
