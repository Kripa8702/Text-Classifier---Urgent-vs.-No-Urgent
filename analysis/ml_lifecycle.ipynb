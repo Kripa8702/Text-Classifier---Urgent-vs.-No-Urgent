{
 "cells": [
  {
   "cell_type": "markdown",
   "metadata": {},
   "source": [
    "# **ML Lifecycle**\n",
    "### This notebook combines the analysis, cleaning, preprocessing, visualization, pipeline generation and model training process into functions that can be used for different datasets"
   ]
  },
  {
   "cell_type": "markdown",
   "metadata": {},
   "source": [
    "#### Dataset features must include - \"processed_text\", \"priority\", \"urgency\""
   ]
  },
  {
   "cell_type": "code",
   "execution_count": 326,
   "metadata": {},
   "outputs": [],
   "source": [
    "import pandas as pd\n",
    "import numpy as np\n",
    "import matplotlib.pyplot as plt\n",
    "import seaborn as sns\n",
    "from sklearn.feature_extraction.text import TfidfVectorizer\n",
    "from sklearn.model_selection import train_test_split\n",
    "\n",
    "from sklearn.pipeline import Pipeline\n",
    "from sklearn.compose import ColumnTransformer\n",
    "from sklearn.linear_model import LogisticRegression\n",
    "from sklearn.svm import SVC\n",
    "from sklearn.metrics import classification_report\n",
    "\n",
    "from sklearn.model_selection import cross_val_score, StratifiedKFold\n",
    "\n"
   ]
  },
  {
   "cell_type": "code",
   "execution_count": 332,
   "metadata": {},
   "outputs": [
    {
     "data": {
      "text/html": [
       "<div>\n",
       "<style scoped>\n",
       "    .dataframe tbody tr th:only-of-type {\n",
       "        vertical-align: middle;\n",
       "    }\n",
       "\n",
       "    .dataframe tbody tr th {\n",
       "        vertical-align: top;\n",
       "    }\n",
       "\n",
       "    .dataframe thead th {\n",
       "        text-align: right;\n",
       "    }\n",
       "</style>\n",
       "<table border=\"1\" class=\"dataframe\">\n",
       "  <thead>\n",
       "    <tr style=\"text-align: right;\">\n",
       "      <th></th>\n",
       "      <th>label</th>\n",
       "      <th>processed_text</th>\n",
       "      <th>priority</th>\n",
       "      <th>urgency</th>\n",
       "      <th>type</th>\n",
       "      <th>queue</th>\n",
       "    </tr>\n",
       "  </thead>\n",
       "  <tbody>\n",
       "    <tr>\n",
       "      <th>3938</th>\n",
       "      <td>0.0</td>\n",
       "      <td>Issues with the registration of new accounts</td>\n",
       "      <td>low</td>\n",
       "      <td>not_urgent</td>\n",
       "      <td>NaN</td>\n",
       "      <td>NaN</td>\n",
       "    </tr>\n",
       "    <tr>\n",
       "      <th>6357</th>\n",
       "      <td>0.0</td>\n",
       "      <td>Delayed replication of non-critical data acros...</td>\n",
       "      <td>low</td>\n",
       "      <td>not_urgent</td>\n",
       "      <td>NaN</td>\n",
       "      <td>NaN</td>\n",
       "    </tr>\n",
       "    <tr>\n",
       "      <th>3674</th>\n",
       "      <td>0.0</td>\n",
       "      <td>Performance lag observed when multiple chats a...</td>\n",
       "      <td>low</td>\n",
       "      <td>not_urgent</td>\n",
       "      <td>NaN</td>\n",
       "      <td>NaN</td>\n",
       "    </tr>\n",
       "  </tbody>\n",
       "</table>\n",
       "</div>"
      ],
      "text/plain": [
       "      label                                     processed_text priority  \\\n",
       "3938    0.0       Issues with the registration of new accounts      low   \n",
       "6357    0.0  Delayed replication of non-critical data acros...      low   \n",
       "3674    0.0  Performance lag observed when multiple chats a...      low   \n",
       "\n",
       "         urgency type queue  \n",
       "3938  not_urgent  NaN   NaN  \n",
       "6357  not_urgent  NaN   NaN  \n",
       "3674  not_urgent  NaN   NaN  "
      ]
     },
     "execution_count": 332,
     "metadata": {},
     "output_type": "execute_result"
    }
   ],
   "source": [
    "df = pd.read_csv('../csv/oversampled_data.csv')\n",
    "df.sample(3)"
   ]
  },
  {
   "cell_type": "markdown",
   "metadata": {},
   "source": [
    "## Analysis"
   ]
  },
  {
   "cell_type": "code",
   "execution_count": 328,
   "metadata": {},
   "outputs": [
    {
     "name": "stdout",
     "output_type": "stream",
     "text": [
      "Shape : (11068, 6)\n",
      "\n",
      "Columns : Index(['label', 'processed_text', 'priority', 'urgency', 'type', 'queue'], dtype='object')\n",
      "\n",
      "Sample: \n",
      "      label                                     processed_text priority  \\\n",
      "89      0.0                    This is not worth fussing over.      low   \n",
      "6397    0.0  Minor disruptions in service during non-critic...      low   \n",
      "2103    2.0  Critical update for crash when changing langua...     high   \n",
      "\n",
      "         urgency type queue  \n",
      "89    not_urgent  NaN   NaN  \n",
      "6397  not_urgent  NaN   NaN  \n",
      "2103      urgent  NaN   NaN  \n",
      "\n",
      "Null values: \n",
      "label             3983\n",
      "processed_text       0\n",
      "priority             0\n",
      "urgency              0\n",
      "type              9512\n",
      "queue             9512\n",
      "dtype: int64\n",
      "\n"
     ]
    }
   ],
   "source": [
    "def analysis(df):\n",
    "    print(f'Shape : {df.shape}\\n')\n",
    "    print(f'Columns : {df.columns}\\n')\n",
    "    print(f\"Sample: \\n{df.sample(3)}\\n\")\n",
    "    print(f\"Null values: \\n{df.isnull().sum()}\\n\")\n",
    "\n",
    "analysis(df)"
   ]
  },
  {
   "cell_type": "markdown",
   "metadata": {},
   "source": [
    "## Cleaning"
   ]
  },
  {
   "cell_type": "code",
   "execution_count": 333,
   "metadata": {},
   "outputs": [
    {
     "data": {
      "text/html": [
       "<div>\n",
       "<style scoped>\n",
       "    .dataframe tbody tr th:only-of-type {\n",
       "        vertical-align: middle;\n",
       "    }\n",
       "\n",
       "    .dataframe tbody tr th {\n",
       "        vertical-align: top;\n",
       "    }\n",
       "\n",
       "    .dataframe thead th {\n",
       "        text-align: right;\n",
       "    }\n",
       "</style>\n",
       "<table border=\"1\" class=\"dataframe\">\n",
       "  <thead>\n",
       "    <tr style=\"text-align: right;\">\n",
       "      <th></th>\n",
       "      <th>text</th>\n",
       "      <th>priority</th>\n",
       "      <th>urgency</th>\n",
       "      <th>label</th>\n",
       "    </tr>\n",
       "  </thead>\n",
       "  <tbody>\n",
       "    <tr>\n",
       "      <th>3054</th>\n",
       "      <td>Immediate Remedy: Incorrect last seen time dis...</td>\n",
       "      <td>high</td>\n",
       "      <td>urgent</td>\n",
       "      <td>1</td>\n",
       "    </tr>\n",
       "    <tr>\n",
       "      <th>2597</th>\n",
       "      <td>Page navigation buttons inactive in the employ...</td>\n",
       "      <td>low</td>\n",
       "      <td>not_urgent</td>\n",
       "      <td>0</td>\n",
       "    </tr>\n",
       "    <tr>\n",
       "      <th>10262</th>\n",
       "      <td>Critical: Breakpoint. This is a operational fr...</td>\n",
       "      <td>High</td>\n",
       "      <td>urgent</td>\n",
       "      <td>1</td>\n",
       "    </tr>\n",
       "  </tbody>\n",
       "</table>\n",
       "</div>"
      ],
      "text/plain": [
       "                                                    text priority     urgency  \\\n",
       "3054   Immediate Remedy: Incorrect last seen time dis...     high      urgent   \n",
       "2597   Page navigation buttons inactive in the employ...      low  not_urgent   \n",
       "10262  Critical: Breakpoint. This is a operational fr...     High      urgent   \n",
       "\n",
       "       label  \n",
       "3054       1  \n",
       "2597       0  \n",
       "10262      1  "
      ]
     },
     "execution_count": 333,
     "metadata": {},
     "output_type": "execute_result"
    }
   ],
   "source": [
    "def clean_data(df):\n",
    "    df = df[['processed_text', 'priority', 'urgency']]\n",
    "    df = df.rename(columns={'processed_text': 'text'})\n",
    "    df['label'] = df['urgency'].apply(lambda x: 1 if x == 'urgent' else 0)\n",
    "    return df \n",
    "\n",
    "df = clean_data(df)\n",
    "df.sample(3)"
   ]
  },
  {
   "cell_type": "markdown",
   "metadata": {},
   "source": [
    "## Visualization - using TF-IDF Vectorizer"
   ]
  },
  {
   "cell_type": "code",
   "execution_count": 334,
   "metadata": {},
   "outputs": [],
   "source": [
    "def word_importance_chart(ax, df, title):\n",
    "    tdidf_vectorizer = TfidfVectorizer(lowercase=True, stop_words='english')\n",
    "    tdidf_matrix = tdidf_vectorizer.fit_transform(df['text'])\n",
    "    \n",
    "    \n",
    "    feature_names = tdidf_vectorizer.get_feature_names_out()\n",
    "    word_scores = zip(feature_names, tdidf_matrix.sum(axis=0).tolist()[0])\n",
    "\n",
    "    top_words = sorted(word_scores, key=lambda x: x[1], reverse=True)[:10]\n",
    "    \n",
    "    keywords, frequencies = zip(*top_words)\n",
    "    \n",
    "    ax.barh(keywords, frequencies)\n",
    "    ax.set_title(title)\n",
    "    ax.set_xlabel('Frequency')\n",
    "    ax.set_ylabel('Keyword')\n",
    "    ax.invert_yaxis()"
   ]
  },
  {
   "cell_type": "code",
   "execution_count": 288,
   "metadata": {},
   "outputs": [],
   "source": [
    "def distribution_chart(ax, df, column, title, category):\n",
    "    sns.countplot(data=df, x=column, ax=ax)\n",
    "    ax.set_title(title)"
   ]
  },
  {
   "cell_type": "code",
   "execution_count": 289,
   "metadata": {},
   "outputs": [
    {
     "data": {
      "image/png": "[encoded data removed]",
      "text/plain": [
       "<Figure size 1200x400 with 2 Axes>"
      ]
     },
     "metadata": {},
     "output_type": "display_data"
    },
    {
     "data": {
      "image/png": "[encoded data removed]",
      "text/plain": [
       "<Figure size 1800x400 with 3 Axes>"
      ]
     },
     "metadata": {},
     "output_type": "display_data"
    }
   ],
   "source": [
    "urgent_df = df[df['urgency'] == 'urgent']\n",
    "non_urgent_df = df[df['urgency'] == 'not_urgent']\n",
    "\n",
    "high_priority_df = df[df['priority'] == 'high']\n",
    "medium_priority_df = df[df['priority'] == 'medium']\n",
    "low_priority_df = df[df['priority'] == 'low']\n",
    "\n",
    "# Urgent/Non-Urgent Tickets\n",
    "fig, axs = plt.subplots(1, 2, figsize=(12, 4))\n",
    "word_importance_chart(axs[0], urgent_df, 'Urgent Tickets')\n",
    "word_importance_chart(axs[1], non_urgent_df, 'Non-Urgent Tickets')\n",
    "plt.tight_layout()\n",
    "\n",
    "# Priority Tickets\n",
    "fig, axs = plt.subplots(1, 3, figsize=(18, 4))\n",
    "word_importance_chart(axs[0], high_priority_df, 'High Priority Tickets')\n",
    "word_importance_chart(axs[1], medium_priority_df, 'Medium Priority Tickets')\n",
    "word_importance_chart(axs[2], low_priority_df, 'Low Priority Tickets')\n",
    "plt.tight_layout()\n"
   ]
  },
  {
   "cell_type": "code",
   "execution_count": 290,
   "metadata": {},
   "outputs": [
    {
     "data": {
      "text/plain": [
       "urgency\n",
       "not_urgent    5669\n",
       "urgent        5399\n",
       "Name: count, dtype: int64"
      ]
     },
     "execution_count": 290,
     "metadata": {},
     "output_type": "execute_result"
    },
    {
     "data": {
      "image/png": "[encoded data removed]",
      "text/plain": [
       "<Figure size 800x400 with 2 Axes>"
      ]
     },
     "metadata": {},
     "output_type": "display_data"
    }
   ],
   "source": [
    "fig, axs = plt.subplots(1, 2, figsize=(8, 4))\n",
    "distribution_chart(axs[0], df, 'priority', 'Priority Distribution', 'priority')\n",
    "distribution_chart(axs[1], df, 'urgency', 'Urgency Distribution', 'urgency')\n",
    "plt.tight_layout()\n",
    "\n",
    "# print number of urgent and non-urgent tickets\n",
    "df['urgency'].value_counts()"
   ]
  },
  {
   "cell_type": "markdown",
   "metadata": {},
   "source": [
    "# **Using Priority**"
   ]
  },
  {
   "cell_type": "markdown",
   "metadata": {},
   "source": [
    "## Train-Test Split "
   ]
  },
  {
   "cell_type": "code",
   "execution_count": 291,
   "metadata": {},
   "outputs": [],
   "source": [
    "def get_train_test_data(X, y):\n",
    "    X_train, X_test, y_train, y_test = train_test_split(X, y, test_size=0.2, random_state=42)\n",
    "    print(f\"X_train shape: {X_train.shape}\")\n",
    "    print(f\"X_test shape: {X_test.shape}\")\n",
    "    return X_train, X_test, y_train, y_test"
   ]
  },
  {
   "cell_type": "code",
   "execution_count": 292,
   "metadata": {},
   "outputs": [
    {
     "name": "stdout",
     "output_type": "stream",
     "text": [
      "X_train shape: (8854, 1)\n",
      "X_test shape: (2214, 1)\n"
     ]
    }
   ],
   "source": [
    "X_train, X_test, y_train, y_test = get_train_test_data(df[['text']], df['priority'])"
   ]
  },
  {
   "cell_type": "markdown",
   "metadata": {},
   "source": [
    "## Model Training - using Pipeline"
   ]
  },
  {
   "cell_type": "code",
   "execution_count": 456,
   "metadata": {},
   "outputs": [],
   "source": [
    "# Training the models\n",
    "def train_model(model, tdidf_vectorizer, X_train, y_train, X_test, y_test):\n",
    "    text_transformer = Pipeline([\n",
    "    ('tfidf', tdidf_vectorizer)\n",
    "    ])\n",
    "\n",
    "    preprocessor = ColumnTransformer(\n",
    "        transformers=[\n",
    "            ('text_tfidf', text_transformer, 'text')\n",
    "        ],\n",
    "    )\n",
    "    pipeline =Pipeline([\n",
    "        ('preprocessor', preprocessor),\n",
    "        ('classifier', model)\n",
    "    ])\n",
    "    pipeline.fit(X_train, y_train)\n",
    "    y_pred = pipeline.predict(X_test)\n",
    "    print(f\"Classification Report: \\n{classification_report(y_test, y_pred)}\")\n",
    "    return pipeline"
   ]
  },
  {
   "cell_type": "code",
   "execution_count": 401,
   "metadata": {},
   "outputs": [
    {
     "name": "stdout",
     "output_type": "stream",
     "text": [
      "Classification Report: \n",
      "              precision    recall  f1-score   support\n",
      "\n",
      "        High       1.00      1.00      1.00       298\n",
      "        high       0.86      0.85      0.85       764\n",
      "         low       0.75      0.81      0.78       629\n",
      "      medium       0.62      0.57      0.59       523\n",
      "\n",
      "    accuracy                           0.79      2214\n",
      "   macro avg       0.81      0.81      0.81      2214\n",
      "weighted avg       0.79      0.79      0.79      2214\n",
      "\n"
     ]
    }
   ],
   "source": [
    "# Logisitic Regression\n",
    "pipeline_logreg = train_model(\n",
    "    LogisticRegression(random_state=42, max_iter=1000), \n",
    "    TfidfVectorizer(),\n",
    "    X_train, \n",
    "    y_train,\n",
    "    X_test,\n",
    "    y_test\n",
    ")"
   ]
  },
  {
   "cell_type": "code",
   "execution_count": 457,
   "metadata": {},
   "outputs": [
    {
     "name": "stdout",
     "output_type": "stream",
     "text": [
      "Classification Report: \n",
      "              precision    recall  f1-score   support\n",
      "\n",
      "        High       1.00      1.00      1.00       298\n",
      "        high       0.90      0.83      0.87       764\n",
      "         low       0.75      0.83      0.79       629\n",
      "      medium       0.63      0.62      0.63       523\n",
      "\n",
      "    accuracy                           0.81      2214\n",
      "   macro avg       0.82      0.82      0.82      2214\n",
      "weighted avg       0.81      0.81      0.81      2214\n",
      "\n"
     ]
    }
   ],
   "source": [
    "# Support Vector Machine\n",
    "pipeline_svm = train_model(\n",
    "    SVC(random_state=42), \n",
    "    TfidfVectorizer(),\n",
    "    X_train, \n",
    "    y_train,\n",
    "    X_test,\n",
    "    y_test\n",
    ")"
   ]
  },
  {
   "cell_type": "markdown",
   "metadata": {},
   "source": [
    "## Testing with example texts"
   ]
  },
  {
   "cell_type": "code",
   "execution_count": 296,
   "metadata": {},
   "outputs": [
    {
     "name": "stdout",
     "output_type": "stream",
     "text": [
      "Logistic Regression Prediction: \n",
      "['high' 'high' 'medium' 'medium' 'medium' 'medium' 'high' 'high' 'medium'\n",
      " 'low']\n",
      "SVM Prediction: \n",
      "['high' 'low' 'medium' 'medium' 'medium' 'medium' 'medium' 'high' 'low'\n",
      " 'low']\n"
     ]
    }
   ],
   "source": [
    "# Example of prediction\n",
    "example_text = pd.DataFrame([\n",
    "   'This is an urgent issue',\n",
    "    'I need help with my account right now without delay',\n",
    "    'I have a question about my account',\n",
    "    'I cannot access my account. Please help me',\n",
    "    'I am unable to access my account. I have tried resetting my password but it is not working. I need help urgently',\n",
    "    \"Query regarding my account. Please help me\",\n",
    "    \"The server is down. Please fix it as soon as possible\",\n",
    "    \"System Issue. Need help before the end of the day\",\n",
    "    \"Jira tickets need to be updated. Please do it as soon as possible. no hurry\",\n",
    "    \"Not Critical. Please ensure system is up and running without any issues before the end of the day.\",\n",
    "    ],\n",
    "    columns=['text']\n",
    ")\n",
    "\n",
    "print(f\"Logistic Regression Prediction: \\n{pipeline_logreg.predict(example_text)}\")\n",
    "print(f\"SVM Prediction: \\n{pipeline_svm.predict(example_text)}\")\n"
   ]
  },
  {
   "cell_type": "markdown",
   "metadata": {},
   "source": [
    "# **Using Urgency**"
   ]
  },
  {
   "cell_type": "markdown",
   "metadata": {},
   "source": [
    "## Train-Test Split "
   ]
  },
  {
   "cell_type": "code",
   "execution_count": 403,
   "metadata": {},
   "outputs": [
    {
     "name": "stdout",
     "output_type": "stream",
     "text": [
      "X_train shape: (8854, 1)\n",
      "X_test shape: (2214, 1)\n"
     ]
    }
   ],
   "source": [
    "X = df[['text']]\n",
    "y = df['label']\n",
    "X_train_urgency, X_test_urgency, y_train_urgency, y_test_urgency = get_train_test_data(X, y)"
   ]
  },
  {
   "cell_type": "markdown",
   "metadata": {},
   "source": [
    "## Model Training - using Pipeline"
   ]
  },
  {
   "cell_type": "code",
   "execution_count": 405,
   "metadata": {},
   "outputs": [
    {
     "name": "stdout",
     "output_type": "stream",
     "text": [
      "Classification Report: \n",
      "              precision    recall  f1-score   support\n",
      "\n",
      "           0       0.86      0.95      0.91      1152\n",
      "           1       0.94      0.84      0.89      1062\n",
      "\n",
      "    accuracy                           0.90      2214\n",
      "   macro avg       0.90      0.89      0.90      2214\n",
      "weighted avg       0.90      0.90      0.90      2214\n",
      "\n"
     ]
    }
   ],
   "source": [
    "# Logisitic Regression\n",
    "pipeline_logreg = train_model(\n",
    "    LogisticRegression(random_state=42, max_iter=1000), \n",
    "    TfidfVectorizer(),\n",
    "    X_train_urgency, \n",
    "    y_train_urgency,\n",
    "    X_test_urgency,\n",
    "    y_test_urgency\n",
    ") "
   ]
  },
  {
   "cell_type": "code",
   "execution_count": 407,
   "metadata": {},
   "outputs": [
    {
     "name": "stdout",
     "output_type": "stream",
     "text": [
      "Classification Report: \n",
      "              precision    recall  f1-score   support\n",
      "\n",
      "           0       0.88      0.94      0.91      1152\n",
      "           1       0.93      0.86      0.90      1062\n",
      "\n",
      "    accuracy                           0.90      2214\n",
      "   macro avg       0.91      0.90      0.90      2214\n",
      "weighted avg       0.91      0.90      0.90      2214\n",
      "\n"
     ]
    }
   ],
   "source": [
    "# Support Vector Machine\n",
    "pipeline_svm = train_model(\n",
    "    SVC(random_state=42, kernel='linear'),\n",
    "    TfidfVectorizer(), \n",
    "    X_train_urgency,\n",
    "    y_train_urgency,\n",
    "    X_test_urgency,\n",
    "    y_test_urgency\n",
    ")"
   ]
  },
  {
   "cell_type": "code",
   "execution_count": 470,
   "metadata": {},
   "outputs": [
    {
     "name": "stdout",
     "output_type": "stream",
     "text": [
      "Logistic Regression Prediction: \n",
      "[1 0 0 1 0 0 1 0 0 0]\n",
      "\n",
      "SVM Prediction: \n",
      "['high' 'low' 'medium' 'medium' 'medium' 'medium' 'medium' 'high' 'low'\n",
      " 'low']\n"
     ]
    }
   ],
   "source": [
    "\n",
    "example_text = pd.DataFrame([\n",
    "   'This is an urgent issue',\n",
    "    'I need help with my account right now without delay',\n",
    "    'I have a question about my account',\n",
    "    'I cannot access my account. Please help me',\n",
    "    'I am unable to access my account. I have tried resetting my password but it is not working. I need help urgently',\n",
    "    \"Query regarding my account. Please help me\",\n",
    "    \"The server is down. Please fix it as soon as possible\",\n",
    "    \"System Issue. Need help before the end of the day\",\n",
    "    \"Jira tickets need to be updated. Please do it as soon as possible. no hurry\",\n",
    "    \"Not Critical. Please ensure system is up and running without any issues before the end of the day.\",\n",
    "    ],\n",
    "    columns=['text']\n",
    ")\n",
    "\n",
    "print(f\"Logistic Regression Prediction: \\n{pipeline_logreg.predict(example_text)}\\n\")\n",
    "print(f\"SVM Prediction: \\n{pipeline_svm.predict(example_text)}\")"
   ]
  },
  {
   "cell_type": "markdown",
   "metadata": {},
   "source": [
    "# Cross Validation using K-Fold"
   ]
  },
  {
   "cell_type": "code",
   "execution_count": 409,
   "metadata": {},
   "outputs": [],
   "source": [
    "\n",
    "# Function to train and validate the model using K-Fold Cross-Validation\n",
    "def cross_validate_model(model, tfidf_vectorizer, X, y, cv=5, scoring='precision'):\n",
    "    text_transformer = Pipeline([\n",
    "        ('tfidf', tfidf_vectorizer)\n",
    "    ])\n",
    "\n",
    "    preprocessor = ColumnTransformer(\n",
    "        transformers=[\n",
    "            ('text_tfidf', text_transformer, 'text')\n",
    "        ],\n",
    "    )\n",
    "\n",
    "    pipeline = Pipeline([\n",
    "        ('preprocessor', preprocessor),\n",
    "        ('classifier', model)\n",
    "    ])\n",
    "\n",
    "    # Stratified K-Fold to maintain class distribution\n",
    "    skf = StratifiedKFold(n_splits=cv, shuffle=True, random_state=42)\n",
    "\n",
    "    # Use cross_val_score to evaluate accuracy\n",
    "    scores = cross_val_score(\n",
    "        pipeline, \n",
    "        X, \n",
    "        y, \n",
    "        cv=skf, \n",
    "        scoring=scoring\n",
    "    )\n",
    "\n",
    "    print(f\"Cross-Validation {scoring.capitalize} Scores: {scores}\")\n",
    "    print(f\"Mean: {np.mean(scores):.4f}\")\n",
    "    print(f\"Standard Deviation: {np.std(scores):.4f}\")\n",
    "\n",
    "    return scores\n"
   ]
  },
  {
   "cell_type": "code",
   "execution_count": 377,
   "metadata": {},
   "outputs": [
    {
     "name": "stdout",
     "output_type": "stream",
     "text": [
      "Cross-Validation <built-in method capitalize of str object at 0x1027bd0b0> Scores: [0.93170234 0.93865031 0.92987805 0.934      0.93699187]\n",
      "Mean: 0.9342\n",
      "Standard Deviation: 0.0032\n"
     ]
    }
   ],
   "source": [
    "# Testing accuracy\n",
    "scored_svm = cross_validate_model(\n",
    "    SVC(random_state=42, kernel='linear'), \n",
    "    TfidfVectorizer(),\n",
    "    df[['text']], \n",
    "    df['urgency'].map({'urgent': 1, 'not_urgent': 0})\n",
    ")"
   ]
  },
  {
   "cell_type": "markdown",
   "metadata": {},
   "source": [
    "## Fine Tuning - using GridSearchCV"
   ]
  },
  {
   "cell_type": "code",
   "execution_count": 379,
   "metadata": {},
   "outputs": [],
   "source": [
    "from sklearn.model_selection import GridSearchCV\n",
    "\n",
    "def hyperparameter_tuning(model, X_train, y_train, param_grid):\n",
    "    text_transformer = Pipeline([\n",
    "        ('tfidf', TfidfVectorizer())\n",
    "    ])\n",
    "\n",
    "    preprocessor = ColumnTransformer(\n",
    "        transformers=[\n",
    "            ('text_tfidf', text_transformer, 'text')\n",
    "        ],\n",
    "    )\n",
    "\n",
    "    pipeline = Pipeline([\n",
    "        ('preprocessor', preprocessor),\n",
    "        ('classifier', model)\n",
    "    ])\n",
    "\n",
    "    grid_search = GridSearchCV(\n",
    "        estimator=pipeline,\n",
    "        param_grid=param_grid,\n",
    "        cv=5,\n",
    "        scoring='precision',\n",
    "        verbose=2\n",
    "    )\n",
    "    grid_search.fit(X_train, y_train)\n",
    "    print(f\"Best Parameters: {grid_search.best_params_}\")\n",
    "    print(f\"Best Score: {grid_search.best_score_}\")\n",
    "    return grid_search.best_estimator_\n"
   ]
  },
  {
   "cell_type": "code",
   "execution_count": 380,
   "metadata": {},
   "outputs": [],
   "source": [
    "param_grid = {\n",
    "    'classifier__C': [0.1, 1, 10],\n",
    "    'classifier__kernel': ['linear'],\n",
    "    'preprocessor__text_tfidf__tfidf__max_features': [1000, 5000, None],\n",
    "    'preprocessor__text_tfidf__tfidf__ngram_range': [(1, 1), (1, 2)],\n",
    "}"
   ]
  },
  {
   "cell_type": "code",
   "execution_count": 381,
   "metadata": {},
   "outputs": [
    {
     "name": "stdout",
     "output_type": "stream",
     "text": [
      "Fitting 5 folds for each of 18 candidates, totalling 90 fits\n",
      "[CV] END classifier__C=0.1, classifier__kernel=linear, preprocessor__text_tfidf__tfidf__max_features=1000, preprocessor__text_tfidf__tfidf__ngram_range=(1, 1); total time=   3.5s\n",
      "[CV] END classifier__C=0.1, classifier__kernel=linear, preprocessor__text_tfidf__tfidf__max_features=1000, preprocessor__text_tfidf__tfidf__ngram_range=(1, 1); total time=   3.4s\n",
      "[CV] END classifier__C=0.1, classifier__kernel=linear, preprocessor__text_tfidf__tfidf__max_features=1000, preprocessor__text_tfidf__tfidf__ngram_range=(1, 1); total time=   3.5s\n",
      "[CV] END classifier__C=0.1, classifier__kernel=linear, preprocessor__text_tfidf__tfidf__max_features=1000, preprocessor__text_tfidf__tfidf__ngram_range=(1, 1); total time=   3.5s\n",
      "[CV] END classifier__C=0.1, classifier__kernel=linear, preprocessor__text_tfidf__tfidf__max_features=1000, preprocessor__text_tfidf__tfidf__ngram_range=(1, 1); total time=   3.6s\n",
      "[CV] END classifier__C=0.1, classifier__kernel=linear, preprocessor__text_tfidf__tfidf__max_features=1000, preprocessor__text_tfidf__tfidf__ngram_range=(1, 2); total time=   4.7s\n",
      "[CV] END classifier__C=0.1, classifier__kernel=linear, preprocessor__text_tfidf__tfidf__max_features=1000, preprocessor__text_tfidf__tfidf__ngram_range=(1, 2); total time=   4.6s\n",
      "[CV] END classifier__C=0.1, classifier__kernel=linear, preprocessor__text_tfidf__tfidf__max_features=1000, preprocessor__text_tfidf__tfidf__ngram_range=(1, 2); total time=   4.0s\n",
      "[CV] END classifier__C=0.1, classifier__kernel=linear, preprocessor__text_tfidf__tfidf__max_features=1000, preprocessor__text_tfidf__tfidf__ngram_range=(1, 2); total time=   4.7s\n",
      "[CV] END classifier__C=0.1, classifier__kernel=linear, preprocessor__text_tfidf__tfidf__max_features=1000, preprocessor__text_tfidf__tfidf__ngram_range=(1, 2); total time=   4.5s\n",
      "[CV] END classifier__C=0.1, classifier__kernel=linear, preprocessor__text_tfidf__tfidf__max_features=5000, preprocessor__text_tfidf__tfidf__ngram_range=(1, 1); total time=   4.4s\n",
      "[CV] END classifier__C=0.1, classifier__kernel=linear, preprocessor__text_tfidf__tfidf__max_features=5000, preprocessor__text_tfidf__tfidf__ngram_range=(1, 1); total time=   4.2s\n",
      "[CV] END classifier__C=0.1, classifier__kernel=linear, preprocessor__text_tfidf__tfidf__max_features=5000, preprocessor__text_tfidf__tfidf__ngram_range=(1, 1); total time=   4.3s\n",
      "[CV] END classifier__C=0.1, classifier__kernel=linear, preprocessor__text_tfidf__tfidf__max_features=5000, preprocessor__text_tfidf__tfidf__ngram_range=(1, 1); total time=   4.3s\n",
      "[CV] END classifier__C=0.1, classifier__kernel=linear, preprocessor__text_tfidf__tfidf__max_features=5000, preprocessor__text_tfidf__tfidf__ngram_range=(1, 1); total time=   4.9s\n",
      "[CV] END classifier__C=0.1, classifier__kernel=linear, preprocessor__text_tfidf__tfidf__max_features=5000, preprocessor__text_tfidf__tfidf__ngram_range=(1, 2); total time=   6.6s\n",
      "[CV] END classifier__C=0.1, classifier__kernel=linear, preprocessor__text_tfidf__tfidf__max_features=5000, preprocessor__text_tfidf__tfidf__ngram_range=(1, 2); total time=   6.8s\n",
      "[CV] END classifier__C=0.1, classifier__kernel=linear, preprocessor__text_tfidf__tfidf__max_features=5000, preprocessor__text_tfidf__tfidf__ngram_range=(1, 2); total time=   6.8s\n",
      "[CV] END classifier__C=0.1, classifier__kernel=linear, preprocessor__text_tfidf__tfidf__max_features=5000, preprocessor__text_tfidf__tfidf__ngram_range=(1, 2); total time=   6.6s\n",
      "[CV] END classifier__C=0.1, classifier__kernel=linear, preprocessor__text_tfidf__tfidf__max_features=5000, preprocessor__text_tfidf__tfidf__ngram_range=(1, 2); total time=   6.8s\n",
      "[CV] END classifier__C=0.1, classifier__kernel=linear, preprocessor__text_tfidf__tfidf__max_features=None, preprocessor__text_tfidf__tfidf__ngram_range=(1, 1); total time=   4.1s\n",
      "[CV] END classifier__C=0.1, classifier__kernel=linear, preprocessor__text_tfidf__tfidf__max_features=None, preprocessor__text_tfidf__tfidf__ngram_range=(1, 1); total time=   4.9s\n",
      "[CV] END classifier__C=0.1, classifier__kernel=linear, preprocessor__text_tfidf__tfidf__max_features=None, preprocessor__text_tfidf__tfidf__ngram_range=(1, 1); total time=   6.4s\n",
      "[CV] END classifier__C=0.1, classifier__kernel=linear, preprocessor__text_tfidf__tfidf__max_features=None, preprocessor__text_tfidf__tfidf__ngram_range=(1, 1); total time=   4.5s\n",
      "[CV] END classifier__C=0.1, classifier__kernel=linear, preprocessor__text_tfidf__tfidf__max_features=None, preprocessor__text_tfidf__tfidf__ngram_range=(1, 1); total time=   4.2s\n",
      "[CV] END classifier__C=0.1, classifier__kernel=linear, preprocessor__text_tfidf__tfidf__max_features=None, preprocessor__text_tfidf__tfidf__ngram_range=(1, 2); total time=   9.9s\n",
      "[CV] END classifier__C=0.1, classifier__kernel=linear, preprocessor__text_tfidf__tfidf__max_features=None, preprocessor__text_tfidf__tfidf__ngram_range=(1, 2); total time=  10.5s\n",
      "[CV] END classifier__C=0.1, classifier__kernel=linear, preprocessor__text_tfidf__tfidf__max_features=None, preprocessor__text_tfidf__tfidf__ngram_range=(1, 2); total time=  10.1s\n",
      "[CV] END classifier__C=0.1, classifier__kernel=linear, preprocessor__text_tfidf__tfidf__max_features=None, preprocessor__text_tfidf__tfidf__ngram_range=(1, 2); total time=  10.3s\n",
      "[CV] END classifier__C=0.1, classifier__kernel=linear, preprocessor__text_tfidf__tfidf__max_features=None, preprocessor__text_tfidf__tfidf__ngram_range=(1, 2); total time=  10.0s\n",
      "[CV] END classifier__C=1, classifier__kernel=linear, preprocessor__text_tfidf__tfidf__max_features=1000, preprocessor__text_tfidf__tfidf__ngram_range=(1, 1); total time=   2.4s\n",
      "[CV] END classifier__C=1, classifier__kernel=linear, preprocessor__text_tfidf__tfidf__max_features=1000, preprocessor__text_tfidf__tfidf__ngram_range=(1, 1); total time=   2.4s\n",
      "[CV] END classifier__C=1, classifier__kernel=linear, preprocessor__text_tfidf__tfidf__max_features=1000, preprocessor__text_tfidf__tfidf__ngram_range=(1, 1); total time=   2.4s\n",
      "[CV] END classifier__C=1, classifier__kernel=linear, preprocessor__text_tfidf__tfidf__max_features=1000, preprocessor__text_tfidf__tfidf__ngram_range=(1, 1); total time=   2.4s\n",
      "[CV] END classifier__C=1, classifier__kernel=linear, preprocessor__text_tfidf__tfidf__max_features=1000, preprocessor__text_tfidf__tfidf__ngram_range=(1, 1); total time=   2.4s\n",
      "[CV] END classifier__C=1, classifier__kernel=linear, preprocessor__text_tfidf__tfidf__max_features=1000, preprocessor__text_tfidf__tfidf__ngram_range=(1, 2); total time=   3.1s\n",
      "[CV] END classifier__C=1, classifier__kernel=linear, preprocessor__text_tfidf__tfidf__max_features=1000, preprocessor__text_tfidf__tfidf__ngram_range=(1, 2); total time=   3.2s\n",
      "[CV] END classifier__C=1, classifier__kernel=linear, preprocessor__text_tfidf__tfidf__max_features=1000, preprocessor__text_tfidf__tfidf__ngram_range=(1, 2); total time=   3.1s\n",
      "[CV] END classifier__C=1, classifier__kernel=linear, preprocessor__text_tfidf__tfidf__max_features=1000, preprocessor__text_tfidf__tfidf__ngram_range=(1, 2); total time=   3.2s\n",
      "[CV] END classifier__C=1, classifier__kernel=linear, preprocessor__text_tfidf__tfidf__max_features=1000, preprocessor__text_tfidf__tfidf__ngram_range=(1, 2); total time=   3.1s\n",
      "[CV] END classifier__C=1, classifier__kernel=linear, preprocessor__text_tfidf__tfidf__max_features=5000, preprocessor__text_tfidf__tfidf__ngram_range=(1, 1); total time=   3.0s\n",
      "[CV] END classifier__C=1, classifier__kernel=linear, preprocessor__text_tfidf__tfidf__max_features=5000, preprocessor__text_tfidf__tfidf__ngram_range=(1, 1); total time=   3.3s\n",
      "[CV] END classifier__C=1, classifier__kernel=linear, preprocessor__text_tfidf__tfidf__max_features=5000, preprocessor__text_tfidf__tfidf__ngram_range=(1, 1); total time=   3.3s\n",
      "[CV] END classifier__C=1, classifier__kernel=linear, preprocessor__text_tfidf__tfidf__max_features=5000, preprocessor__text_tfidf__tfidf__ngram_range=(1, 1); total time=   3.1s\n",
      "[CV] END classifier__C=1, classifier__kernel=linear, preprocessor__text_tfidf__tfidf__max_features=5000, preprocessor__text_tfidf__tfidf__ngram_range=(1, 1); total time=   3.1s\n",
      "[CV] END classifier__C=1, classifier__kernel=linear, preprocessor__text_tfidf__tfidf__max_features=5000, preprocessor__text_tfidf__tfidf__ngram_range=(1, 2); total time=   4.8s\n",
      "[CV] END classifier__C=1, classifier__kernel=linear, preprocessor__text_tfidf__tfidf__max_features=5000, preprocessor__text_tfidf__tfidf__ngram_range=(1, 2); total time=   4.7s\n",
      "[CV] END classifier__C=1, classifier__kernel=linear, preprocessor__text_tfidf__tfidf__max_features=5000, preprocessor__text_tfidf__tfidf__ngram_range=(1, 2); total time=   4.3s\n",
      "[CV] END classifier__C=1, classifier__kernel=linear, preprocessor__text_tfidf__tfidf__max_features=5000, preprocessor__text_tfidf__tfidf__ngram_range=(1, 2); total time=   4.2s\n",
      "[CV] END classifier__C=1, classifier__kernel=linear, preprocessor__text_tfidf__tfidf__max_features=5000, preprocessor__text_tfidf__tfidf__ngram_range=(1, 2); total time=   4.4s\n",
      "[CV] END classifier__C=1, classifier__kernel=linear, preprocessor__text_tfidf__tfidf__max_features=None, preprocessor__text_tfidf__tfidf__ngram_range=(1, 1); total time=   3.1s\n",
      "[CV] END classifier__C=1, classifier__kernel=linear, preprocessor__text_tfidf__tfidf__max_features=None, preprocessor__text_tfidf__tfidf__ngram_range=(1, 1); total time=   3.5s\n",
      "[CV] END classifier__C=1, classifier__kernel=linear, preprocessor__text_tfidf__tfidf__max_features=None, preprocessor__text_tfidf__tfidf__ngram_range=(1, 1); total time=   2.9s\n",
      "[CV] END classifier__C=1, classifier__kernel=linear, preprocessor__text_tfidf__tfidf__max_features=None, preprocessor__text_tfidf__tfidf__ngram_range=(1, 1); total time=   3.0s\n",
      "[CV] END classifier__C=1, classifier__kernel=linear, preprocessor__text_tfidf__tfidf__max_features=None, preprocessor__text_tfidf__tfidf__ngram_range=(1, 1); total time=   3.0s\n",
      "[CV] END classifier__C=1, classifier__kernel=linear, preprocessor__text_tfidf__tfidf__max_features=None, preprocessor__text_tfidf__tfidf__ngram_range=(1, 2); total time=   7.6s\n",
      "[CV] END classifier__C=1, classifier__kernel=linear, preprocessor__text_tfidf__tfidf__max_features=None, preprocessor__text_tfidf__tfidf__ngram_range=(1, 2); total time=   8.2s\n",
      "[CV] END classifier__C=1, classifier__kernel=linear, preprocessor__text_tfidf__tfidf__max_features=None, preprocessor__text_tfidf__tfidf__ngram_range=(1, 2); total time=   7.8s\n",
      "[CV] END classifier__C=1, classifier__kernel=linear, preprocessor__text_tfidf__tfidf__max_features=None, preprocessor__text_tfidf__tfidf__ngram_range=(1, 2); total time=   7.6s\n",
      "[CV] END classifier__C=1, classifier__kernel=linear, preprocessor__text_tfidf__tfidf__max_features=None, preprocessor__text_tfidf__tfidf__ngram_range=(1, 2); total time=   7.8s\n",
      "[CV] END classifier__C=10, classifier__kernel=linear, preprocessor__text_tfidf__tfidf__max_features=1000, preprocessor__text_tfidf__tfidf__ngram_range=(1, 1); total time=   2.1s\n",
      "[CV] END classifier__C=10, classifier__kernel=linear, preprocessor__text_tfidf__tfidf__max_features=1000, preprocessor__text_tfidf__tfidf__ngram_range=(1, 1); total time=   2.1s\n",
      "[CV] END classifier__C=10, classifier__kernel=linear, preprocessor__text_tfidf__tfidf__max_features=1000, preprocessor__text_tfidf__tfidf__ngram_range=(1, 1); total time=   2.1s\n",
      "[CV] END classifier__C=10, classifier__kernel=linear, preprocessor__text_tfidf__tfidf__max_features=1000, preprocessor__text_tfidf__tfidf__ngram_range=(1, 1); total time=   2.1s\n",
      "[CV] END classifier__C=10, classifier__kernel=linear, preprocessor__text_tfidf__tfidf__max_features=1000, preprocessor__text_tfidf__tfidf__ngram_range=(1, 1); total time=   2.1s\n",
      "[CV] END classifier__C=10, classifier__kernel=linear, preprocessor__text_tfidf__tfidf__max_features=1000, preprocessor__text_tfidf__tfidf__ngram_range=(1, 2); total time=   2.7s\n",
      "[CV] END classifier__C=10, classifier__kernel=linear, preprocessor__text_tfidf__tfidf__max_features=1000, preprocessor__text_tfidf__tfidf__ngram_range=(1, 2); total time=   2.7s\n",
      "[CV] END classifier__C=10, classifier__kernel=linear, preprocessor__text_tfidf__tfidf__max_features=1000, preprocessor__text_tfidf__tfidf__ngram_range=(1, 2); total time=   3.0s\n",
      "[CV] END classifier__C=10, classifier__kernel=linear, preprocessor__text_tfidf__tfidf__max_features=1000, preprocessor__text_tfidf__tfidf__ngram_range=(1, 2); total time=   2.9s\n",
      "[CV] END classifier__C=10, classifier__kernel=linear, preprocessor__text_tfidf__tfidf__max_features=1000, preprocessor__text_tfidf__tfidf__ngram_range=(1, 2); total time=   2.7s\n",
      "[CV] END classifier__C=10, classifier__kernel=linear, preprocessor__text_tfidf__tfidf__max_features=5000, preprocessor__text_tfidf__tfidf__ngram_range=(1, 1); total time=   2.4s\n",
      "[CV] END classifier__C=10, classifier__kernel=linear, preprocessor__text_tfidf__tfidf__max_features=5000, preprocessor__text_tfidf__tfidf__ngram_range=(1, 1); total time=   2.5s\n",
      "[CV] END classifier__C=10, classifier__kernel=linear, preprocessor__text_tfidf__tfidf__max_features=5000, preprocessor__text_tfidf__tfidf__ngram_range=(1, 1); total time=   2.4s\n",
      "[CV] END classifier__C=10, classifier__kernel=linear, preprocessor__text_tfidf__tfidf__max_features=5000, preprocessor__text_tfidf__tfidf__ngram_range=(1, 1); total time=   2.6s\n",
      "[CV] END classifier__C=10, classifier__kernel=linear, preprocessor__text_tfidf__tfidf__max_features=5000, preprocessor__text_tfidf__tfidf__ngram_range=(1, 1); total time=   2.6s\n",
      "[CV] END classifier__C=10, classifier__kernel=linear, preprocessor__text_tfidf__tfidf__max_features=5000, preprocessor__text_tfidf__tfidf__ngram_range=(1, 2); total time=   3.8s\n",
      "[CV] END classifier__C=10, classifier__kernel=linear, preprocessor__text_tfidf__tfidf__max_features=5000, preprocessor__text_tfidf__tfidf__ngram_range=(1, 2); total time=   3.5s\n",
      "[CV] END classifier__C=10, classifier__kernel=linear, preprocessor__text_tfidf__tfidf__max_features=5000, preprocessor__text_tfidf__tfidf__ngram_range=(1, 2); total time=   3.6s\n",
      "[CV] END classifier__C=10, classifier__kernel=linear, preprocessor__text_tfidf__tfidf__max_features=5000, preprocessor__text_tfidf__tfidf__ngram_range=(1, 2); total time=   4.0s\n",
      "[CV] END classifier__C=10, classifier__kernel=linear, preprocessor__text_tfidf__tfidf__max_features=5000, preprocessor__text_tfidf__tfidf__ngram_range=(1, 2); total time=   3.4s\n",
      "[CV] END classifier__C=10, classifier__kernel=linear, preprocessor__text_tfidf__tfidf__max_features=None, preprocessor__text_tfidf__tfidf__ngram_range=(1, 1); total time=   2.4s\n",
      "[CV] END classifier__C=10, classifier__kernel=linear, preprocessor__text_tfidf__tfidf__max_features=None, preprocessor__text_tfidf__tfidf__ngram_range=(1, 1); total time=   2.5s\n",
      "[CV] END classifier__C=10, classifier__kernel=linear, preprocessor__text_tfidf__tfidf__max_features=None, preprocessor__text_tfidf__tfidf__ngram_range=(1, 1); total time=   2.6s\n",
      "[CV] END classifier__C=10, classifier__kernel=linear, preprocessor__text_tfidf__tfidf__max_features=None, preprocessor__text_tfidf__tfidf__ngram_range=(1, 1); total time=   2.6s\n",
      "[CV] END classifier__C=10, classifier__kernel=linear, preprocessor__text_tfidf__tfidf__max_features=None, preprocessor__text_tfidf__tfidf__ngram_range=(1, 1); total time=   2.5s\n",
      "[CV] END classifier__C=10, classifier__kernel=linear, preprocessor__text_tfidf__tfidf__max_features=None, preprocessor__text_tfidf__tfidf__ngram_range=(1, 2); total time=   9.7s\n",
      "[CV] END classifier__C=10, classifier__kernel=linear, preprocessor__text_tfidf__tfidf__max_features=None, preprocessor__text_tfidf__tfidf__ngram_range=(1, 2); total time=   9.8s\n",
      "[CV] END classifier__C=10, classifier__kernel=linear, preprocessor__text_tfidf__tfidf__max_features=None, preprocessor__text_tfidf__tfidf__ngram_range=(1, 2); total time=   9.8s\n",
      "[CV] END classifier__C=10, classifier__kernel=linear, preprocessor__text_tfidf__tfidf__max_features=None, preprocessor__text_tfidf__tfidf__ngram_range=(1, 2); total time=   9.8s\n",
      "[CV] END classifier__C=10, classifier__kernel=linear, preprocessor__text_tfidf__tfidf__max_features=None, preprocessor__text_tfidf__tfidf__ngram_range=(1, 2); total time=   9.6s\n",
      "Best Parameters: {'classifier__C': 0.1, 'classifier__kernel': 'linear', 'preprocessor__text_tfidf__tfidf__max_features': None, 'preprocessor__text_tfidf__tfidf__ngram_range': (1, 2)}\n",
      "Best Score: 0.9576039488503655\n"
     ]
    }
   ],
   "source": [
    "best_model = hyperparameter_tuning(\n",
    "    SVC(random_state=42),\n",
    "    X_train_urgency,\n",
    "    y_train_urgency,\n",
    "    param_grid\n",
    ")"
   ]
  },
  {
   "cell_type": "markdown",
   "metadata": {},
   "source": [
    "### **Result** : Model best parameters are\n",
    "kernel : linear\n",
    "\n",
    "C value : 0.1\n",
    "\n",
    "TF-IDF Max features : None\n",
    "\n",
    "TF-IDF n-gram range: (1,2)\n"
   ]
  },
  {
   "cell_type": "markdown",
   "metadata": {},
   "source": [
    "### Hyper Parameter Tuning using RBF kernel"
   ]
  },
  {
   "cell_type": "code",
   "execution_count": 434,
   "metadata": {},
   "outputs": [
    {
     "name": "stdout",
     "output_type": "stream",
     "text": [
      "Using RBF Kernel\n",
      "Classification Report: \n",
      "              precision    recall  f1-score   support\n",
      "\n",
      "           0       0.87      0.98      0.92      1152\n",
      "           1       0.97      0.84      0.90      1062\n",
      "\n",
      "    accuracy                           0.91      2214\n",
      "   macro avg       0.92      0.91      0.91      2214\n",
      "weighted avg       0.92      0.91      0.91      2214\n",
      "\n"
     ]
    }
   ],
   "source": [
    "print(\"Using RBF Kernel\")\n",
    "pipeline_best_svm_rbf =  train_model(\n",
    "    SVC(gamma='scale', kernel='rbf', random_state=42),\n",
    "    TfidfVectorizer(ngram_range=(1, 4)),\n",
    "    X_train_urgency,\n",
    "    y_train_urgency,\n",
    "    X_test_urgency,\n",
    "    y_test_urgency\n",
    ")"
   ]
  },
  {
   "cell_type": "code",
   "execution_count": 435,
   "metadata": {},
   "outputs": [
    {
     "name": "stdout",
     "output_type": "stream",
     "text": [
      "SVM Prediction with RBF: \n",
      "[1 0 0 0 0 0 1 0 0 0]\n"
     ]
    }
   ],
   "source": [
    "\n",
    "example_text = pd.DataFrame([\n",
    "   'This is an urgent issue',\n",
    "    'I need help with my account right now without delay',\n",
    "    'I have a question about my account',\n",
    "    'I cannot access my account. Please help me',\n",
    "    'I am unable to access my account. I have tried resetting my password but it is not working. I need help urgently',\n",
    "    \"Query regarding my account. Please help me\",\n",
    "    \"The server is down. Please fix it as soon as possible\",\n",
    "    \"System Issue. Need help before the end of the day\",\n",
    "    \"Jira tickets need to be updated. Please do it as soon as possible. no hurry\",\n",
    "    \"Not Critical. Please ensure system is up and running without any issues before the end of the day.\",\n",
    "    ],\n",
    "    columns=['text']\n",
    ")\n",
    "print(f\"SVM Prediction with RBF: \\n{pipeline_best_svm_rbf.predict(example_text)}\")"
   ]
  },
  {
   "cell_type": "markdown",
   "metadata": {},
   "source": [
    "### Hyper Parameter Tuning using Linear Kernel"
   ]
  },
  {
   "cell_type": "code",
   "execution_count": 428,
   "metadata": {},
   "outputs": [
    {
     "name": "stdout",
     "output_type": "stream",
     "text": [
      "Using Linear Kernel\n",
      "Classification Report: \n",
      "              precision    recall  f1-score   support\n",
      "\n",
      "           0       0.89      0.95      0.92      1152\n",
      "           1       0.94      0.87      0.91      1062\n",
      "\n",
      "    accuracy                           0.91      2214\n",
      "   macro avg       0.92      0.91      0.91      2214\n",
      "weighted avg       0.91      0.91      0.91      2214\n",
      "\n"
     ]
    }
   ],
   "source": [
    "print(\"Using Linear Kernel\")\n",
    "pipeline_best_svm_linear =  train_model(\n",
    "    SVC(kernel='linear', random_state=42),\n",
    "    TfidfVectorizer(ngram_range=(1, 4)),\n",
    "    X_train_urgency,\n",
    "    y_train_urgency,\n",
    "    X_test_urgency,\n",
    "    y_test_urgency\n",
    ")"
   ]
  },
  {
   "cell_type": "code",
   "execution_count": 454,
   "metadata": {},
   "outputs": [
    {
     "data": {
      "text/plain": [
       "(8854, 1)"
      ]
     },
     "execution_count": 454,
     "metadata": {},
     "output_type": "execute_result"
    }
   ],
   "source": [
    "X_train_urgency.shape"
   ]
  },
  {
   "cell_type": "code",
   "execution_count": 429,
   "metadata": {},
   "outputs": [
    {
     "name": "stdout",
     "output_type": "stream",
     "text": [
      "SVM Prediction with Linear: \n",
      "[1 1 0 0 0 0 1 1 0 0]\n"
     ]
    }
   ],
   "source": [
    "# Example texts :\n",
    "#     'This is an urgent issue',\n",
    "#     'I need help with my account right now without delay',\n",
    "#     'I have a question about my account',\n",
    "#     'I cannot access my account. Please help me',\n",
    "#     'I am unable to access my account. I have tried resetting my password but it is not working. I need help urgently',\n",
    "#     \"Query regarding my account. Please help me\",\n",
    "#     \"The server is down. Please fix it as soon as possible\",\n",
    "#     \"System Issue. Need help before the end of the day\",\n",
    "#     \"Jira tickets need to be updated. Please do it as soon as possible. no hurry\",\n",
    "#     \"Not Critical. Please ensure system is up and running without any issues before the end of the day.\",\n",
    "\n",
    "# example \n",
    "example_text = pd.DataFrame(\n",
    "   { 'texts': [\n",
    "   'This is an urgent issue',\n",
    "    'I need help with my account right now without delay',\n",
    "    'I have a question about my account',\n",
    "    'I cannot access my account. Please help me',\n",
    "    'I am unable to access my account. I have tried resetting my password but it is not working. I need help urgently',\n",
    "    \"Query regarding my account. Please help me\",\n",
    "    \"The server is down. Please fix it as soon as possible\",\n",
    "    \"System Issue. Need help before the end of the day\",\n",
    "    \"Jira tickets need to be updated. Please do it as soon as possible. no hurry\",\n",
    "    \"Not Critical. Please ensure system is up and running without any issues before the end of the day.\",\n",
    "    ],\n",
    "    'labels': [1, 1, 0, 1, 1, 0, 1, 1, 0, 0]}\n",
    ")\n",
    "\n",
    "print(f\"SVM Prediction with Linear: \\n{pipeline_best_svm_linear.predict(example_text)}\")"
   ]
  },
  {
   "cell_type": "code",
   "execution_count": 430,
   "metadata": {},
   "outputs": [
    {
     "name": "stdout",
     "output_type": "stream",
     "text": [
      "Cross-Validation <built-in method capitalize of str object at 0x1027bd0b0> Scores: [0.94320487 0.937751   0.94147326 0.94053518 0.94651867]\n",
      "Mean: 0.9419\n",
      "Standard Deviation: 0.0029\n"
     ]
    }
   ],
   "source": [
    "# Cross validation after hyperparameter tuning\n",
    "scored_svm_rbf = cross_validate_model(\n",
    "    SVC(kernel='linear', random_state=42),\n",
    "    TfidfVectorizer(ngram_range=(1, 4)),\n",
    "    df[['text']],\n",
    "    df['urgency'].map({'urgent': 1, 'not_urgent': 0})\n",
    ")\n"
   ]
  },
  {
   "cell_type": "markdown",
   "metadata": {},
   "source": [
    "## Using Word2Vec"
   ]
  },
  {
   "cell_type": "code",
   "execution_count": 450,
   "metadata": {},
   "outputs": [],
   "source": [
    "from sklearn.base import BaseEstimator, TransformerMixin\n",
    "from sentence_transformers import SentenceTransformer\n",
    "import numpy as np\n",
    "from sklearn.ensemble import RandomForestClassifier\n",
    " \n",
    " \n",
    "class BertTransformer(BaseEstimator, TransformerMixin):\n",
    "    def __init__(self, model='bert-base-nli-mean-tokens'):\n",
    "        self.model_name = model\n",
    "        self.model = SentenceTransformer(self.model_name)\n",
    " \n",
    "    def fit(self, X, y=None):\n",
    "        # No training is required for SentenceTransformer\n",
    "        return self\n",
    " \n",
    "    def transform(self, X):\n",
    "        # Ensure X is converted to a list of strings\n",
    "        if isinstance(X, np.ndarray):\n",
    "            X = X.tolist()\n",
    "        elif isinstance(X, pd.Series):  # If input is a pandas series\n",
    "            X = X.to_list()\n",
    " \n",
    "        # Generate sentence embeddings\n",
    "        embeddings = self.model.encode(X, show_progress_bar=False)\n",
    "        return np.array(embeddings)  # Ensure the output is a numpy array"
   ]
  },
  {
   "cell_type": "code",
   "execution_count": 453,
   "metadata": {},
   "outputs": [
    {
     "ename": "KeyError",
     "evalue": "np.int64(0)",
     "output_type": "error",
     "traceback": [
      "\u001b[0;31m---------------------------------------------------------------------------\u001b[0m",
      "\u001b[0;31mKeyError\u001b[0m                                  Traceback (most recent call last)",
      "File \u001b[0;32m~/Library/Python/3.9/lib/python/site-packages/pandas/core/indexes/base.py:3805\u001b[0m, in \u001b[0;36mIndex.get_loc\u001b[0;34m(self, key)\u001b[0m\n\u001b[1;32m   3804\u001b[0m \u001b[38;5;28;01mtry\u001b[39;00m:\n\u001b[0;32m-> 3805\u001b[0m     \u001b[38;5;28;01mreturn\u001b[39;00m \u001b[38;5;28;43mself\u001b[39;49m\u001b[38;5;241;43m.\u001b[39;49m\u001b[43m_engine\u001b[49m\u001b[38;5;241;43m.\u001b[39;49m\u001b[43mget_loc\u001b[49m\u001b[43m(\u001b[49m\u001b[43mcasted_key\u001b[49m\u001b[43m)\u001b[49m\n\u001b[1;32m   3806\u001b[0m \u001b[38;5;28;01mexcept\u001b[39;00m \u001b[38;5;167;01mKeyError\u001b[39;00m \u001b[38;5;28;01mas\u001b[39;00m err:\n",
      "File \u001b[0;32mindex.pyx:167\u001b[0m, in \u001b[0;36mpandas._libs.index.IndexEngine.get_loc\u001b[0;34m()\u001b[0m\n",
      "File \u001b[0;32mindex.pyx:196\u001b[0m, in \u001b[0;36mpandas._libs.index.IndexEngine.get_loc\u001b[0;34m()\u001b[0m\n",
      "File \u001b[0;32mpandas/_libs/hashtable_class_helper.pxi:7081\u001b[0m, in \u001b[0;36mpandas._libs.hashtable.PyObjectHashTable.get_item\u001b[0;34m()\u001b[0m\n",
      "File \u001b[0;32mpandas/_libs/hashtable_class_helper.pxi:7089\u001b[0m, in \u001b[0;36mpandas._libs.hashtable.PyObjectHashTable.get_item\u001b[0;34m()\u001b[0m\n",
      "\u001b[0;31mKeyError\u001b[0m: np.int64(0)",
      "\nThe above exception was the direct cause of the following exception:\n",
      "\u001b[0;31mKeyError\u001b[0m                                  Traceback (most recent call last)",
      "Cell \u001b[0;32mIn[453], line 8\u001b[0m\n\u001b[1;32m      2\u001b[0m pipeline \u001b[38;5;241m=\u001b[39m Pipeline([\n\u001b[1;32m      3\u001b[0m     (\u001b[38;5;124m'\u001b[39m\u001b[38;5;124mbert_vectorizer\u001b[39m\u001b[38;5;124m'\u001b[39m, BertTransformer()),\n\u001b[1;32m      4\u001b[0m     (\u001b[38;5;124m'\u001b[39m\u001b[38;5;124mclassifier\u001b[39m\u001b[38;5;124m'\u001b[39m, RandomForestClassifier(random_state\u001b[38;5;241m=\u001b[39m\u001b[38;5;241m42\u001b[39m))\n\u001b[1;32m      5\u001b[0m ])\n\u001b[1;32m      7\u001b[0m \u001b[38;5;66;03m# Fit the pipeline\u001b[39;00m\n\u001b[0;32m----> 8\u001b[0m \u001b[43mpipeline\u001b[49m\u001b[38;5;241;43m.\u001b[39;49m\u001b[43mfit\u001b[49m\u001b[43m(\u001b[49m\u001b[43mX_train_urgency\u001b[49m\u001b[43m,\u001b[49m\u001b[43m \u001b[49m\u001b[43my_train_urgency\u001b[49m\u001b[43m)\u001b[49m\n\u001b[1;32m     10\u001b[0m \u001b[38;5;66;03m# Make predictions\u001b[39;00m\n\u001b[1;32m     11\u001b[0m y_pred \u001b[38;5;241m=\u001b[39m pipeline\u001b[38;5;241m.\u001b[39mpredict(X_test_urgency)\n",
      "File \u001b[0;32m~/Library/Python/3.9/lib/python/site-packages/sklearn/base.py:1389\u001b[0m, in \u001b[0;36m_fit_context.<locals>.decorator.<locals>.wrapper\u001b[0;34m(estimator, *args, **kwargs)\u001b[0m\n\u001b[1;32m   1382\u001b[0m     estimator\u001b[38;5;241m.\u001b[39m_validate_params()\n\u001b[1;32m   1384\u001b[0m \u001b[38;5;28;01mwith\u001b[39;00m config_context(\n\u001b[1;32m   1385\u001b[0m     skip_parameter_validation\u001b[38;5;241m=\u001b[39m(\n\u001b[1;32m   1386\u001b[0m         prefer_skip_nested_validation \u001b[38;5;129;01mor\u001b[39;00m global_skip_validation\n\u001b[1;32m   1387\u001b[0m     )\n\u001b[1;32m   1388\u001b[0m ):\n\u001b[0;32m-> 1389\u001b[0m     \u001b[38;5;28;01mreturn\u001b[39;00m \u001b[43mfit_method\u001b[49m\u001b[43m(\u001b[49m\u001b[43mestimator\u001b[49m\u001b[43m,\u001b[49m\u001b[43m \u001b[49m\u001b[38;5;241;43m*\u001b[39;49m\u001b[43margs\u001b[49m\u001b[43m,\u001b[49m\u001b[43m \u001b[49m\u001b[38;5;241;43m*\u001b[39;49m\u001b[38;5;241;43m*\u001b[39;49m\u001b[43mkwargs\u001b[49m\u001b[43m)\u001b[49m\n",
      "File \u001b[0;32m~/Library/Python/3.9/lib/python/site-packages/sklearn/pipeline.py:652\u001b[0m, in \u001b[0;36mPipeline.fit\u001b[0;34m(self, X, y, **params)\u001b[0m\n\u001b[1;32m    645\u001b[0m     \u001b[38;5;28;01mraise\u001b[39;00m \u001b[38;5;167;01mValueError\u001b[39;00m(\n\u001b[1;32m    646\u001b[0m         \u001b[38;5;124m\"\u001b[39m\u001b[38;5;124mThe `transform_input` parameter can only be set if metadata \u001b[39m\u001b[38;5;124m\"\u001b[39m\n\u001b[1;32m    647\u001b[0m         \u001b[38;5;124m\"\u001b[39m\u001b[38;5;124mrouting is enabled. You can enable metadata routing using \u001b[39m\u001b[38;5;124m\"\u001b[39m\n\u001b[1;32m    648\u001b[0m         \u001b[38;5;124m\"\u001b[39m\u001b[38;5;124m`sklearn.set_config(enable_metadata_routing=True)`.\u001b[39m\u001b[38;5;124m\"\u001b[39m\n\u001b[1;32m    649\u001b[0m     )\n\u001b[1;32m    651\u001b[0m routed_params \u001b[38;5;241m=\u001b[39m \u001b[38;5;28mself\u001b[39m\u001b[38;5;241m.\u001b[39m_check_method_params(method\u001b[38;5;241m=\u001b[39m\u001b[38;5;124m\"\u001b[39m\u001b[38;5;124mfit\u001b[39m\u001b[38;5;124m\"\u001b[39m, props\u001b[38;5;241m=\u001b[39mparams)\n\u001b[0;32m--> 652\u001b[0m Xt \u001b[38;5;241m=\u001b[39m \u001b[38;5;28;43mself\u001b[39;49m\u001b[38;5;241;43m.\u001b[39;49m\u001b[43m_fit\u001b[49m\u001b[43m(\u001b[49m\u001b[43mX\u001b[49m\u001b[43m,\u001b[49m\u001b[43m \u001b[49m\u001b[43my\u001b[49m\u001b[43m,\u001b[49m\u001b[43m \u001b[49m\u001b[43mrouted_params\u001b[49m\u001b[43m,\u001b[49m\u001b[43m \u001b[49m\u001b[43mraw_params\u001b[49m\u001b[38;5;241;43m=\u001b[39;49m\u001b[43mparams\u001b[49m\u001b[43m)\u001b[49m\n\u001b[1;32m    653\u001b[0m \u001b[38;5;28;01mwith\u001b[39;00m _print_elapsed_time(\u001b[38;5;124m\"\u001b[39m\u001b[38;5;124mPipeline\u001b[39m\u001b[38;5;124m\"\u001b[39m, \u001b[38;5;28mself\u001b[39m\u001b[38;5;241m.\u001b[39m_log_message(\u001b[38;5;28mlen\u001b[39m(\u001b[38;5;28mself\u001b[39m\u001b[38;5;241m.\u001b[39msteps) \u001b[38;5;241m-\u001b[39m \u001b[38;5;241m1\u001b[39m)):\n\u001b[1;32m    654\u001b[0m     \u001b[38;5;28;01mif\u001b[39;00m \u001b[38;5;28mself\u001b[39m\u001b[38;5;241m.\u001b[39m_final_estimator \u001b[38;5;241m!=\u001b[39m \u001b[38;5;124m\"\u001b[39m\u001b[38;5;124mpassthrough\u001b[39m\u001b[38;5;124m\"\u001b[39m:\n",
      "File \u001b[0;32m~/Library/Python/3.9/lib/python/site-packages/sklearn/pipeline.py:586\u001b[0m, in \u001b[0;36mPipeline._fit\u001b[0;34m(self, X, y, routed_params, raw_params)\u001b[0m\n\u001b[1;32m    579\u001b[0m \u001b[38;5;66;03m# Fit or load from cache the current transformer\u001b[39;00m\n\u001b[1;32m    580\u001b[0m step_params \u001b[38;5;241m=\u001b[39m \u001b[38;5;28mself\u001b[39m\u001b[38;5;241m.\u001b[39m_get_metadata_for_step(\n\u001b[1;32m    581\u001b[0m     step_idx\u001b[38;5;241m=\u001b[39mstep_idx,\n\u001b[1;32m    582\u001b[0m     step_params\u001b[38;5;241m=\u001b[39mrouted_params[name],\n\u001b[1;32m    583\u001b[0m     all_params\u001b[38;5;241m=\u001b[39mraw_params,\n\u001b[1;32m    584\u001b[0m )\n\u001b[0;32m--> 586\u001b[0m X, fitted_transformer \u001b[38;5;241m=\u001b[39m \u001b[43mfit_transform_one_cached\u001b[49m\u001b[43m(\u001b[49m\n\u001b[1;32m    587\u001b[0m \u001b[43m    \u001b[49m\u001b[43mcloned_transformer\u001b[49m\u001b[43m,\u001b[49m\n\u001b[1;32m    588\u001b[0m \u001b[43m    \u001b[49m\u001b[43mX\u001b[49m\u001b[43m,\u001b[49m\n\u001b[1;32m    589\u001b[0m \u001b[43m    \u001b[49m\u001b[43my\u001b[49m\u001b[43m,\u001b[49m\n\u001b[1;32m    590\u001b[0m \u001b[43m    \u001b[49m\u001b[43mweight\u001b[49m\u001b[38;5;241;43m=\u001b[39;49m\u001b[38;5;28;43;01mNone\u001b[39;49;00m\u001b[43m,\u001b[49m\n\u001b[1;32m    591\u001b[0m \u001b[43m    \u001b[49m\u001b[43mmessage_clsname\u001b[49m\u001b[38;5;241;43m=\u001b[39;49m\u001b[38;5;124;43m\"\u001b[39;49m\u001b[38;5;124;43mPipeline\u001b[39;49m\u001b[38;5;124;43m\"\u001b[39;49m\u001b[43m,\u001b[49m\n\u001b[1;32m    592\u001b[0m \u001b[43m    \u001b[49m\u001b[43mmessage\u001b[49m\u001b[38;5;241;43m=\u001b[39;49m\u001b[38;5;28;43mself\u001b[39;49m\u001b[38;5;241;43m.\u001b[39;49m\u001b[43m_log_message\u001b[49m\u001b[43m(\u001b[49m\u001b[43mstep_idx\u001b[49m\u001b[43m)\u001b[49m\u001b[43m,\u001b[49m\n\u001b[1;32m    593\u001b[0m \u001b[43m    \u001b[49m\u001b[43mparams\u001b[49m\u001b[38;5;241;43m=\u001b[39;49m\u001b[43mstep_params\u001b[49m\u001b[43m,\u001b[49m\n\u001b[1;32m    594\u001b[0m \u001b[43m\u001b[49m\u001b[43m)\u001b[49m\n\u001b[1;32m    595\u001b[0m \u001b[38;5;66;03m# Replace the transformer of the step with the fitted\u001b[39;00m\n\u001b[1;32m    596\u001b[0m \u001b[38;5;66;03m# transformer. This is necessary when loading the transformer\u001b[39;00m\n\u001b[1;32m    597\u001b[0m \u001b[38;5;66;03m# from the cache.\u001b[39;00m\n\u001b[1;32m    598\u001b[0m \u001b[38;5;28mself\u001b[39m\u001b[38;5;241m.\u001b[39msteps[step_idx] \u001b[38;5;241m=\u001b[39m (name, fitted_transformer)\n",
      "File \u001b[0;32m~/Library/Python/3.9/lib/python/site-packages/joblib/memory.py:312\u001b[0m, in \u001b[0;36mNotMemorizedFunc.__call__\u001b[0;34m(self, *args, **kwargs)\u001b[0m\n\u001b[1;32m    311\u001b[0m \u001b[38;5;28;01mdef\u001b[39;00m \u001b[38;5;21m__call__\u001b[39m(\u001b[38;5;28mself\u001b[39m, \u001b[38;5;241m*\u001b[39margs, \u001b[38;5;241m*\u001b[39m\u001b[38;5;241m*\u001b[39mkwargs):\n\u001b[0;32m--> 312\u001b[0m     \u001b[38;5;28;01mreturn\u001b[39;00m \u001b[38;5;28;43mself\u001b[39;49m\u001b[38;5;241;43m.\u001b[39;49m\u001b[43mfunc\u001b[49m\u001b[43m(\u001b[49m\u001b[38;5;241;43m*\u001b[39;49m\u001b[43margs\u001b[49m\u001b[43m,\u001b[49m\u001b[43m \u001b[49m\u001b[38;5;241;43m*\u001b[39;49m\u001b[38;5;241;43m*\u001b[39;49m\u001b[43mkwargs\u001b[49m\u001b[43m)\u001b[49m\n",
      "File \u001b[0;32m~/Library/Python/3.9/lib/python/site-packages/sklearn/pipeline.py:1540\u001b[0m, in \u001b[0;36m_fit_transform_one\u001b[0;34m(transformer, X, y, weight, message_clsname, message, params)\u001b[0m\n\u001b[1;32m   1538\u001b[0m \u001b[38;5;28;01mwith\u001b[39;00m _print_elapsed_time(message_clsname, message):\n\u001b[1;32m   1539\u001b[0m     \u001b[38;5;28;01mif\u001b[39;00m \u001b[38;5;28mhasattr\u001b[39m(transformer, \u001b[38;5;124m\"\u001b[39m\u001b[38;5;124mfit_transform\u001b[39m\u001b[38;5;124m\"\u001b[39m):\n\u001b[0;32m-> 1540\u001b[0m         res \u001b[38;5;241m=\u001b[39m \u001b[43mtransformer\u001b[49m\u001b[38;5;241;43m.\u001b[39;49m\u001b[43mfit_transform\u001b[49m\u001b[43m(\u001b[49m\u001b[43mX\u001b[49m\u001b[43m,\u001b[49m\u001b[43m \u001b[49m\u001b[43my\u001b[49m\u001b[43m,\u001b[49m\u001b[43m \u001b[49m\u001b[38;5;241;43m*\u001b[39;49m\u001b[38;5;241;43m*\u001b[39;49m\u001b[43mparams\u001b[49m\u001b[38;5;241;43m.\u001b[39;49m\u001b[43mget\u001b[49m\u001b[43m(\u001b[49m\u001b[38;5;124;43m\"\u001b[39;49m\u001b[38;5;124;43mfit_transform\u001b[39;49m\u001b[38;5;124;43m\"\u001b[39;49m\u001b[43m,\u001b[49m\u001b[43m \u001b[49m\u001b[43m{\u001b[49m\u001b[43m}\u001b[49m\u001b[43m)\u001b[49m\u001b[43m)\u001b[49m\n\u001b[1;32m   1541\u001b[0m     \u001b[38;5;28;01melse\u001b[39;00m:\n\u001b[1;32m   1542\u001b[0m         res \u001b[38;5;241m=\u001b[39m transformer\u001b[38;5;241m.\u001b[39mfit(X, y, \u001b[38;5;241m*\u001b[39m\u001b[38;5;241m*\u001b[39mparams\u001b[38;5;241m.\u001b[39mget(\u001b[38;5;124m\"\u001b[39m\u001b[38;5;124mfit\u001b[39m\u001b[38;5;124m\"\u001b[39m, {}))\u001b[38;5;241m.\u001b[39mtransform(\n\u001b[1;32m   1543\u001b[0m             X, \u001b[38;5;241m*\u001b[39m\u001b[38;5;241m*\u001b[39mparams\u001b[38;5;241m.\u001b[39mget(\u001b[38;5;124m\"\u001b[39m\u001b[38;5;124mtransform\u001b[39m\u001b[38;5;124m\"\u001b[39m, {})\n\u001b[1;32m   1544\u001b[0m         )\n",
      "File \u001b[0;32m~/Library/Python/3.9/lib/python/site-packages/sklearn/utils/_set_output.py:319\u001b[0m, in \u001b[0;36m_wrap_method_output.<locals>.wrapped\u001b[0;34m(self, X, *args, **kwargs)\u001b[0m\n\u001b[1;32m    317\u001b[0m \u001b[38;5;129m@wraps\u001b[39m(f)\n\u001b[1;32m    318\u001b[0m \u001b[38;5;28;01mdef\u001b[39;00m \u001b[38;5;21mwrapped\u001b[39m(\u001b[38;5;28mself\u001b[39m, X, \u001b[38;5;241m*\u001b[39margs, \u001b[38;5;241m*\u001b[39m\u001b[38;5;241m*\u001b[39mkwargs):\n\u001b[0;32m--> 319\u001b[0m     data_to_wrap \u001b[38;5;241m=\u001b[39m \u001b[43mf\u001b[49m\u001b[43m(\u001b[49m\u001b[38;5;28;43mself\u001b[39;49m\u001b[43m,\u001b[49m\u001b[43m \u001b[49m\u001b[43mX\u001b[49m\u001b[43m,\u001b[49m\u001b[43m \u001b[49m\u001b[38;5;241;43m*\u001b[39;49m\u001b[43margs\u001b[49m\u001b[43m,\u001b[49m\u001b[43m \u001b[49m\u001b[38;5;241;43m*\u001b[39;49m\u001b[38;5;241;43m*\u001b[39;49m\u001b[43mkwargs\u001b[49m\u001b[43m)\u001b[49m\n\u001b[1;32m    320\u001b[0m     \u001b[38;5;28;01mif\u001b[39;00m \u001b[38;5;28misinstance\u001b[39m(data_to_wrap, \u001b[38;5;28mtuple\u001b[39m):\n\u001b[1;32m    321\u001b[0m         \u001b[38;5;66;03m# only wrap the first output for cross decomposition\u001b[39;00m\n\u001b[1;32m    322\u001b[0m         return_tuple \u001b[38;5;241m=\u001b[39m (\n\u001b[1;32m    323\u001b[0m             _wrap_data_with_container(method, data_to_wrap[\u001b[38;5;241m0\u001b[39m], X, \u001b[38;5;28mself\u001b[39m),\n\u001b[1;32m    324\u001b[0m             \u001b[38;5;241m*\u001b[39mdata_to_wrap[\u001b[38;5;241m1\u001b[39m:],\n\u001b[1;32m    325\u001b[0m         )\n",
      "File \u001b[0;32m~/Library/Python/3.9/lib/python/site-packages/sklearn/base.py:921\u001b[0m, in \u001b[0;36mTransformerMixin.fit_transform\u001b[0;34m(self, X, y, **fit_params)\u001b[0m\n\u001b[1;32m    918\u001b[0m     \u001b[38;5;28;01mreturn\u001b[39;00m \u001b[38;5;28mself\u001b[39m\u001b[38;5;241m.\u001b[39mfit(X, \u001b[38;5;241m*\u001b[39m\u001b[38;5;241m*\u001b[39mfit_params)\u001b[38;5;241m.\u001b[39mtransform(X)\n\u001b[1;32m    919\u001b[0m \u001b[38;5;28;01melse\u001b[39;00m:\n\u001b[1;32m    920\u001b[0m     \u001b[38;5;66;03m# fit method of arity 2 (supervised transformation)\u001b[39;00m\n\u001b[0;32m--> 921\u001b[0m     \u001b[38;5;28;01mreturn\u001b[39;00m \u001b[38;5;28;43mself\u001b[39;49m\u001b[38;5;241;43m.\u001b[39;49m\u001b[43mfit\u001b[49m\u001b[43m(\u001b[49m\u001b[43mX\u001b[49m\u001b[43m,\u001b[49m\u001b[43m \u001b[49m\u001b[43my\u001b[49m\u001b[43m,\u001b[49m\u001b[43m \u001b[49m\u001b[38;5;241;43m*\u001b[39;49m\u001b[38;5;241;43m*\u001b[39;49m\u001b[43mfit_params\u001b[49m\u001b[43m)\u001b[49m\u001b[38;5;241;43m.\u001b[39;49m\u001b[43mtransform\u001b[49m\u001b[43m(\u001b[49m\u001b[43mX\u001b[49m\u001b[43m)\u001b[49m\n",
      "File \u001b[0;32m~/Library/Python/3.9/lib/python/site-packages/sklearn/utils/_set_output.py:319\u001b[0m, in \u001b[0;36m_wrap_method_output.<locals>.wrapped\u001b[0;34m(self, X, *args, **kwargs)\u001b[0m\n\u001b[1;32m    317\u001b[0m \u001b[38;5;129m@wraps\u001b[39m(f)\n\u001b[1;32m    318\u001b[0m \u001b[38;5;28;01mdef\u001b[39;00m \u001b[38;5;21mwrapped\u001b[39m(\u001b[38;5;28mself\u001b[39m, X, \u001b[38;5;241m*\u001b[39margs, \u001b[38;5;241m*\u001b[39m\u001b[38;5;241m*\u001b[39mkwargs):\n\u001b[0;32m--> 319\u001b[0m     data_to_wrap \u001b[38;5;241m=\u001b[39m \u001b[43mf\u001b[49m\u001b[43m(\u001b[49m\u001b[38;5;28;43mself\u001b[39;49m\u001b[43m,\u001b[49m\u001b[43m \u001b[49m\u001b[43mX\u001b[49m\u001b[43m,\u001b[49m\u001b[43m \u001b[49m\u001b[38;5;241;43m*\u001b[39;49m\u001b[43margs\u001b[49m\u001b[43m,\u001b[49m\u001b[43m \u001b[49m\u001b[38;5;241;43m*\u001b[39;49m\u001b[38;5;241;43m*\u001b[39;49m\u001b[43mkwargs\u001b[49m\u001b[43m)\u001b[49m\n\u001b[1;32m    320\u001b[0m     \u001b[38;5;28;01mif\u001b[39;00m \u001b[38;5;28misinstance\u001b[39m(data_to_wrap, \u001b[38;5;28mtuple\u001b[39m):\n\u001b[1;32m    321\u001b[0m         \u001b[38;5;66;03m# only wrap the first output for cross decomposition\u001b[39;00m\n\u001b[1;32m    322\u001b[0m         return_tuple \u001b[38;5;241m=\u001b[39m (\n\u001b[1;32m    323\u001b[0m             _wrap_data_with_container(method, data_to_wrap[\u001b[38;5;241m0\u001b[39m], X, \u001b[38;5;28mself\u001b[39m),\n\u001b[1;32m    324\u001b[0m             \u001b[38;5;241m*\u001b[39mdata_to_wrap[\u001b[38;5;241m1\u001b[39m:],\n\u001b[1;32m    325\u001b[0m         )\n",
      "Cell \u001b[0;32mIn[450], line 24\u001b[0m, in \u001b[0;36mBertTransformer.transform\u001b[0;34m(self, X)\u001b[0m\n\u001b[1;32m     21\u001b[0m     X \u001b[38;5;241m=\u001b[39m X\u001b[38;5;241m.\u001b[39mto_list()\n\u001b[1;32m     23\u001b[0m \u001b[38;5;66;03m# Generate sentence embeddings\u001b[39;00m\n\u001b[0;32m---> 24\u001b[0m embeddings \u001b[38;5;241m=\u001b[39m \u001b[38;5;28;43mself\u001b[39;49m\u001b[38;5;241;43m.\u001b[39;49m\u001b[43mmodel\u001b[49m\u001b[38;5;241;43m.\u001b[39;49m\u001b[43mencode\u001b[49m\u001b[43m(\u001b[49m\u001b[43mX\u001b[49m\u001b[43m,\u001b[49m\u001b[43m \u001b[49m\u001b[43mshow_progress_bar\u001b[49m\u001b[38;5;241;43m=\u001b[39;49m\u001b[38;5;28;43;01mFalse\u001b[39;49;00m\u001b[43m)\u001b[49m\n\u001b[1;32m     25\u001b[0m \u001b[38;5;28;01mreturn\u001b[39;00m np\u001b[38;5;241m.\u001b[39marray(embeddings)\n",
      "File \u001b[0;32m~/Library/Python/3.9/lib/python/site-packages/sentence_transformers/SentenceTransformer.py:587\u001b[0m, in \u001b[0;36mSentenceTransformer.encode\u001b[0;34m(self, sentences, prompt_name, prompt, batch_size, show_progress_bar, output_value, precision, convert_to_numpy, convert_to_tensor, device, normalize_embeddings, **kwargs)\u001b[0m\n\u001b[1;32m    585\u001b[0m all_embeddings \u001b[38;5;241m=\u001b[39m []\n\u001b[1;32m    586\u001b[0m length_sorted_idx \u001b[38;5;241m=\u001b[39m np\u001b[38;5;241m.\u001b[39margsort([\u001b[38;5;241m-\u001b[39m\u001b[38;5;28mself\u001b[39m\u001b[38;5;241m.\u001b[39m_text_length(sen) \u001b[38;5;28;01mfor\u001b[39;00m sen \u001b[38;5;129;01min\u001b[39;00m sentences])\n\u001b[0;32m--> 587\u001b[0m sentences_sorted \u001b[38;5;241m=\u001b[39m [sentences[idx] \u001b[38;5;28;01mfor\u001b[39;00m idx \u001b[38;5;129;01min\u001b[39;00m length_sorted_idx]\n\u001b[1;32m    589\u001b[0m \u001b[38;5;28;01mfor\u001b[39;00m start_index \u001b[38;5;129;01min\u001b[39;00m trange(\u001b[38;5;241m0\u001b[39m, \u001b[38;5;28mlen\u001b[39m(sentences), batch_size, desc\u001b[38;5;241m=\u001b[39m\u001b[38;5;124m\"\u001b[39m\u001b[38;5;124mBatches\u001b[39m\u001b[38;5;124m\"\u001b[39m, disable\u001b[38;5;241m=\u001b[39m\u001b[38;5;129;01mnot\u001b[39;00m show_progress_bar):\n\u001b[1;32m    590\u001b[0m     sentences_batch \u001b[38;5;241m=\u001b[39m sentences_sorted[start_index : start_index \u001b[38;5;241m+\u001b[39m batch_size]\n",
      "File \u001b[0;32m~/Library/Python/3.9/lib/python/site-packages/sentence_transformers/SentenceTransformer.py:587\u001b[0m, in \u001b[0;36m<listcomp>\u001b[0;34m(.0)\u001b[0m\n\u001b[1;32m    585\u001b[0m all_embeddings \u001b[38;5;241m=\u001b[39m []\n\u001b[1;32m    586\u001b[0m length_sorted_idx \u001b[38;5;241m=\u001b[39m np\u001b[38;5;241m.\u001b[39margsort([\u001b[38;5;241m-\u001b[39m\u001b[38;5;28mself\u001b[39m\u001b[38;5;241m.\u001b[39m_text_length(sen) \u001b[38;5;28;01mfor\u001b[39;00m sen \u001b[38;5;129;01min\u001b[39;00m sentences])\n\u001b[0;32m--> 587\u001b[0m sentences_sorted \u001b[38;5;241m=\u001b[39m [\u001b[43msentences\u001b[49m\u001b[43m[\u001b[49m\u001b[43midx\u001b[49m\u001b[43m]\u001b[49m \u001b[38;5;28;01mfor\u001b[39;00m idx \u001b[38;5;129;01min\u001b[39;00m length_sorted_idx]\n\u001b[1;32m    589\u001b[0m \u001b[38;5;28;01mfor\u001b[39;00m start_index \u001b[38;5;129;01min\u001b[39;00m trange(\u001b[38;5;241m0\u001b[39m, \u001b[38;5;28mlen\u001b[39m(sentences), batch_size, desc\u001b[38;5;241m=\u001b[39m\u001b[38;5;124m\"\u001b[39m\u001b[38;5;124mBatches\u001b[39m\u001b[38;5;124m\"\u001b[39m, disable\u001b[38;5;241m=\u001b[39m\u001b[38;5;129;01mnot\u001b[39;00m show_progress_bar):\n\u001b[1;32m    590\u001b[0m     sentences_batch \u001b[38;5;241m=\u001b[39m sentences_sorted[start_index : start_index \u001b[38;5;241m+\u001b[39m batch_size]\n",
      "File \u001b[0;32m~/Library/Python/3.9/lib/python/site-packages/pandas/core/frame.py:4102\u001b[0m, in \u001b[0;36mDataFrame.__getitem__\u001b[0;34m(self, key)\u001b[0m\n\u001b[1;32m   4100\u001b[0m \u001b[38;5;28;01mif\u001b[39;00m \u001b[38;5;28mself\u001b[39m\u001b[38;5;241m.\u001b[39mcolumns\u001b[38;5;241m.\u001b[39mnlevels \u001b[38;5;241m>\u001b[39m \u001b[38;5;241m1\u001b[39m:\n\u001b[1;32m   4101\u001b[0m     \u001b[38;5;28;01mreturn\u001b[39;00m \u001b[38;5;28mself\u001b[39m\u001b[38;5;241m.\u001b[39m_getitem_multilevel(key)\n\u001b[0;32m-> 4102\u001b[0m indexer \u001b[38;5;241m=\u001b[39m \u001b[38;5;28;43mself\u001b[39;49m\u001b[38;5;241;43m.\u001b[39;49m\u001b[43mcolumns\u001b[49m\u001b[38;5;241;43m.\u001b[39;49m\u001b[43mget_loc\u001b[49m\u001b[43m(\u001b[49m\u001b[43mkey\u001b[49m\u001b[43m)\u001b[49m\n\u001b[1;32m   4103\u001b[0m \u001b[38;5;28;01mif\u001b[39;00m is_integer(indexer):\n\u001b[1;32m   4104\u001b[0m     indexer \u001b[38;5;241m=\u001b[39m [indexer]\n",
      "File \u001b[0;32m~/Library/Python/3.9/lib/python/site-packages/pandas/core/indexes/base.py:3812\u001b[0m, in \u001b[0;36mIndex.get_loc\u001b[0;34m(self, key)\u001b[0m\n\u001b[1;32m   3807\u001b[0m     \u001b[38;5;28;01mif\u001b[39;00m \u001b[38;5;28misinstance\u001b[39m(casted_key, \u001b[38;5;28mslice\u001b[39m) \u001b[38;5;129;01mor\u001b[39;00m (\n\u001b[1;32m   3808\u001b[0m         \u001b[38;5;28misinstance\u001b[39m(casted_key, abc\u001b[38;5;241m.\u001b[39mIterable)\n\u001b[1;32m   3809\u001b[0m         \u001b[38;5;129;01mand\u001b[39;00m \u001b[38;5;28many\u001b[39m(\u001b[38;5;28misinstance\u001b[39m(x, \u001b[38;5;28mslice\u001b[39m) \u001b[38;5;28;01mfor\u001b[39;00m x \u001b[38;5;129;01min\u001b[39;00m casted_key)\n\u001b[1;32m   3810\u001b[0m     ):\n\u001b[1;32m   3811\u001b[0m         \u001b[38;5;28;01mraise\u001b[39;00m InvalidIndexError(key)\n\u001b[0;32m-> 3812\u001b[0m     \u001b[38;5;28;01mraise\u001b[39;00m \u001b[38;5;167;01mKeyError\u001b[39;00m(key) \u001b[38;5;28;01mfrom\u001b[39;00m \u001b[38;5;21;01merr\u001b[39;00m\n\u001b[1;32m   3813\u001b[0m \u001b[38;5;28;01mexcept\u001b[39;00m \u001b[38;5;167;01mTypeError\u001b[39;00m:\n\u001b[1;32m   3814\u001b[0m     \u001b[38;5;66;03m# If we have a listlike key, _check_indexing_error will raise\u001b[39;00m\n\u001b[1;32m   3815\u001b[0m     \u001b[38;5;66;03m#  InvalidIndexError. Otherwise we fall through and re-raise\u001b[39;00m\n\u001b[1;32m   3816\u001b[0m     \u001b[38;5;66;03m#  the TypeError.\u001b[39;00m\n\u001b[1;32m   3817\u001b[0m     \u001b[38;5;28mself\u001b[39m\u001b[38;5;241m.\u001b[39m_check_indexing_error(key)\n",
      "\u001b[0;31mKeyError\u001b[0m: np.int64(0)"
     ]
    }
   ],
   "source": [
    "# Define pipeline with BERT vectorizer and XGBoost\n",
    "pipeline = Pipeline([\n",
    "    ('bert_vectorizer', BertTransformer()),\n",
    "    ('classifier', RandomForestClassifier(random_state=42))\n",
    "])\n",
    "\n",
    "# Fit the pipeline\n",
    "pipeline.fit(X_train_urgency, y_train_urgency)\n",
    "\n",
    "# Make predictions\n",
    "y_pred = pipeline.predict(X_test_urgency)\n",
    "\n",
    "# Evaluate the model\n",
    "print(\"Classification Report:\\n\", classification_report(y_test_urgency, y_pred))"
   ]
  },
  {
   "cell_type": "code",
   "execution_count": 458,
   "metadata": {},
   "outputs": [
    {
     "name": "stdout",
     "output_type": "stream",
     "text": [
      "Classification Report:\n",
      "               precision    recall  f1-score   support\n",
      "\n",
      "           0       0.87      0.96      0.91      1152\n",
      "           1       0.95      0.84      0.89      1062\n",
      "\n",
      "    accuracy                           0.90      2214\n",
      "   macro avg       0.91      0.90      0.90      2214\n",
      "weighted avg       0.91      0.90      0.90      2214\n",
      "\n"
     ]
    }
   ],
   "source": [
    "transformer = BertTransformer()\n",
    "\n",
    "transformer.fit(X_train_urgency['text'])\n",
    "\n",
    "X_train_transformed = transformer.transform(X_train_urgency['text'])\n",
    "X_test_transformed = transformer.transform(X_test_urgency['text'])\n",
    "\n",
    "model = RandomForestClassifier(random_state=42)\n",
    "\n",
    "model.fit(X_train_transformed, y_train_urgency)\n",
    "\n",
    "y_pred = model.predict(X_test_transformed)\n",
    "\n",
    "print(\"Classification Report:\\n\", classification_report(y_test_urgency, y_pred))"
   ]
  },
  {
   "cell_type": "code",
   "execution_count": 462,
   "metadata": {},
   "outputs": [
    {
     "name": "stdout",
     "output_type": "stream",
     "text": [
      "Prediction: \n",
      "[1 0 0 0 1 0 1 0 1 0]\n",
      "Classification Report: \n",
      "              precision    recall  f1-score   support\n",
      "\n",
      "           0       0.50      0.75      0.60         4\n",
      "           1       0.75      0.50      0.60         6\n",
      "\n",
      "    accuracy                           0.60        10\n",
      "   macro avg       0.62      0.62      0.60        10\n",
      "weighted avg       0.65      0.60      0.60        10\n",
      "\n"
     ]
    }
   ],
   "source": [
    "# example \n",
    "example_text = pd.DataFrame(\n",
    "   { 'texts': [\n",
    "   'This is an urgent issue',\n",
    "    'I need help with my account right now without delay',\n",
    "    'I have a question about my account',\n",
    "    'I cannot access my account. Please help me',\n",
    "    'I am unable to access my account. I have tried resetting my password but it is not working. I need help urgently',\n",
    "    \"Query regarding my account. Please help me\",\n",
    "    \"The server is down. Please fix it as soon as possible\",\n",
    "    \"System Issue. Need help before the end of the day\",\n",
    "    \"Jira tickets need to be updated. Please do it as soon as possible. no hurry\",\n",
    "    \"Not Critical. Please ensure system is up and running without any issues before the end of the day.\",\n",
    "    ],\n",
    "    'labels': [1, 1, 0, 1, 1, 0, 1, 1, 0, 0]}\n",
    ")\n",
    "\n",
    "example_text_transformed = transformer.transform(example_text['texts'])\n",
    "\n",
    "print(f\"Prediction: \\n{model.predict(example_text_transformed)}\")\n",
    "print(f\"Classification Report: \\n{classification_report(example_text['labels'], model.predict(example_text_transformed))}\")"
   ]
  }
 ],
 "metadata": {
  "kernelspec": {
   "display_name": "Python 3",
   "language": "python",
   "name": "python3"
  },
  "language_info": {
   "codemirror_mode": {
    "name": "ipython",
    "version": 3
   },
   "file_extension": ".py",
   "mimetype": "text/x-python",
   "name": "python",
   "nbconvert_exporter": "python",
   "pygments_lexer": "ipython3",
   "version": "3.11.6"
  }
 },
 "nbformat": 4,
 "nbformat_minor": 2
}
