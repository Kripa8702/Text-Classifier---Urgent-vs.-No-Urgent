{
 "cells": [
  {
   "cell_type": "markdown",
   "metadata": {},
   "source": [
    "# **ML Lifecycle**\n",
    "### This notebook combines the analysis, cleaning, preprocessing, visualization, pipeline generation and model training process into functions that can be used for different datasets"
   ]
  },
  {
   "cell_type": "markdown",
   "metadata": {},
   "source": [
    "#### Dataset features must include - \"processed_text\", \"priority\", \"urgency\""
   ]
  },
  {
   "cell_type": "code",
   "execution_count": 138,
   "metadata": {},
   "outputs": [],
   "source": [
    "import pandas as pd\n",
    "import numpy as np\n",
    "import matplotlib.pyplot as plt\n",
    "import seaborn as sns\n",
    "from sklearn.feature_extraction.text import TfidfVectorizer\n",
    "from sklearn.model_selection import train_test_split\n",
    "\n",
    "from sklearn.pipeline import Pipeline\n",
    "from sklearn.compose import ColumnTransformer\n",
    "from sklearn.linear_model import LogisticRegression\n",
    "from sklearn.svm import SVC\n",
    "from sklearn.ensemble import StackingClassifier\n",
    "from sklearn.metrics import classification_report\n",
    "\n",
    "from sklearn.model_selection import cross_val_score, StratifiedKFold\n",
    "\n"
   ]
  },
  {
   "cell_type": "code",
   "execution_count": 104,
   "metadata": {},
   "outputs": [
    {
     "data": {
      "text/html": [
       "<div>\n",
       "<style scoped>\n",
       "    .dataframe tbody tr th:only-of-type {\n",
       "        vertical-align: middle;\n",
       "    }\n",
       "\n",
       "    .dataframe tbody tr th {\n",
       "        vertical-align: top;\n",
       "    }\n",
       "\n",
       "    .dataframe thead th {\n",
       "        text-align: right;\n",
       "    }\n",
       "</style>\n",
       "<table border=\"1\" class=\"dataframe\">\n",
       "  <thead>\n",
       "    <tr style=\"text-align: right;\">\n",
       "      <th></th>\n",
       "      <th>label</th>\n",
       "      <th>processed_text</th>\n",
       "      <th>priority</th>\n",
       "      <th>urgency</th>\n",
       "      <th>type</th>\n",
       "      <th>queue</th>\n",
       "    </tr>\n",
       "  </thead>\n",
       "  <tbody>\n",
       "    <tr>\n",
       "      <th>8437</th>\n",
       "      <td>NaN</td>\n",
       "      <td>invoice difference. Dear Customer Service,  I ...</td>\n",
       "      <td>medium</td>\n",
       "      <td>not_urgent</td>\n",
       "      <td>Request</td>\n",
       "      <td>Billing and Payments</td>\n",
       "    </tr>\n",
       "    <tr>\n",
       "      <th>9561</th>\n",
       "      <td>NaN</td>\n",
       "      <td>Re: URGENT: Users randomly losing access to re...</td>\n",
       "      <td>high</td>\n",
       "      <td>urgent</td>\n",
       "      <td>NaN</td>\n",
       "      <td>NaN</td>\n",
       "    </tr>\n",
       "    <tr>\n",
       "      <th>3362</th>\n",
       "      <td>0.0</td>\n",
       "      <td>Chat sorting does not adhere to the most recen...</td>\n",
       "      <td>low</td>\n",
       "      <td>not_urgent</td>\n",
       "      <td>NaN</td>\n",
       "      <td>NaN</td>\n",
       "    </tr>\n",
       "  </tbody>\n",
       "</table>\n",
       "</div>"
      ],
      "text/plain": [
       "      label                                     processed_text priority  \\\n",
       "8437    NaN  invoice difference. Dear Customer Service,  I ...   medium   \n",
       "9561    NaN  Re: URGENT: Users randomly losing access to re...     high   \n",
       "3362    0.0  Chat sorting does not adhere to the most recen...      low   \n",
       "\n",
       "         urgency     type                 queue  \n",
       "8437  not_urgent  Request  Billing and Payments  \n",
       "9561      urgent      NaN                   NaN  \n",
       "3362  not_urgent      NaN                   NaN  "
      ]
     },
     "execution_count": 104,
     "metadata": {},
     "output_type": "execute_result"
    }
   ],
   "source": [
    "df = pd.read_csv('../csv/oversampled_data.csv')\n",
    "df.sample(3)"
   ]
  },
  {
   "cell_type": "markdown",
   "metadata": {},
   "source": [
    "## Analysis"
   ]
  },
  {
   "cell_type": "code",
   "execution_count": 105,
   "metadata": {},
   "outputs": [
    {
     "name": "stdout",
     "output_type": "stream",
     "text": [
      "Shape : (11904, 6)\n",
      "\n",
      "Columns : Index(['label', 'processed_text', 'priority', 'urgency', 'type', 'queue'], dtype='object')\n",
      "\n",
      "Sample: \n",
      "      label                                     processed_text priority  \\\n",
      "7584    NaN  Urgent: Network failure. Dear IT Services Cust...     high   \n",
      "778     1.0  Improperly Displayed Pricing for Bundled Products   medium   \n",
      "6826    0.0           Non-critical script deprecation warnings      low   \n",
      "\n",
      "         urgency     type       queue  \n",
      "7584      urgent  Problem  IT Support  \n",
      "778   not_urgent      NaN         NaN  \n",
      "6826  not_urgent      NaN         NaN  \n",
      "\n",
      "Null values: \n",
      "label              4819\n",
      "processed_text        0\n",
      "priority              0\n",
      "urgency               0\n",
      "type              10348\n",
      "queue             10348\n",
      "dtype: int64\n",
      "\n"
     ]
    }
   ],
   "source": [
    "def analysis(df):\n",
    "    print(f'Shape : {df.shape}\\n')\n",
    "    print(f'Columns : {df.columns}\\n')\n",
    "    print(f\"Sample: \\n{df.sample(3)}\\n\")\n",
    "    print(f\"Null values: \\n{df.isnull().sum()}\\n\")\n",
    "\n",
    "analysis(df)"
   ]
  },
  {
   "cell_type": "markdown",
   "metadata": {},
   "source": [
    "## Cleaning"
   ]
  },
  {
   "cell_type": "code",
   "execution_count": 106,
   "metadata": {},
   "outputs": [
    {
     "data": {
      "text/html": [
       "<div>\n",
       "<style scoped>\n",
       "    .dataframe tbody tr th:only-of-type {\n",
       "        vertical-align: middle;\n",
       "    }\n",
       "\n",
       "    .dataframe tbody tr th {\n",
       "        vertical-align: top;\n",
       "    }\n",
       "\n",
       "    .dataframe thead th {\n",
       "        text-align: right;\n",
       "    }\n",
       "</style>\n",
       "<table border=\"1\" class=\"dataframe\">\n",
       "  <thead>\n",
       "    <tr style=\"text-align: right;\">\n",
       "      <th></th>\n",
       "      <th>text</th>\n",
       "      <th>priority</th>\n",
       "      <th>urgency</th>\n",
       "      <th>label</th>\n",
       "    </tr>\n",
       "  </thead>\n",
       "  <tbody>\n",
       "    <tr>\n",
       "      <th>2506</th>\n",
       "      <td>Timestamps Missing for Some Messages</td>\n",
       "      <td>medium</td>\n",
       "      <td>not_urgent</td>\n",
       "      <td>0</td>\n",
       "    </tr>\n",
       "    <tr>\n",
       "      <th>9376</th>\n",
       "      <td>Re: Urgent Issue: Role Assignment Failing in P...</td>\n",
       "      <td>high</td>\n",
       "      <td>urgent</td>\n",
       "      <td>1</td>\n",
       "    </tr>\n",
       "    <tr>\n",
       "      <th>8085</th>\n",
       "      <td>Urgent Request for Jira Ticket Modification. D...</td>\n",
       "      <td>high</td>\n",
       "      <td>urgent</td>\n",
       "      <td>1</td>\n",
       "    </tr>\n",
       "  </tbody>\n",
       "</table>\n",
       "</div>"
      ],
      "text/plain": [
       "                                                   text priority     urgency  \\\n",
       "2506               Timestamps Missing for Some Messages   medium  not_urgent   \n",
       "9376  Re: Urgent Issue: Role Assignment Failing in P...     high      urgent   \n",
       "8085  Urgent Request for Jira Ticket Modification. D...     high      urgent   \n",
       "\n",
       "      label  \n",
       "2506      0  \n",
       "9376      1  \n",
       "8085      1  "
      ]
     },
     "execution_count": 106,
     "metadata": {},
     "output_type": "execute_result"
    }
   ],
   "source": [
    "def clean_data(df):\n",
    "    df = df[['processed_text', 'priority', 'urgency']]\n",
    "    df = df.rename(columns={'processed_text': 'text'})\n",
    "    df['priority'] = df['priority'].apply(lambda x: x.lower())\n",
    "    df['label'] = df['urgency'].apply(lambda x: 1 if x == 'urgent' else 0)\n",
    "    return df \n",
    "\n",
    "df = clean_data(df)\n",
    "df.sample(3)"
   ]
  },
  {
   "cell_type": "markdown",
   "metadata": {},
   "source": [
    "## Visualization - using TF-IDF Vectorizer"
   ]
  },
  {
   "cell_type": "code",
   "execution_count": 107,
   "metadata": {},
   "outputs": [],
   "source": [
    "def word_importance_chart(ax, df, title):\n",
    "    tdidf_vectorizer = TfidfVectorizer(lowercase=True, stop_words='english')\n",
    "    tdidf_matrix = tdidf_vectorizer.fit_transform(df['text'])\n",
    "    \n",
    "    \n",
    "    feature_names = tdidf_vectorizer.get_feature_names_out()\n",
    "    word_scores = zip(feature_names, tdidf_matrix.sum(axis=0).tolist()[0])\n",
    "\n",
    "    top_words = sorted(word_scores, key=lambda x: x[1], reverse=True)[:10]\n",
    "    \n",
    "    keywords, frequencies = zip(*top_words)\n",
    "    \n",
    "    ax.barh(keywords, frequencies)\n",
    "    ax.set_title(title)\n",
    "    ax.set_xlabel('Frequency')\n",
    "    ax.set_ylabel('Keyword')\n",
    "    ax.invert_yaxis()"
   ]
  },
  {
   "cell_type": "code",
   "execution_count": 108,
   "metadata": {},
   "outputs": [],
   "source": [
    "def distribution_chart(ax, df, column, title, category):\n",
    "    sns.countplot(data=df, x=column, ax=ax)\n",
    "    ax.set_title(title)"
   ]
  },
  {
   "cell_type": "code",
   "execution_count": 109,
   "metadata": {},
   "outputs": [
    {
     "data": {
      "image/png": "[encoded data removed]",
      "text/plain": [
       "<Figure size 1200x400 with 2 Axes>"
      ]
     },
     "metadata": {},
     "output_type": "display_data"
    },
    {
     "data": {
      "image/png": "[encoded data removed]",
      "text/plain": [
       "<Figure size 1800x400 with 3 Axes>"
      ]
     },
     "metadata": {},
     "output_type": "display_data"
    }
   ],
   "source": [
    "urgent_df = df[df['urgency'] == 'urgent']\n",
    "non_urgent_df = df[df['urgency'] == 'not_urgent']\n",
    "\n",
    "high_priority_df = df[df['priority'] == 'high']\n",
    "medium_priority_df = df[df['priority'] == 'medium']\n",
    "low_priority_df = df[df['priority'] == 'low']\n",
    "\n",
    "# Urgent/Non-Urgent Tickets\n",
    "fig, axs = plt.subplots(1, 2, figsize=(12, 4))\n",
    "word_importance_chart(axs[0], urgent_df, 'Urgent Tickets')\n",
    "word_importance_chart(axs[1], non_urgent_df, 'Non-Urgent Tickets')\n",
    "plt.tight_layout()\n",
    "\n",
    "# Priority Tickets\n",
    "fig, axs = plt.subplots(1, 3, figsize=(18, 4))\n",
    "word_importance_chart(axs[0], high_priority_df, 'High Priority Tickets')\n",
    "word_importance_chart(axs[1], medium_priority_df, 'Medium Priority Tickets')\n",
    "word_importance_chart(axs[2], low_priority_df, 'Low Priority Tickets')\n",
    "plt.tight_layout()\n"
   ]
  },
  {
   "cell_type": "code",
   "execution_count": 110,
   "metadata": {},
   "outputs": [
    {
     "data": {
      "text/plain": [
       "urgency\n",
       "urgent        6235\n",
       "not_urgent    5669\n",
       "Name: count, dtype: int64"
      ]
     },
     "execution_count": 110,
     "metadata": {},
     "output_type": "execute_result"
    },
    {
     "data": {
      "image/png": "[encoded data removed]",
      "text/plain": [
       "<Figure size 800x400 with 2 Axes>"
      ]
     },
     "metadata": {},
     "output_type": "display_data"
    }
   ],
   "source": [
    "fig, axs = plt.subplots(1, 2, figsize=(8, 4))\n",
    "distribution_chart(axs[0], df, 'priority', 'Priority Distribution', 'priority')\n",
    "distribution_chart(axs[1], df, 'urgency', 'Urgency Distribution', 'urgency')\n",
    "plt.tight_layout()\n",
    "\n",
    "# print number of urgent and non-urgent tickets\n",
    "df['urgency'].value_counts()"
   ]
  },
  {
   "cell_type": "markdown",
   "metadata": {},
   "source": [
    "# **Using Priority**"
   ]
  },
  {
   "cell_type": "markdown",
   "metadata": {},
   "source": [
    "## Train-Test Split "
   ]
  },
  {
   "cell_type": "code",
   "execution_count": 75,
   "metadata": {},
   "outputs": [],
   "source": [
    "def get_train_test_data(X, y):\n",
    "    X_train, X_test, y_train, y_test = train_test_split(X, y, test_size=0.2, random_state=42)\n",
    "    print(f\"X_train shape: {X_train.shape}\")\n",
    "    print(f\"X_test shape: {X_test.shape}\")\n",
    "    return X_train, X_test, y_train, y_test"
   ]
  },
  {
   "cell_type": "code",
   "execution_count": 76,
   "metadata": {},
   "outputs": [
    {
     "name": "stdout",
     "output_type": "stream",
     "text": [
      "X_train shape: (8854, 1)\n",
      "X_test shape: (2214, 1)\n"
     ]
    }
   ],
   "source": [
    "X_train, X_test, y_train, y_test = get_train_test_data(df[['text']], df['priority'])"
   ]
  },
  {
   "cell_type": "markdown",
   "metadata": {},
   "source": [
    "## Model Training - using Pipeline"
   ]
  },
  {
   "cell_type": "code",
   "execution_count": 77,
   "metadata": {},
   "outputs": [],
   "source": [
    "# Training the models\n",
    "def train_model(model, tdidf_vectorizer, X_train, y_train, X_test, y_test):\n",
    "    text_transformer = Pipeline([\n",
    "    ('tfidf', tdidf_vectorizer)\n",
    "    ])\n",
    "\n",
    "    preprocessor = ColumnTransformer(\n",
    "        transformers=[\n",
    "            ('text_tfidf', text_transformer, 'text')\n",
    "        ],\n",
    "    )\n",
    "    pipeline =Pipeline([\n",
    "        ('preprocessor', preprocessor),\n",
    "        ('classifier', model)\n",
    "    ])\n",
    "    pipeline.fit(X_train, y_train)\n",
    "    y_pred = pipeline.predict(X_test)\n",
    "    print(f\"Classification Report: \\n{classification_report(y_test, y_pred)}\")\n",
    "    return pipeline"
   ]
  },
  {
   "cell_type": "code",
   "execution_count": 78,
   "metadata": {},
   "outputs": [
    {
     "name": "stdout",
     "output_type": "stream",
     "text": [
      "Classification Report: \n",
      "              precision    recall  f1-score   support\n",
      "\n",
      "        high       0.89      0.89      0.89      1062\n",
      "         low       0.75      0.80      0.77       629\n",
      "      medium       0.62      0.57      0.60       523\n",
      "\n",
      "    accuracy                           0.79      2214\n",
      "   macro avg       0.75      0.75      0.75      2214\n",
      "weighted avg       0.79      0.79      0.79      2214\n",
      "\n"
     ]
    }
   ],
   "source": [
    "# Logisitic Regression\n",
    "pipeline_logreg = train_model(\n",
    "    LogisticRegression(random_state=42, max_iter=1000), \n",
    "    TfidfVectorizer(),\n",
    "    X_train, \n",
    "    y_train,\n",
    "    X_test,\n",
    "    y_test\n",
    ")"
   ]
  },
  {
   "cell_type": "code",
   "execution_count": 80,
   "metadata": {},
   "outputs": [
    {
     "name": "stdout",
     "output_type": "stream",
     "text": [
      "Classification Report: \n",
      "              precision    recall  f1-score   support\n",
      "\n",
      "        high       0.93      0.88      0.90      1062\n",
      "         low       0.75      0.83      0.79       629\n",
      "      medium       0.63      0.62      0.63       523\n",
      "\n",
      "    accuracy                           0.81      2214\n",
      "   macro avg       0.77      0.78      0.77      2214\n",
      "weighted avg       0.81      0.81      0.81      2214\n",
      "\n"
     ]
    }
   ],
   "source": [
    "# Support Vector Machine\n",
    "pipeline_svm = train_model(\n",
    "    SVC(random_state=42), \n",
    "    TfidfVectorizer(),\n",
    "    X_train, \n",
    "    y_train,\n",
    "    X_test,\n",
    "    y_test\n",
    ")"
   ]
  },
  {
   "cell_type": "markdown",
   "metadata": {},
   "source": [
    "## Testing with example texts"
   ]
  },
  {
   "cell_type": "code",
   "execution_count": 89,
   "metadata": {},
   "outputs": [
    {
     "name": "stdout",
     "output_type": "stream",
     "text": [
      "Logistic Regression Prediction: \n",
      "['high' 'high' 'medium' 'high' 'medium' 'medium' 'high' 'high' 'medium'\n",
      " 'low' 'low']\n",
      "SVM Prediction: \n",
      "['high' 'low' 'medium' 'medium' 'medium' 'medium' 'high' 'high' 'low'\n",
      " 'low' 'low']\n"
     ]
    }
   ],
   "source": [
    "# Example of prediction\n",
    "example_text = pd.DataFrame([\n",
    "   'This is an urgent issue',\n",
    "    'I need help with my account right now without delay',\n",
    "    'I have a question about my account',\n",
    "    'I cannot access my account. Please help me',\n",
    "    'I am unable to access my account. I have tried resetting my password but it is not working. I need help urgently',\n",
    "    \"Query regarding my account. Please help me\",\n",
    "    \"The server is down. Please fix it as soon as possible\",\n",
    "    \"System Issue. Need help before the end of the day\",\n",
    "    \"Jira tickets need to be updated. Please do it as soon as possible. no hurry\",\n",
    "    \"Not Critical. Please ensure system is up and running without any issues before the end of the day.\",\n",
    "    \"this is a reminder to fill out your kaizen immediately\"\n",
    "    ],\n",
    "    columns=['text']\n",
    ")\n",
    "\n",
    "print(f\"Logistic Regression Prediction: \\n{pipeline_logreg.predict(example_text)}\")\n",
    "print(f\"SVM Prediction: \\n{pipeline_svm.predict(example_text)}\")\n"
   ]
  },
  {
   "cell_type": "markdown",
   "metadata": {},
   "source": [
    "# **Using Urgency**"
   ]
  },
  {
   "cell_type": "markdown",
   "metadata": {},
   "source": [
    "## Train-Test Split "
   ]
  },
  {
   "cell_type": "code",
   "execution_count": 111,
   "metadata": {},
   "outputs": [
    {
     "name": "stdout",
     "output_type": "stream",
     "text": [
      "X_train shape: (9523, 1)\n",
      "X_test shape: (2381, 1)\n"
     ]
    }
   ],
   "source": [
    "X = df[['text']]\n",
    "y = df['label']\n",
    "X_train_urgency, X_test_urgency, y_train_urgency, y_test_urgency = get_train_test_data(X, y)"
   ]
  },
  {
   "cell_type": "markdown",
   "metadata": {},
   "source": [
    "## Model Training - using Pipeline"
   ]
  },
  {
   "cell_type": "code",
   "execution_count": 112,
   "metadata": {},
   "outputs": [
    {
     "name": "stdout",
     "output_type": "stream",
     "text": [
      "Classification Report: \n",
      "              precision    recall  f1-score   support\n",
      "\n",
      "           0       0.85      0.95      0.90      1117\n",
      "           1       0.95      0.85      0.90      1264\n",
      "\n",
      "    accuracy                           0.90      2381\n",
      "   macro avg       0.90      0.90      0.90      2381\n",
      "weighted avg       0.90      0.90      0.90      2381\n",
      "\n"
     ]
    }
   ],
   "source": [
    "# Logisitic Regression\n",
    "pipeline_logreg = train_model(\n",
    "    LogisticRegression(random_state=42, max_iter=1000), \n",
    "    TfidfVectorizer(),\n",
    "    X_train_urgency, \n",
    "    y_train_urgency,\n",
    "    X_test_urgency,\n",
    "    y_test_urgency\n",
    ") "
   ]
  },
  {
   "cell_type": "code",
   "execution_count": 113,
   "metadata": {},
   "outputs": [
    {
     "name": "stdout",
     "output_type": "stream",
     "text": [
      "Classification Report: \n",
      "              precision    recall  f1-score   support\n",
      "\n",
      "           0       0.87      0.95      0.91      1117\n",
      "           1       0.95      0.87      0.91      1264\n",
      "\n",
      "    accuracy                           0.91      2381\n",
      "   macro avg       0.91      0.91      0.91      2381\n",
      "weighted avg       0.91      0.91      0.91      2381\n",
      "\n"
     ]
    }
   ],
   "source": [
    "# Support Vector Machine\n",
    "pipeline_svm = train_model(\n",
    "    SVC(random_state=42, kernel='linear'),\n",
    "    TfidfVectorizer(), \n",
    "    X_train_urgency,\n",
    "    y_train_urgency,\n",
    "    X_test_urgency,\n",
    "    y_test_urgency\n",
    ")"
   ]
  },
  {
   "cell_type": "code",
   "execution_count": 114,
   "metadata": {},
   "outputs": [
    {
     "name": "stdout",
     "output_type": "stream",
     "text": [
      "Logistic Regression Prediction: \n",
      "[1 1 0 1 0 0 1 0 0 0]\n",
      "\n",
      "SVM Prediction: \n",
      "[1 1 0 1 0 0 1 0 0 0]\n"
     ]
    }
   ],
   "source": [
    "\n",
    "example_text = pd.DataFrame([\n",
    "   'This is an urgent issue',\n",
    "    'I need help with my account right now without delay',\n",
    "    'I have a question about my account',\n",
    "    'I cannot access my account. Please help me',\n",
    "    'I am unable to access my account. I have tried resetting my password but it is not working. I need help urgently',\n",
    "    \"Query regarding my account. Please help me\",\n",
    "    \"The server is down. Please fix it as soon as possible\",\n",
    "    \"System Issue. Need help before the end of the day\",\n",
    "    \"Jira tickets need to be updated. Please do it as soon as possible. no hurry\",\n",
    "    \"Not Critical. Please ensure system is up and running without any issues before the end of the day.\",\n",
    "    ],\n",
    "    columns=['text']\n",
    ")\n",
    "\n",
    "print(f\"Logistic Regression Prediction: \\n{pipeline_logreg.predict(example_text)}\\n\")\n",
    "print(f\"SVM Prediction: \\n{pipeline_svm.predict(example_text)}\")"
   ]
  },
  {
   "cell_type": "markdown",
   "metadata": {},
   "source": [
    "# Cross Validation using K-Fold"
   ]
  },
  {
   "cell_type": "code",
   "execution_count": 115,
   "metadata": {},
   "outputs": [],
   "source": [
    "\n",
    "# Function to train and validate the model using K-Fold Cross-Validation\n",
    "def cross_validate_model(model, tfidf_vectorizer, X, y, cv=5, scoring='precision'):\n",
    "    text_transformer = Pipeline([\n",
    "        ('tfidf', tfidf_vectorizer)\n",
    "    ])\n",
    "\n",
    "    preprocessor = ColumnTransformer(\n",
    "        transformers=[\n",
    "            ('text_tfidf', text_transformer, 'text')\n",
    "        ],\n",
    "    )\n",
    "\n",
    "    pipeline = Pipeline([\n",
    "        ('preprocessor', preprocessor),\n",
    "        ('classifier', model)\n",
    "    ])\n",
    "\n",
    "    # Stratified K-Fold to maintain class distribution\n",
    "    skf = StratifiedKFold(n_splits=cv, shuffle=True, random_state=42)\n",
    "\n",
    "    # Use cross_val_score to evaluate accuracy\n",
    "    scores = cross_val_score(\n",
    "        pipeline, \n",
    "        X, \n",
    "        y, \n",
    "        cv=skf, \n",
    "        scoring=scoring\n",
    "    )\n",
    "\n",
    "    print(f\"Cross-Validation {scoring.capitalize} Scores: {scores}\")\n",
    "    print(f\"Mean: {np.mean(scores):.4f}\")\n",
    "    print(f\"Standard Deviation: {np.std(scores):.4f}\")\n",
    "\n",
    "    return scores\n"
   ]
  },
  {
   "cell_type": "code",
   "execution_count": 116,
   "metadata": {},
   "outputs": [
    {
     "name": "stdout",
     "output_type": "stream",
     "text": [
      "Cross-Validation <built-in method capitalize of str object at 0x00000222B8A62FB0> Scores: [0.93706294 0.9527972  0.93838028 0.94363792 0.93996569]\n",
      "Mean: 0.9424\n",
      "Standard Deviation: 0.0057\n"
     ]
    }
   ],
   "source": [
    "# Testing accuracy\n",
    "scored_svm = cross_validate_model(\n",
    "    SVC(random_state=42, kernel='linear'), \n",
    "    TfidfVectorizer(),\n",
    "    df[['text']], \n",
    "    df['urgency'].map({'urgent': 1, 'not_urgent': 0})\n",
    ")"
   ]
  },
  {
   "cell_type": "markdown",
   "metadata": {},
   "source": [
    "## Hyperparameter Tuning - using GridSearchCV"
   ]
  },
  {
   "cell_type": "code",
   "execution_count": 117,
   "metadata": {},
   "outputs": [],
   "source": [
    "from sklearn.model_selection import GridSearchCV\n",
    "\n",
    "def hyperparameter_tuning(model, X_train, y_train, param_grid):\n",
    "    text_transformer = Pipeline([\n",
    "        ('tfidf', TfidfVectorizer())\n",
    "    ])\n",
    "\n",
    "    preprocessor = ColumnTransformer(\n",
    "        transformers=[\n",
    "            ('text_tfidf', text_transformer, 'text')\n",
    "        ],\n",
    "    )\n",
    "\n",
    "    pipeline = Pipeline([\n",
    "        ('preprocessor', preprocessor),\n",
    "        ('classifier', model)\n",
    "    ])\n",
    "\n",
    "    grid_search = GridSearchCV(\n",
    "        estimator=pipeline,\n",
    "        param_grid=param_grid,\n",
    "        cv=5,\n",
    "        scoring='precision',\n",
    "        verbose=2\n",
    "    )\n",
    "    grid_search.fit(X_train, y_train)\n",
    "    print(f\"Best Parameters: {grid_search.best_params_}\")\n",
    "    print(f\"Best Score: {grid_search.best_score_}\")\n",
    "    return grid_search.best_estimator_\n"
   ]
  },
  {
   "cell_type": "code",
   "execution_count": 118,
   "metadata": {},
   "outputs": [],
   "source": [
    "param_grid = {\n",
    "    'classifier__C': [0.1, 1, 10],\n",
    "    'classifier__kernel': ['linear'],\n",
    "    'preprocessor__text_tfidf__tfidf__max_features': [None],\n",
    "    'preprocessor__text_tfidf__tfidf__ngram_range': [(1, 1), (1, 2), (1,3), (1,4)],\n",
    "}"
   ]
  },
  {
   "cell_type": "code",
   "execution_count": 25,
   "metadata": {},
   "outputs": [
    {
     "name": "stdout",
     "output_type": "stream",
     "text": [
      "Fitting 5 folds for each of 12 candidates, totalling 60 fits\n",
      "[CV] END classifier__C=0.1, classifier__kernel=linear, preprocessor__text_tfidf__tfidf__max_features=None, preprocessor__text_tfidf__tfidf__ngram_range=(1, 1); total time=   5.1s\n",
      "[CV] END classifier__C=0.1, classifier__kernel=linear, preprocessor__text_tfidf__tfidf__max_features=None, preprocessor__text_tfidf__tfidf__ngram_range=(1, 1); total time=   4.9s\n",
      "[CV] END classifier__C=0.1, classifier__kernel=linear, preprocessor__text_tfidf__tfidf__max_features=None, preprocessor__text_tfidf__tfidf__ngram_range=(1, 1); total time=   4.8s\n",
      "[CV] END classifier__C=0.1, classifier__kernel=linear, preprocessor__text_tfidf__tfidf__max_features=None, preprocessor__text_tfidf__tfidf__ngram_range=(1, 1); total time=   5.0s\n",
      "[CV] END classifier__C=0.1, classifier__kernel=linear, preprocessor__text_tfidf__tfidf__max_features=None, preprocessor__text_tfidf__tfidf__ngram_range=(1, 1); total time=   4.8s\n",
      "[CV] END classifier__C=0.1, classifier__kernel=linear, preprocessor__text_tfidf__tfidf__max_features=None, preprocessor__text_tfidf__tfidf__ngram_range=(1, 2); total time=   9.5s\n",
      "[CV] END classifier__C=0.1, classifier__kernel=linear, preprocessor__text_tfidf__tfidf__max_features=None, preprocessor__text_tfidf__tfidf__ngram_range=(1, 2); total time=   9.4s\n",
      "[CV] END classifier__C=0.1, classifier__kernel=linear, preprocessor__text_tfidf__tfidf__max_features=None, preprocessor__text_tfidf__tfidf__ngram_range=(1, 2); total time=   9.4s\n",
      "[CV] END classifier__C=0.1, classifier__kernel=linear, preprocessor__text_tfidf__tfidf__max_features=None, preprocessor__text_tfidf__tfidf__ngram_range=(1, 2); total time=   9.4s\n",
      "[CV] END classifier__C=0.1, classifier__kernel=linear, preprocessor__text_tfidf__tfidf__max_features=None, preprocessor__text_tfidf__tfidf__ngram_range=(1, 2); total time=   9.8s\n",
      "[CV] END classifier__C=0.1, classifier__kernel=linear, preprocessor__text_tfidf__tfidf__max_features=None, preprocessor__text_tfidf__tfidf__ngram_range=(1, 3); total time=  14.5s\n",
      "[CV] END classifier__C=0.1, classifier__kernel=linear, preprocessor__text_tfidf__tfidf__max_features=None, preprocessor__text_tfidf__tfidf__ngram_range=(1, 3); total time=  14.3s\n",
      "[CV] END classifier__C=0.1, classifier__kernel=linear, preprocessor__text_tfidf__tfidf__max_features=None, preprocessor__text_tfidf__tfidf__ngram_range=(1, 3); total time=  14.0s\n",
      "[CV] END classifier__C=0.1, classifier__kernel=linear, preprocessor__text_tfidf__tfidf__max_features=None, preprocessor__text_tfidf__tfidf__ngram_range=(1, 3); total time=  13.9s\n",
      "[CV] END classifier__C=0.1, classifier__kernel=linear, preprocessor__text_tfidf__tfidf__max_features=None, preprocessor__text_tfidf__tfidf__ngram_range=(1, 3); total time=  15.2s\n",
      "[CV] END classifier__C=0.1, classifier__kernel=linear, preprocessor__text_tfidf__tfidf__max_features=None, preprocessor__text_tfidf__tfidf__ngram_range=(1, 4); total time=  19.7s\n",
      "[CV] END classifier__C=0.1, classifier__kernel=linear, preprocessor__text_tfidf__tfidf__max_features=None, preprocessor__text_tfidf__tfidf__ngram_range=(1, 4); total time=  20.6s\n",
      "[CV] END classifier__C=0.1, classifier__kernel=linear, preprocessor__text_tfidf__tfidf__max_features=None, preprocessor__text_tfidf__tfidf__ngram_range=(1, 4); total time=  24.0s\n",
      "[CV] END classifier__C=0.1, classifier__kernel=linear, preprocessor__text_tfidf__tfidf__max_features=None, preprocessor__text_tfidf__tfidf__ngram_range=(1, 4); total time=  21.8s\n",
      "[CV] END classifier__C=0.1, classifier__kernel=linear, preprocessor__text_tfidf__tfidf__max_features=None, preprocessor__text_tfidf__tfidf__ngram_range=(1, 4); total time=  19.4s\n",
      "[CV] END classifier__C=1, classifier__kernel=linear, preprocessor__text_tfidf__tfidf__max_features=None, preprocessor__text_tfidf__tfidf__ngram_range=(1, 1); total time=   3.6s\n",
      "[CV] END classifier__C=1, classifier__kernel=linear, preprocessor__text_tfidf__tfidf__max_features=None, preprocessor__text_tfidf__tfidf__ngram_range=(1, 1); total time=   3.7s\n",
      "[CV] END classifier__C=1, classifier__kernel=linear, preprocessor__text_tfidf__tfidf__max_features=None, preprocessor__text_tfidf__tfidf__ngram_range=(1, 1); total time=   3.6s\n",
      "[CV] END classifier__C=1, classifier__kernel=linear, preprocessor__text_tfidf__tfidf__max_features=None, preprocessor__text_tfidf__tfidf__ngram_range=(1, 1); total time=   3.9s\n",
      "[CV] END classifier__C=1, classifier__kernel=linear, preprocessor__text_tfidf__tfidf__max_features=None, preprocessor__text_tfidf__tfidf__ngram_range=(1, 1); total time=   3.6s\n",
      "[CV] END classifier__C=1, classifier__kernel=linear, preprocessor__text_tfidf__tfidf__max_features=None, preprocessor__text_tfidf__tfidf__ngram_range=(1, 2); total time=   7.5s\n",
      "[CV] END classifier__C=1, classifier__kernel=linear, preprocessor__text_tfidf__tfidf__max_features=None, preprocessor__text_tfidf__tfidf__ngram_range=(1, 2); total time=   8.2s\n",
      "[CV] END classifier__C=1, classifier__kernel=linear, preprocessor__text_tfidf__tfidf__max_features=None, preprocessor__text_tfidf__tfidf__ngram_range=(1, 2); total time=   7.5s\n",
      "[CV] END classifier__C=1, classifier__kernel=linear, preprocessor__text_tfidf__tfidf__max_features=None, preprocessor__text_tfidf__tfidf__ngram_range=(1, 2); total time=   7.5s\n",
      "[CV] END classifier__C=1, classifier__kernel=linear, preprocessor__text_tfidf__tfidf__max_features=None, preprocessor__text_tfidf__tfidf__ngram_range=(1, 2); total time=   7.4s\n",
      "[CV] END classifier__C=1, classifier__kernel=linear, preprocessor__text_tfidf__tfidf__max_features=None, preprocessor__text_tfidf__tfidf__ngram_range=(1, 3); total time=  15.4s\n",
      "[CV] END classifier__C=1, classifier__kernel=linear, preprocessor__text_tfidf__tfidf__max_features=None, preprocessor__text_tfidf__tfidf__ngram_range=(1, 3); total time=  14.3s\n",
      "[CV] END classifier__C=1, classifier__kernel=linear, preprocessor__text_tfidf__tfidf__max_features=None, preprocessor__text_tfidf__tfidf__ngram_range=(1, 3); total time=  13.4s\n",
      "[CV] END classifier__C=1, classifier__kernel=linear, preprocessor__text_tfidf__tfidf__max_features=None, preprocessor__text_tfidf__tfidf__ngram_range=(1, 3); total time=  13.3s\n",
      "[CV] END classifier__C=1, classifier__kernel=linear, preprocessor__text_tfidf__tfidf__max_features=None, preprocessor__text_tfidf__tfidf__ngram_range=(1, 3); total time=  13.0s\n",
      "[CV] END classifier__C=1, classifier__kernel=linear, preprocessor__text_tfidf__tfidf__max_features=None, preprocessor__text_tfidf__tfidf__ngram_range=(1, 4); total time=  17.3s\n",
      "[CV] END classifier__C=1, classifier__kernel=linear, preprocessor__text_tfidf__tfidf__max_features=None, preprocessor__text_tfidf__tfidf__ngram_range=(1, 4); total time=  18.4s\n",
      "[CV] END classifier__C=1, classifier__kernel=linear, preprocessor__text_tfidf__tfidf__max_features=None, preprocessor__text_tfidf__tfidf__ngram_range=(1, 4); total time=  19.0s\n",
      "[CV] END classifier__C=1, classifier__kernel=linear, preprocessor__text_tfidf__tfidf__max_features=None, preprocessor__text_tfidf__tfidf__ngram_range=(1, 4); total time=  18.8s\n",
      "[CV] END classifier__C=1, classifier__kernel=linear, preprocessor__text_tfidf__tfidf__max_features=None, preprocessor__text_tfidf__tfidf__ngram_range=(1, 4); total time=  20.5s\n",
      "[CV] END classifier__C=10, classifier__kernel=linear, preprocessor__text_tfidf__tfidf__max_features=None, preprocessor__text_tfidf__tfidf__ngram_range=(1, 1); total time=   3.0s\n",
      "[CV] END classifier__C=10, classifier__kernel=linear, preprocessor__text_tfidf__tfidf__max_features=None, preprocessor__text_tfidf__tfidf__ngram_range=(1, 1); total time=   2.9s\n",
      "[CV] END classifier__C=10, classifier__kernel=linear, preprocessor__text_tfidf__tfidf__max_features=None, preprocessor__text_tfidf__tfidf__ngram_range=(1, 1); total time=   2.9s\n",
      "[CV] END classifier__C=10, classifier__kernel=linear, preprocessor__text_tfidf__tfidf__max_features=None, preprocessor__text_tfidf__tfidf__ngram_range=(1, 1); total time=   3.0s\n",
      "[CV] END classifier__C=10, classifier__kernel=linear, preprocessor__text_tfidf__tfidf__max_features=None, preprocessor__text_tfidf__tfidf__ngram_range=(1, 1); total time=   3.2s\n",
      "[CV] END classifier__C=10, classifier__kernel=linear, preprocessor__text_tfidf__tfidf__max_features=None, preprocessor__text_tfidf__tfidf__ngram_range=(1, 2); total time=   9.4s\n",
      "[CV] END classifier__C=10, classifier__kernel=linear, preprocessor__text_tfidf__tfidf__max_features=None, preprocessor__text_tfidf__tfidf__ngram_range=(1, 2); total time=   9.2s\n",
      "[CV] END classifier__C=10, classifier__kernel=linear, preprocessor__text_tfidf__tfidf__max_features=None, preprocessor__text_tfidf__tfidf__ngram_range=(1, 2); total time=   9.3s\n",
      "[CV] END classifier__C=10, classifier__kernel=linear, preprocessor__text_tfidf__tfidf__max_features=None, preprocessor__text_tfidf__tfidf__ngram_range=(1, 2); total time=   9.9s\n",
      "[CV] END classifier__C=10, classifier__kernel=linear, preprocessor__text_tfidf__tfidf__max_features=None, preprocessor__text_tfidf__tfidf__ngram_range=(1, 2); total time=   9.4s\n",
      "[CV] END classifier__C=10, classifier__kernel=linear, preprocessor__text_tfidf__tfidf__max_features=None, preprocessor__text_tfidf__tfidf__ngram_range=(1, 3); total time=  14.3s\n",
      "[CV] END classifier__C=10, classifier__kernel=linear, preprocessor__text_tfidf__tfidf__max_features=None, preprocessor__text_tfidf__tfidf__ngram_range=(1, 3); total time=  14.2s\n",
      "[CV] END classifier__C=10, classifier__kernel=linear, preprocessor__text_tfidf__tfidf__max_features=None, preprocessor__text_tfidf__tfidf__ngram_range=(1, 3); total time=  15.3s\n",
      "[CV] END classifier__C=10, classifier__kernel=linear, preprocessor__text_tfidf__tfidf__max_features=None, preprocessor__text_tfidf__tfidf__ngram_range=(1, 3); total time=  14.5s\n",
      "[CV] END classifier__C=10, classifier__kernel=linear, preprocessor__text_tfidf__tfidf__max_features=None, preprocessor__text_tfidf__tfidf__ngram_range=(1, 3); total time=  13.9s\n",
      "[CV] END classifier__C=10, classifier__kernel=linear, preprocessor__text_tfidf__tfidf__max_features=None, preprocessor__text_tfidf__tfidf__ngram_range=(1, 4); total time=  18.5s\n",
      "[CV] END classifier__C=10, classifier__kernel=linear, preprocessor__text_tfidf__tfidf__max_features=None, preprocessor__text_tfidf__tfidf__ngram_range=(1, 4); total time=  18.8s\n",
      "[CV] END classifier__C=10, classifier__kernel=linear, preprocessor__text_tfidf__tfidf__max_features=None, preprocessor__text_tfidf__tfidf__ngram_range=(1, 4); total time=  21.5s\n",
      "[CV] END classifier__C=10, classifier__kernel=linear, preprocessor__text_tfidf__tfidf__max_features=None, preprocessor__text_tfidf__tfidf__ngram_range=(1, 4); total time=  22.2s\n",
      "[CV] END classifier__C=10, classifier__kernel=linear, preprocessor__text_tfidf__tfidf__max_features=None, preprocessor__text_tfidf__tfidf__ngram_range=(1, 4); total time=  19.8s\n",
      "Best Parameters: {'classifier__C': 0.1, 'classifier__kernel': 'linear', 'preprocessor__text_tfidf__tfidf__max_features': None, 'preprocessor__text_tfidf__tfidf__ngram_range': (1, 3)}\n",
      "Best Score: 0.9596166320165208\n"
     ]
    }
   ],
   "source": [
    "best_model = hyperparameter_tuning(\n",
    "    SVC(random_state=42),\n",
    "    X_train_urgency,\n",
    "    y_train_urgency,\n",
    "    param_grid\n",
    ")"
   ]
  },
  {
   "cell_type": "markdown",
   "metadata": {},
   "source": [
    "### **Result** : Model best parameters are\n",
    "kernel : linear\n",
    "\n",
    "C value : 0.1\n",
    "\n",
    "TF-IDF Max features : None\n",
    "\n",
    "TF-IDF n-gram range: (1,2)\n"
   ]
  },
  {
   "cell_type": "markdown",
   "metadata": {},
   "source": [
    "### Tuning using RBF kernel"
   ]
  },
  {
   "cell_type": "code",
   "execution_count": 119,
   "metadata": {},
   "outputs": [
    {
     "name": "stdout",
     "output_type": "stream",
     "text": [
      "Using RBF Kernel\n",
      "Classification Report: \n",
      "              precision    recall  f1-score   support\n",
      "\n",
      "           0       0.85      0.98      0.91      1117\n",
      "           1       0.98      0.85      0.91      1264\n",
      "\n",
      "    accuracy                           0.91      2381\n",
      "   macro avg       0.92      0.92      0.91      2381\n",
      "weighted avg       0.92      0.91      0.91      2381\n",
      "\n"
     ]
    }
   ],
   "source": [
    "print(\"Using RBF Kernel\")\n",
    "pipeline_best_svm_rbf =  train_model(\n",
    "    SVC(gamma='scale', kernel='rbf', random_state=42),\n",
    "    TfidfVectorizer(ngram_range=(1, 4)),\n",
    "    X_train_urgency,\n",
    "    y_train_urgency,\n",
    "    X_test_urgency,\n",
    "    y_test_urgency\n",
    ")"
   ]
  },
  {
   "cell_type": "code",
   "execution_count": 120,
   "metadata": {},
   "outputs": [
    {
     "name": "stdout",
     "output_type": "stream",
     "text": [
      "SVM Prediction with RBF: \n",
      "[1 0 0 0 0 0 1 1 0 0]\n"
     ]
    }
   ],
   "source": [
    "\n",
    "example_text = pd.DataFrame([\n",
    "   'This is an urgent issue',\n",
    "    'I need help with my account right now without delay',\n",
    "    'I have a question about my account',\n",
    "    'I cannot access my account. Please help me',\n",
    "    'I am unable to access my account. I have tried resetting my password but it is not working. I need help urgently',\n",
    "    \"Query regarding my account. Please help me\",\n",
    "    \"The server is down. Please fix it as soon as possible\",\n",
    "    \"System Issue. Need help before the end of the day\",\n",
    "    \"Jira tickets need to be updated. Please do it as soon as possible. no hurry\",\n",
    "    \"Not Critical. Please ensure system is up and running without any issues before the end of the day.\",\n",
    "    ],\n",
    "    columns=['text']\n",
    ")\n",
    "print(f\"SVM Prediction with RBF: \\n{pipeline_best_svm_rbf.predict(example_text)}\")"
   ]
  },
  {
   "cell_type": "markdown",
   "metadata": {},
   "source": [
    "### Tuning using Linear Kernel"
   ]
  },
  {
   "cell_type": "code",
   "execution_count": 132,
   "metadata": {},
   "outputs": [
    {
     "name": "stdout",
     "output_type": "stream",
     "text": [
      "Using Linear Kernel\n",
      "Classification Report: \n",
      "              precision    recall  f1-score   support\n",
      "\n",
      "           0       0.89      0.95      0.92      1117\n",
      "           1       0.96      0.89      0.92      1264\n",
      "\n",
      "    accuracy                           0.92      2381\n",
      "   macro avg       0.92      0.92      0.92      2381\n",
      "weighted avg       0.92      0.92      0.92      2381\n",
      "\n"
     ]
    }
   ],
   "source": [
    "print(\"Using Linear Kernel\")\n",
    "pipeline_best_svm_linear =  train_model(\n",
    "    SVC(kernel='linear', random_state=42),\n",
    "    TfidfVectorizer(ngram_range=(1, 4)),\n",
    "    X_train_urgency,\n",
    "    y_train_urgency,\n",
    "    X_test_urgency,\n",
    "    y_test_urgency\n",
    ")"
   ]
  },
  {
   "cell_type": "markdown",
   "metadata": {},
   "source": [
    "### Tuning with Logistic Regression Model"
   ]
  },
  {
   "cell_type": "code",
   "execution_count": null,
   "metadata": {},
   "outputs": [
    {
     "name": "stdout",
     "output_type": "stream",
     "text": [
      "Using Logistic Regression\n",
      "Classification Report: \n",
      "              precision    recall  f1-score   support\n",
      "\n",
      "           0       0.86      0.96      0.90      1117\n",
      "           1       0.96      0.86      0.91      1264\n",
      "\n",
      "    accuracy                           0.91      2381\n",
      "   macro avg       0.91      0.91      0.91      2381\n",
      "weighted avg       0.91      0.91      0.91      2381\n",
      "\n"
     ]
    }
   ],
   "source": [
    "print(\"Using Logistic Regression\")\n",
    "pipeline_best_logreg =  train_model(\n",
    "    LogisticRegression(random_state=42, max_iter=1000), \n",
    "    TfidfVectorizer(ngram_range=(1, 4)),\n",
    "    X_train_urgency,\n",
    "    y_train_urgency,\n",
    "    X_test_urgency,\n",
    "    y_test_urgency\n",
    ")"
   ]
  },
  {
   "cell_type": "markdown",
   "metadata": {},
   "source": [
    "### Using Stacked Classifier"
   ]
  },
  {
   "cell_type": "code",
   "execution_count": null,
   "metadata": {},
   "outputs": [
    {
     "name": "stdout",
     "output_type": "stream",
     "text": [
      "Using Stacked Model\n"
     ]
    },
    {
     "ename": "ValueError",
     "evalue": "Specifying the columns using strings is only supported for dataframes.",
     "output_type": "error",
     "traceback": [
      "\u001b[1;31m---------------------------------------------------------------------------\u001b[0m",
      "\u001b[1;31mAttributeError\u001b[0m                            Traceback (most recent call last)",
      "File \u001b[1;32mc:\\Users\\kripa\\AppData\\Local\\Programs\\Python\\Python311\\Lib\\site-packages\\sklearn\\utils\\__init__.py:457\u001b[0m, in \u001b[0;36m_get_column_indices\u001b[1;34m(X, key)\u001b[0m\n\u001b[0;32m    456\u001b[0m \u001b[38;5;28;01mtry\u001b[39;00m:\n\u001b[1;32m--> 457\u001b[0m     all_columns \u001b[38;5;241m=\u001b[39m \u001b[43mX\u001b[49m\u001b[38;5;241;43m.\u001b[39;49m\u001b[43mcolumns\u001b[49m\n\u001b[0;32m    458\u001b[0m \u001b[38;5;28;01mexcept\u001b[39;00m \u001b[38;5;167;01mAttributeError\u001b[39;00m:\n",
      "\u001b[1;31mAttributeError\u001b[0m: 'numpy.ndarray' object has no attribute 'columns'",
      "\nDuring handling of the above exception, another exception occurred:\n",
      "\u001b[1;31mValueError\u001b[0m                                Traceback (most recent call last)",
      "Cell \u001b[1;32mIn[151], line 16\u001b[0m\n\u001b[0;32m      9\u001b[0m \u001b[38;5;28mprint\u001b[39m(\u001b[38;5;124m\"\u001b[39m\u001b[38;5;124mUsing Stacked Model\u001b[39m\u001b[38;5;124m\"\u001b[39m)\n\u001b[0;32m     11\u001b[0m stacked_model \u001b[38;5;241m=\u001b[39m StackingClassifier(\n\u001b[0;32m     12\u001b[0m     estimators\u001b[38;5;241m=\u001b[39mestimators,\n\u001b[0;32m     13\u001b[0m     final_estimator\u001b[38;5;241m=\u001b[39mmeta_model\n\u001b[0;32m     14\u001b[0m )\n\u001b[1;32m---> 16\u001b[0m \u001b[43mstacked_model\u001b[49m\u001b[38;5;241;43m.\u001b[39;49m\u001b[43mfit\u001b[49m\u001b[43m(\u001b[49m\u001b[43mX_train_urgency\u001b[49m\u001b[43m,\u001b[49m\u001b[43m \u001b[49m\u001b[43my_train_urgency\u001b[49m\u001b[43m)\u001b[49m\n\u001b[0;32m     18\u001b[0m y_pred \u001b[38;5;241m=\u001b[39m stacked_model\u001b[38;5;241m.\u001b[39mpredict(X_test_urgency)\n\u001b[0;32m     20\u001b[0m \u001b[38;5;28mprint\u001b[39m(\u001b[38;5;124mf\u001b[39m\u001b[38;5;124m\"\u001b[39m\u001b[38;5;124mClassification Report: \u001b[39m\u001b[38;5;130;01m\\n\u001b[39;00m\u001b[38;5;132;01m{\u001b[39;00mclassification_report(y_test_urgency,\u001b[38;5;250m \u001b[39my_pred)\u001b[38;5;132;01m}\u001b[39;00m\u001b[38;5;124m\"\u001b[39m)\n",
      "File \u001b[1;32mc:\\Users\\kripa\\AppData\\Local\\Programs\\Python\\Python311\\Lib\\site-packages\\sklearn\\ensemble\\_stacking.py:663\u001b[0m, in \u001b[0;36mStackingClassifier.fit\u001b[1;34m(self, X, y, sample_weight)\u001b[0m\n\u001b[0;32m    661\u001b[0m     \u001b[38;5;28mself\u001b[39m\u001b[38;5;241m.\u001b[39mclasses_ \u001b[38;5;241m=\u001b[39m \u001b[38;5;28mself\u001b[39m\u001b[38;5;241m.\u001b[39m_label_encoder\u001b[38;5;241m.\u001b[39mclasses_\n\u001b[0;32m    662\u001b[0m     y_encoded \u001b[38;5;241m=\u001b[39m \u001b[38;5;28mself\u001b[39m\u001b[38;5;241m.\u001b[39m_label_encoder\u001b[38;5;241m.\u001b[39mtransform(y)\n\u001b[1;32m--> 663\u001b[0m \u001b[38;5;28;01mreturn\u001b[39;00m \u001b[38;5;28;43msuper\u001b[39;49m\u001b[43m(\u001b[49m\u001b[43m)\u001b[49m\u001b[38;5;241;43m.\u001b[39;49m\u001b[43mfit\u001b[49m\u001b[43m(\u001b[49m\u001b[43mX\u001b[49m\u001b[43m,\u001b[49m\u001b[43m \u001b[49m\u001b[43my_encoded\u001b[49m\u001b[43m,\u001b[49m\u001b[43m \u001b[49m\u001b[43msample_weight\u001b[49m\u001b[43m)\u001b[49m\n",
      "File \u001b[1;32mc:\\Users\\kripa\\AppData\\Local\\Programs\\Python\\Python311\\Lib\\site-packages\\sklearn\\base.py:1351\u001b[0m, in \u001b[0;36m_fit_context.<locals>.decorator.<locals>.wrapper\u001b[1;34m(estimator, *args, **kwargs)\u001b[0m\n\u001b[0;32m   1344\u001b[0m     estimator\u001b[38;5;241m.\u001b[39m_validate_params()\n\u001b[0;32m   1346\u001b[0m \u001b[38;5;28;01mwith\u001b[39;00m config_context(\n\u001b[0;32m   1347\u001b[0m     skip_parameter_validation\u001b[38;5;241m=\u001b[39m(\n\u001b[0;32m   1348\u001b[0m         prefer_skip_nested_validation \u001b[38;5;129;01mor\u001b[39;00m global_skip_validation\n\u001b[0;32m   1349\u001b[0m     )\n\u001b[0;32m   1350\u001b[0m ):\n\u001b[1;32m-> 1351\u001b[0m     \u001b[38;5;28;01mreturn\u001b[39;00m \u001b[43mfit_method\u001b[49m\u001b[43m(\u001b[49m\u001b[43mestimator\u001b[49m\u001b[43m,\u001b[49m\u001b[43m \u001b[49m\u001b[38;5;241;43m*\u001b[39;49m\u001b[43margs\u001b[49m\u001b[43m,\u001b[49m\u001b[43m \u001b[49m\u001b[38;5;241;43m*\u001b[39;49m\u001b[38;5;241;43m*\u001b[39;49m\u001b[43mkwargs\u001b[49m\u001b[43m)\u001b[49m\n",
      "File \u001b[1;32mc:\\Users\\kripa\\AppData\\Local\\Programs\\Python\\Python311\\Lib\\site-packages\\sklearn\\ensemble\\_stacking.py:277\u001b[0m, in \u001b[0;36m_BaseStacking.fit\u001b[1;34m(self, X, y, sample_weight)\u001b[0m\n\u001b[0;32m    270\u001b[0m \u001b[38;5;28mself\u001b[39m\u001b[38;5;241m.\u001b[39mstack_method_ \u001b[38;5;241m=\u001b[39m [\n\u001b[0;32m    271\u001b[0m     meth\n\u001b[0;32m    272\u001b[0m     \u001b[38;5;28;01mfor\u001b[39;00m (meth, est) \u001b[38;5;129;01min\u001b[39;00m \u001b[38;5;28mzip\u001b[39m(\u001b[38;5;28mself\u001b[39m\u001b[38;5;241m.\u001b[39mstack_method_, all_estimators)\n\u001b[0;32m    273\u001b[0m     \u001b[38;5;28;01mif\u001b[39;00m est \u001b[38;5;241m!=\u001b[39m \u001b[38;5;124m\"\u001b[39m\u001b[38;5;124mdrop\u001b[39m\u001b[38;5;124m\"\u001b[39m\n\u001b[0;32m    274\u001b[0m ]\n\u001b[0;32m    276\u001b[0m X_meta \u001b[38;5;241m=\u001b[39m \u001b[38;5;28mself\u001b[39m\u001b[38;5;241m.\u001b[39m_concatenate_predictions(X, predictions)\n\u001b[1;32m--> 277\u001b[0m \u001b[43m_fit_single_estimator\u001b[49m\u001b[43m(\u001b[49m\n\u001b[0;32m    278\u001b[0m \u001b[43m    \u001b[49m\u001b[38;5;28;43mself\u001b[39;49m\u001b[38;5;241;43m.\u001b[39;49m\u001b[43mfinal_estimator_\u001b[49m\u001b[43m,\u001b[49m\u001b[43m \u001b[49m\u001b[43mX_meta\u001b[49m\u001b[43m,\u001b[49m\u001b[43m \u001b[49m\u001b[43my\u001b[49m\u001b[43m,\u001b[49m\u001b[43m \u001b[49m\u001b[43msample_weight\u001b[49m\u001b[38;5;241;43m=\u001b[39;49m\u001b[43msample_weight\u001b[49m\n\u001b[0;32m    279\u001b[0m \u001b[43m\u001b[49m\u001b[43m)\u001b[49m\n\u001b[0;32m    281\u001b[0m \u001b[38;5;28;01mreturn\u001b[39;00m \u001b[38;5;28mself\u001b[39m\n",
      "File \u001b[1;32mc:\\Users\\kripa\\AppData\\Local\\Programs\\Python\\Python311\\Lib\\site-packages\\sklearn\\ensemble\\_base.py:36\u001b[0m, in \u001b[0;36m_fit_single_estimator\u001b[1;34m(estimator, X, y, sample_weight, message_clsname, message)\u001b[0m\n\u001b[0;32m     34\u001b[0m \u001b[38;5;28;01melse\u001b[39;00m:\n\u001b[0;32m     35\u001b[0m     \u001b[38;5;28;01mwith\u001b[39;00m _print_elapsed_time(message_clsname, message):\n\u001b[1;32m---> 36\u001b[0m         \u001b[43mestimator\u001b[49m\u001b[38;5;241;43m.\u001b[39;49m\u001b[43mfit\u001b[49m\u001b[43m(\u001b[49m\u001b[43mX\u001b[49m\u001b[43m,\u001b[49m\u001b[43m \u001b[49m\u001b[43my\u001b[49m\u001b[43m)\u001b[49m\n\u001b[0;32m     37\u001b[0m \u001b[38;5;28;01mreturn\u001b[39;00m estimator\n",
      "File \u001b[1;32mc:\\Users\\kripa\\AppData\\Local\\Programs\\Python\\Python311\\Lib\\site-packages\\sklearn\\base.py:1351\u001b[0m, in \u001b[0;36m_fit_context.<locals>.decorator.<locals>.wrapper\u001b[1;34m(estimator, *args, **kwargs)\u001b[0m\n\u001b[0;32m   1344\u001b[0m     estimator\u001b[38;5;241m.\u001b[39m_validate_params()\n\u001b[0;32m   1346\u001b[0m \u001b[38;5;28;01mwith\u001b[39;00m config_context(\n\u001b[0;32m   1347\u001b[0m     skip_parameter_validation\u001b[38;5;241m=\u001b[39m(\n\u001b[0;32m   1348\u001b[0m         prefer_skip_nested_validation \u001b[38;5;129;01mor\u001b[39;00m global_skip_validation\n\u001b[0;32m   1349\u001b[0m     )\n\u001b[0;32m   1350\u001b[0m ):\n\u001b[1;32m-> 1351\u001b[0m     \u001b[38;5;28;01mreturn\u001b[39;00m \u001b[43mfit_method\u001b[49m\u001b[43m(\u001b[49m\u001b[43mestimator\u001b[49m\u001b[43m,\u001b[49m\u001b[43m \u001b[49m\u001b[38;5;241;43m*\u001b[39;49m\u001b[43margs\u001b[49m\u001b[43m,\u001b[49m\u001b[43m \u001b[49m\u001b[38;5;241;43m*\u001b[39;49m\u001b[38;5;241;43m*\u001b[39;49m\u001b[43mkwargs\u001b[49m\u001b[43m)\u001b[49m\n",
      "File \u001b[1;32mc:\\Users\\kripa\\AppData\\Local\\Programs\\Python\\Python311\\Lib\\site-packages\\sklearn\\pipeline.py:471\u001b[0m, in \u001b[0;36mPipeline.fit\u001b[1;34m(self, X, y, **params)\u001b[0m\n\u001b[0;32m    428\u001b[0m \u001b[38;5;250m\u001b[39m\u001b[38;5;124;03m\"\"\"Fit the model.\u001b[39;00m\n\u001b[0;32m    429\u001b[0m \n\u001b[0;32m    430\u001b[0m \u001b[38;5;124;03mFit all the transformers one after the other and sequentially transform the\u001b[39;00m\n\u001b[1;32m   (...)\u001b[0m\n\u001b[0;32m    468\u001b[0m \u001b[38;5;124;03m    Pipeline with fitted steps.\u001b[39;00m\n\u001b[0;32m    469\u001b[0m \u001b[38;5;124;03m\"\"\"\u001b[39;00m\n\u001b[0;32m    470\u001b[0m routed_params \u001b[38;5;241m=\u001b[39m \u001b[38;5;28mself\u001b[39m\u001b[38;5;241m.\u001b[39m_check_method_params(method\u001b[38;5;241m=\u001b[39m\u001b[38;5;124m\"\u001b[39m\u001b[38;5;124mfit\u001b[39m\u001b[38;5;124m\"\u001b[39m, props\u001b[38;5;241m=\u001b[39mparams)\n\u001b[1;32m--> 471\u001b[0m Xt \u001b[38;5;241m=\u001b[39m \u001b[38;5;28;43mself\u001b[39;49m\u001b[38;5;241;43m.\u001b[39;49m\u001b[43m_fit\u001b[49m\u001b[43m(\u001b[49m\u001b[43mX\u001b[49m\u001b[43m,\u001b[49m\u001b[43m \u001b[49m\u001b[43my\u001b[49m\u001b[43m,\u001b[49m\u001b[43m \u001b[49m\u001b[43mrouted_params\u001b[49m\u001b[43m)\u001b[49m\n\u001b[0;32m    472\u001b[0m \u001b[38;5;28;01mwith\u001b[39;00m _print_elapsed_time(\u001b[38;5;124m\"\u001b[39m\u001b[38;5;124mPipeline\u001b[39m\u001b[38;5;124m\"\u001b[39m, \u001b[38;5;28mself\u001b[39m\u001b[38;5;241m.\u001b[39m_log_message(\u001b[38;5;28mlen\u001b[39m(\u001b[38;5;28mself\u001b[39m\u001b[38;5;241m.\u001b[39msteps) \u001b[38;5;241m-\u001b[39m \u001b[38;5;241m1\u001b[39m)):\n\u001b[0;32m    473\u001b[0m     \u001b[38;5;28;01mif\u001b[39;00m \u001b[38;5;28mself\u001b[39m\u001b[38;5;241m.\u001b[39m_final_estimator \u001b[38;5;241m!=\u001b[39m \u001b[38;5;124m\"\u001b[39m\u001b[38;5;124mpassthrough\u001b[39m\u001b[38;5;124m\"\u001b[39m:\n",
      "File \u001b[1;32mc:\\Users\\kripa\\AppData\\Local\\Programs\\Python\\Python311\\Lib\\site-packages\\sklearn\\pipeline.py:408\u001b[0m, in \u001b[0;36mPipeline._fit\u001b[1;34m(self, X, y, routed_params)\u001b[0m\n\u001b[0;32m    406\u001b[0m     cloned_transformer \u001b[38;5;241m=\u001b[39m clone(transformer)\n\u001b[0;32m    407\u001b[0m \u001b[38;5;66;03m# Fit or load from cache the current transformer\u001b[39;00m\n\u001b[1;32m--> 408\u001b[0m X, fitted_transformer \u001b[38;5;241m=\u001b[39m \u001b[43mfit_transform_one_cached\u001b[49m\u001b[43m(\u001b[49m\n\u001b[0;32m    409\u001b[0m \u001b[43m    \u001b[49m\u001b[43mcloned_transformer\u001b[49m\u001b[43m,\u001b[49m\n\u001b[0;32m    410\u001b[0m \u001b[43m    \u001b[49m\u001b[43mX\u001b[49m\u001b[43m,\u001b[49m\n\u001b[0;32m    411\u001b[0m \u001b[43m    \u001b[49m\u001b[43my\u001b[49m\u001b[43m,\u001b[49m\n\u001b[0;32m    412\u001b[0m \u001b[43m    \u001b[49m\u001b[38;5;28;43;01mNone\u001b[39;49;00m\u001b[43m,\u001b[49m\n\u001b[0;32m    413\u001b[0m \u001b[43m    \u001b[49m\u001b[43mmessage_clsname\u001b[49m\u001b[38;5;241;43m=\u001b[39;49m\u001b[38;5;124;43m\"\u001b[39;49m\u001b[38;5;124;43mPipeline\u001b[39;49m\u001b[38;5;124;43m\"\u001b[39;49m\u001b[43m,\u001b[49m\n\u001b[0;32m    414\u001b[0m \u001b[43m    \u001b[49m\u001b[43mmessage\u001b[49m\u001b[38;5;241;43m=\u001b[39;49m\u001b[38;5;28;43mself\u001b[39;49m\u001b[38;5;241;43m.\u001b[39;49m\u001b[43m_log_message\u001b[49m\u001b[43m(\u001b[49m\u001b[43mstep_idx\u001b[49m\u001b[43m)\u001b[49m\u001b[43m,\u001b[49m\n\u001b[0;32m    415\u001b[0m \u001b[43m    \u001b[49m\u001b[43mparams\u001b[49m\u001b[38;5;241;43m=\u001b[39;49m\u001b[43mrouted_params\u001b[49m\u001b[43m[\u001b[49m\u001b[43mname\u001b[49m\u001b[43m]\u001b[49m\u001b[43m,\u001b[49m\n\u001b[0;32m    416\u001b[0m \u001b[43m\u001b[49m\u001b[43m)\u001b[49m\n\u001b[0;32m    417\u001b[0m \u001b[38;5;66;03m# Replace the transformer of the step with the fitted\u001b[39;00m\n\u001b[0;32m    418\u001b[0m \u001b[38;5;66;03m# transformer. This is necessary when loading the transformer\u001b[39;00m\n\u001b[0;32m    419\u001b[0m \u001b[38;5;66;03m# from the cache.\u001b[39;00m\n\u001b[0;32m    420\u001b[0m \u001b[38;5;28mself\u001b[39m\u001b[38;5;241m.\u001b[39msteps[step_idx] \u001b[38;5;241m=\u001b[39m (name, fitted_transformer)\n",
      "File \u001b[1;32mc:\\Users\\kripa\\AppData\\Local\\Programs\\Python\\Python311\\Lib\\site-packages\\joblib\\memory.py:353\u001b[0m, in \u001b[0;36mNotMemorizedFunc.__call__\u001b[1;34m(self, *args, **kwargs)\u001b[0m\n\u001b[0;32m    352\u001b[0m \u001b[38;5;28;01mdef\u001b[39;00m \u001b[38;5;21m__call__\u001b[39m(\u001b[38;5;28mself\u001b[39m, \u001b[38;5;241m*\u001b[39margs, \u001b[38;5;241m*\u001b[39m\u001b[38;5;241m*\u001b[39mkwargs):\n\u001b[1;32m--> 353\u001b[0m     \u001b[38;5;28;01mreturn\u001b[39;00m \u001b[38;5;28;43mself\u001b[39;49m\u001b[38;5;241;43m.\u001b[39;49m\u001b[43mfunc\u001b[49m\u001b[43m(\u001b[49m\u001b[38;5;241;43m*\u001b[39;49m\u001b[43margs\u001b[49m\u001b[43m,\u001b[49m\u001b[43m \u001b[49m\u001b[38;5;241;43m*\u001b[39;49m\u001b[38;5;241;43m*\u001b[39;49m\u001b[43mkwargs\u001b[49m\u001b[43m)\u001b[49m\n",
      "File \u001b[1;32mc:\\Users\\kripa\\AppData\\Local\\Programs\\Python\\Python311\\Lib\\site-packages\\sklearn\\pipeline.py:1303\u001b[0m, in \u001b[0;36m_fit_transform_one\u001b[1;34m(transformer, X, y, weight, message_clsname, message, params)\u001b[0m\n\u001b[0;32m   1301\u001b[0m \u001b[38;5;28;01mwith\u001b[39;00m _print_elapsed_time(message_clsname, message):\n\u001b[0;32m   1302\u001b[0m     \u001b[38;5;28;01mif\u001b[39;00m \u001b[38;5;28mhasattr\u001b[39m(transformer, \u001b[38;5;124m\"\u001b[39m\u001b[38;5;124mfit_transform\u001b[39m\u001b[38;5;124m\"\u001b[39m):\n\u001b[1;32m-> 1303\u001b[0m         res \u001b[38;5;241m=\u001b[39m \u001b[43mtransformer\u001b[49m\u001b[38;5;241;43m.\u001b[39;49m\u001b[43mfit_transform\u001b[49m\u001b[43m(\u001b[49m\u001b[43mX\u001b[49m\u001b[43m,\u001b[49m\u001b[43m \u001b[49m\u001b[43my\u001b[49m\u001b[43m,\u001b[49m\u001b[43m \u001b[49m\u001b[38;5;241;43m*\u001b[39;49m\u001b[38;5;241;43m*\u001b[39;49m\u001b[43mparams\u001b[49m\u001b[38;5;241;43m.\u001b[39;49m\u001b[43mget\u001b[49m\u001b[43m(\u001b[49m\u001b[38;5;124;43m\"\u001b[39;49m\u001b[38;5;124;43mfit_transform\u001b[39;49m\u001b[38;5;124;43m\"\u001b[39;49m\u001b[43m,\u001b[49m\u001b[43m \u001b[49m\u001b[43m{\u001b[49m\u001b[43m}\u001b[49m\u001b[43m)\u001b[49m\u001b[43m)\u001b[49m\n\u001b[0;32m   1304\u001b[0m     \u001b[38;5;28;01melse\u001b[39;00m:\n\u001b[0;32m   1305\u001b[0m         res \u001b[38;5;241m=\u001b[39m transformer\u001b[38;5;241m.\u001b[39mfit(X, y, \u001b[38;5;241m*\u001b[39m\u001b[38;5;241m*\u001b[39mparams\u001b[38;5;241m.\u001b[39mget(\u001b[38;5;124m\"\u001b[39m\u001b[38;5;124mfit\u001b[39m\u001b[38;5;124m\"\u001b[39m, {}))\u001b[38;5;241m.\u001b[39mtransform(\n\u001b[0;32m   1306\u001b[0m             X, \u001b[38;5;241m*\u001b[39m\u001b[38;5;241m*\u001b[39mparams\u001b[38;5;241m.\u001b[39mget(\u001b[38;5;124m\"\u001b[39m\u001b[38;5;124mtransform\u001b[39m\u001b[38;5;124m\"\u001b[39m, {})\n\u001b[0;32m   1307\u001b[0m         )\n",
      "File \u001b[1;32mc:\\Users\\kripa\\AppData\\Local\\Programs\\Python\\Python311\\Lib\\site-packages\\sklearn\\utils\\_set_output.py:273\u001b[0m, in \u001b[0;36m_wrap_method_output.<locals>.wrapped\u001b[1;34m(self, X, *args, **kwargs)\u001b[0m\n\u001b[0;32m    271\u001b[0m \u001b[38;5;129m@wraps\u001b[39m(f)\n\u001b[0;32m    272\u001b[0m \u001b[38;5;28;01mdef\u001b[39;00m \u001b[38;5;21mwrapped\u001b[39m(\u001b[38;5;28mself\u001b[39m, X, \u001b[38;5;241m*\u001b[39margs, \u001b[38;5;241m*\u001b[39m\u001b[38;5;241m*\u001b[39mkwargs):\n\u001b[1;32m--> 273\u001b[0m     data_to_wrap \u001b[38;5;241m=\u001b[39m \u001b[43mf\u001b[49m\u001b[43m(\u001b[49m\u001b[38;5;28;43mself\u001b[39;49m\u001b[43m,\u001b[49m\u001b[43m \u001b[49m\u001b[43mX\u001b[49m\u001b[43m,\u001b[49m\u001b[43m \u001b[49m\u001b[38;5;241;43m*\u001b[39;49m\u001b[43margs\u001b[49m\u001b[43m,\u001b[49m\u001b[43m \u001b[49m\u001b[38;5;241;43m*\u001b[39;49m\u001b[38;5;241;43m*\u001b[39;49m\u001b[43mkwargs\u001b[49m\u001b[43m)\u001b[49m\n\u001b[0;32m    274\u001b[0m     \u001b[38;5;28;01mif\u001b[39;00m \u001b[38;5;28misinstance\u001b[39m(data_to_wrap, \u001b[38;5;28mtuple\u001b[39m):\n\u001b[0;32m    275\u001b[0m         \u001b[38;5;66;03m# only wrap the first output for cross decomposition\u001b[39;00m\n\u001b[0;32m    276\u001b[0m         return_tuple \u001b[38;5;241m=\u001b[39m (\n\u001b[0;32m    277\u001b[0m             _wrap_data_with_container(method, data_to_wrap[\u001b[38;5;241m0\u001b[39m], X, \u001b[38;5;28mself\u001b[39m),\n\u001b[0;32m    278\u001b[0m             \u001b[38;5;241m*\u001b[39mdata_to_wrap[\u001b[38;5;241m1\u001b[39m:],\n\u001b[0;32m    279\u001b[0m         )\n",
      "File \u001b[1;32mc:\\Users\\kripa\\AppData\\Local\\Programs\\Python\\Python311\\Lib\\site-packages\\sklearn\\base.py:1351\u001b[0m, in \u001b[0;36m_fit_context.<locals>.decorator.<locals>.wrapper\u001b[1;34m(estimator, *args, **kwargs)\u001b[0m\n\u001b[0;32m   1344\u001b[0m     estimator\u001b[38;5;241m.\u001b[39m_validate_params()\n\u001b[0;32m   1346\u001b[0m \u001b[38;5;28;01mwith\u001b[39;00m config_context(\n\u001b[0;32m   1347\u001b[0m     skip_parameter_validation\u001b[38;5;241m=\u001b[39m(\n\u001b[0;32m   1348\u001b[0m         prefer_skip_nested_validation \u001b[38;5;129;01mor\u001b[39;00m global_skip_validation\n\u001b[0;32m   1349\u001b[0m     )\n\u001b[0;32m   1350\u001b[0m ):\n\u001b[1;32m-> 1351\u001b[0m     \u001b[38;5;28;01mreturn\u001b[39;00m \u001b[43mfit_method\u001b[49m\u001b[43m(\u001b[49m\u001b[43mestimator\u001b[49m\u001b[43m,\u001b[49m\u001b[43m \u001b[49m\u001b[38;5;241;43m*\u001b[39;49m\u001b[43margs\u001b[49m\u001b[43m,\u001b[49m\u001b[43m \u001b[49m\u001b[38;5;241;43m*\u001b[39;49m\u001b[38;5;241;43m*\u001b[39;49m\u001b[43mkwargs\u001b[49m\u001b[43m)\u001b[49m\n",
      "File \u001b[1;32mc:\\Users\\kripa\\AppData\\Local\\Programs\\Python\\Python311\\Lib\\site-packages\\sklearn\\compose\\_column_transformer.py:906\u001b[0m, in \u001b[0;36mColumnTransformer.fit_transform\u001b[1;34m(self, X, y, **params)\u001b[0m\n\u001b[0;32m    903\u001b[0m \u001b[38;5;28mself\u001b[39m\u001b[38;5;241m.\u001b[39m_validate_transformers()\n\u001b[0;32m    904\u001b[0m n_samples \u001b[38;5;241m=\u001b[39m _num_samples(X)\n\u001b[1;32m--> 906\u001b[0m \u001b[38;5;28;43mself\u001b[39;49m\u001b[38;5;241;43m.\u001b[39;49m\u001b[43m_validate_column_callables\u001b[49m\u001b[43m(\u001b[49m\u001b[43mX\u001b[49m\u001b[43m)\u001b[49m\n\u001b[0;32m    907\u001b[0m \u001b[38;5;28mself\u001b[39m\u001b[38;5;241m.\u001b[39m_validate_remainder(X)\n\u001b[0;32m    909\u001b[0m \u001b[38;5;28;01mif\u001b[39;00m _routing_enabled():\n",
      "File \u001b[1;32mc:\\Users\\kripa\\AppData\\Local\\Programs\\Python\\Python311\\Lib\\site-packages\\sklearn\\compose\\_column_transformer.py:496\u001b[0m, in \u001b[0;36mColumnTransformer._validate_column_callables\u001b[1;34m(self, X)\u001b[0m\n\u001b[0;32m    494\u001b[0m         columns \u001b[38;5;241m=\u001b[39m columns(X)\n\u001b[0;32m    495\u001b[0m     all_columns\u001b[38;5;241m.\u001b[39mappend(columns)\n\u001b[1;32m--> 496\u001b[0m     transformer_to_input_indices[name] \u001b[38;5;241m=\u001b[39m \u001b[43m_get_column_indices\u001b[49m\u001b[43m(\u001b[49m\u001b[43mX\u001b[49m\u001b[43m,\u001b[49m\u001b[43m \u001b[49m\u001b[43mcolumns\u001b[49m\u001b[43m)\u001b[49m\n\u001b[0;32m    498\u001b[0m \u001b[38;5;28mself\u001b[39m\u001b[38;5;241m.\u001b[39m_columns \u001b[38;5;241m=\u001b[39m all_columns\n\u001b[0;32m    499\u001b[0m \u001b[38;5;28mself\u001b[39m\u001b[38;5;241m.\u001b[39m_transformer_to_input_indices \u001b[38;5;241m=\u001b[39m transformer_to_input_indices\n",
      "File \u001b[1;32mc:\\Users\\kripa\\AppData\\Local\\Programs\\Python\\Python311\\Lib\\site-packages\\sklearn\\utils\\__init__.py:459\u001b[0m, in \u001b[0;36m_get_column_indices\u001b[1;34m(X, key)\u001b[0m\n\u001b[0;32m    457\u001b[0m     all_columns \u001b[38;5;241m=\u001b[39m X\u001b[38;5;241m.\u001b[39mcolumns\n\u001b[0;32m    458\u001b[0m \u001b[38;5;28;01mexcept\u001b[39;00m \u001b[38;5;167;01mAttributeError\u001b[39;00m:\n\u001b[1;32m--> 459\u001b[0m     \u001b[38;5;28;01mraise\u001b[39;00m \u001b[38;5;167;01mValueError\u001b[39;00m(\n\u001b[0;32m    460\u001b[0m         \u001b[38;5;124m\"\u001b[39m\u001b[38;5;124mSpecifying the columns using strings is only supported for dataframes.\u001b[39m\u001b[38;5;124m\"\u001b[39m\n\u001b[0;32m    461\u001b[0m     )\n\u001b[0;32m    462\u001b[0m \u001b[38;5;28;01mif\u001b[39;00m \u001b[38;5;28misinstance\u001b[39m(key, \u001b[38;5;28mstr\u001b[39m):\n\u001b[0;32m    463\u001b[0m     columns \u001b[38;5;241m=\u001b[39m [key]\n",
      "\u001b[1;31mValueError\u001b[0m: Specifying the columns using strings is only supported for dataframes."
     ]
    }
   ],
   "source": [
    "# stacked model\n",
    "estimators = [\n",
    "    ('svm', pipeline_best_svm_linear),\n",
    "    ('logreg', pipeline_best_logreg)\n",
    "]\n",
    "\n",
    "meta_model = LogisticRegression(random_state=42, max_iter=1000)\n",
    "\n",
    "print(\"Using Stacked Model\")\n",
    "\n",
    "stacked_model = StackingClassifier(\n",
    "    estimators=estimators,\n",
    "    final_estimator=meta_model\n",
    ")\n",
    "\n",
    "stacked_model.fit(X_train_urgency, y_train_urgency)\n",
    "\n",
    "\n",
    "\n",
    "print(f\"Classification Report: \\n{classification_report(y_test_urgency, y_pred)}\")"
   ]
  },
  {
   "cell_type": "markdown",
   "metadata": {},
   "source": [
    "## Testing Manually"
   ]
  },
  {
   "cell_type": "code",
   "execution_count": 124,
   "metadata": {},
   "outputs": [],
   "source": [
    "def test_model(model):\n",
    "    example_text = pd.DataFrame([\n",
    "        'This is an urgent issue',\n",
    "        'I need help with my account right now without delay',\n",
    "        'I have a question about my account',\n",
    "        'I cannot access my account. Please help me',\n",
    "        'I am unable to access my account. I have tried resetting my password but it is not working. I need help urgently',\n",
    "        \"Query regarding my account. Please help me\",\n",
    "        \"The server is down. Please fix it as soon as possible\",\n",
    "        \"System Issue. Need help before the end of the day\",\n",
    "        \"Jira tickets need to be updated. Please do it as soon as possible. no hurry\",\n",
    "        \"Not Critical. Please ensure system is up and running without any issues before the end of the day.\",\n",
    "        \"this is a reminder to fill out your kaizen immediately by EOD\"\n",
    "        ],\n",
    "    columns=['text'])\n",
    "    \n",
    "    true_labels = [1, 1, 0, 1, 1, 0, 1, 1, 1, 0, 1]\n",
    "    predictions = model.predict(example_text)\n",
    "    print(f\"Predictions: {predictions.tolist()}\")\n",
    "    print(f\"True Labels: {true_labels}\")\n",
    "    print(f\"Classification Report: \\n{classification_report(true_labels, predictions,labels=[1, 0])}\")"
   ]
  },
  {
   "cell_type": "code",
   "execution_count": 125,
   "metadata": {},
   "outputs": [
    {
     "name": "stdout",
     "output_type": "stream",
     "text": [
      "Predictions: [1, 1, 0, 0, 0, 0, 1, 1, 0, 0, 0]\n",
      "True Labels: [1, 1, 0, 1, 1, 0, 1, 1, 1, 0, 1]\n",
      "Classification Report: \n",
      "              precision    recall  f1-score   support\n",
      "\n",
      "           1       1.00      0.50      0.67         8\n",
      "           0       0.43      1.00      0.60         3\n",
      "\n",
      "    accuracy                           0.64        11\n",
      "   macro avg       0.71      0.75      0.63        11\n",
      "weighted avg       0.84      0.64      0.65        11\n",
      "\n"
     ]
    }
   ],
   "source": [
    "test_model(pipeline_best_svm_linear)"
   ]
  },
  {
   "cell_type": "code",
   "execution_count": 127,
   "metadata": {},
   "outputs": [
    {
     "name": "stdout",
     "output_type": "stream",
     "text": [
      "Predictions: [1, 1, 0, 1, 0, 0, 1, 0, 0, 0, 0]\n",
      "True Labels: [1, 1, 0, 1, 1, 0, 1, 1, 1, 0, 1]\n",
      "Classification Report: \n",
      "              precision    recall  f1-score   support\n",
      "\n",
      "           1       1.00      0.50      0.67         8\n",
      "           0       0.43      1.00      0.60         3\n",
      "\n",
      "    accuracy                           0.64        11\n",
      "   macro avg       0.71      0.75      0.63        11\n",
      "weighted avg       0.84      0.64      0.65        11\n",
      "\n"
     ]
    }
   ],
   "source": [
    "test_model(pipeline_svm)\n"
   ]
  },
  {
   "cell_type": "code",
   "execution_count": 128,
   "metadata": {},
   "outputs": [
    {
     "name": "stdout",
     "output_type": "stream",
     "text": [
      "Predictions: [1, 1, 0, 1, 0, 0, 1, 0, 0, 0, 1]\n",
      "True Labels: [1, 1, 0, 1, 1, 0, 1, 1, 1, 0, 1]\n",
      "Classification Report: \n",
      "              precision    recall  f1-score   support\n",
      "\n",
      "           1       1.00      0.62      0.77         8\n",
      "           0       0.50      1.00      0.67         3\n",
      "\n",
      "    accuracy                           0.73        11\n",
      "   macro avg       0.75      0.81      0.72        11\n",
      "weighted avg       0.86      0.73      0.74        11\n",
      "\n"
     ]
    }
   ],
   "source": [
    "test_model(pipeline_logreg)\n"
   ]
  },
  {
   "cell_type": "code",
   "execution_count": 134,
   "metadata": {},
   "outputs": [
    {
     "name": "stdout",
     "output_type": "stream",
     "text": [
      "Predictions: [1, 0, 0, 0, 0, 0, 1, 1, 0, 0, 1]\n",
      "True Labels: [1, 1, 0, 1, 1, 0, 1, 1, 1, 0, 1]\n",
      "Classification Report: \n",
      "              precision    recall  f1-score   support\n",
      "\n",
      "           1       1.00      0.50      0.67         8\n",
      "           0       0.43      1.00      0.60         3\n",
      "\n",
      "    accuracy                           0.64        11\n",
      "   macro avg       0.71      0.75      0.63        11\n",
      "weighted avg       0.84      0.64      0.65        11\n",
      "\n"
     ]
    }
   ],
   "source": [
    "test_model(pipeline_best_logreg)\n"
   ]
  },
  {
   "cell_type": "code",
   "execution_count": 149,
   "metadata": {},
   "outputs": [
    {
     "name": "stdout",
     "output_type": "stream",
     "text": [
      "Predictions: [1, 1, 0, 0, 0, 0, 1, 1, 0, 0, 0]\n",
      "True Labels: [1, 1, 0, 1, 1, 0, 1, 1, 1, 0, 1]\n",
      "Classification Report: \n",
      "              precision    recall  f1-score   support\n",
      "\n",
      "           1       1.00      0.50      0.67         8\n",
      "           0       0.43      1.00      0.60         3\n",
      "\n",
      "    accuracy                           0.64        11\n",
      "   macro avg       0.71      0.75      0.63        11\n",
      "weighted avg       0.84      0.64      0.65        11\n",
      "\n"
     ]
    }
   ],
   "source": [
    "test_model(stacked_model)\n"
   ]
  },
  {
   "cell_type": "code",
   "execution_count": 430,
   "metadata": {},
   "outputs": [
    {
     "name": "stdout",
     "output_type": "stream",
     "text": [
      "Cross-Validation <built-in method capitalize of str object at 0x1027bd0b0> Scores: [0.94320487 0.937751   0.94147326 0.94053518 0.94651867]\n",
      "Mean: 0.9419\n",
      "Standard Deviation: 0.0029\n"
     ]
    }
   ],
   "source": [
    "# Cross validation after hyperparameter tuning\n",
    "scored_svm_rbf = cross_validate_model(\n",
    "    SVC(kernel='linear', random_state=42),\n",
    "    TfidfVectorizer(ngram_range=(1, 4)),\n",
    "    df[['text']],\n",
    "    df['urgency'].map({'urgent': 1, 'not_urgent': 0})\n",
    ")\n"
   ]
  },
  {
   "cell_type": "markdown",
   "metadata": {},
   "source": [
    "# Storing the model - using Pickle"
   ]
  },
  {
   "cell_type": "code",
   "execution_count": 150,
   "metadata": {},
   "outputs": [],
   "source": [
    "import pickle\n",
    " # storing pipeline for normal svm and then for the best svm\n",
    "with open(\"../models/svm_pipeline.pkl\", \"wb\") as file:\n",
    "    pickle.dump(pipeline_svm, file)\n",
    "\n",
    "with open(\"../models/best_svm_pipeline.pkl\", \"wb\") as file:\n",
    "    pickle.dump(pipeline_best_svm_linear, file)\n",
    "\n",
    "with open(\"../models/logreg_pipeline.pkl\", \"wb\") as file:\n",
    "    pickle.dump(pipeline_logreg, file)\n",
    "    \n",
    "with open(\"../models/best_logreg_pipeline.pkl\", \"wb\") as file:\n",
    "    pickle.dump(pipeline_best_logreg, file)\n",
    "    \n",
    "with open(\"../models/stacked_model.pkl\", \"wb\") as file:\n",
    "    pickle.dump(stacked_model, file)"
   ]
  },
  {
   "cell_type": "code",
   "execution_count": 130,
   "metadata": {},
   "outputs": [],
   "source": []
  }
 ],
 "metadata": {
  "kernelspec": {
   "display_name": "Python 3",
   "language": "python",
   "name": "python3"
  },
  "language_info": {
   "codemirror_mode": {
    "name": "ipython",
    "version": 3
   },
   "file_extension": ".py",
   "mimetype": "text/x-python",
   "name": "python",
   "nbconvert_exporter": "python",
   "pygments_lexer": "ipython3",
   "version": "3.11.6"
  }
 },
 "nbformat": 4,
 "nbformat_minor": 2
}
