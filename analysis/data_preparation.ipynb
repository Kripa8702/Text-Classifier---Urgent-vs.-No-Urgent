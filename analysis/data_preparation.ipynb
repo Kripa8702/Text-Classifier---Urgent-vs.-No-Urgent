{
 "cells": [
  {
   "cell_type": "markdown",
   "metadata": {},
   "source": [
    "# Data Analysis"
   ]
  },
  {
   "cell_type": "code",
   "execution_count": 38,
   "metadata": {},
   "outputs": [],
   "source": [
    "import pandas as pd\n",
    "import numpy as np"
   ]
  },
  {
   "cell_type": "code",
   "execution_count": 39,
   "metadata": {},
   "outputs": [
    {
     "data": {
      "text/html": [
       "<div>\n",
       "<style scoped>\n",
       "    .dataframe tbody tr th:only-of-type {\n",
       "        vertical-align: middle;\n",
       "    }\n",
       "\n",
       "    .dataframe tbody tr th {\n",
       "        vertical-align: top;\n",
       "    }\n",
       "\n",
       "    .dataframe thead th {\n",
       "        text-align: right;\n",
       "    }\n",
       "</style>\n",
       "<table border=\"1\" class=\"dataframe\">\n",
       "  <thead>\n",
       "    <tr style=\"text-align: right;\">\n",
       "      <th></th>\n",
       "      <th>label</th>\n",
       "      <th>processed_text</th>\n",
       "      <th>priority</th>\n",
       "      <th>urgency</th>\n",
       "      <th>type</th>\n",
       "      <th>queue</th>\n",
       "    </tr>\n",
       "  </thead>\n",
       "  <tbody>\n",
       "    <tr>\n",
       "      <th>1632</th>\n",
       "      <td>2.0</td>\n",
       "      <td>High-priority bug in user registration form va...</td>\n",
       "      <td>high</td>\n",
       "      <td>urgent</td>\n",
       "      <td>NaN</td>\n",
       "      <td>NaN</td>\n",
       "    </tr>\n",
       "    <tr>\n",
       "      <th>29</th>\n",
       "      <td>0.0</td>\n",
       "      <td>This situation is under control.</td>\n",
       "      <td>low</td>\n",
       "      <td>not_urgent</td>\n",
       "      <td>NaN</td>\n",
       "      <td>NaN</td>\n",
       "    </tr>\n",
       "    <tr>\n",
       "      <th>837</th>\n",
       "      <td>2.0</td>\n",
       "      <td>Top-priority bug causing battery drain in back...</td>\n",
       "      <td>high</td>\n",
       "      <td>urgent</td>\n",
       "      <td>NaN</td>\n",
       "      <td>NaN</td>\n",
       "    </tr>\n",
       "  </tbody>\n",
       "</table>\n",
       "</div>"
      ],
      "text/plain": [
       "      label                                     processed_text priority  \\\n",
       "1632    2.0  High-priority bug in user registration form va...     high   \n",
       "29      0.0                   This situation is under control.      low   \n",
       "837     2.0  Top-priority bug causing battery drain in back...     high   \n",
       "\n",
       "         urgency type queue  \n",
       "1632      urgent  NaN   NaN  \n",
       "29    not_urgent  NaN   NaN  \n",
       "837       urgent  NaN   NaN  "
      ]
     },
     "execution_count": 39,
     "metadata": {},
     "output_type": "execute_result"
    }
   ],
   "source": [
    "df = pd.read_csv('../csv/hf_combined.csv')\n",
    "df.sample(3)"
   ]
  },
  {
   "cell_type": "code",
   "execution_count": 40,
   "metadata": {},
   "outputs": [
    {
     "data": {
      "text/plain": [
       "urgency\n",
       "not_urgent    5676\n",
       "urgent        2973\n",
       "Name: count, dtype: int64"
      ]
     },
     "execution_count": 40,
     "metadata": {},
     "output_type": "execute_result"
    }
   ],
   "source": [
    "# number of urgent and non-urgent tickets\n",
    "df['urgency'].value_counts()"
   ]
  },
  {
   "cell_type": "code",
   "execution_count": 41,
   "metadata": {},
   "outputs": [
    {
     "data": {
      "text/html": [
       "<div>\n",
       "<style scoped>\n",
       "    .dataframe tbody tr th:only-of-type {\n",
       "        vertical-align: middle;\n",
       "    }\n",
       "\n",
       "    .dataframe tbody tr th {\n",
       "        vertical-align: top;\n",
       "    }\n",
       "\n",
       "    .dataframe thead th {\n",
       "        text-align: right;\n",
       "    }\n",
       "</style>\n",
       "<table border=\"1\" class=\"dataframe\">\n",
       "  <thead>\n",
       "    <tr style=\"text-align: right;\">\n",
       "      <th></th>\n",
       "      <th>label</th>\n",
       "      <th>processed_text</th>\n",
       "      <th>priority</th>\n",
       "      <th>urgency</th>\n",
       "      <th>type</th>\n",
       "      <th>queue</th>\n",
       "    </tr>\n",
       "  </thead>\n",
       "  <tbody>\n",
       "    <tr>\n",
       "      <th>7103</th>\n",
       "      <td>NaN</td>\n",
       "      <td>AWS Service Update Request. Please provide upd...</td>\n",
       "      <td>low</td>\n",
       "      <td>not_urgent</td>\n",
       "      <td>Request</td>\n",
       "      <td>Technical Support</td>\n",
       "    </tr>\n",
       "    <tr>\n",
       "      <th>7162</th>\n",
       "      <td>NaN</td>\n",
       "      <td>Intermittent connectivity on ISR4331. Conflict...</td>\n",
       "      <td>low</td>\n",
       "      <td>not_urgent</td>\n",
       "      <td>Problem</td>\n",
       "      <td>IT Support</td>\n",
       "    </tr>\n",
       "    <tr>\n",
       "      <th>7364</th>\n",
       "      <td>NaN</td>\n",
       "      <td>Printer Setup Assistance. Cannot connect to wifi.</td>\n",
       "      <td>medium</td>\n",
       "      <td>not_urgent</td>\n",
       "      <td>Request</td>\n",
       "      <td>Customer Service</td>\n",
       "    </tr>\n",
       "    <tr>\n",
       "      <th>7543</th>\n",
       "      <td>NaN</td>\n",
       "      <td>Intermittent connectivity on ISR4331. Conflict...</td>\n",
       "      <td>low</td>\n",
       "      <td>not_urgent</td>\n",
       "      <td>Problem</td>\n",
       "      <td>IT Support</td>\n",
       "    </tr>\n",
       "    <tr>\n",
       "      <th>7781</th>\n",
       "      <td>NaN</td>\n",
       "      <td>Problems with Cisco ISR4331 router. Hi, I am e...</td>\n",
       "      <td>high</td>\n",
       "      <td>urgent</td>\n",
       "      <td>Problem</td>\n",
       "      <td>Technical Support</td>\n",
       "    </tr>\n",
       "    <tr>\n",
       "      <th>7805</th>\n",
       "      <td>NaN</td>\n",
       "      <td>Printer Setup Assistance. Cannot connect to wifi.</td>\n",
       "      <td>medium</td>\n",
       "      <td>not_urgent</td>\n",
       "      <td>Request</td>\n",
       "      <td>Customer Service</td>\n",
       "    </tr>\n",
       "    <tr>\n",
       "      <th>8010</th>\n",
       "      <td>NaN</td>\n",
       "      <td>Problems with Cisco ISR4331 router. Hi, I am e...</td>\n",
       "      <td>high</td>\n",
       "      <td>urgent</td>\n",
       "      <td>Problem</td>\n",
       "      <td>Technical Support</td>\n",
       "    </tr>\n",
       "    <tr>\n",
       "      <th>8083</th>\n",
       "      <td>NaN</td>\n",
       "      <td>AWS Service Update Request. Please provide upd...</td>\n",
       "      <td>low</td>\n",
       "      <td>not_urgent</td>\n",
       "      <td>Request</td>\n",
       "      <td>Technical Support</td>\n",
       "    </tr>\n",
       "    <tr>\n",
       "      <th>8169</th>\n",
       "      <td>NaN</td>\n",
       "      <td>AWS Service Update Request. Please provide upd...</td>\n",
       "      <td>low</td>\n",
       "      <td>not_urgent</td>\n",
       "      <td>Request</td>\n",
       "      <td>Technical Support</td>\n",
       "    </tr>\n",
       "    <tr>\n",
       "      <th>8253</th>\n",
       "      <td>NaN</td>\n",
       "      <td>AWS Service Update Request. Please provide upd...</td>\n",
       "      <td>low</td>\n",
       "      <td>not_urgent</td>\n",
       "      <td>Request</td>\n",
       "      <td>Technical Support</td>\n",
       "    </tr>\n",
       "    <tr>\n",
       "      <th>8448</th>\n",
       "      <td>NaN</td>\n",
       "      <td>AWS Service Update Request. Please provide upd...</td>\n",
       "      <td>low</td>\n",
       "      <td>not_urgent</td>\n",
       "      <td>Request</td>\n",
       "      <td>Technical Support</td>\n",
       "    </tr>\n",
       "    <tr>\n",
       "      <th>8586</th>\n",
       "      <td>NaN</td>\n",
       "      <td>AWS Service Update Request. Please provide upd...</td>\n",
       "      <td>low</td>\n",
       "      <td>not_urgent</td>\n",
       "      <td>Request</td>\n",
       "      <td>Technical Support</td>\n",
       "    </tr>\n",
       "  </tbody>\n",
       "</table>\n",
       "</div>"
      ],
      "text/plain": [
       "      label                                     processed_text priority  \\\n",
       "7103    NaN  AWS Service Update Request. Please provide upd...      low   \n",
       "7162    NaN  Intermittent connectivity on ISR4331. Conflict...      low   \n",
       "7364    NaN  Printer Setup Assistance. Cannot connect to wifi.   medium   \n",
       "7543    NaN  Intermittent connectivity on ISR4331. Conflict...      low   \n",
       "7781    NaN  Problems with Cisco ISR4331 router. Hi, I am e...     high   \n",
       "7805    NaN  Printer Setup Assistance. Cannot connect to wifi.   medium   \n",
       "8010    NaN  Problems with Cisco ISR4331 router. Hi, I am e...     high   \n",
       "8083    NaN  AWS Service Update Request. Please provide upd...      low   \n",
       "8169    NaN  AWS Service Update Request. Please provide upd...      low   \n",
       "8253    NaN  AWS Service Update Request. Please provide upd...      low   \n",
       "8448    NaN  AWS Service Update Request. Please provide upd...      low   \n",
       "8586    NaN  AWS Service Update Request. Please provide upd...      low   \n",
       "\n",
       "         urgency     type              queue  \n",
       "7103  not_urgent  Request  Technical Support  \n",
       "7162  not_urgent  Problem         IT Support  \n",
       "7364  not_urgent  Request   Customer Service  \n",
       "7543  not_urgent  Problem         IT Support  \n",
       "7781      urgent  Problem  Technical Support  \n",
       "7805  not_urgent  Request   Customer Service  \n",
       "8010      urgent  Problem  Technical Support  \n",
       "8083  not_urgent  Request  Technical Support  \n",
       "8169  not_urgent  Request  Technical Support  \n",
       "8253  not_urgent  Request  Technical Support  \n",
       "8448  not_urgent  Request  Technical Support  \n",
       "8586  not_urgent  Request  Technical Support  "
      ]
     },
     "execution_count": 41,
     "metadata": {},
     "output_type": "execute_result"
    }
   ],
   "source": [
    "# Clip the values of not urgent tickets to 3000\n",
    "df['processed_text'].duplicated().sum()\n",
    "# view the duplicated rows\n",
    "df.loc[df['processed_text'].duplicated(keep=False), :]"
   ]
  },
  {
   "cell_type": "code",
   "execution_count": 42,
   "metadata": {},
   "outputs": [
    {
     "data": {
      "text/plain": [
       "0"
      ]
     },
     "execution_count": 42,
     "metadata": {},
     "output_type": "execute_result"
    }
   ],
   "source": [
    "# drop the duplicated rows\n",
    "df.drop_duplicates(subset='processed_text', keep='first', inplace=True)\n",
    "df['processed_text'].duplicated().sum()"
   ]
  },
  {
   "cell_type": "code",
   "execution_count": 43,
   "metadata": {},
   "outputs": [
    {
     "data": {
      "text/plain": [
       "urgency\n",
       "not_urgent    5669\n",
       "urgent        2972\n",
       "Name: count, dtype: int64"
      ]
     },
     "execution_count": 43,
     "metadata": {},
     "output_type": "execute_result"
    }
   ],
   "source": [
    "df['urgency'].value_counts()"
   ]
  },
  {
   "cell_type": "markdown",
   "metadata": {},
   "source": [
    "### **Conclusion** - Model is biased towards non-urgent class\n",
    "Two approaches - \n",
    "- Clip off non-urgent records to match number of urgent records \n",
    "- Synthesize mor urgent records to mathc number of non-urgent records "
   ]
  },
  {
   "cell_type": "markdown",
   "metadata": {},
   "source": [
    "### Approach I"
   ]
  },
  {
   "cell_type": "code",
   "execution_count": 44,
   "metadata": {},
   "outputs": [
    {
     "name": "stdout",
     "output_type": "stream",
     "text": [
      "Class distribution after undersampling:\n",
      "urgency\n",
      "not_urgent    2972\n",
      "urgent        2972\n",
      "Name: count, dtype: int64\n"
     ]
    }
   ],
   "source": [
    "from imblearn.under_sampling import RandomUnderSampler\n",
    "X = df[['processed_text', 'priority']]\n",
    "y = df['urgency']\n",
    "\n",
    "X_resampled, y_resampled = RandomUnderSampler(random_state=42).fit_resample(X, y)\n",
    "\n",
    "print(\"Class distribution after undersampling:\")\n",
    "print(pd.Series(y_resampled).value_counts())\n"
   ]
  },
  {
   "cell_type": "code",
   "execution_count": 45,
   "metadata": {},
   "outputs": [
    {
     "name": "stdout",
     "output_type": "stream",
     "text": [
      "Class distribution after undersampling:\n",
      "urgency\n",
      "not_urgent    2972\n",
      "urgent        2972\n",
      "Name: count, dtype: int64\n"
     ]
    }
   ],
   "source": [
    "from imblearn.under_sampling import RandomUnderSampler\n",
    "\n",
    "rus = RandomUnderSampler(random_state=42)\n",
    "X_resampled, y_resampled = rus.fit_resample(X, y)\n",
    "\n",
    "# Combine back into a DataFrame\n",
    "df_undersampled = pd.DataFrame({\n",
    "    \"processed_text\": X_resampled[\"processed_text\"],\n",
    "    \"priority\": X_resampled[\"priority\"],\n",
    "    \"urgency\": y_resampled\n",
    "})\n",
    "\n",
    "print(\"Class distribution after undersampling:\")\n",
    "print(df_undersampled[\"urgency\"].value_counts())\n"
   ]
  },
  {
   "cell_type": "code",
   "execution_count": 46,
   "metadata": {},
   "outputs": [],
   "source": [
    "df_undersampled.sample(3)\n",
    "df_undersampled.to_csv('../csv/undersampled_data.csv', index=False)"
   ]
  },
  {
   "cell_type": "markdown",
   "metadata": {},
   "source": [
    "### Approach II"
   ]
  },
  {
   "cell_type": "code",
   "execution_count": 47,
   "metadata": {},
   "outputs": [
    {
     "name": "stdout",
     "output_type": "stream",
     "text": [
      "Class distribution after oversampling:\n",
      "urgency\n",
      "urgent        5669\n",
      "not_urgent    5669\n",
      "Name: count, dtype: int64\n"
     ]
    }
   ],
   "source": [
    "from imblearn.over_sampling import RandomOverSampler\n",
    "\n",
    "ros = RandomOverSampler(random_state=42)\n",
    "X_resampled, y_resampled = ros.fit_resample(X, y)\n",
    "\n",
    "# Combine back into a DataFrame\n",
    "df_oversampled = pd.DataFrame({\n",
    "    \"processed_text\": X_resampled[\"processed_text\"],\n",
    "    \"priority\": X_resampled[\"priority\"],\n",
    "    \"urgency\": y_resampled\n",
    "})\n",
    "\n",
    "print(\"Class distribution after oversampling:\")\n",
    "print(df_oversampled[\"urgency\"].value_counts())\n"
   ]
  },
  {
   "cell_type": "code",
   "execution_count": 48,
   "metadata": {},
   "outputs": [
    {
     "data": {
      "text/html": [
       "<div>\n",
       "<style scoped>\n",
       "    .dataframe tbody tr th:only-of-type {\n",
       "        vertical-align: middle;\n",
       "    }\n",
       "\n",
       "    .dataframe tbody tr th {\n",
       "        vertical-align: top;\n",
       "    }\n",
       "\n",
       "    .dataframe thead th {\n",
       "        text-align: right;\n",
       "    }\n",
       "</style>\n",
       "<table border=\"1\" class=\"dataframe\">\n",
       "  <thead>\n",
       "    <tr style=\"text-align: right;\">\n",
       "      <th></th>\n",
       "      <th>processed_text</th>\n",
       "      <th>priority</th>\n",
       "      <th>urgency</th>\n",
       "    </tr>\n",
       "  </thead>\n",
       "  <tbody>\n",
       "    <tr>\n",
       "      <th>4558</th>\n",
       "      <td>Failure of API to enforce strict HTTPS at /non...</td>\n",
       "      <td>high</td>\n",
       "      <td>urgent</td>\n",
       "    </tr>\n",
       "    <tr>\n",
       "      <th>3630</th>\n",
       "      <td>Ethernet PHY speed auto-negotiation fails</td>\n",
       "      <td>high</td>\n",
       "      <td>urgent</td>\n",
       "    </tr>\n",
       "    <tr>\n",
       "      <th>10226</th>\n",
       "      <td>This problem is very serious.</td>\n",
       "      <td>high</td>\n",
       "      <td>urgent</td>\n",
       "    </tr>\n",
       "    <tr>\n",
       "      <th>672</th>\n",
       "      <td>This is a time-sensitive situation requiring o...</td>\n",
       "      <td>high</td>\n",
       "      <td>urgent</td>\n",
       "    </tr>\n",
       "    <tr>\n",
       "      <th>8816</th>\n",
       "      <td>Urgent: Critical impact on enterprise network ...</td>\n",
       "      <td>high</td>\n",
       "      <td>urgent</td>\n",
       "    </tr>\n",
       "    <tr>\n",
       "      <th>10523</th>\n",
       "      <td>Request for changes in the AWS Management Dash...</td>\n",
       "      <td>high</td>\n",
       "      <td>urgent</td>\n",
       "    </tr>\n",
       "    <tr>\n",
       "      <th>8808</th>\n",
       "      <td>Incorrect application health checks leading to...</td>\n",
       "      <td>high</td>\n",
       "      <td>urgent</td>\n",
       "    </tr>\n",
       "    <tr>\n",
       "      <th>10202</th>\n",
       "      <td>Incorrect alignment of multi-modal data sources</td>\n",
       "      <td>high</td>\n",
       "      <td>urgent</td>\n",
       "    </tr>\n",
       "    <tr>\n",
       "      <th>9463</th>\n",
       "      <td>Immediate fix required for incorrect automatic...</td>\n",
       "      <td>high</td>\n",
       "      <td>urgent</td>\n",
       "    </tr>\n",
       "    <tr>\n",
       "      <th>2253</th>\n",
       "      <td>Top-priority correction for faulty login authe...</td>\n",
       "      <td>high</td>\n",
       "      <td>urgent</td>\n",
       "    </tr>\n",
       "  </tbody>\n",
       "</table>\n",
       "</div>"
      ],
      "text/plain": [
       "                                          processed_text priority urgency\n",
       "4558   Failure of API to enforce strict HTTPS at /non...     high  urgent\n",
       "3630           Ethernet PHY speed auto-negotiation fails     high  urgent\n",
       "10226                      This problem is very serious.     high  urgent\n",
       "672    This is a time-sensitive situation requiring o...     high  urgent\n",
       "8816   Urgent: Critical impact on enterprise network ...     high  urgent\n",
       "10523  Request for changes in the AWS Management Dash...     high  urgent\n",
       "8808   Incorrect application health checks leading to...     high  urgent\n",
       "10202    Incorrect alignment of multi-modal data sources     high  urgent\n",
       "9463   Immediate fix required for incorrect automatic...     high  urgent\n",
       "2253   Top-priority correction for faulty login authe...     high  urgent"
      ]
     },
     "execution_count": 48,
     "metadata": {},
     "output_type": "execute_result"
    }
   ],
   "source": [
    "df_oversampled[df_oversampled['urgency'] == 'urgent'].sample(10)"
   ]
  },
  {
   "cell_type": "code",
   "execution_count": 49,
   "metadata": {},
   "outputs": [
    {
     "data": {
      "text/html": [
       "<div>\n",
       "<style scoped>\n",
       "    .dataframe tbody tr th:only-of-type {\n",
       "        vertical-align: middle;\n",
       "    }\n",
       "\n",
       "    .dataframe tbody tr th {\n",
       "        vertical-align: top;\n",
       "    }\n",
       "\n",
       "    .dataframe thead th {\n",
       "        text-align: right;\n",
       "    }\n",
       "</style>\n",
       "<table border=\"1\" class=\"dataframe\">\n",
       "  <thead>\n",
       "    <tr style=\"text-align: right;\">\n",
       "      <th></th>\n",
       "      <th>processed_text</th>\n",
       "      <th>priority</th>\n",
       "      <th>urgency</th>\n",
       "    </tr>\n",
       "  </thead>\n",
       "  <tbody>\n",
       "    <tr>\n",
       "      <th>3216</th>\n",
       "      <td>404 error on page 2 of paginated article list</td>\n",
       "      <td>high</td>\n",
       "      <td>urgent</td>\n",
       "    </tr>\n",
       "    <tr>\n",
       "      <th>10884</th>\n",
       "      <td>404 error on page 2 of paginated article list</td>\n",
       "      <td>high</td>\n",
       "      <td>urgent</td>\n",
       "    </tr>\n",
       "    <tr>\n",
       "      <th>342</th>\n",
       "      <td>A prompt and decisive response is required to ...</td>\n",
       "      <td>high</td>\n",
       "      <td>urgent</td>\n",
       "    </tr>\n",
       "    <tr>\n",
       "      <th>9179</th>\n",
       "      <td>A prompt and decisive response is required to ...</td>\n",
       "      <td>high</td>\n",
       "      <td>urgent</td>\n",
       "    </tr>\n",
       "    <tr>\n",
       "      <th>10212</th>\n",
       "      <td>A rapid response is crucial to address this ma...</td>\n",
       "      <td>high</td>\n",
       "      <td>urgent</td>\n",
       "    </tr>\n",
       "    <tr>\n",
       "      <th>...</th>\n",
       "      <td>...</td>\n",
       "      <td>...</td>\n",
       "      <td>...</td>\n",
       "    </tr>\n",
       "    <tr>\n",
       "      <th>11079</th>\n",
       "      <td>real-time messaging issues. Dear Tech Online S...</td>\n",
       "      <td>high</td>\n",
       "      <td>urgent</td>\n",
       "    </tr>\n",
       "    <tr>\n",
       "      <th>8625</th>\n",
       "      <td>real-time messaging issues. Dear Tech Online S...</td>\n",
       "      <td>high</td>\n",
       "      <td>urgent</td>\n",
       "    </tr>\n",
       "    <tr>\n",
       "      <th>10383</th>\n",
       "      <td>request for configuration changes. Dear IT Sup...</td>\n",
       "      <td>high</td>\n",
       "      <td>urgent</td>\n",
       "    </tr>\n",
       "    <tr>\n",
       "      <th>10680</th>\n",
       "      <td>request for configuration changes. Dear IT Sup...</td>\n",
       "      <td>high</td>\n",
       "      <td>urgent</td>\n",
       "    </tr>\n",
       "    <tr>\n",
       "      <th>8396</th>\n",
       "      <td>request for configuration changes. Dear IT Sup...</td>\n",
       "      <td>high</td>\n",
       "      <td>urgent</td>\n",
       "    </tr>\n",
       "  </tbody>\n",
       "</table>\n",
       "<p>4438 rows × 3 columns</p>\n",
       "</div>"
      ],
      "text/plain": [
       "                                          processed_text priority urgency\n",
       "3216       404 error on page 2 of paginated article list     high  urgent\n",
       "10884      404 error on page 2 of paginated article list     high  urgent\n",
       "342    A prompt and decisive response is required to ...     high  urgent\n",
       "9179   A prompt and decisive response is required to ...     high  urgent\n",
       "10212  A rapid response is crucial to address this ma...     high  urgent\n",
       "...                                                  ...      ...     ...\n",
       "11079  real-time messaging issues. Dear Tech Online S...     high  urgent\n",
       "8625   real-time messaging issues. Dear Tech Online S...     high  urgent\n",
       "10383  request for configuration changes. Dear IT Sup...     high  urgent\n",
       "10680  request for configuration changes. Dear IT Sup...     high  urgent\n",
       "8396   request for configuration changes. Dear IT Sup...     high  urgent\n",
       "\n",
       "[4438 rows x 3 columns]"
      ]
     },
     "execution_count": 49,
     "metadata": {},
     "output_type": "execute_result"
    }
   ],
   "source": [
    "# duplicate texts \n",
    "df_oversampled[df_oversampled['processed_text'].duplicated(keep=False)].sort_values('processed_text')"
   ]
  },
  {
   "cell_type": "code",
   "execution_count": 50,
   "metadata": {},
   "outputs": [],
   "source": [
    "import pandas as pd\n",
    "\n",
    "df_hf = pd.read_csv(\"hf://datasets/rtweera/customer_care_emails/dataset.csv\")"
   ]
  },
  {
   "cell_type": "code",
   "execution_count": 51,
   "metadata": {},
   "outputs": [
    {
     "data": {
      "text/html": [
       "<div>\n",
       "<style scoped>\n",
       "    .dataframe tbody tr th:only-of-type {\n",
       "        vertical-align: middle;\n",
       "    }\n",
       "\n",
       "    .dataframe tbody tr th {\n",
       "        vertical-align: top;\n",
       "    }\n",
       "\n",
       "    .dataframe thead th {\n",
       "        text-align: right;\n",
       "    }\n",
       "</style>\n",
       "<table border=\"1\" class=\"dataframe\">\n",
       "  <thead>\n",
       "    <tr style=\"text-align: right;\">\n",
       "      <th></th>\n",
       "      <th>subject</th>\n",
       "      <th>sender</th>\n",
       "      <th>receiver</th>\n",
       "      <th>timestamp</th>\n",
       "      <th>message_body</th>\n",
       "      <th>thread_id</th>\n",
       "      <th>email_types</th>\n",
       "      <th>email_status</th>\n",
       "      <th>email_criticality</th>\n",
       "      <th>product_types</th>\n",
       "      <th>agent_effectivity</th>\n",
       "      <th>agent_efficiency</th>\n",
       "      <th>customer_satisfaction</th>\n",
       "      <th>priority</th>\n",
       "      <th>urgency</th>\n",
       "      <th>processed_text</th>\n",
       "    </tr>\n",
       "  </thead>\n",
       "  <tbody>\n",
       "    <tr>\n",
       "      <th>0</th>\n",
       "      <td>Mercury Language Documentation Issue</td>\n",
       "      <td>john.doe@example.com</td>\n",
       "      <td>support@aetheros.com</td>\n",
       "      <td>2023-10-26 10:02:34+00:00</td>\n",
       "      <td>Hi Aetheros Support,\\n\\nI'm having trouble fin...</td>\n",
       "      <td>aa001-8e561ac9-8523-421f-9d05-e4c2a80a26d7</td>\n",
       "      <td>['inquiry']</td>\n",
       "      <td>ongoing</td>\n",
       "      <td>low</td>\n",
       "      <td>['Mercury Language']</td>\n",
       "      <td>high</td>\n",
       "      <td>very low</td>\n",
       "      <td>0.9043</td>\n",
       "      <td>low</td>\n",
       "      <td>not_urgent</td>\n",
       "      <td>Mercury Language Documentation Issue. Hi Aethe...</td>\n",
       "    </tr>\n",
       "    <tr>\n",
       "      <th>1</th>\n",
       "      <td>Re: Mercury Language Documentation Issue</td>\n",
       "      <td>support@aetheros.com</td>\n",
       "      <td>john.doe@example.com</td>\n",
       "      <td>2023-10-27 14:15:22+00:00</td>\n",
       "      <td>Dear John,\\n\\nThank you for reaching out to Ae...</td>\n",
       "      <td>aa001-8e561ac9-8523-421f-9d05-e4c2a80a26d7</td>\n",
       "      <td>['inquiry']</td>\n",
       "      <td>ongoing</td>\n",
       "      <td>low</td>\n",
       "      <td>['Mercury Language']</td>\n",
       "      <td>high</td>\n",
       "      <td>very low</td>\n",
       "      <td>0.9043</td>\n",
       "      <td>low</td>\n",
       "      <td>not_urgent</td>\n",
       "      <td>Re: Mercury Language Documentation Issue. Dear...</td>\n",
       "    </tr>\n",
       "    <tr>\n",
       "      <th>2</th>\n",
       "      <td>Re: Mercury Language Documentation Issue</td>\n",
       "      <td>john.doe@example.com</td>\n",
       "      <td>support@aetheros.com</td>\n",
       "      <td>2023-10-28 09:38:01+00:00</td>\n",
       "      <td>Hi,\\n\\nI'm using Mercury version 2.3.5.\\n\\nTha...</td>\n",
       "      <td>aa001-8e561ac9-8523-421f-9d05-e4c2a80a26d7</td>\n",
       "      <td>['inquiry']</td>\n",
       "      <td>ongoing</td>\n",
       "      <td>low</td>\n",
       "      <td>['Mercury Language']</td>\n",
       "      <td>high</td>\n",
       "      <td>very low</td>\n",
       "      <td>0.9043</td>\n",
       "      <td>low</td>\n",
       "      <td>not_urgent</td>\n",
       "      <td>Re: Mercury Language Documentation Issue. Hi, ...</td>\n",
       "    </tr>\n",
       "    <tr>\n",
       "      <th>3</th>\n",
       "      <td>Re: Mercury Language Documentation Issue</td>\n",
       "      <td>john.doe@example.com</td>\n",
       "      <td>support@aetheros.com</td>\n",
       "      <td>2023-10-30 15:12:54+00:00</td>\n",
       "      <td>Hi there,\\n\\nJust checking in on this. Have yo...</td>\n",
       "      <td>aa001-8e561ac9-8523-421f-9d05-e4c2a80a26d7</td>\n",
       "      <td>['inquiry']</td>\n",
       "      <td>ongoing</td>\n",
       "      <td>low</td>\n",
       "      <td>['Mercury Language']</td>\n",
       "      <td>high</td>\n",
       "      <td>very low</td>\n",
       "      <td>0.9043</td>\n",
       "      <td>low</td>\n",
       "      <td>not_urgent</td>\n",
       "      <td>Re: Mercury Language Documentation Issue. Hi t...</td>\n",
       "    </tr>\n",
       "    <tr>\n",
       "      <th>4</th>\n",
       "      <td>URGENT: User Permission Errors in Production API</td>\n",
       "      <td>kenneth77@davis-becker.com</td>\n",
       "      <td>support@aetheros.com</td>\n",
       "      <td>2023-10-26 09:12:34+00:00</td>\n",
       "      <td>We are experiencing critical issues with user ...</td>\n",
       "      <td>aa001-550e8400-e29b-41d4-a716-446655440000</td>\n",
       "      <td>['issue']</td>\n",
       "      <td>completed</td>\n",
       "      <td>high</td>\n",
       "      <td>['API Development', 'IAM service']</td>\n",
       "      <td>medium</td>\n",
       "      <td>very low</td>\n",
       "      <td>0.6918</td>\n",
       "      <td>high</td>\n",
       "      <td>urgent</td>\n",
       "      <td>URGENT: User Permission Errors in Production A...</td>\n",
       "    </tr>\n",
       "  </tbody>\n",
       "</table>\n",
       "</div>"
      ],
      "text/plain": [
       "                                            subject  \\\n",
       "0              Mercury Language Documentation Issue   \n",
       "1          Re: Mercury Language Documentation Issue   \n",
       "2          Re: Mercury Language Documentation Issue   \n",
       "3          Re: Mercury Language Documentation Issue   \n",
       "4  URGENT: User Permission Errors in Production API   \n",
       "\n",
       "                       sender              receiver  \\\n",
       "0        john.doe@example.com  support@aetheros.com   \n",
       "1        support@aetheros.com  john.doe@example.com   \n",
       "2        john.doe@example.com  support@aetheros.com   \n",
       "3        john.doe@example.com  support@aetheros.com   \n",
       "4  kenneth77@davis-becker.com  support@aetheros.com   \n",
       "\n",
       "                   timestamp  \\\n",
       "0  2023-10-26 10:02:34+00:00   \n",
       "1  2023-10-27 14:15:22+00:00   \n",
       "2  2023-10-28 09:38:01+00:00   \n",
       "3  2023-10-30 15:12:54+00:00   \n",
       "4  2023-10-26 09:12:34+00:00   \n",
       "\n",
       "                                        message_body  \\\n",
       "0  Hi Aetheros Support,\\n\\nI'm having trouble fin...   \n",
       "1  Dear John,\\n\\nThank you for reaching out to Ae...   \n",
       "2  Hi,\\n\\nI'm using Mercury version 2.3.5.\\n\\nTha...   \n",
       "3  Hi there,\\n\\nJust checking in on this. Have yo...   \n",
       "4  We are experiencing critical issues with user ...   \n",
       "\n",
       "                                    thread_id  email_types email_status  \\\n",
       "0  aa001-8e561ac9-8523-421f-9d05-e4c2a80a26d7  ['inquiry']      ongoing   \n",
       "1  aa001-8e561ac9-8523-421f-9d05-e4c2a80a26d7  ['inquiry']      ongoing   \n",
       "2  aa001-8e561ac9-8523-421f-9d05-e4c2a80a26d7  ['inquiry']      ongoing   \n",
       "3  aa001-8e561ac9-8523-421f-9d05-e4c2a80a26d7  ['inquiry']      ongoing   \n",
       "4  aa001-550e8400-e29b-41d4-a716-446655440000    ['issue']    completed   \n",
       "\n",
       "  email_criticality                       product_types agent_effectivity  \\\n",
       "0               low                ['Mercury Language']              high   \n",
       "1               low                ['Mercury Language']              high   \n",
       "2               low                ['Mercury Language']              high   \n",
       "3               low                ['Mercury Language']              high   \n",
       "4              high  ['API Development', 'IAM service']            medium   \n",
       "\n",
       "  agent_efficiency  customer_satisfaction priority     urgency  \\\n",
       "0         very low                 0.9043      low  not_urgent   \n",
       "1         very low                 0.9043      low  not_urgent   \n",
       "2         very low                 0.9043      low  not_urgent   \n",
       "3         very low                 0.9043      low  not_urgent   \n",
       "4         very low                 0.6918     high      urgent   \n",
       "\n",
       "                                      processed_text  \n",
       "0  Mercury Language Documentation Issue. Hi Aethe...  \n",
       "1  Re: Mercury Language Documentation Issue. Dear...  \n",
       "2  Re: Mercury Language Documentation Issue. Hi, ...  \n",
       "3  Re: Mercury Language Documentation Issue. Hi t...  \n",
       "4  URGENT: User Permission Errors in Production A...  "
      ]
     },
     "execution_count": 51,
     "metadata": {},
     "output_type": "execute_result"
    }
   ],
   "source": [
    "# Add high, medium and low label for 2,1,0 respectively\n",
    "df_hf['priority'] = df_hf['email_criticality']\n",
    "df_hf['urgency'] = df_hf['priority'].apply(lambda x: 'urgent' if x == 'high' else 'not_urgent')\n",
    "df_hf['processed_text'] = df_hf['subject'] + '. ' + df_hf['message_body'].replace('\\n', ' ', regex=True)\n",
    "\n",
    "df_hf.head()"
   ]
  },
  {
   "cell_type": "code",
   "execution_count": 52,
   "metadata": {},
   "outputs": [
    {
     "data": {
      "text/plain": [
       "urgency\n",
       "not_urgent    1325\n",
       "urgent         934\n",
       "Name: count, dtype: int64"
      ]
     },
     "execution_count": 52,
     "metadata": {},
     "output_type": "execute_result"
    }
   ],
   "source": [
    "df_hf = df_hf[['processed_text', 'priority', 'urgency']]\n",
    "df_hf.urgency.value_counts()\n"
   ]
  },
  {
   "cell_type": "code",
   "execution_count": 53,
   "metadata": {},
   "outputs": [],
   "source": [
    "# get last 2700 urgent tickets\n",
    "df_hf_urgent = df_hf[df_hf['urgency'] == 'urgent'].tail(2700)"
   ]
  },
  {
   "cell_type": "code",
   "execution_count": 54,
   "metadata": {},
   "outputs": [
    {
     "data": {
      "text/html": [
       "<div>\n",
       "<style scoped>\n",
       "    .dataframe tbody tr th:only-of-type {\n",
       "        vertical-align: middle;\n",
       "    }\n",
       "\n",
       "    .dataframe tbody tr th {\n",
       "        vertical-align: top;\n",
       "    }\n",
       "\n",
       "    .dataframe thead th {\n",
       "        text-align: right;\n",
       "    }\n",
       "</style>\n",
       "<table border=\"1\" class=\"dataframe\">\n",
       "  <thead>\n",
       "    <tr style=\"text-align: right;\">\n",
       "      <th></th>\n",
       "      <th>processed_text</th>\n",
       "      <th>priority</th>\n",
       "      <th>urgency</th>\n",
       "    </tr>\n",
       "  </thead>\n",
       "  <tbody>\n",
       "    <tr>\n",
       "      <th>4</th>\n",
       "      <td>URGENT: User Permission Errors in Production A...</td>\n",
       "      <td>high</td>\n",
       "      <td>urgent</td>\n",
       "    </tr>\n",
       "    <tr>\n",
       "      <th>5</th>\n",
       "      <td>Re: URGENT: User Permission Errors in Producti...</td>\n",
       "      <td>high</td>\n",
       "      <td>urgent</td>\n",
       "    </tr>\n",
       "    <tr>\n",
       "      <th>6</th>\n",
       "      <td>Re: URGENT: User Permission Errors in Producti...</td>\n",
       "      <td>high</td>\n",
       "      <td>urgent</td>\n",
       "    </tr>\n",
       "    <tr>\n",
       "      <th>7</th>\n",
       "      <td>Re: URGENT: User Permission Errors in Producti...</td>\n",
       "      <td>high</td>\n",
       "      <td>urgent</td>\n",
       "    </tr>\n",
       "    <tr>\n",
       "      <th>8</th>\n",
       "      <td>Re: URGENT: User Permission Errors in Producti...</td>\n",
       "      <td>high</td>\n",
       "      <td>urgent</td>\n",
       "    </tr>\n",
       "  </tbody>\n",
       "</table>\n",
       "</div>"
      ],
      "text/plain": [
       "                                      processed_text priority urgency\n",
       "4  URGENT: User Permission Errors in Production A...     high  urgent\n",
       "5  Re: URGENT: User Permission Errors in Producti...     high  urgent\n",
       "6  Re: URGENT: User Permission Errors in Producti...     high  urgent\n",
       "7  Re: URGENT: User Permission Errors in Producti...     high  urgent\n",
       "8  Re: URGENT: User Permission Errors in Producti...     high  urgent"
      ]
     },
     "execution_count": 54,
     "metadata": {},
     "output_type": "execute_result"
    }
   ],
   "source": [
    "df_hf_urgent.shape\n",
    "df_hf_urgent.head()"
   ]
  },
  {
   "cell_type": "code",
   "execution_count": 55,
   "metadata": {},
   "outputs": [
    {
     "data": {
      "text/plain": [
       "urgency\n",
       "not_urgent    5669\n",
       "urgent        3906\n",
       "Name: count, dtype: int64"
      ]
     },
     "execution_count": 55,
     "metadata": {},
     "output_type": "execute_result"
    }
   ],
   "source": [
    "# combine the two datasets\n",
    "df_combined = pd.concat([df, df_hf_urgent], axis=0)\n",
    "df_combined.urgency.value_counts()"
   ]
  },
  {
   "cell_type": "code",
   "execution_count": 56,
   "metadata": {},
   "outputs": [
    {
     "data": {
      "text/plain": [
       "0"
      ]
     },
     "execution_count": 56,
     "metadata": {},
     "output_type": "execute_result"
    }
   ],
   "source": [
    "df_combined.duplicated(subset=['processed_text']).sum()"
   ]
  },
  {
   "cell_type": "code",
   "execution_count": 57,
   "metadata": {},
   "outputs": [
    {
     "data": {
      "text/html": [
       "<div>\n",
       "<style scoped>\n",
       "    .dataframe tbody tr th:only-of-type {\n",
       "        vertical-align: middle;\n",
       "    }\n",
       "\n",
       "    .dataframe tbody tr th {\n",
       "        vertical-align: top;\n",
       "    }\n",
       "\n",
       "    .dataframe thead th {\n",
       "        text-align: right;\n",
       "    }\n",
       "</style>\n",
       "<table border=\"1\" class=\"dataframe\">\n",
       "  <thead>\n",
       "    <tr style=\"text-align: right;\">\n",
       "      <th></th>\n",
       "      <th>Subject</th>\n",
       "      <th>Body</th>\n",
       "      <th>Priority</th>\n",
       "    </tr>\n",
       "  </thead>\n",
       "  <tbody>\n",
       "    <tr>\n",
       "      <th>0</th>\n",
       "      <td>Important: At Risk</td>\n",
       "      <td>This is a at risk matter. Please handle urgent...</td>\n",
       "      <td>High</td>\n",
       "    </tr>\n",
       "    <tr>\n",
       "      <th>1</th>\n",
       "      <td>Alert: Top Priority</td>\n",
       "      <td>This is a escalated matter. Please resolve imm...</td>\n",
       "      <td>High</td>\n",
       "    </tr>\n",
       "    <tr>\n",
       "      <th>2</th>\n",
       "      <td>Important: Blocking Issue</td>\n",
       "      <td>This is a showstopper matter. Please act now. ...</td>\n",
       "      <td>High</td>\n",
       "    </tr>\n",
       "    <tr>\n",
       "      <th>3</th>\n",
       "      <td>Alert: Requires Action</td>\n",
       "      <td>This is a critical path matter. Please do not ...</td>\n",
       "      <td>High</td>\n",
       "    </tr>\n",
       "    <tr>\n",
       "      <th>4</th>\n",
       "      <td>Critical: Breakpoint</td>\n",
       "      <td>This is a high priority matter. Please act now...</td>\n",
       "      <td>High</td>\n",
       "    </tr>\n",
       "  </tbody>\n",
       "</table>\n",
       "</div>"
      ],
      "text/plain": [
       "                     Subject  \\\n",
       "0         Important: At Risk   \n",
       "1        Alert: Top Priority   \n",
       "2  Important: Blocking Issue   \n",
       "3     Alert: Requires Action   \n",
       "4       Critical: Breakpoint   \n",
       "\n",
       "                                                Body Priority  \n",
       "0  This is a at risk matter. Please handle urgent...     High  \n",
       "1  This is a escalated matter. Please resolve imm...     High  \n",
       "2  This is a showstopper matter. Please act now. ...     High  \n",
       "3  This is a critical path matter. Please do not ...     High  \n",
       "4  This is a high priority matter. Please act now...     High  "
      ]
     },
     "execution_count": 57,
     "metadata": {},
     "output_type": "execute_result"
    }
   ],
   "source": [
    "df_chatgpt = pd.read_csv(\"../csv/urgent_messages_chatgpt.csv\")\n",
    "df_chatgpt.head()"
   ]
  },
  {
   "cell_type": "code",
   "execution_count": 58,
   "metadata": {},
   "outputs": [
    {
     "data": {
      "text/plain": [
       "urgency\n",
       "urgent    1500\n",
       "Name: count, dtype: int64"
      ]
     },
     "execution_count": 58,
     "metadata": {},
     "output_type": "execute_result"
    }
   ],
   "source": [
    "df_chatgpt['urgency'] = df_chatgpt.Priority.apply(lambda x: 'urgent' if x == 'High' else 'not_urgent')\n",
    "df_chatgpt['processed_text'] = df_chatgpt['Subject'] + '. ' + df_chatgpt['Body'].replace('\\n', ' ', regex=True)\n",
    "df_chatgpt['Priority'] = df_chatgpt['Priority'].str.lower()\n",
    "\n",
    "df_chatgpt = df_chatgpt[['processed_text', 'Priority', 'urgency']]\n",
    "# rename Priority to priority\n",
    "df_chatgpt.rename(columns={'Priority': 'priority'}, inplace=True)\n",
    "df_chatgpt.urgency.value_counts()"
   ]
  },
  {
   "cell_type": "code",
   "execution_count": 59,
   "metadata": {},
   "outputs": [],
   "source": [
    "df_chatgpt.duplicated(subset=['processed_text']).sum()\n",
    "df_chatgpt.drop_duplicates(subset=['processed_text'], inplace=True)"
   ]
  },
  {
   "cell_type": "code",
   "execution_count": 60,
   "metadata": {},
   "outputs": [
    {
     "data": {
      "text/html": [
       "<div>\n",
       "<style scoped>\n",
       "    .dataframe tbody tr th:only-of-type {\n",
       "        vertical-align: middle;\n",
       "    }\n",
       "\n",
       "    .dataframe tbody tr th {\n",
       "        vertical-align: top;\n",
       "    }\n",
       "\n",
       "    .dataframe thead th {\n",
       "        text-align: right;\n",
       "    }\n",
       "</style>\n",
       "<table border=\"1\" class=\"dataframe\">\n",
       "  <thead>\n",
       "    <tr style=\"text-align: right;\">\n",
       "      <th></th>\n",
       "      <th>processed_text</th>\n",
       "      <th>priority</th>\n",
       "      <th>urgency</th>\n",
       "    </tr>\n",
       "  </thead>\n",
       "  <tbody>\n",
       "    <tr>\n",
       "      <th>1233</th>\n",
       "      <td>Alert: Resolve Immediately. This is a high ris...</td>\n",
       "      <td>high</td>\n",
       "      <td>urgent</td>\n",
       "    </tr>\n",
       "    <tr>\n",
       "      <th>276</th>\n",
       "      <td>Important: Extreme. This is a fix now matter. ...</td>\n",
       "      <td>high</td>\n",
       "      <td>urgent</td>\n",
       "    </tr>\n",
       "    <tr>\n",
       "      <th>256</th>\n",
       "      <td>Important: Do Not Delay. This is a high priori...</td>\n",
       "      <td>high</td>\n",
       "      <td>urgent</td>\n",
       "    </tr>\n",
       "  </tbody>\n",
       "</table>\n",
       "</div>"
      ],
      "text/plain": [
       "                                         processed_text priority urgency\n",
       "1233  Alert: Resolve Immediately. This is a high ris...     high  urgent\n",
       "276   Important: Extreme. This is a fix now matter. ...     high  urgent\n",
       "256   Important: Do Not Delay. This is a high priori...     high  urgent"
      ]
     },
     "execution_count": 60,
     "metadata": {},
     "output_type": "execute_result"
    }
   ],
   "source": [
    "df_chatgpt.sample(3)"
   ]
  },
  {
   "cell_type": "code",
   "execution_count": 61,
   "metadata": {},
   "outputs": [
    {
     "data": {
      "text/plain": [
       "urgency\n",
       "not_urgent    5669\n",
       "urgent        5399\n",
       "Name: count, dtype: int64"
      ]
     },
     "execution_count": 61,
     "metadata": {},
     "output_type": "execute_result"
    }
   ],
   "source": [
    "df_combined = pd.concat([df_combined, df_chatgpt], axis=0)\n",
    "df_combined.urgency.value_counts()"
   ]
  },
  {
   "cell_type": "code",
   "execution_count": 62,
   "metadata": {},
   "outputs": [
    {
     "data": {
      "text/plain": [
       "0"
      ]
     },
     "execution_count": 62,
     "metadata": {},
     "output_type": "execute_result"
    }
   ],
   "source": [
    "df_combined.duplicated(subset=['processed_text']).sum()\n"
   ]
  },
  {
   "cell_type": "code",
   "execution_count": 63,
   "metadata": {},
   "outputs": [
    {
     "data": {
      "text/html": [
       "<div>\n",
       "<style scoped>\n",
       "    .dataframe tbody tr th:only-of-type {\n",
       "        vertical-align: middle;\n",
       "    }\n",
       "\n",
       "    .dataframe tbody tr th {\n",
       "        vertical-align: top;\n",
       "    }\n",
       "\n",
       "    .dataframe thead th {\n",
       "        text-align: right;\n",
       "    }\n",
       "</style>\n",
       "<table border=\"1\" class=\"dataframe\">\n",
       "  <thead>\n",
       "    <tr style=\"text-align: right;\">\n",
       "      <th></th>\n",
       "      <th>label</th>\n",
       "      <th>processed_text</th>\n",
       "      <th>priority</th>\n",
       "      <th>urgency</th>\n",
       "      <th>type</th>\n",
       "      <th>queue</th>\n",
       "    </tr>\n",
       "  </thead>\n",
       "  <tbody>\n",
       "    <tr>\n",
       "      <th>1509</th>\n",
       "      <td>2.0</td>\n",
       "      <td>Critical patch for checkout not recognizing va...</td>\n",
       "      <td>high</td>\n",
       "      <td>urgent</td>\n",
       "      <td>NaN</td>\n",
       "      <td>NaN</td>\n",
       "    </tr>\n",
       "    <tr>\n",
       "      <th>8417</th>\n",
       "      <td>NaN</td>\n",
       "      <td>Urgent: Overheating and battery drain issue on...</td>\n",
       "      <td>high</td>\n",
       "      <td>urgent</td>\n",
       "      <td>Problem</td>\n",
       "      <td>Product Support</td>\n",
       "    </tr>\n",
       "    <tr>\n",
       "      <th>6103</th>\n",
       "      <td>0.0</td>\n",
       "      <td>XML response formatting improperly handling sp...</td>\n",
       "      <td>low</td>\n",
       "      <td>not_urgent</td>\n",
       "      <td>NaN</td>\n",
       "      <td>NaN</td>\n",
       "    </tr>\n",
       "  </tbody>\n",
       "</table>\n",
       "</div>"
      ],
      "text/plain": [
       "      label                                     processed_text priority  \\\n",
       "1509    2.0  Critical patch for checkout not recognizing va...     high   \n",
       "8417    NaN  Urgent: Overheating and battery drain issue on...     high   \n",
       "6103    0.0  XML response formatting improperly handling sp...      low   \n",
       "\n",
       "         urgency     type            queue  \n",
       "1509      urgent      NaN              NaN  \n",
       "8417      urgent  Problem  Product Support  \n",
       "6103  not_urgent      NaN              NaN  "
      ]
     },
     "execution_count": 63,
     "metadata": {},
     "output_type": "execute_result"
    }
   ],
   "source": [
    "df_combined.sample(3)"
   ]
  },
  {
   "cell_type": "markdown",
   "metadata": {},
   "source": [
    "### Add one more dataset generated by ChatGPT"
   ]
  },
  {
   "cell_type": "code",
   "execution_count": 64,
   "metadata": {},
   "outputs": [
    {
     "data": {
      "text/html": [
       "<div>\n",
       "<style scoped>\n",
       "    .dataframe tbody tr th:only-of-type {\n",
       "        vertical-align: middle;\n",
       "    }\n",
       "\n",
       "    .dataframe tbody tr th {\n",
       "        vertical-align: top;\n",
       "    }\n",
       "\n",
       "    .dataframe thead th {\n",
       "        text-align: right;\n",
       "    }\n",
       "</style>\n",
       "<table border=\"1\" class=\"dataframe\">\n",
       "  <thead>\n",
       "    <tr style=\"text-align: right;\">\n",
       "      <th></th>\n",
       "      <th>text</th>\n",
       "      <th>level</th>\n",
       "    </tr>\n",
       "  </thead>\n",
       "  <tbody>\n",
       "    <tr>\n",
       "      <th>0</th>\n",
       "      <td>Update your shift timing. Final Approval Neede...</td>\n",
       "      <td>1</td>\n",
       "    </tr>\n",
       "    <tr>\n",
       "      <th>1</th>\n",
       "      <td>Time-Critical. No Later Than. Please handle th...</td>\n",
       "      <td>1</td>\n",
       "    </tr>\n",
       "    <tr>\n",
       "      <th>2</th>\n",
       "      <td>Red Flag. ASAP (As Soon As Possible). Please h...</td>\n",
       "      <td>1</td>\n",
       "    </tr>\n",
       "    <tr>\n",
       "      <th>3</th>\n",
       "      <td>Do Not Delay. Today, Not Tomorrow. Please hand...</td>\n",
       "      <td>1</td>\n",
       "    </tr>\n",
       "    <tr>\n",
       "      <th>4</th>\n",
       "      <td>Address This Quickly. Immediate Action Require...</td>\n",
       "      <td>1</td>\n",
       "    </tr>\n",
       "  </tbody>\n",
       "</table>\n",
       "</div>"
      ],
      "text/plain": [
       "                                                text  level\n",
       "0  Update your shift timing. Final Approval Neede...      1\n",
       "1  Time-Critical. No Later Than. Please handle th...      1\n",
       "2  Red Flag. ASAP (As Soon As Possible). Please h...      1\n",
       "3  Do Not Delay. Today, Not Tomorrow. Please hand...      1\n",
       "4  Address This Quickly. Immediate Action Require...      1"
      ]
     },
     "execution_count": 64,
     "metadata": {},
     "output_type": "execute_result"
    }
   ],
   "source": [
    "df_chatgpt_2 = pd.read_csv(\"../csv/urgent_messages_chatgpt_2.csv\")\n",
    "df_chatgpt_2.head()"
   ]
  },
  {
   "cell_type": "code",
   "execution_count": 65,
   "metadata": {},
   "outputs": [
    {
     "data": {
      "text/html": [
       "<div>\n",
       "<style scoped>\n",
       "    .dataframe tbody tr th:only-of-type {\n",
       "        vertical-align: middle;\n",
       "    }\n",
       "\n",
       "    .dataframe tbody tr th {\n",
       "        vertical-align: top;\n",
       "    }\n",
       "\n",
       "    .dataframe thead th {\n",
       "        text-align: right;\n",
       "    }\n",
       "</style>\n",
       "<table border=\"1\" class=\"dataframe\">\n",
       "  <thead>\n",
       "    <tr style=\"text-align: right;\">\n",
       "      <th></th>\n",
       "      <th>processed_text</th>\n",
       "      <th>priority</th>\n",
       "      <th>urgency</th>\n",
       "    </tr>\n",
       "  </thead>\n",
       "  <tbody>\n",
       "    <tr>\n",
       "      <th>0</th>\n",
       "      <td>Update your shift timing. Final Approval Neede...</td>\n",
       "      <td>high</td>\n",
       "      <td>urgent</td>\n",
       "    </tr>\n",
       "    <tr>\n",
       "      <th>1</th>\n",
       "      <td>Time-Critical. No Later Than. Please handle th...</td>\n",
       "      <td>high</td>\n",
       "      <td>urgent</td>\n",
       "    </tr>\n",
       "    <tr>\n",
       "      <th>2</th>\n",
       "      <td>Red Flag. ASAP (As Soon As Possible). Please h...</td>\n",
       "      <td>high</td>\n",
       "      <td>urgent</td>\n",
       "    </tr>\n",
       "    <tr>\n",
       "      <th>3</th>\n",
       "      <td>Do Not Delay. Today, Not Tomorrow. Please hand...</td>\n",
       "      <td>high</td>\n",
       "      <td>urgent</td>\n",
       "    </tr>\n",
       "    <tr>\n",
       "      <th>4</th>\n",
       "      <td>Address This Quickly. Immediate Action Require...</td>\n",
       "      <td>high</td>\n",
       "      <td>urgent</td>\n",
       "    </tr>\n",
       "  </tbody>\n",
       "</table>\n",
       "</div>"
      ],
      "text/plain": [
       "                                      processed_text priority urgency\n",
       "0  Update your shift timing. Final Approval Neede...     high  urgent\n",
       "1  Time-Critical. No Later Than. Please handle th...     high  urgent\n",
       "2  Red Flag. ASAP (As Soon As Possible). Please h...     high  urgent\n",
       "3  Do Not Delay. Today, Not Tomorrow. Please hand...     high  urgent\n",
       "4  Address This Quickly. Immediate Action Require...     high  urgent"
      ]
     },
     "execution_count": 65,
     "metadata": {},
     "output_type": "execute_result"
    }
   ],
   "source": [
    "df_chatgpt_2.rename(columns={'text': 'processed_text'}, inplace=True)\n",
    "df_chatgpt_2['urgency'] = df_chatgpt_2.level.apply(lambda x: 'urgent' if x == 1 else 0)\n",
    "df_chatgpt_2['priority'] = df_chatgpt_2.level.apply(lambda x: 'high' if x == 1 else 'low')\n",
    "\n",
    "df_chatgpt_2 = df_chatgpt_2[['processed_text', 'priority', 'urgency']]\n",
    "df_chatgpt_2.head()"
   ]
  },
  {
   "cell_type": "code",
   "execution_count": 66,
   "metadata": {},
   "outputs": [
    {
     "data": {
      "text/plain": [
       "164"
      ]
     },
     "execution_count": 66,
     "metadata": {},
     "output_type": "execute_result"
    }
   ],
   "source": [
    "df_chatgpt_2.duplicated(subset=['processed_text']).sum()"
   ]
  },
  {
   "cell_type": "code",
   "execution_count": 67,
   "metadata": {},
   "outputs": [
    {
     "data": {
      "text/plain": [
       "0"
      ]
     },
     "execution_count": 67,
     "metadata": {},
     "output_type": "execute_result"
    }
   ],
   "source": [
    "df_chatgpt_2.drop_duplicates(subset=['processed_text'], inplace=True)\n",
    "df_chatgpt_2.duplicated(subset=['processed_text']).sum()"
   ]
  },
  {
   "cell_type": "code",
   "execution_count": 68,
   "metadata": {},
   "outputs": [
    {
     "data": {
      "text/plain": [
       "urgency\n",
       "urgent        6235\n",
       "not_urgent    5669\n",
       "Name: count, dtype: int64"
      ]
     },
     "execution_count": 68,
     "metadata": {},
     "output_type": "execute_result"
    }
   ],
   "source": [
    "df_combined = pd.concat([df_combined, df_chatgpt_2], axis=0)\n",
    "df_combined.urgency.value_counts()"
   ]
  },
  {
   "cell_type": "code",
   "execution_count": 69,
   "metadata": {},
   "outputs": [
    {
     "data": {
      "text/html": [
       "<div>\n",
       "<style scoped>\n",
       "    .dataframe tbody tr th:only-of-type {\n",
       "        vertical-align: middle;\n",
       "    }\n",
       "\n",
       "    .dataframe tbody tr th {\n",
       "        vertical-align: top;\n",
       "    }\n",
       "\n",
       "    .dataframe thead th {\n",
       "        text-align: right;\n",
       "    }\n",
       "</style>\n",
       "<table border=\"1\" class=\"dataframe\">\n",
       "  <thead>\n",
       "    <tr style=\"text-align: right;\">\n",
       "      <th></th>\n",
       "      <th>label</th>\n",
       "      <th>processed_text</th>\n",
       "      <th>priority</th>\n",
       "      <th>urgency</th>\n",
       "      <th>type</th>\n",
       "      <th>queue</th>\n",
       "    </tr>\n",
       "  </thead>\n",
       "  <tbody>\n",
       "    <tr>\n",
       "      <th>536</th>\n",
       "      <td>0.0</td>\n",
       "      <td>There is leeway in addressing this matter.</td>\n",
       "      <td>low</td>\n",
       "      <td>not_urgent</td>\n",
       "      <td>NaN</td>\n",
       "      <td>NaN</td>\n",
       "    </tr>\n",
       "    <tr>\n",
       "      <th>1603</th>\n",
       "      <td>1.0</td>\n",
       "      <td>Game Mode Option Disabled Without Explanation</td>\n",
       "      <td>medium</td>\n",
       "      <td>not_urgent</td>\n",
       "      <td>NaN</td>\n",
       "      <td>NaN</td>\n",
       "    </tr>\n",
       "    <tr>\n",
       "      <th>4384</th>\n",
       "      <td>2.0</td>\n",
       "      <td>API key exposure due to logging at /key-gen en...</td>\n",
       "      <td>high</td>\n",
       "      <td>urgent</td>\n",
       "      <td>NaN</td>\n",
       "      <td>NaN</td>\n",
       "    </tr>\n",
       "  </tbody>\n",
       "</table>\n",
       "</div>"
      ],
      "text/plain": [
       "      label                                     processed_text priority  \\\n",
       "536     0.0         There is leeway in addressing this matter.      low   \n",
       "1603    1.0      Game Mode Option Disabled Without Explanation   medium   \n",
       "4384    2.0  API key exposure due to logging at /key-gen en...     high   \n",
       "\n",
       "         urgency type queue  \n",
       "536   not_urgent  NaN   NaN  \n",
       "1603  not_urgent  NaN   NaN  \n",
       "4384      urgent  NaN   NaN  "
      ]
     },
     "execution_count": 69,
     "metadata": {},
     "output_type": "execute_result"
    }
   ],
   "source": [
    "df_combined.sample(3)"
   ]
  },
  {
   "cell_type": "code",
   "execution_count": 70,
   "metadata": {},
   "outputs": [
    {
     "data": {
      "text/html": [
       "<div>\n",
       "<style scoped>\n",
       "    .dataframe tbody tr th:only-of-type {\n",
       "        vertical-align: middle;\n",
       "    }\n",
       "\n",
       "    .dataframe tbody tr th {\n",
       "        vertical-align: top;\n",
       "    }\n",
       "\n",
       "    .dataframe thead th {\n",
       "        text-align: right;\n",
       "    }\n",
       "</style>\n",
       "<table border=\"1\" class=\"dataframe\">\n",
       "  <thead>\n",
       "    <tr style=\"text-align: right;\">\n",
       "      <th></th>\n",
       "      <th>label</th>\n",
       "      <th>text</th>\n",
       "      <th>priority</th>\n",
       "      <th>urgency</th>\n",
       "      <th>type</th>\n",
       "      <th>queue</th>\n",
       "    </tr>\n",
       "  </thead>\n",
       "  <tbody>\n",
       "    <tr>\n",
       "      <th>1136</th>\n",
       "      <td>1</td>\n",
       "      <td>Re: Urgent Issue: IAM Role Assignment Failing....</td>\n",
       "      <td>high</td>\n",
       "      <td>urgent</td>\n",
       "      <td>NaN</td>\n",
       "      <td>NaN</td>\n",
       "    </tr>\n",
       "    <tr>\n",
       "      <th>7551</th>\n",
       "      <td>0</td>\n",
       "      <td>Request to Upgrade Microsoft Surface Pro 7. De...</td>\n",
       "      <td>low</td>\n",
       "      <td>not_urgent</td>\n",
       "      <td>Change</td>\n",
       "      <td>Technical Support</td>\n",
       "    </tr>\n",
       "    <tr>\n",
       "      <th>664</th>\n",
       "      <td>0</td>\n",
       "      <td>Problems Accessing the User Account Settings</td>\n",
       "      <td>medium</td>\n",
       "      <td>not_urgent</td>\n",
       "      <td>NaN</td>\n",
       "      <td>NaN</td>\n",
       "    </tr>\n",
       "  </tbody>\n",
       "</table>\n",
       "</div>"
      ],
      "text/plain": [
       "      label                                               text priority  \\\n",
       "1136      1  Re: Urgent Issue: IAM Role Assignment Failing....     high   \n",
       "7551      0  Request to Upgrade Microsoft Surface Pro 7. De...      low   \n",
       "664       0       Problems Accessing the User Account Settings   medium   \n",
       "\n",
       "         urgency    type              queue  \n",
       "1136      urgent     NaN                NaN  \n",
       "7551  not_urgent  Change  Technical Support  \n",
       "664   not_urgent     NaN                NaN  "
      ]
     },
     "execution_count": 70,
     "metadata": {},
     "output_type": "execute_result"
    }
   ],
   "source": [
    "# replace processed_text with the text, add label\n",
    "df_combined.rename(columns={'processed_text': 'text'}, inplace=True)\n",
    "df_combined['label'] = df_combined['urgency'].apply(lambda x: 1 if x == 'urgent' else 0)\n",
    "\n",
    "df_combined.sample(3)"
   ]
  },
  {
   "cell_type": "code",
   "execution_count": 71,
   "metadata": {},
   "outputs": [
    {
     "data": {
      "text/plain": [
       "label           0\n",
       "text            0\n",
       "priority        0\n",
       "urgency         0\n",
       "type        10348\n",
       "queue       10348\n",
       "dtype: int64"
      ]
     },
     "execution_count": 71,
     "metadata": {},
     "output_type": "execute_result"
    }
   ],
   "source": [
    "df_combined.isna().sum()"
   ]
  },
  {
   "cell_type": "code",
   "execution_count": 72,
   "metadata": {},
   "outputs": [],
   "source": [
    "df_combined.to_csv('../csv/oversampled_data.csv', index=False)"
   ]
  }
 ],
 "metadata": {
  "kernelspec": {
   "display_name": "Python 3",
   "language": "python",
   "name": "python3"
  },
  "language_info": {
   "codemirror_mode": {
    "name": "ipython",
    "version": 3
   },
   "file_extension": ".py",
   "mimetype": "text/x-python",
   "name": "python",
   "nbconvert_exporter": "python",
   "pygments_lexer": "ipython3",
   "version": "3.11.6"
  }
 },
 "nbformat": 4,
 "nbformat_minor": 2
}
