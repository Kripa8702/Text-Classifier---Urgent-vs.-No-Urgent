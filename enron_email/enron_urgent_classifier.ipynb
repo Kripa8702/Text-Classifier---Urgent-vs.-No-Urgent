{
 "cells": [
  {
   "cell_type": "markdown",
   "metadata": {},
   "source": [
    "## **Classifier POC - Urgent vs. Non-Urgent Messages**\n",
    "### Data preparation"
   ]
  },
  {
   "cell_type": "code",
   "execution_count": 1,
   "metadata": {},
   "outputs": [
    {
     "data": {
      "text/html": [
       "<div>\n",
       "<style scoped>\n",
       "    .dataframe tbody tr th:only-of-type {\n",
       "        vertical-align: middle;\n",
       "    }\n",
       "\n",
       "    .dataframe tbody tr th {\n",
       "        vertical-align: top;\n",
       "    }\n",
       "\n",
       "    .dataframe thead th {\n",
       "        text-align: right;\n",
       "    }\n",
       "</style>\n",
       "<table border=\"1\" class=\"dataframe\">\n",
       "  <thead>\n",
       "    <tr style=\"text-align: right;\">\n",
       "      <th></th>\n",
       "      <th>file</th>\n",
       "      <th>message</th>\n",
       "    </tr>\n",
       "  </thead>\n",
       "  <tbody>\n",
       "    <tr>\n",
       "      <th>0</th>\n",
       "      <td>arnold-j/sent_items/315.</td>\n",
       "      <td>Message-ID: &lt;31189540.1075852718882.JavaMail.e...</td>\n",
       "    </tr>\n",
       "    <tr>\n",
       "      <th>1</th>\n",
       "      <td>lenhart-m/sent/1210.</td>\n",
       "      <td>Message-ID: &lt;932989.1075858142302.JavaMail.eva...</td>\n",
       "    </tr>\n",
       "    <tr>\n",
       "      <th>2</th>\n",
       "      <td>symes-k/sent/1136.</td>\n",
       "      <td>Message-ID: &lt;20692876.1075841905289.JavaMail.e...</td>\n",
       "    </tr>\n",
       "  </tbody>\n",
       "</table>\n",
       "</div>"
      ],
      "text/plain": [
       "                       file                                            message\n",
       "0  arnold-j/sent_items/315.  Message-ID: <31189540.1075852718882.JavaMail.e...\n",
       "1      lenhart-m/sent/1210.  Message-ID: <932989.1075858142302.JavaMail.eva...\n",
       "2        symes-k/sent/1136.  Message-ID: <20692876.1075841905289.JavaMail.e..."
      ]
     },
     "execution_count": 1,
     "metadata": {},
     "output_type": "execute_result"
    }
   ],
   "source": [
    "import pandas as pd\n",
    "import numpy as np\n",
    "\n",
    "df = pd.read_csv('enron_emails.csv')\n",
    "df.head(3)"
   ]
  },
  {
   "cell_type": "code",
   "execution_count": 2,
   "metadata": {},
   "outputs": [
    {
     "data": {
      "text/plain": [
       "0                                                        \n",
       "1                             Re: suicide pool - nfl 2000\n",
       "2                                 Re: 4/10 checkout con't\n",
       "3                                           Energy Issues\n",
       "4                                             2001 budget\n",
       "                              ...                        \n",
       "1495                                   TW Weekly 11-17-00\n",
       "1496                                       New York, etc.\n",
       "1497     Letter re Unpaid Invoice for Post petition De...\n",
       "1498                                                     \n",
       "1499                    Tasters next thursday! (11-16-00)\n",
       "Name: subject, Length: 1500, dtype: object"
      ]
     },
     "execution_count": 2,
     "metadata": {},
     "output_type": "execute_result"
    }
   ],
   "source": [
    "#extract subject from message\n",
    "df['subject'] = df['message'].str.extract(r'Subject: (.*)\\n')\n",
    "#remove any RE: or FW: from the subject\n",
    "df.subject.apply(lambda x: x.replace('RE:','').replace('FW:',''))"
   ]
  },
  {
   "cell_type": "code",
   "execution_count": 3,
   "metadata": {},
   "outputs": [
    {
     "data": {
      "text/html": [
       "<div>\n",
       "<style scoped>\n",
       "    .dataframe tbody tr th:only-of-type {\n",
       "        vertical-align: middle;\n",
       "    }\n",
       "\n",
       "    .dataframe tbody tr th {\n",
       "        vertical-align: top;\n",
       "    }\n",
       "\n",
       "    .dataframe thead th {\n",
       "        text-align: right;\n",
       "    }\n",
       "</style>\n",
       "<table border=\"1\" class=\"dataframe\">\n",
       "  <thead>\n",
       "    <tr style=\"text-align: right;\">\n",
       "      <th></th>\n",
       "      <th>file</th>\n",
       "      <th>message</th>\n",
       "      <th>subject</th>\n",
       "    </tr>\n",
       "  </thead>\n",
       "  <tbody>\n",
       "    <tr>\n",
       "      <th>495</th>\n",
       "      <td>skilling-j/inbox/155.</td>\n",
       "      <td>Message-ID: &lt;25099574.1075840154211.JavaMail.e...</td>\n",
       "      <td>Policy Committee Review - Analyst/Associate Pr...</td>\n",
       "    </tr>\n",
       "    <tr>\n",
       "      <th>1437</th>\n",
       "      <td>stepenovitch-j/all_documents/119.</td>\n",
       "      <td>Message-ID: &lt;23458571.1075851830753.JavaMail.e...</td>\n",
       "      <td>24 Hour Group: NIGHT RESPONSIBILITIES</td>\n",
       "    </tr>\n",
       "    <tr>\n",
       "      <th>1204</th>\n",
       "      <td>white-s/deleted_items/163.</td>\n",
       "      <td>Message-ID: &lt;1596411.1075841985758.JavaMail.ev...</td>\n",
       "      <td>Canceled: E&amp;Y meeting on reconciliation of 113...</td>\n",
       "    </tr>\n",
       "    <tr>\n",
       "      <th>137</th>\n",
       "      <td>dasovich-j/sent/405.</td>\n",
       "      <td>Message-ID: &lt;32473520.1075843193721.JavaMail.e...</td>\n",
       "      <td>Re: WSJ: PG&amp;E's Huge losses...</td>\n",
       "    </tr>\n",
       "    <tr>\n",
       "      <th>176</th>\n",
       "      <td>mcconnell-m/sent/824.</td>\n",
       "      <td>Message-ID: &lt;24504655.1075863625833.JavaMail.e...</td>\n",
       "      <td>Re: Need your help representing your Analysts</td>\n",
       "    </tr>\n",
       "    <tr>\n",
       "      <th>841</th>\n",
       "      <td>steffes-j/sent_items/844.</td>\n",
       "      <td>Message-ID: &lt;4963991.1075852521483.JavaMail.ev...</td>\n",
       "      <td>Letter from Leadership Council to Bush WH</td>\n",
       "    </tr>\n",
       "    <tr>\n",
       "      <th>943</th>\n",
       "      <td>mims-thurston-p/sent/191.</td>\n",
       "      <td>Message-ID: &lt;3130121.1075858213026.JavaMail.ev...</td>\n",
       "      <td>Re: Small business supply assistance</td>\n",
       "    </tr>\n",
       "    <tr>\n",
       "      <th>935</th>\n",
       "      <td>rogers-b/deleted_items/229.</td>\n",
       "      <td>Message-ID: &lt;17655397.1075860725886.JavaMail.e...</td>\n",
       "      <td></td>\n",
       "    </tr>\n",
       "    <tr>\n",
       "      <th>1144</th>\n",
       "      <td>allen-p/_sent_mail/484.</td>\n",
       "      <td>Message-ID: &lt;10151683.1075855726699.JavaMail.e...</td>\n",
       "      <td>Re: Weekly Status Meeting</td>\n",
       "    </tr>\n",
       "    <tr>\n",
       "      <th>1194</th>\n",
       "      <td>horton-s/sent_items/46.</td>\n",
       "      <td>Message-ID: &lt;26266749.1075855412636.JavaMail.e...</td>\n",
       "      <td>RE: Happy Holidays</td>\n",
       "    </tr>\n",
       "  </tbody>\n",
       "</table>\n",
       "</div>"
      ],
      "text/plain": [
       "                                   file  \\\n",
       "495               skilling-j/inbox/155.   \n",
       "1437  stepenovitch-j/all_documents/119.   \n",
       "1204         white-s/deleted_items/163.   \n",
       "137                dasovich-j/sent/405.   \n",
       "176               mcconnell-m/sent/824.   \n",
       "841           steffes-j/sent_items/844.   \n",
       "943           mims-thurston-p/sent/191.   \n",
       "935         rogers-b/deleted_items/229.   \n",
       "1144            allen-p/_sent_mail/484.   \n",
       "1194            horton-s/sent_items/46.   \n",
       "\n",
       "                                                message  \\\n",
       "495   Message-ID: <25099574.1075840154211.JavaMail.e...   \n",
       "1437  Message-ID: <23458571.1075851830753.JavaMail.e...   \n",
       "1204  Message-ID: <1596411.1075841985758.JavaMail.ev...   \n",
       "137   Message-ID: <32473520.1075843193721.JavaMail.e...   \n",
       "176   Message-ID: <24504655.1075863625833.JavaMail.e...   \n",
       "841   Message-ID: <4963991.1075852521483.JavaMail.ev...   \n",
       "943   Message-ID: <3130121.1075858213026.JavaMail.ev...   \n",
       "935   Message-ID: <17655397.1075860725886.JavaMail.e...   \n",
       "1144  Message-ID: <10151683.1075855726699.JavaMail.e...   \n",
       "1194  Message-ID: <26266749.1075855412636.JavaMail.e...   \n",
       "\n",
       "                                                subject  \n",
       "495   Policy Committee Review - Analyst/Associate Pr...  \n",
       "1437              24 Hour Group: NIGHT RESPONSIBILITIES  \n",
       "1204  Canceled: E&Y meeting on reconciliation of 113...  \n",
       "137                      Re: WSJ: PG&E's Huge losses...  \n",
       "176       Re: Need your help representing your Analysts  \n",
       "841           Letter from Leadership Council to Bush WH  \n",
       "943                Re: Small business supply assistance  \n",
       "935                                                      \n",
       "1144                          Re: Weekly Status Meeting  \n",
       "1194                                 RE: Happy Holidays  "
      ]
     },
     "execution_count": 3,
     "metadata": {},
     "output_type": "execute_result"
    }
   ],
   "source": [
    "df.sample(10)"
   ]
  },
  {
   "cell_type": "markdown",
   "metadata": {},
   "source": [
    "### Feature Engineering"
   ]
  },
  {
   "cell_type": "code",
   "execution_count": 4,
   "metadata": {},
   "outputs": [],
   "source": [
    "def parse_raw_message(raw_message):\n",
    "    lines = raw_message.split('\\n')\n",
    "    email = {}\n",
    "    message = ''\n",
    "    keys_to_extract = ['from', 'to', 'subject']\n",
    "    for line in lines:\n",
    "        if ':' not in line:\n",
    "            message += line.replace('-----Original Message-----', '. ').strip()\n",
    "            email['body'] = message\n",
    "        else:\n",
    "            pairs = line.split(':')\n",
    "            key = pairs[0].lower()\n",
    "            val = pairs[-1].strip()\n",
    "            if key in keys_to_extract:\n",
    "                email[key] = val\n",
    "    return email\n",
    "def parse_into_emails(messages):\n",
    "    emails = [parse_raw_message(message) for message in messages]\n",
    "    return {\n",
    "        'body': map_to_list(emails, 'body'),\n",
    "        'to': map_to_list(emails, 'to'),\n",
    "        'from': map_to_list(emails, 'from'),\n",
    "        'subject': map_to_list(emails, 'subject')\n",
    "    }\n",
    "    \n",
    "def map_to_list(emails, key):\n",
    "    results = []\n",
    "    for email in emails:\n",
    "        if key not in email:\n",
    "            results.append('')\n",
    "        else:\n",
    "            results.append(email[key])\n",
    "    return results"
   ]
  },
  {
   "cell_type": "code",
   "execution_count": 5,
   "metadata": {},
   "outputs": [
    {
     "data": {
      "text/plain": [
       "(1500, 4)"
      ]
     },
     "execution_count": 5,
     "metadata": {},
     "output_type": "execute_result"
    }
   ],
   "source": [
    "email_df = pd.DataFrame(parse_into_emails(df.message))\n",
    "email_df.sample(10)\n",
    "email_df.shape"
   ]
  },
  {
   "cell_type": "code",
   "execution_count": 6,
   "metadata": {},
   "outputs": [
    {
     "data": {
      "text/plain": [
       "(1499, 4)"
      ]
     },
     "execution_count": 6,
     "metadata": {},
     "output_type": "execute_result"
    }
   ],
   "source": [
    "# drop any records with both subject and body missing\n",
    "missing = (email_df.body == '') & (email_df.subject == '')\n",
    "email_df = email_df[~missing]\n",
    "email_df.shape"
   ]
  },
  {
   "cell_type": "markdown",
   "metadata": {},
   "source": [
    "### Data Analysis based on keywords"
   ]
  },
  {
   "cell_type": "code",
   "execution_count": 7,
   "metadata": {},
   "outputs": [
    {
     "name": "stderr",
     "output_type": "stream",
     "text": [
      "/var/folders/s1/h1lgxgnj5lbf13m4hl8mjjwr0000gn/T/ipykernel_14678/3093721732.py:32: UserWarning: This pattern is interpreted as a regular expression, and has match groups. To actually get the groups, use str.extract.\n",
      "  urgent_emails_df = email_df[email_df[\"subject\"].str.contains(re) | email_df[\"body\"].str.contains(re)]\n"
     ]
    },
    {
     "data": {
      "text/plain": [
       "(246, 4)"
      ]
     },
     "execution_count": 7,
     "metadata": {},
     "output_type": "execute_result"
    }
   ],
   "source": [
    "import re\n",
    "\n",
    "# Keywords to search for\n",
    "keywords = [\n",
    "    \"System Down\", \n",
    "    \"Emergency\",\n",
    "    \"Alert\"\n",
    "    \"Critical\",\n",
    "    \"Urgent\",\n",
    "    \"ASAP\",\n",
    "    \"Important\",\n",
    "    \"Action Required\",\n",
    "    \"Deadline Approaching\",\n",
    "    \"Immediate\",\n",
    "    \"Immediately\"\n",
    "    \"Quick\",\n",
    "    \"Error\",\n",
    "    \"EOD\",\n",
    "    \"End of Day\",\n",
    "    \"High Priority\",\n",
    "    \"High Severity\",\n",
    "    \"Overdue\",\n",
    "    \"Due\",\n",
    "    \"Quick\"\n",
    "    ]\n",
    "\n",
    "# Create a regex pattern for the keywords\n",
    "pattern = \"(\" + \"|\".join(keywords) + \")\"\n",
    "re = re.compile(pattern, flags=re.IGNORECASE)\n",
    "\n",
    "# Search for the keywords in the subject and body\n",
    "urgent_emails_df = email_df[email_df[\"subject\"].str.contains(re) | email_df[\"body\"].str.contains(re)]\n",
    "urgent_emails_df.shape\n"
   ]
  },
  {
   "cell_type": "code",
   "execution_count": 8,
   "metadata": {},
   "outputs": [],
   "source": [
    "# Add column urgent/ non-urgent to the dataframe based on urgent_emails_df\n",
    "email_df['urgent'] = email_df.index.isin(urgent_emails_df.index)"
   ]
  },
  {
   "cell_type": "code",
   "execution_count": 9,
   "metadata": {},
   "outputs": [],
   "source": [
    "email_df.sample(10)\n",
    "# export the dataframe to a csv file\n",
    "email_df.to_csv('emails_cleaned.csv', index=False)"
   ]
  },
  {
   "cell_type": "markdown",
   "metadata": {},
   "source": [
    "### Data Visualization"
   ]
  },
  {
   "cell_type": "code",
   "execution_count": null,
   "metadata": {},
   "outputs": [],
   "source": [
    "\n"
   ]
  }
 ],
 "metadata": {
  "kernelspec": {
   "display_name": "Python 3",
   "language": "python",
   "name": "python3"
  },
  "language_info": {
   "codemirror_mode": {
    "name": "ipython",
    "version": 3
   },
   "file_extension": ".py",
   "mimetype": "text/x-python",
   "name": "python",
   "nbconvert_exporter": "python",
   "pygments_lexer": "ipython3",
   "version": "3.9.6"
  }
 },
 "nbformat": 4,
 "nbformat_minor": 2
}
